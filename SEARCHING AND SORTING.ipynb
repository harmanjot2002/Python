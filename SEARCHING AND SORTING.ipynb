{
 "cells": [
  {
   "cell_type": "markdown",
   "id": "daf9127e",
   "metadata": {},
   "source": [
    "## linear search\n"
   ]
  },
  {
   "cell_type": "code",
   "execution_count": 1,
   "id": "61dbd296",
   "metadata": {},
   "outputs": [
    {
     "name": "stdout",
     "output_type": "stream",
     "text": [
      "12 32 45 67 89\n",
      "32\n",
      "32found at location1\n"
     ]
    }
   ],
   "source": [
    "list=input().split()\n",
    "key=input()\n",
    "found=False\n",
    "for i in range(len(list)):\n",
    "    if key==list[i]:\n",
    "        print(key+\"found at location\"+str(i))\n",
    "        found=True\n",
    "if found==False:\n",
    "    print(key+\"not found in list\")"
   ]
  },
  {
   "cell_type": "code",
   "execution_count": 2,
   "id": "62f1950d",
   "metadata": {},
   "outputs": [
    {
     "name": "stdout",
     "output_type": "stream",
     "text": [
      "12 32 45 67 89\n",
      "45\n",
      "45not found in list\n",
      "45not found in list\n",
      "45found at location2\n"
     ]
    }
   ],
   "source": [
    "list=input().split()\n",
    "key=input()\n",
    "for i in range(len(list)):\n",
    "    if key==list[i]:\n",
    "        print(key+\"found at location\"+str(i))\n",
    "        break                          #have to use found\n",
    "    else:\n",
    "        print(key+\"not found in list\")"
   ]
  },
  {
   "cell_type": "code",
   "execution_count": 3,
   "id": "2b360cc7",
   "metadata": {},
   "outputs": [
    {
     "name": "stdout",
     "output_type": "stream",
     "text": [
      "12 32 45 67 89\n",
      "32\n",
      "32not found\n",
      "32 found at location1\n"
     ]
    }
   ],
   "source": [
    "list=input().split()\n",
    "key=input()\n",
    "for i in range(len(list)):\n",
    "    if key!= list[i]:\n",
    "        print(key+\"not found\")\n",
    "        \n",
    "    else:\n",
    "        print(key+\" found at location\"+str(i))\n",
    "        break                   #hv to use found"
   ]
  },
  {
   "cell_type": "code",
   "execution_count": 4,
   "id": "9efca049",
   "metadata": {},
   "outputs": [
    {
     "name": "stdout",
     "output_type": "stream",
     "text": [
      "12 32 45 67 89\n",
      "32\n",
      "32found at location1\n",
      "32not found in list\n"
     ]
    }
   ],
   "source": [
    "list=input().split()\n",
    "key=input()\n",
    "found=False\n",
    "for i in range(len(list)):\n",
    "    if key==list[i]:\n",
    "        print(key+\"found at location\"+str(i))\n",
    "        #here found=True is necessary to write,otherwise it will also pick condition of false\n",
    "if found==False:\n",
    "    print(key+\"not found in list\")"
   ]
  },
  {
   "cell_type": "markdown",
   "id": "def3f4cb",
   "metadata": {},
   "source": [
    "## linear search function"
   ]
  },
  {
   "cell_type": "code",
   "execution_count": 5,
   "id": "c49d6a7e",
   "metadata": {},
   "outputs": [],
   "source": [
    "def linear(list,key):\n",
    "    for i in range(len(list)):\n",
    "        if key==list[i]:\n",
    "            return i     \n",
    "    return -1\n",
    "\n",
    "    "
   ]
  },
  {
   "cell_type": "code",
   "execution_count": 6,
   "id": "b4f31ee0",
   "metadata": {},
   "outputs": [
    {
     "name": "stdout",
     "output_type": "stream",
     "text": [
      "11 23 45 67 89\n",
      "23\n",
      "1\n"
     ]
    }
   ],
   "source": [
    "list=input().split()\n",
    "key=input()\n",
    "x=linear(list,key)\n",
    "print(x)"
   ]
  },
  {
   "cell_type": "markdown",
   "id": "4fdf0dcc",
   "metadata": {},
   "source": [
    "## replace on linear search"
   ]
  },
  {
   "cell_type": "code",
   "execution_count": 7,
   "id": "b359a320",
   "metadata": {},
   "outputs": [],
   "source": [
    "def linear(list,key):\n",
    "    for i in range(len(list)):\n",
    "        if key==list[i]:\n",
    "            return i\n",
    "    return -1\n"
   ]
  },
  {
   "cell_type": "code",
   "execution_count": 8,
   "id": "a0f6c395",
   "metadata": {},
   "outputs": [
    {
     "name": "stdout",
     "output_type": "stream",
     "text": [
      "[1, 2, 8, 4, 5]\n"
     ]
    }
   ],
   "source": [
    "list=[1,2,3,4,5]\n",
    "key=3\n",
    "rep=8\n",
    "x=linear(list,key)\n",
    "if x==-1:\n",
    "    print(\"element not found\")\n",
    "else:\n",
    "    list[x]=rep\n",
    "    print(list)"
   ]
  },
  {
   "cell_type": "code",
   "execution_count": 9,
   "id": "e59569e1",
   "metadata": {},
   "outputs": [
    {
     "name": "stdout",
     "output_type": "stream",
     "text": [
      "element not found\n"
     ]
    }
   ],
   "source": [
    "list=[1,2,3,4,5]\n",
    "key=7\n",
    "rep=8\n",
    "x=linear(list,key)\n",
    "if x==-1:\n",
    "    print(\"element not found\")\n",
    "else:\n",
    "    list[x]=rep\n",
    "    print(list)"
   ]
  },
  {
   "cell_type": "code",
   "execution_count": 10,
   "id": "3c9435d9",
   "metadata": {},
   "outputs": [
    {
     "name": "stdout",
     "output_type": "stream",
     "text": [
      "[1, 2, 8, 4, 5]\n"
     ]
    }
   ],
   "source": [
    "list=[1,2,3,4,5]\n",
    "key=3\n",
    "rep=8\n",
    "x=linear(list,key)\n",
    "if x==-1:\n",
    "    print(\"element not found\")\n",
    "else:\n",
    "    list[x]=rep\n",
    "print(list)"
   ]
  },
  {
   "cell_type": "code",
   "execution_count": 11,
   "id": "e5a95265",
   "metadata": {},
   "outputs": [
    {
     "name": "stdout",
     "output_type": "stream",
     "text": [
      "element not found\n",
      "[1, 2, 3, 4, 5]\n"
     ]
    }
   ],
   "source": [
    "list=[1,2,3,4,5]\n",
    "key=7\n",
    "rep=8\n",
    "x=linear(list,key)\n",
    "if x==-1:\n",
    "    print(\"element not found\")\n",
    "else:\n",
    "    list[x]=rep\n",
    "print(list)"
   ]
  },
  {
   "cell_type": "markdown",
   "id": "a4a4d731",
   "metadata": {},
   "source": [
    "## binary search"
   ]
  },
  {
   "cell_type": "code",
   "execution_count": 12,
   "id": "cbf3bd6c",
   "metadata": {},
   "outputs": [
    {
     "name": "stdout",
     "output_type": "stream",
     "text": [
      "12 32 45 67 89\n",
      "32\n",
      "32 found at 1\n"
     ]
    }
   ],
   "source": [
    "list=input().split()\n",
    "key=input()\n",
    "low=0\n",
    "high=len(list)\n",
    "\n",
    "while low<=high:\n",
    "    mid=(high+low)//2\n",
    "    if list[mid]<key:\n",
    "        low=mid+1\n",
    "    elif list[mid]>key:\n",
    "        high=mid-1\n",
    "    else:\n",
    "        print(key+\" found at \"+str(mid))\n",
    "        break\n",
    "else:\n",
    "    print(key+\"not found\")\n",
    "    "
   ]
  },
  {
   "cell_type": "markdown",
   "id": "4d8b0d33",
   "metadata": {},
   "source": [
    "## binary search function\n"
   ]
  },
  {
   "cell_type": "code",
   "execution_count": 13,
   "id": "388d4738",
   "metadata": {},
   "outputs": [],
   "source": [
    "def binarysearch(list,key):\n",
    "    low=0\n",
    "    high=len(list)\n",
    "    \n",
    "    while low<=high:\n",
    "        mid=(high+low)//2\n",
    "        if list[mid]<key:\n",
    "            low=mid+1\n",
    "        elif list[mid]>key:\n",
    "            high=mid-1\n",
    "        else:\n",
    "            return mid\n",
    "    return -1\n"
   ]
  },
  {
   "cell_type": "code",
   "execution_count": 14,
   "id": "da417a6b",
   "metadata": {},
   "outputs": [
    {
     "name": "stdout",
     "output_type": "stream",
     "text": [
      "3\n"
     ]
    }
   ],
   "source": [
    "p=binarysearch([11,13,45,67,89],67)\n",
    "print(p)"
   ]
  },
  {
   "cell_type": "code",
   "execution_count": 15,
   "id": "ea9c0608",
   "metadata": {},
   "outputs": [],
   "source": [
    "def binarySearch(arr,x) :\n",
    "    lower=0\n",
    "    upper=len(arr)-1\n",
    "    while lower<=upper:\n",
    "        middle=(lower+upper)//2\n",
    "        if x==arr[middle]:\n",
    "            return middle\n",
    "        elif x<arr[middle]:\n",
    "            upper=middle-1\n",
    "        else:\n",
    "            lower=middle+1\n",
    "    return-1\n"
   ]
  },
  {
   "cell_type": "code",
   "execution_count": 16,
   "id": "770bd4ef",
   "metadata": {},
   "outputs": [
    {
     "name": "stdout",
     "output_type": "stream",
     "text": [
      "1\n"
     ]
    }
   ],
   "source": [
    "a=binarySearch([12,32,45,67,89],32)\n",
    "print(a)"
   ]
  },
  {
   "cell_type": "markdown",
   "id": "c55e83a2",
   "metadata": {},
   "source": [
    "## finding first occurence of given number by linear search"
   ]
  },
  {
   "cell_type": "code",
   "execution_count": 17,
   "id": "05f52d29",
   "metadata": {},
   "outputs": [
    {
     "name": "stdout",
     "output_type": "stream",
     "text": [
      "1 1 1 2 2 2 2 3 4 4 4 4 4\n",
      "2\n",
      "2found at location3\n"
     ]
    }
   ],
   "source": [
    "\n",
    "list=input().split()\n",
    "key=input()\n",
    "found=False\n",
    "for i in range(len(list)):\n",
    "    if key==list[i]:\n",
    "        print(key+\"found at location\"+str(i))\n",
    "        found=True\n",
    "        break\n",
    "if found==False:\n",
    "    print(key+\"not found in list\")\n"
   ]
  },
  {
   "cell_type": "code",
   "execution_count": 18,
   "id": "d3dfafd9",
   "metadata": {},
   "outputs": [
    {
     "name": "stdout",
     "output_type": "stream",
     "text": [
      "1 1 1 2 2 2 2 3 4 4 4 4 4\n",
      "7\n",
      "7not found in list\n"
     ]
    }
   ],
   "source": [
    "list=input().split()\n",
    "key=input()\n",
    "found=False\n",
    "for i in range(len(list)):\n",
    "    if key==list[i]:\n",
    "        print(key+\"found at location\"+str(i))\n",
    "        found=True\n",
    "        break\n",
    "if found==False:\n",
    "    print(key+\"not found in list\")\n"
   ]
  },
  {
   "cell_type": "markdown",
   "id": "7ec858bc",
   "metadata": {},
   "source": [
    "## find first and last occurence of given number by binary search"
   ]
  },
  {
   "cell_type": "code",
   "execution_count": 19,
   "id": "5bbdbf54",
   "metadata": {},
   "outputs": [
    {
     "name": "stdout",
     "output_type": "stream",
     "text": [
      "1 1 2 2 2 2 2 3 3 4 4 4 4 4\n",
      "2\n",
      "6\n",
      "(2, 6)\n"
     ]
    }
   ],
   "source": [
    "def binarySearch (arr, l, r, x):\n",
    "    if r >= l:\n",
    "        mid = l + (r - l) // 2\n",
    "        if arr[mid] == x:\n",
    "            return mid\n",
    "         \n",
    "        elif arr[mid] > x:\n",
    "            return binarySearch(arr, l, mid-1, x)\n",
    " \n",
    "        else:\n",
    "            return binarySearch(arr, mid + 1, r, x)\n",
    " \n",
    "    else:\n",
    "        return -1\n",
    "        \n",
    "def findBeginningNEnd(arr,x):\n",
    "    k = binarySearch(arr,0,len(arr)-1,x)\n",
    "    bp = k\n",
    "    while bp<len(arr) and arr[bp]==arr[k]:\n",
    "        bp+=1\n",
    "    bp-=1\n",
    "    fp = k\n",
    "    while fp>=0 and arr[fp]==arr[k]:\n",
    "        fp-=1\n",
    "    fp+=1\n",
    "    print(k)\n",
    "    return fp,bp\n",
    "    \n",
    "arr = [int(i) for i in input().split()]\n",
    "n = int(input())\n",
    "print(findBeginningNEnd(arr,n))"
   ]
  },
  {
   "cell_type": "markdown",
   "id": "60280ee2",
   "metadata": {},
   "source": [
    "## selection sort"
   ]
  },
  {
   "cell_type": "code",
   "execution_count": 20,
   "id": "f0ca65da",
   "metadata": {},
   "outputs": [
    {
     "name": "stdout",
     "output_type": "stream",
     "text": [
      "[4, 8, 12, 34, 44]\n"
     ]
    }
   ],
   "source": [
    "a=[12,34,4,44,8]\n",
    "for i in range(len(a)-1):\n",
    "    for j in range(i+1,len(a)):#here range is upto len(a)only as we want to check last element too\n",
    "        if a[i]>a[j]:\n",
    "            a[i],a[j]=a[j],a[i]\n",
    "print(a)\n",
    "        "
   ]
  },
  {
   "cell_type": "markdown",
   "id": "37f5d78d",
   "metadata": {},
   "source": [
    "## selection sort function"
   ]
  },
  {
   "cell_type": "code",
   "execution_count": 21,
   "id": "040d5043",
   "metadata": {},
   "outputs": [],
   "source": [
    "def selectionSort(arr) :\n",
    "    for i in range(len(arr)-1):\n",
    "        for j in range(i+1,len(arr)):\n",
    "            if arr[j]<arr[i]:\n",
    "                arr[i],arr[j]=arr[j],arr[i]\n",
    "    return arr\n"
   ]
  },
  {
   "cell_type": "code",
   "execution_count": 22,
   "id": "65bc9cd9",
   "metadata": {},
   "outputs": [
    {
     "name": "stdout",
     "output_type": "stream",
     "text": [
      "[1, 3, 5, 23, 89]\n"
     ]
    }
   ],
   "source": [
    "a=selectionSort([3,1,5,89,23])\n",
    "print(a)"
   ]
  },
  {
   "cell_type": "markdown",
   "id": "90e08e08",
   "metadata": {},
   "source": [
    "## bubble sort"
   ]
  },
  {
   "cell_type": "code",
   "execution_count": 23,
   "id": "c9942a32",
   "metadata": {},
   "outputs": [
    {
     "name": "stdout",
     "output_type": "stream",
     "text": [
      "[4, 9, 12, 34, 44]\n"
     ]
    }
   ],
   "source": [
    "a=[12,34,4,44,9]\n",
    "for i in range(len(a)-1):\n",
    "    for j in range(0,len(a)-i-1):\n",
    "        if a[j]>a[j+1]:\n",
    "            a[j],a[j+1]=a[j+1],a[j]\n",
    "print(a)"
   ]
  },
  {
   "cell_type": "markdown",
   "id": "ec425eac",
   "metadata": {},
   "source": [
    "## bubble sort function"
   ]
  },
  {
   "cell_type": "code",
   "execution_count": 24,
   "id": "5bfc481a",
   "metadata": {},
   "outputs": [],
   "source": [
    "def bubbleSort(arr):\n",
    "    for i in range(len(arr)-1):\n",
    "        for j in range(len(arr)-i-1):\n",
    "            if arr[j]>arr[j+1]:\n",
    "                arr[j],arr[j+1]=arr[j+1],arr[j]\n",
    "    return arr"
   ]
  },
  {
   "cell_type": "code",
   "execution_count": 25,
   "id": "dfeb259e",
   "metadata": {},
   "outputs": [
    {
     "name": "stdout",
     "output_type": "stream",
     "text": [
      "[2, 5, 45, 78, 90]\n"
     ]
    }
   ],
   "source": [
    "x=bubbleSort([45,5,78,2,90])\n",
    "print(x)"
   ]
  },
  {
   "cell_type": "markdown",
   "id": "c80a6ce8",
   "metadata": {},
   "source": [
    "## insertion sort"
   ]
  },
  {
   "cell_type": "code",
   "execution_count": 32,
   "id": "fe72c50c",
   "metadata": {},
   "outputs": [
    {
     "name": "stdout",
     "output_type": "stream",
     "text": [
      "[4, 8, 12, 34, 44]\n"
     ]
    }
   ],
   "source": [
    "a=[12,34,4,44,8]\n",
    "for i in range(1,len(a)):  #iterating over unsorted part from left to right\n",
    "    key=a[i]\n",
    "    j=i-1                  #taking rightmost element of sorted part\n",
    "    while j>=0 and key<a[j]:\n",
    "        a[j+1]=a[j]\n",
    "        j=j-1      #iterating over sorted part from right to left\n",
    "    a[j+1]=key    #key is always first element of unsorted part only\n",
    "print(a)"
   ]
  },
  {
   "cell_type": "markdown",
   "id": "122b3b3d",
   "metadata": {},
   "source": [
    "## insertion sort function"
   ]
  },
  {
   "cell_type": "code",
   "execution_count": 33,
   "id": "ff035ee6",
   "metadata": {},
   "outputs": [],
   "source": [
    "def insertionSort(a):\n",
    "    for i in range(1,len(a)):\n",
    "        key=a[i]\n",
    "        j=i-1\n",
    "        while j>=0 and key<a[j]:\n",
    "            a[j+1]=a[j]\n",
    "            j=j-1\n",
    "        a[j+1]=key\n",
    "    return a"
   ]
  },
  {
   "cell_type": "code",
   "execution_count": 34,
   "id": "2cb36309",
   "metadata": {},
   "outputs": [
    {
     "name": "stdout",
     "output_type": "stream",
     "text": [
      "[4, 8, 12, 34, 44]\n"
     ]
    }
   ],
   "source": [
    "x=insertionSort([12,34,4,44,8])\n",
    "print(x)"
   ]
  },
  {
   "cell_type": "markdown",
   "id": "d8f7ef3f",
   "metadata": {},
   "source": [
    "## Merge Two Sorted Arrays"
   ]
  },
  {
   "cell_type": "code",
   "execution_count": 36,
   "id": "49fa4133",
   "metadata": {},
   "outputs": [],
   "source": [
    "def merge(arr1,arr2) : \n",
    "    i=0\n",
    "    j=0\n",
    "    len1=len(arr1)\n",
    "    len2=len(arr2)\n",
    "    arr3=[]\n",
    "    while i<len1 and j<len2:\n",
    "        if arr1[i]<arr2[j]:\n",
    "            arr3.append(arr1[i])\n",
    "            i=i+1\n",
    "        else:\n",
    "            arr3.append(arr2[j])\n",
    "            j=j+1\n",
    "    while i<len1:\n",
    "        arr3.append(arr1[i])\n",
    "        i=i+1\n",
    "    while j<len2:\n",
    "        arr3.append(arr2[j])\n",
    "        j=j+1\n",
    "    return arr3"
   ]
  },
  {
   "cell_type": "code",
   "execution_count": 37,
   "id": "9bc2366f",
   "metadata": {},
   "outputs": [
    {
     "name": "stdout",
     "output_type": "stream",
     "text": [
      "[1, 2, 3, 4, 4, 6, 7, 11, 13]\n"
     ]
    }
   ],
   "source": [
    "arr1=[1,3,4,7,11]\n",
    "arr2=[2,4,6,13]\n",
    "a=merge(arr1,arr2)\n",
    "print(a)"
   ]
  },
  {
   "cell_type": "code",
   "execution_count": null,
   "id": "d7cf4242",
   "metadata": {},
   "outputs": [],
   "source": []
  }
 ],
 "metadata": {
  "kernelspec": {
   "display_name": "Python 3",
   "language": "python",
   "name": "python3"
  },
  "language_info": {
   "codemirror_mode": {
    "name": "ipython",
    "version": 3
   },
   "file_extension": ".py",
   "mimetype": "text/x-python",
   "name": "python",
   "nbconvert_exporter": "python",
   "pygments_lexer": "ipython3",
   "version": "3.8.8"
  }
 },
 "nbformat": 4,
 "nbformat_minor": 5
}
