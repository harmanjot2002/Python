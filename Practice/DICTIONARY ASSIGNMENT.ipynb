{
 "cells": [
  {
   "cell_type": "code",
   "execution_count": 1,
   "id": "4ff1a62d",
   "metadata": {},
   "outputs": [
    {
     "name": "stdout",
     "output_type": "stream",
     "text": [
      "True\n"
     ]
    }
   ],
   "source": [
    "#1\n",
    "print('for'.isidentifier())"
   ]
  },
  {
   "cell_type": "code",
   "execution_count": 2,
   "id": "572e9955",
   "metadata": {},
   "outputs": [
    {
     "name": "stdout",
     "output_type": "stream",
     "text": [
      "r\n",
      "t\n",
      "y\n"
     ]
    }
   ],
   "source": [
    "#2\n",
    "my_string=\"retuy\"\n",
    "k=[print(i) for i in my_string if i not in 'aeiou']"
   ]
  },
  {
   "cell_type": "code",
   "execution_count": 3,
   "id": "d20d9c66",
   "metadata": {},
   "outputs": [
    {
     "data": {
      "text/plain": [
       "[3, 12, 67]"
      ]
     },
     "execution_count": 3,
     "metadata": {},
     "output_type": "execute_result"
    }
   ],
   "source": [
    "#3a\n",
    "#sort a dictionary by a value in ascending order\n",
    "d={\"a\":12,\"b\":3,\"c\":67}\n",
    "s=sorted(d.values())\n",
    "s"
   ]
  },
  {
   "cell_type": "code",
   "execution_count": 4,
   "id": "935a7298",
   "metadata": {},
   "outputs": [
    {
     "data": {
      "text/plain": [
       "[67, 12, 3]"
      ]
     },
     "execution_count": 4,
     "metadata": {},
     "output_type": "execute_result"
    }
   ],
   "source": [
    "#3b\n",
    "#sort a dictionary by a value in descending order\n",
    "d={\"a\":12,\"b\":3,\"c\":67}\n",
    "sorted(d.values(),reverse=True)"
   ]
  },
  {
   "cell_type": "code",
   "execution_count": 5,
   "id": "c60f6246",
   "metadata": {},
   "outputs": [
    {
     "data": {
      "text/plain": [
       "{0: 10, 1: 20, 2: 30}"
      ]
     },
     "execution_count": 5,
     "metadata": {},
     "output_type": "execute_result"
    }
   ],
   "source": [
    "#4\n",
    "#add extra key to existing dictionary\n",
    "#sample dictionary {0:10,1:20}\n",
    "#expected dctionary{0:10,1:20,2:30}\n",
    "d1={0:10,1:20}\n",
    "d1[2]=30\n",
    "d1"
   ]
  },
  {
   "cell_type": "code",
   "execution_count": 6,
   "id": "4d9224d2",
   "metadata": {},
   "outputs": [
    {
     "name": "stdout",
     "output_type": "stream",
     "text": [
      "{1: 10, 2: 20, 3: 30, 4: 40, 5: 50, 6: 60}\n"
     ]
    }
   ],
   "source": [
    "#5\n",
    "#concatenate 3 dictionaries\n",
    "dict1={1:10,2:20}\n",
    "dict2={3:30,4:40}\n",
    "dict3={5:50,6:60}\n",
    "dict1.update(dict2)\n",
    "dict1.update(dict3)\n",
    "print(dict1)"
   ]
  },
  {
   "cell_type": "code",
   "execution_count": 7,
   "id": "f52baf34",
   "metadata": {},
   "outputs": [
    {
     "name": "stdout",
     "output_type": "stream",
     "text": [
      "{1: 1, 2: 4, 3: 9, 4: 16, 5: 25, 6: 36, 7: 49}\n"
     ]
    }
   ],
   "source": [
    "#6\n",
    "#create a dictionary that is of format{1:1,2:4,3:9,4:16}\n",
    "d={}\n",
    "for i in range(1,8):\n",
    "    d[i]=i*i\n",
    "print(d)"
   ]
  },
  {
   "cell_type": "code",
   "execution_count": 8,
   "id": "035f8c3f",
   "metadata": {},
   "outputs": [
    {
     "name": "stdout",
     "output_type": "stream",
     "text": [
      "{1: 10, 2: 20, 3: 30, 4: 40}\n"
     ]
    }
   ],
   "source": [
    "#7\n",
    "#merge two dictionaries\n",
    "dict1={1:10,2:20}\n",
    "dict2={3:30,4:40}\n",
    "dict1.update(dict2)\n",
    "print(dict1)"
   ]
  },
  {
   "cell_type": "code",
   "execution_count": 9,
   "id": "dec434c7",
   "metadata": {},
   "outputs": [
    {
     "name": "stdout",
     "output_type": "stream",
     "text": [
      "1600\n"
     ]
    }
   ],
   "source": [
    "#8\n",
    "#multiplying values of dictionary\n",
    "dict1={1:10,2:20,3:8}\n",
    "a=sorted(dict1.values())\n",
    "multiply=1\n",
    "for i in a:\n",
    "    multiply*=i\n",
    "print(multiply)"
   ]
  },
  {
   "cell_type": "code",
   "execution_count": 10,
   "id": "732e5f41",
   "metadata": {},
   "outputs": [
    {
     "data": {
      "text/plain": [
       "[1, 3, 4]"
      ]
     },
     "execution_count": 10,
     "metadata": {},
     "output_type": "execute_result"
    }
   ],
   "source": [
    "#9\n",
    "#sort a dictionary by key\n",
    "d={1:\"a\",4:\"b\",3:\"c\"}\n",
    "sorted(d.keys())"
   ]
  },
  {
   "cell_type": "code",
   "execution_count": 11,
   "id": "15c5c975",
   "metadata": {},
   "outputs": [
    {
     "name": "stdout",
     "output_type": "stream",
     "text": [
      "{'a': 36, 'c': 3, 'd': 8}\n"
     ]
    }
   ],
   "source": [
    "#10\n",
    "#adding same values of dictionary\n",
    "#sample dictionary d={\"a\":12,\"b\":12,\"c\":3,\"d\":8}\n",
    "#expeceted output d={\"a\":24,\"c\":3,\"d\":8}\n",
    "d= {\"a\":12,\"b\":12,\"c\":3,\"d\":8,\"e\":12}\n",
    "temp={}\n",
    "answer = {}\n",
    "for i in d:\n",
    "    if(not temp.get(d[i])):\n",
    "        temp[d[i]]=i\n",
    "        answer[i] = d[i]\n",
    "    else:\n",
    "        answer[temp[d[i]]]+=d[i]\n",
    "print(answer)"
   ]
  }
 ],
 "metadata": {
  "kernelspec": {
   "display_name": "Python 3",
   "language": "python",
   "name": "python3"
  },
  "language_info": {
   "codemirror_mode": {
    "name": "ipython",
    "version": 3
   },
   "file_extension": ".py",
   "mimetype": "text/x-python",
   "name": "python",
   "nbconvert_exporter": "python",
   "pygments_lexer": "ipython3",
   "version": "3.8.8"
  }
 },
 "nbformat": 4,
 "nbformat_minor": 5
}
