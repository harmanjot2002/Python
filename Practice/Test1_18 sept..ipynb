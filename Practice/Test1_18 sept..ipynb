{
 "cells": [
  {
   "cell_type": "code",
   "execution_count": 1,
   "id": "0d8a6a52",
   "metadata": {},
   "outputs": [
    {
     "name": "stdout",
     "output_type": "stream",
     "text": [
      "25\n"
     ]
    }
   ],
   "source": [
    "a=5\n",
    "b=2\n",
    "power=a**b\n",
    "print(power)"
   ]
  },
  {
   "cell_type": "markdown",
   "id": "932c8296",
   "metadata": {},
   "source": [
    "#### Select the correct variable name:\n",
    "underscore sign,\n",
    "1,\n",
    "23a,\n",
    "a$a\n",
    "##### ans:underscore sign.\n"
   ]
  },
  {
   "cell_type": "code",
   "execution_count": 2,
   "id": "a4e47068",
   "metadata": {},
   "outputs": [
    {
     "name": "stdout",
     "output_type": "stream",
     "text": [
      "False\n"
     ]
    }
   ],
   "source": [
    "a=23\n",
    "b=24\n",
    "print(a==b)"
   ]
  },
  {
   "cell_type": "code",
   "execution_count": 3,
   "id": "821a065b",
   "metadata": {},
   "outputs": [
    {
     "name": "stdout",
     "output_type": "stream",
     "text": [
      "a\n"
     ]
    }
   ],
   "source": [
    "a=\"abc\"\n",
    "print('a')"
   ]
  },
  {
   "cell_type": "code",
   "execution_count": 5,
   "id": "8d275c2e",
   "metadata": {},
   "outputs": [
    {
     "data": {
      "text/plain": [
       "str"
      ]
     },
     "execution_count": 5,
     "metadata": {},
     "output_type": "execute_result"
    }
   ],
   "source": [
    "A=\"abc\"\n",
    "A=\"20\"\n",
    "A=\"123.45\"\n",
    "type(A)"
   ]
  },
  {
   "cell_type": "code",
   "execution_count": 6,
   "id": "03ea0dab",
   "metadata": {},
   "outputs": [
    {
     "name": "stdout",
     "output_type": "stream",
     "text": [
      "hello\n",
      "hellohello\n"
     ]
    }
   ],
   "source": [
    "a = input()\n",
    "b=a*2\n",
    "print(b)"
   ]
  },
  {
   "cell_type": "code",
   "execution_count": 7,
   "id": "410c85ac",
   "metadata": {},
   "outputs": [
    {
     "name": "stdout",
     "output_type": "stream",
     "text": [
      "2\n"
     ]
    }
   ],
   "source": [
    "print(22//10)"
   ]
  },
  {
   "cell_type": "code",
   "execution_count": 8,
   "id": "cd11aea6",
   "metadata": {},
   "outputs": [
    {
     "data": {
      "text/plain": [
       "97"
      ]
     },
     "execution_count": 8,
     "metadata": {},
     "output_type": "execute_result"
    }
   ],
   "source": [
    "ord(\"a\")"
   ]
  },
  {
   "cell_type": "code",
   "execution_count": 9,
   "id": "4056dc20",
   "metadata": {},
   "outputs": [
    {
     "name": "stdout",
     "output_type": "stream",
     "text": [
      "12+10-2\n"
     ]
    },
    {
     "ename": "ValueError",
     "evalue": "invalid literal for int() with base 10: '12+10-2'",
     "output_type": "error",
     "traceback": [
      "\u001b[1;31m---------------------------------------------------------------------------\u001b[0m",
      "\u001b[1;31mValueError\u001b[0m                                Traceback (most recent call last)",
      "\u001b[1;32m<ipython-input-9-1a387ada7cac>\u001b[0m in \u001b[0;36m<module>\u001b[1;34m\u001b[0m\n\u001b[1;32m----> 1\u001b[1;33m \u001b[0ma\u001b[0m \u001b[1;33m=\u001b[0m \u001b[0mint\u001b[0m\u001b[1;33m(\u001b[0m\u001b[0minput\u001b[0m\u001b[1;33m(\u001b[0m\u001b[1;33m)\u001b[0m\u001b[1;33m)\u001b[0m\u001b[1;33m\u001b[0m\u001b[1;33m\u001b[0m\u001b[0m\n\u001b[0m\u001b[0;32m      2\u001b[0m \u001b[0mprint\u001b[0m\u001b[1;33m(\u001b[0m\u001b[0ma\u001b[0m\u001b[1;33m)\u001b[0m\u001b[1;33m\u001b[0m\u001b[1;33m\u001b[0m\u001b[0m\n",
      "\u001b[1;31mValueError\u001b[0m: invalid literal for int() with base 10: '12+10-2'"
     ]
    }
   ],
   "source": [
    "a = int(input())\n",
    "print(a)"
   ]
  },
  {
   "cell_type": "code",
   "execution_count": 10,
   "id": "66e3b42d",
   "metadata": {},
   "outputs": [
    {
     "data": {
      "text/plain": [
       "5.0"
      ]
     },
     "execution_count": 10,
     "metadata": {},
     "output_type": "execute_result"
    }
   ],
   "source": [
    "abs(3+4j)"
   ]
  },
  {
   "cell_type": "code",
   "execution_count": 11,
   "id": "6b3cd41a",
   "metadata": {},
   "outputs": [
    {
     "data": {
      "text/plain": [
       "22"
      ]
     },
     "execution_count": 11,
     "metadata": {},
     "output_type": "execute_result"
    }
   ],
   "source": [
    "max(2,3,4,5,11,22,0)"
   ]
  },
  {
   "cell_type": "markdown",
   "id": "5df4dff8",
   "metadata": {},
   "source": [
    "### What will be the decimal form of binary number 10001101.\n",
    "#### ans:141\n"
   ]
  },
  {
   "attachments": {
    "image.png": {
     "image/png": "[encoded data removed]"
    }
   },
   "cell_type": "markdown",
   "id": "bf1d329a",
   "metadata": {},
   "source": [
    "What is the meaning of the below symbol in a flowchart?\n",
    "![image.png](attachment:image.png)\n",
    "Ans:decision"
   ]
  },
  {
   "cell_type": "markdown",
   "id": "dd9a207b",
   "metadata": {},
   "source": [
    "#### Is the statement valid in python3?\n",
    "#### rollno, name=101, \"xyz\n",
    "#### ans:no"
   ]
  },
  {
   "cell_type": "code",
   "execution_count": 12,
   "id": "1d4910d1",
   "metadata": {},
   "outputs": [
    {
     "name": "stdout",
     "output_type": "stream",
     "text": [
      "My name is abc and I belong to Chitkara University.\n"
     ]
    }
   ],
   "source": [
    "print(\"My name is %s and I belong to %s.\" %('abc','Chitkara University'))"
   ]
  },
  {
   "cell_type": "code",
   "execution_count": 13,
   "id": "35acb839",
   "metadata": {},
   "outputs": [
    {
     "data": {
      "text/plain": [
       "0"
      ]
     },
     "execution_count": 13,
     "metadata": {},
     "output_type": "execute_result"
    }
   ],
   "source": [
    "a=16\n",
    "b=1\n",
    "a%b//a"
   ]
  },
  {
   "cell_type": "code",
   "execution_count": 14,
   "id": "eb43e28d",
   "metadata": {},
   "outputs": [
    {
     "data": {
      "text/plain": [
       "512"
      ]
     },
     "execution_count": 14,
     "metadata": {},
     "output_type": "execute_result"
    }
   ],
   "source": [
    "2**(3**2)"
   ]
  },
  {
   "cell_type": "markdown",
   "id": "18bf3fb1",
   "metadata": {},
   "source": [
    "#### What is the decimal form of binary 00001001?\n",
    "#### Ans:9"
   ]
  },
  {
   "cell_type": "code",
   "execution_count": 15,
   "id": "0c00db38",
   "metadata": {},
   "outputs": [
    {
     "data": {
      "text/plain": [
       "False"
      ]
     },
     "execution_count": 15,
     "metadata": {},
     "output_type": "execute_result"
    }
   ],
   "source": [
    "a=b=4\n",
    "a<b"
   ]
  },
  {
   "cell_type": "markdown",
   "id": "63feafff",
   "metadata": {},
   "source": [
    "#### Which of the following is true about flowcharts?\n",
    "#### ans:flowchart must have one starting point and can have multiple end points."
   ]
  },
  {
   "cell_type": "code",
   "execution_count": null,
   "id": "c2563c49",
   "metadata": {},
   "outputs": [],
   "source": []
  }
 ],
 "metadata": {
  "kernelspec": {
   "display_name": "Python 3",
   "language": "python",
   "name": "python3"
  },
  "language_info": {
   "codemirror_mode": {
    "name": "ipython",
    "version": 3
   },
   "file_extension": ".py",
   "mimetype": "text/x-python",
   "name": "python",
   "nbconvert_exporter": "python",
   "pygments_lexer": "ipython3",
   "version": "3.8.8"
  }
 },
 "nbformat": 4,
 "nbformat_minor": 5
}
