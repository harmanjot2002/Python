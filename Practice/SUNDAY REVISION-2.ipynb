{
 "cells": [
  {
   "cell_type": "markdown",
   "id": "1481c737",
   "metadata": {},
   "source": [
    "## DECISION MAKING EXERCISE"
   ]
  },
  {
   "cell_type": "markdown",
   "id": "c3ac00cf",
   "metadata": {},
   "source": [
    "### conditional statements"
   ]
  },
  {
   "cell_type": "code",
   "execution_count": 1,
   "id": "e1b5f1bf",
   "metadata": {},
   "outputs": [
    {
     "name": "stdout",
     "output_type": "stream",
     "text": [
      "34\n",
      "it is not divisible\n"
     ]
    }
   ],
   "source": [
    "#check whether last digit of no. is divisible by 3 or not\n",
    "n=int(input())\n",
    "l=n%10\n",
    "if l%3==0:\n",
    "    print(\"it is divisible\")\n",
    "else:\n",
    "    print(\"it is not divisible\")"
   ]
  },
  {
   "cell_type": "code",
   "execution_count": 2,
   "id": "b1af5d0f",
   "metadata": {},
   "outputs": [
    {
     "name": "stdout",
     "output_type": "stream",
     "text": [
      "234\n",
      "divisible by both\n"
     ]
    }
   ],
   "source": [
    "#chcek whether a no. is divisible by both 2 and 3 or not\n",
    "n=int(input())\n",
    "if n%3==0 and n%2==0:\n",
    "    print(\"divisible by both\")\n",
    "else:\n",
    "    print(\"divisible by none\")"
   ]
  },
  {
   "cell_type": "code",
   "execution_count": 3,
   "id": "e276579f",
   "metadata": {},
   "outputs": [
    {
     "name": "stdout",
     "output_type": "stream",
     "text": [
      "r\n",
      "r is not vowel\n"
     ]
    }
   ],
   "source": [
    "#check whether given character is a vowel or not\n",
    "i=input()\n",
    "vowel=\"aeiouAEIOU\"\n",
    "if i in vowel:\n",
    "    print(i,\"is vowel\")\n",
    "else:\n",
    "    print(i,\"is not vowel\")    "
   ]
  },
  {
   "cell_type": "code",
   "execution_count": 4,
   "id": "28f8fd15",
   "metadata": {},
   "outputs": [
    {
     "name": "stdout",
     "output_type": "stream",
     "text": [
      "76\n",
      "it is automorphic\n"
     ]
    }
   ],
   "source": [
    "#whether given no. is automorphic or not\n",
    "n=int(input())\n",
    "l=len(str(n))\n",
    "s=n**2\n",
    "last_digit=s%(10**l)\n",
    "if last_digit==n:\n",
    "    print(\"it is automorphic\")\n",
    "else:\n",
    "    print(\"it is not automorphic\")\n"
   ]
  },
  {
   "cell_type": "code",
   "execution_count": 5,
   "id": "e07af0d2",
   "metadata": {},
   "outputs": [
    {
     "name": "stdout",
     "output_type": "stream",
     "text": [
      "24324242\n",
      "even\n"
     ]
    }
   ],
   "source": [
    "#check whether thousandths place digit is even or odd\n",
    "n=int(input())\n",
    "s=n//1000\n",
    "r=s%10\n",
    "if r%2==0:\n",
    "    print(\"even\")\n",
    "else:\n",
    "    print(\"odd\")"
   ]
  },
  {
   "cell_type": "markdown",
   "id": "cd038447",
   "metadata": {},
   "source": [
    "### while loop"
   ]
  },
  {
   "cell_type": "code",
   "execution_count": 1,
   "id": "d70bee37",
   "metadata": {},
   "outputs": [
    {
     "name": "stdout",
     "output_type": "stream",
     "text": [
      "10\n",
      "55\n"
     ]
    }
   ],
   "source": [
    "#sum of natural numbers upto n\n",
    "n=int(input())\n",
    "sum=0\n",
    "i=1\n",
    "while i<=n:\n",
    "    sum=sum+i\n",
    "    i=i+1\n",
    "print(sum)"
   ]
  },
  {
   "cell_type": "code",
   "execution_count": 2,
   "id": "93efa1ce",
   "metadata": {},
   "outputs": [
    {
     "name": "stdout",
     "output_type": "stream",
     "text": [
      "10\n",
      "30\n"
     ]
    }
   ],
   "source": [
    "#sum of even natural numbers upto n\n",
    "n=int(input())\n",
    "sum=0\n",
    "i=0\n",
    "while i<=n:\n",
    "    sum=sum+i\n",
    "    i=i+2\n",
    "print(sum)"
   ]
  },
  {
   "cell_type": "code",
   "execution_count": 3,
   "id": "34716107",
   "metadata": {},
   "outputs": [
    {
     "name": "stdout",
     "output_type": "stream",
     "text": [
      "10\n",
      "30\n"
     ]
    }
   ],
   "source": [
    "#sum of even natural numbers upto n\n",
    "n=int(input())\n",
    "sum=0\n",
    "i=1\n",
    "while i<=n:\n",
    "    if i%2==0:\n",
    "        sum=sum+i\n",
    "    i=i+1\n",
    "print(sum)"
   ]
  },
  {
   "cell_type": "code",
   "execution_count": 4,
   "id": "d5dae3c3",
   "metadata": {},
   "outputs": [
    {
     "name": "stdout",
     "output_type": "stream",
     "text": [
      "10\n",
      "25\n"
     ]
    }
   ],
   "source": [
    "#sum of odd natural numbers upto n\n",
    "n=int(input())\n",
    "sum=0\n",
    "i=1\n",
    "while i<=n:\n",
    "    if i%2!=0:\n",
    "        sum=sum+i\n",
    "    i=i+1\n",
    "print(sum)"
   ]
  },
  {
   "cell_type": "code",
   "execution_count": 5,
   "id": "335e8b4f",
   "metadata": {},
   "outputs": [
    {
     "name": "stdout",
     "output_type": "stream",
     "text": [
      "12345432\n"
     ]
    },
    {
     "data": {
      "text/plain": [
       "8"
      ]
     },
     "execution_count": 5,
     "metadata": {},
     "output_type": "execute_result"
    }
   ],
   "source": [
    "#count of digits\n",
    "n=int(input())\n",
    "l=len(str(n))\n",
    "l"
   ]
  },
  {
   "cell_type": "code",
   "execution_count": 6,
   "id": "faeae9e6",
   "metadata": {},
   "outputs": [
    {
     "name": "stdout",
     "output_type": "stream",
     "text": [
      "1234\n",
      "4\n"
     ]
    }
   ],
   "source": [
    "#count of digits\n",
    "n=int(input())\n",
    "i=0\n",
    "while n>0:\n",
    "    n=n//10\n",
    "    i=i+1\n",
    "print(i)\n"
   ]
  },
  {
   "cell_type": "code",
   "execution_count": 7,
   "id": "ea99b311",
   "metadata": {},
   "outputs": [
    {
     "name": "stdout",
     "output_type": "stream",
     "text": [
      "7845\n",
      "24\n"
     ]
    }
   ],
   "source": [
    "#sum of digits of a number\n",
    "n=int(input())\n",
    "sum=0\n",
    "while n>0:\n",
    "    sum=sum+n%10\n",
    "    n=n//10\n",
    "print(sum)"
   ]
  },
  {
   "cell_type": "code",
   "execution_count": 8,
   "id": "5fb931c3",
   "metadata": {},
   "outputs": [
    {
     "name": "stdout",
     "output_type": "stream",
     "text": [
      "15368\n",
      "9\n"
     ]
    }
   ],
   "source": [
    "#sum of odd digits of a number\n",
    "n=int(input())\n",
    "sum_odd=0\n",
    "while n>0:\n",
    "    if n%2!=0:\n",
    "        sum_odd+=n%10\n",
    "    n=n//10\n",
    "print(sum_odd)"
   ]
  },
  {
   "cell_type": "code",
   "execution_count": 9,
   "id": "f99ddc5b",
   "metadata": {},
   "outputs": [
    {
     "name": "stdout",
     "output_type": "stream",
     "text": [
      "15368\n",
      "9 \t 14\n",
      "14\n"
     ]
    }
   ],
   "source": [
    "#sum of odd and even digits of a number separately\n",
    "n=int(input())\n",
    "sum_odd=0\n",
    "sum_even=0\n",
    "while n>0:\n",
    "    if n%2!=0:\n",
    "        sum_odd+=n%10\n",
    "    else:\n",
    "        sum_even+=n%10\n",
    "    n=n//10\n",
    "print(sum_odd,\"\\t\",sum_even)\n",
    "print(sum_even)"
   ]
  },
  {
   "cell_type": "code",
   "execution_count": 10,
   "id": "cd4a324c",
   "metadata": {},
   "outputs": [
    {
     "name": "stdout",
     "output_type": "stream",
     "text": [
      "12567\n",
      "76521\n"
     ]
    }
   ],
   "source": [
    "#reverse of a number\n",
    "n=int(input())\n",
    "rev=0\n",
    "while n>0:\n",
    "    rev=rev*10+n%10\n",
    "    n=n//10\n",
    "print(rev)"
   ]
  },
  {
   "cell_type": "code",
   "execution_count": 11,
   "id": "431f71f5",
   "metadata": {},
   "outputs": [
    {
     "name": "stdout",
     "output_type": "stream",
     "text": [
      "153\n",
      "153 is armstrong no.\n"
     ]
    }
   ],
   "source": [
    "#armstrong no.\n",
    "n=int(input())\n",
    "x=n\n",
    "l=len(str(n))\n",
    "sum=0\n",
    "while n>0:\n",
    "    sum=sum+((n%10)**l)\n",
    "    n=n//10\n",
    "if sum==x:\n",
    "    print(x,\"is armstrong no.\")\n",
    "else:\n",
    "    print(x,\"is not armstrong no.\")"
   ]
  },
  {
   "cell_type": "code",
   "execution_count": 12,
   "id": "fa6df733",
   "metadata": {},
   "outputs": [
    {
     "name": "stdout",
     "output_type": "stream",
     "text": [
      "stri\n"
     ]
    },
    {
     "data": {
      "text/plain": [
       "'irts'"
      ]
     },
     "execution_count": 12,
     "metadata": {},
     "output_type": "execute_result"
    }
   ],
   "source": [
    "#palindrome no. by strings method\n",
    "n=input()\n",
    "r=n[::-1]\n",
    "r"
   ]
  },
  {
   "cell_type": "code",
   "execution_count": 13,
   "id": "425fe258",
   "metadata": {},
   "outputs": [
    {
     "name": "stdout",
     "output_type": "stream",
     "text": [
      "1534\n"
     ]
    },
    {
     "data": {
      "text/plain": [
       "'4351'"
      ]
     },
     "execution_count": 13,
     "metadata": {},
     "output_type": "execute_result"
    }
   ],
   "source": [
    "#palindrome no. by strings method\n",
    "n=input()\n",
    "r=n[::-1]\n",
    "r"
   ]
  },
  {
   "cell_type": "code",
   "execution_count": 14,
   "id": "3990aba6",
   "metadata": {},
   "outputs": [
    {
     "name": "stdout",
     "output_type": "stream",
     "text": [
      "1534\n",
      "4351\n"
     ]
    }
   ],
   "source": [
    "#palindrome no. by reverse method\n",
    "n=int(input())\n",
    "x=n\n",
    "rev=0\n",
    "while n>0:\n",
    "    rev=(rev*10)+n%10\n",
    "    n=n//10\n",
    "print(rev)"
   ]
  },
  {
   "cell_type": "code",
   "execution_count": 15,
   "id": "867f503e",
   "metadata": {},
   "outputs": [
    {
     "name": "stdout",
     "output_type": "stream",
     "text": [
      "5\n",
      "1\n",
      "1\n",
      "2\n",
      "3\n",
      "5\n"
     ]
    }
   ],
   "source": [
    "#febonacci number\n",
    "n=int(input())\n",
    "n1=1\n",
    "n2=1\n",
    "i=0\n",
    "while i<n:\n",
    "    print(n1)\n",
    "    n3=n1+n2\n",
    "    n1=n2\n",
    "    n2=n3\n",
    "    i=i+1"
   ]
  },
  {
   "cell_type": "code",
   "execution_count": 16,
   "id": "d136e971",
   "metadata": {},
   "outputs": [
    {
     "name": "stdout",
     "output_type": "stream",
     "text": [
      "5\n",
      "febonacci no.\n"
     ]
    }
   ],
   "source": [
    "#check whether given no. is febonacci no. or not\n",
    "n=int(input())\n",
    "n1=1\n",
    "n2=1\n",
    "while n2<n:\n",
    "    n3=n1+n2\n",
    "    n1=n2\n",
    "    n2=n3\n",
    "    i=i+1\n",
    "if n2==n:\n",
    "    print(\"febonacci no.\")\n",
    "else:\n",
    "    print(\"not feb\")"
   ]
  },
  {
   "cell_type": "markdown",
   "id": "0aed9a2e",
   "metadata": {},
   "source": [
    "## patterns"
   ]
  },
  {
   "cell_type": "code",
   "execution_count": 1,
   "id": "417fde07",
   "metadata": {},
   "outputs": [
    {
     "name": "stdout",
     "output_type": "stream",
     "text": [
      "1\n",
      "11\n",
      "111\n",
      "1111\n",
      "11111\n"
     ]
    }
   ],
   "source": [
    "r=1\n",
    "while r<=5:\n",
    "    c=1\n",
    "    while c<=r:\n",
    "        print(1,end=\"\")\n",
    "        c=c+1\n",
    "    print()\n",
    "    r=r+1\n",
    "    "
   ]
  },
  {
   "cell_type": "code",
   "execution_count": 2,
   "id": "329d1cdd",
   "metadata": {},
   "outputs": [
    {
     "name": "stdout",
     "output_type": "stream",
     "text": [
      "1\n",
      "11\n",
      "111\n",
      "1111\n",
      "11111\n"
     ]
    }
   ],
   "source": [
    "for r in range(1,6):\n",
    "    for c in range(1,r+1):\n",
    "        print(1,end=\"\")\n",
    "    print()"
   ]
  },
  {
   "cell_type": "code",
   "execution_count": 3,
   "id": "1b86ba75",
   "metadata": {},
   "outputs": [
    {
     "name": "stdout",
     "output_type": "stream",
     "text": [
      "1111\n",
      "2222\n",
      "3333\n",
      "4444\n"
     ]
    }
   ],
   "source": [
    "r=1\n",
    "while r<=4:\n",
    "    c=1\n",
    "    while c<=4:\n",
    "        print(r,end=\"\")\n",
    "        c=c+1\n",
    "    print()\n",
    "    r=r+1"
   ]
  },
  {
   "cell_type": "code",
   "execution_count": 4,
   "id": "dc68fd16",
   "metadata": {},
   "outputs": [
    {
     "name": "stdout",
     "output_type": "stream",
     "text": [
      "1111\n",
      "2222\n",
      "3333\n",
      "4444\n"
     ]
    }
   ],
   "source": [
    "for r in range(1,5):\n",
    "    for c in range(1,5):\n",
    "        print(r,end=\"\")\n",
    "    print()"
   ]
  },
  {
   "cell_type": "code",
   "execution_count": 5,
   "id": "1ae9fac9",
   "metadata": {},
   "outputs": [
    {
     "name": "stdout",
     "output_type": "stream",
     "text": [
      "1234\n",
      "1234\n",
      "1234\n",
      "1234\n"
     ]
    }
   ],
   "source": [
    "r=1\n",
    "while r<=4:\n",
    "    c=1\n",
    "    while c<=4:\n",
    "        print(c,end=\"\")\n",
    "        c=c+1\n",
    "    print()\n",
    "    r=r+1"
   ]
  },
  {
   "cell_type": "code",
   "execution_count": 6,
   "id": "4d2b773e",
   "metadata": {},
   "outputs": [
    {
     "name": "stdout",
     "output_type": "stream",
     "text": [
      "1234\n",
      "1234\n",
      "1234\n",
      "1234\n"
     ]
    }
   ],
   "source": [
    "for r in range(1,5):\n",
    "    for c in range(1,5):\n",
    "        print(c,end=\"\")\n",
    "    print()"
   ]
  },
  {
   "cell_type": "code",
   "execution_count": 7,
   "id": "118c2993",
   "metadata": {},
   "outputs": [
    {
     "name": "stdout",
     "output_type": "stream",
     "text": [
      "1\n",
      "22\n",
      "333\n",
      "4444\n",
      "55555\n"
     ]
    }
   ],
   "source": [
    "r=1\n",
    "while r<=5:\n",
    "    c=1\n",
    "    while c<=r:\n",
    "        print(r,end=\"\")\n",
    "        c=c+1\n",
    "    print()\n",
    "    r=r+1"
   ]
  },
  {
   "cell_type": "code",
   "execution_count": 8,
   "id": "8c5b2f3f",
   "metadata": {},
   "outputs": [
    {
     "name": "stdout",
     "output_type": "stream",
     "text": [
      "1\n",
      "22\n",
      "333\n",
      "4444\n",
      "55555\n"
     ]
    }
   ],
   "source": [
    "for r in range(1,6):\n",
    "    for c in range(1,r+1):\n",
    "        print(r,end=\"\")\n",
    "    print()"
   ]
  },
  {
   "cell_type": "code",
   "execution_count": 9,
   "id": "85c469da",
   "metadata": {},
   "outputs": [
    {
     "name": "stdout",
     "output_type": "stream",
     "text": [
      "1\n",
      "12\n",
      "123\n",
      "1234\n",
      "12345\n"
     ]
    }
   ],
   "source": [
    "r=1\n",
    "while r<=5:\n",
    "    c=1\n",
    "    while c<=r:\n",
    "        print(c,end=\"\")\n",
    "        c=c+1\n",
    "    print()\n",
    "    r=r+1"
   ]
  },
  {
   "cell_type": "code",
   "execution_count": 10,
   "id": "33bda294",
   "metadata": {},
   "outputs": [
    {
     "name": "stdout",
     "output_type": "stream",
     "text": [
      "1\n",
      "12\n",
      "123\n",
      "1234\n",
      "12345\n"
     ]
    }
   ],
   "source": [
    "for r in range(1,6):\n",
    "    for c in range(1,r+1):\n",
    "        print(c,end=\"\")\n",
    "    print()"
   ]
  },
  {
   "cell_type": "code",
   "execution_count": 11,
   "id": "82e95f00",
   "metadata": {},
   "outputs": [
    {
     "name": "stdout",
     "output_type": "stream",
     "text": [
      "12345\n",
      "1234\n",
      "123\n",
      "12\n",
      "1\n"
     ]
    }
   ],
   "source": [
    "r=5\n",
    "while r>=1:\n",
    "    c=1\n",
    "    while c<=r:\n",
    "        print(c,end=\"\")\n",
    "        c=c+1\n",
    "    print()\n",
    "    r=r-1"
   ]
  },
  {
   "cell_type": "code",
   "execution_count": 12,
   "id": "db82fca0",
   "metadata": {},
   "outputs": [
    {
     "name": "stdout",
     "output_type": "stream",
     "text": [
      "55555\n",
      "4444\n",
      "333\n",
      "22\n",
      "1\n"
     ]
    }
   ],
   "source": [
    "r=5\n",
    "while r>=1:\n",
    "    c=1\n",
    "    while c<=r:\n",
    "        print(r,end=\"\")\n",
    "        c=c+1\n",
    "    print()\n",
    "    r=r-1"
   ]
  },
  {
   "cell_type": "code",
   "execution_count": 13,
   "id": "d6378525",
   "metadata": {},
   "outputs": [
    {
     "name": "stdout",
     "output_type": "stream",
     "text": [
      "11111\n",
      "2222\n",
      "333\n",
      "44\n",
      "5\n"
     ]
    }
   ],
   "source": [
    "r=5     #conditions on r will contruct triangle in fourth quadrant\n",
    "p=1     #conditions on p will make us print p row-wise\n",
    "while r>=1:\n",
    "    c=1\n",
    "    while c<=r:\n",
    "        print(p,end=\"\")\n",
    "        c=c+1\n",
    "    print()\n",
    "    r=r-1\n",
    "    p=p+1"
   ]
  },
  {
   "cell_type": "code",
   "execution_count": 14,
   "id": "27c0ec75",
   "metadata": {},
   "outputs": [
    {
     "name": "stdout",
     "output_type": "stream",
     "text": [
      "54321\n",
      "5432\n",
      "543\n",
      "54\n",
      "5\n"
     ]
    }
   ],
   "source": [
    "r=5\n",
    "while r>=1:\n",
    "    c=1\n",
    "    p=5\n",
    "    while c<=r:\n",
    "        print(p,end=\"\")\n",
    "        c=c+1\n",
    "        p=p-1\n",
    "    print()\n",
    "    r=r-1"
   ]
  },
  {
   "cell_type": "code",
   "execution_count": 15,
   "id": "e4aaaa1d",
   "metadata": {},
   "outputs": [
    {
     "name": "stdout",
     "output_type": "stream",
     "text": [
      "*\n",
      "**\n",
      "***\n",
      "****\n",
      "*****\n",
      "****\n",
      "***\n",
      "**\n",
      "*\n",
      "\n"
     ]
    }
   ],
   "source": [
    "for r in range(1,6):\n",
    "    for c in range(1,r+1):\n",
    "        print(\"*\",end=\"\")\n",
    "    print()\n",
    "for r in range(1,6):\n",
    "    for c in range(1,6-r):\n",
    "        print(\"*\",end=\"\")\n",
    "    print()\n",
    "    "
   ]
  },
  {
   "cell_type": "code",
   "execution_count": 16,
   "id": "28d1aebe",
   "metadata": {},
   "outputs": [
    {
     "name": "stdout",
     "output_type": "stream",
     "text": [
      "*\n",
      "**\n",
      "***\n",
      "****\n",
      "*****\n",
      "****\n",
      "***\n",
      "**\n",
      "*\n"
     ]
    }
   ],
   "source": [
    "for r in range(1,6):\n",
    "    for c in range(1,r+1):\n",
    "        print(\"*\",end=\"\")\n",
    "    print()\n",
    "r=4\n",
    "while r>=1:\n",
    "    c=1\n",
    "    while c<=r:\n",
    "        print(\"*\",end=\"\")\n",
    "        c=c+1\n",
    "    print()\n",
    "    r=r-1"
   ]
  },
  {
   "cell_type": "code",
   "execution_count": 17,
   "id": "b85b6bbe",
   "metadata": {},
   "outputs": [
    {
     "name": "stdout",
     "output_type": "stream",
     "text": [
      "1\n",
      "23\n",
      "345\n",
      "4567\n",
      "56789\n"
     ]
    }
   ],
   "source": [
    "r=1\n",
    "while r<=5:\n",
    "    c=1\n",
    "    p=r\n",
    "    while c<=r:\n",
    "        print(p,end=\"\")\n",
    "        p=p+1\n",
    "        c=c+1\n",
    "    print()\n",
    "    r=r+1"
   ]
  },
  {
   "cell_type": "code",
   "execution_count": 18,
   "id": "da742289",
   "metadata": {},
   "outputs": [
    {
     "name": "stdout",
     "output_type": "stream",
     "text": [
      "1 \n",
      "2 3 \n",
      "4 5 6 \n",
      "7 8 9 10 \n",
      "11 12 13 14 15 \n"
     ]
    }
   ],
   "source": [
    "r=1\n",
    "p=1\n",
    "while r<=5:\n",
    "    c=1\n",
    "    while c<=r:\n",
    "        print(p,end=\" \")\n",
    "        c=c+1\n",
    "        p=p+1\n",
    "    print()\n",
    "    r=r+1"
   ]
  },
  {
   "cell_type": "code",
   "execution_count": 19,
   "id": "f5affa79",
   "metadata": {},
   "outputs": [
    {
     "name": "stdout",
     "output_type": "stream",
     "text": [
      "1 \n",
      "2 3 \n",
      "3 4 5 \n",
      "4 5 6 7 \n",
      "5 6 7 8 9 \n"
     ]
    }
   ],
   "source": [
    "r=1\n",
    "while r<=5:\n",
    "    c=1\n",
    "    p=r\n",
    "    while c<=r:\n",
    "        print(p,end=\" \")\n",
    "        c=c+1\n",
    "        p=p+1\n",
    "    print()\n",
    "    r=r+1"
   ]
  },
  {
   "cell_type": "code",
   "execution_count": 20,
   "id": "eb62aa55",
   "metadata": {},
   "outputs": [
    {
     "name": "stdout",
     "output_type": "stream",
     "text": [
      "1 \n",
      "2 1 \n",
      "3 2 1 \n",
      "4 3 2 1 \n",
      "5 4 3 2 1 \n"
     ]
    }
   ],
   "source": [
    "r=1\n",
    "while r<=5:\n",
    "    c=1\n",
    "    p=r\n",
    "    while c<=r:\n",
    "        print(p,end=\" \")\n",
    "        c=c+1\n",
    "        p=p-1\n",
    "    print()\n",
    "    r=r+1"
   ]
  },
  {
   "cell_type": "code",
   "execution_count": 21,
   "id": "4ffc9142",
   "metadata": {},
   "outputs": [
    {
     "name": "stdout",
     "output_type": "stream",
     "text": [
      "    *\n",
      "   **\n",
      "  ***\n",
      " ****\n",
      "*****\n"
     ]
    }
   ],
   "source": [
    "for r in range(1,6):\n",
    "    for s in range(1,5-r+1):\n",
    "        print(\" \",end=\"\")\n",
    "    for a in range(1,r+1):\n",
    "        print(\"*\",end=\"\")\n",
    "    print()"
   ]
  },
  {
   "cell_type": "code",
   "execution_count": 22,
   "id": "b69740ca",
   "metadata": {},
   "outputs": [
    {
     "name": "stdout",
     "output_type": "stream",
     "text": [
      "7\n",
      "1111111\n",
      "000000\n",
      "11111\n",
      "0000\n",
      "111\n",
      "00\n",
      "1\n"
     ]
    }
   ],
   "source": [
    "n=int(input())         #never use reverse loop in for loop\n",
    "for r in range(1,n+1):   #for such kind of patterns,try making formula related to n-r+1 or n-r+2\n",
    "    for i in range(1,n-r+2):\n",
    "        if r%2!=0:\n",
    "            print('1',end=\"\") \n",
    "        else:\n",
    "            print('0',end=\"\")\n",
    "    print()"
   ]
  },
  {
   "cell_type": "code",
   "execution_count": 23,
   "id": "35d86c2c",
   "metadata": {},
   "outputs": [
    {
     "name": "stdout",
     "output_type": "stream",
     "text": [
      "6\n",
      "101010\n",
      "01010\n",
      "1010\n",
      "010\n",
      "10\n",
      "0\n"
     ]
    }
   ],
   "source": [
    "n=int(input())\n",
    "for r in range(1,n+1):\n",
    "    for c in range(1,n-r+2):\n",
    "        if (r+c)%2==0:\n",
    "            print(\"1\",end=\"\")\n",
    "        else:\n",
    "            print(\"0\",end=\"\")\n",
    "    print()"
   ]
  },
  {
   "cell_type": "code",
   "execution_count": 24,
   "id": "dbfc9d5a",
   "metadata": {},
   "outputs": [
    {
     "name": "stdout",
     "output_type": "stream",
     "text": [
      "8\n",
      "       *\n",
      "      ***\n",
      "     *****\n",
      "    *******\n",
      "   *********\n",
      "  ***********\n",
      " *************\n",
      "***************\n"
     ]
    }
   ],
   "source": [
    "n=int(input())\n",
    "for r in range(1,n+1):\n",
    "    for s in range(1,n-r+1):\n",
    "        print(\" \",end=\"\")\n",
    "    for c in range(1,2*r-1+1):\n",
    "        print(\"*\",end=\"\")\n",
    "    print()"
   ]
  },
  {
   "cell_type": "markdown",
   "id": "11a4fc56",
   "metadata": {},
   "source": [
    "### FOR LOOP"
   ]
  },
  {
   "cell_type": "code",
   "execution_count": 1,
   "id": "0b00573d",
   "metadata": {},
   "outputs": [
    {
     "name": "stdout",
     "output_type": "stream",
     "text": [
      "1 2 3 4 5 6 7 8 9 10 \n",
      "2 4 6 8 10 12 14 16 18 20 \n",
      "3 6 9 12 15 18 21 24 27 30 \n",
      "4 8 12 16 20 24 28 32 36 40 \n",
      "5 10 15 20 25 30 35 40 45 50 \n",
      "6 12 18 24 30 36 42 48 54 60 \n"
     ]
    }
   ],
   "source": [
    "for r in range(1,7):\n",
    "    for c in range(1,11):\n",
    "        print(r*c,end=\" \")\n",
    "    print()"
   ]
  },
  {
   "cell_type": "code",
   "execution_count": 2,
   "id": "f01b5f6b",
   "metadata": {},
   "outputs": [
    {
     "name": "stdout",
     "output_type": "stream",
     "text": [
      "17\n",
      "prime\n"
     ]
    }
   ],
   "source": [
    "# check whether given no. is prime no. or not\n",
    "n=int(input())\n",
    "#f=0\n",
    "for i in range(2,n):\n",
    "    if n%i==0:\n",
    "        \n",
    "        break\n",
    "if n%i==0:\n",
    "    print(\"not prime\")\n",
    "else:\n",
    "    print(\"prime\")"
   ]
  },
  {
   "cell_type": "code",
   "execution_count": 3,
   "id": "e0b84074",
   "metadata": {},
   "outputs": [
    {
     "name": "stdout",
     "output_type": "stream",
     "text": [
      "145\n",
      "strong no.\n"
     ]
    }
   ],
   "source": [
    "#check whether no. is a strong no. or not\n",
    "#145=1!+4!+5! ,it means 145 is strong no.\n",
    "n=int(input())\n",
    "a=n\n",
    "sum=0\n",
    "while (n%10)>0:\n",
    "    fact=1\n",
    "    for i in range(1,(n%10)+1):\n",
    "        fact=fact*i\n",
    "    sum=sum+fact\n",
    "    n=n//10\n",
    "if (sum==a):\n",
    "    print(\"strong no.\")\n",
    "else:\n",
    "    print(\"not strong no.\")"
   ]
  },
  {
   "cell_type": "code",
   "execution_count": 4,
   "id": "f3274e45",
   "metadata": {},
   "outputs": [
    {
     "name": "stdout",
     "output_type": "stream",
     "text": [
      "496\n",
      "perfect no.\n"
     ]
    }
   ],
   "source": [
    "#check whether given no. is perfect no. or not\n",
    "#a no. is said to e perfect no. if sum of all its positive factors ,\n",
    "#except no. itself is equal to no. itself\n",
    "n=int(input())\n",
    "sum=0\n",
    "for i in range(1,n):\n",
    "    if n%i==0:\n",
    "        sum=sum+i\n",
    "if sum==n:\n",
    "    print(\"perfect no.\")\n",
    "else:\n",
    "    print(\"not perfect no.\")"
   ]
  },
  {
   "cell_type": "code",
   "execution_count": 5,
   "id": "2b59e913",
   "metadata": {},
   "outputs": [
    {
     "name": "stdout",
     "output_type": "stream",
     "text": [
      "A B C D E F G H I J K L M N O P Q R S T U V W X Y "
     ]
    }
   ],
   "source": [
    "for i in range(65,90):\n",
    "    print(chr(i),end=\" \")"
   ]
  },
  {
   "cell_type": "code",
   "execution_count": 6,
   "id": "82efc333",
   "metadata": {},
   "outputs": [
    {
     "name": "stdout",
     "output_type": "stream",
     "text": [
      "A \n",
      "A B \n",
      "A B C \n",
      "A B C D \n",
      "A B C D E \n"
     ]
    }
   ],
   "source": [
    "for r in range(1,6):\n",
    "    for j in range(0,r):\n",
    "        print(chr(65+j),end=\" \")\n",
    "    print()\n",
    "        "
   ]
  },
  {
   "cell_type": "code",
   "execution_count": 7,
   "id": "203e3d7a",
   "metadata": {},
   "outputs": [
    {
     "name": "stdout",
     "output_type": "stream",
     "text": [
      "\n",
      "C\n",
      "CH\n",
      "CHI\n",
      "CHIT\n",
      "CHITK\n",
      "CHITKA\n",
      "CHITKAR\n",
      "CHITKARA\n"
     ]
    }
   ],
   "source": [
    "str=\"CHITKARA\"\n",
    "l=len(str)\n",
    "for i in range(0,l+1):\n",
    "    for j in range(0,i):\n",
    "        print(str[j],end=\"\")\n",
    "    print()"
   ]
  },
  {
   "cell_type": "code",
   "execution_count": 8,
   "id": "b3f40769",
   "metadata": {},
   "outputs": [
    {
     "name": "stdout",
     "output_type": "stream",
     "text": [
      "CHITKARA\n",
      "CHITKAR\n",
      "CHITKA\n",
      "CHITK\n",
      "CHIT\n",
      "CHI\n",
      "CH\n",
      "C\n"
     ]
    }
   ],
   "source": [
    "str=\"CHITKARA\"\n",
    "l=len(str)\n",
    "for i in range(1,l+1):\n",
    "    for j in range(0,l-i+1):\n",
    "        print(str[j],end=\"\")\n",
    "    print()"
   ]
  },
  {
   "cell_type": "code",
   "execution_count": 9,
   "id": "48a3d434",
   "metadata": {},
   "outputs": [
    {
     "name": "stdout",
     "output_type": "stream",
     "text": [
      "     H\n",
      "    HA\n",
      "   HAR\n",
      "  HARM\n",
      " HARMA\n",
      "HARMAN\n"
     ]
    }
   ],
   "source": [
    "str=\"HARMAN\"\n",
    "l=len(str)\n",
    "for i in range(1,l+1):\n",
    "    for s in range(0,l-i):\n",
    "        print(\" \",end=\"\")\n",
    "    for j in range(0,i):\n",
    "        print(str[j],end=\"\")\n",
    "    print()"
   ]
  },
  {
   "cell_type": "markdown",
   "id": "88e18b7b",
   "metadata": {},
   "source": [
    "### HCF AND LCM"
   ]
  },
  {
   "cell_type": "code",
   "execution_count": 1,
   "id": "2fe6113d",
   "metadata": {},
   "outputs": [
    {
     "name": "stdout",
     "output_type": "stream",
     "text": [
      "4\n",
      "2\n",
      "2\n"
     ]
    }
   ],
   "source": [
    "x=int(input())\n",
    "y=int(input())\n",
    "i=1\n",
    "while i<=x and i<=y:\n",
    "    if x%i==0 and y%i==0:\n",
    "        HCF=i\n",
    "    i=i+1\n",
    "print(HCF)"
   ]
  },
  {
   "cell_type": "code",
   "execution_count": 2,
   "id": "5d9d5beb",
   "metadata": {},
   "outputs": [
    {
     "name": "stdout",
     "output_type": "stream",
     "text": [
      "6\n",
      "4\n",
      "12\n"
     ]
    }
   ],
   "source": [
    "x=int(input())\n",
    "y=int(input())\n",
    "i=1\n",
    "while i<=x and i<=y:\n",
    "    if x%i==0 and y%i==0:\n",
    "        HCF=i\n",
    "    i=i+1\n",
    "    LCM=(x*y)//HCF\n",
    "print(LCM)"
   ]
  },
  {
   "cell_type": "code",
   "execution_count": null,
   "id": "23986371",
   "metadata": {},
   "outputs": [],
   "source": []
  }
 ],
 "metadata": {
  "kernelspec": {
   "display_name": "Python 3",
   "language": "python",
   "name": "python3"
  },
  "language_info": {
   "codemirror_mode": {
    "name": "ipython",
    "version": 3
   },
   "file_extension": ".py",
   "mimetype": "text/x-python",
   "name": "python",
   "nbconvert_exporter": "python",
   "pygments_lexer": "ipython3",
   "version": "3.8.8"
  }
 },
 "nbformat": 4,
 "nbformat_minor": 5
}
