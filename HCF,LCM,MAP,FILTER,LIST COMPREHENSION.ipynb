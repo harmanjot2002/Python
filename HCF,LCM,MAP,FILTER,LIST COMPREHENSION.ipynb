{
 "cells": [
  {
   "cell_type": "code",
   "execution_count": 1,
   "id": "3d26fede",
   "metadata": {},
   "outputs": [
    {
     "name": "stdout",
     "output_type": "stream",
     "text": [
      "4\n",
      "2\n",
      "2\n"
     ]
    }
   ],
   "source": [
    "#HCF\n",
    "x=int(input())\n",
    "y=int(input())\n",
    "i=1\n",
    "while i<=x and i<=y:\n",
    "    if x%i==0 and y%i==0:\n",
    "        HCF=i\n",
    "    i=i+1   \n",
    "print (HCF)    "
   ]
  },
  {
   "cell_type": "code",
   "execution_count": 2,
   "id": "4161fcdc",
   "metadata": {},
   "outputs": [
    {
     "name": "stdout",
     "output_type": "stream",
     "text": [
      "4\n",
      "2\n",
      "4\n"
     ]
    }
   ],
   "source": [
    "#LCM\n",
    "x=int(input())\n",
    "y=int(input())\n",
    "i=1\n",
    "while i<=x and i<=y:\n",
    "    if x%i==0 and y%i==0:\n",
    "        HCF=i\n",
    "    i=i+1 \n",
    "    LCM=(x*y//HCF)\n",
    "print (LCM)    "
   ]
  },
  {
   "cell_type": "code",
   "execution_count": 3,
   "id": "e3b2f5cf",
   "metadata": {},
   "outputs": [
    {
     "name": "stdout",
     "output_type": "stream",
     "text": [
      "1226790245\n",
      "16      22\n"
     ]
    }
   ],
   "source": [
    "#sum of even and odd.\n",
    "n=int(input())\n",
    "even=0\n",
    "odd=0\n",
    "while n>0:\n",
    "    r=n%10        #we picked last digit of n one by one\n",
    "    if r%2==0:     #condition of even\n",
    "        even=even+r\n",
    "    else:\n",
    "        odd=odd+r   #condition of odd\n",
    "    n=n//10       #we are removing last digit of previous n.    \n",
    "print(even,\"    \",odd)        \n",
    "        \n",
    "    "
   ]
  },
  {
   "cell_type": "code",
   "execution_count": 4,
   "id": "be221e77",
   "metadata": {},
   "outputs": [
    {
     "name": "stdout",
     "output_type": "stream",
     "text": [
      "5\n",
      "true\n"
     ]
    }
   ],
   "source": [
    "def checknumber(n):\n",
    "    a=1\n",
    "    b=1\n",
    "    while b<=n:\n",
    "           \n",
    "        c = a + b\n",
    "        a = b\n",
    "        b = c\n",
    "        if b==n:\n",
    "          return \"true\"\n",
    "       \n",
    "    return \"false\"\n",
    "\n",
    "n = int(input())\n",
    "print(checknumber(n))"
   ]
  },
  {
   "cell_type": "code",
   "execution_count": 5,
   "id": "8be247e4",
   "metadata": {},
   "outputs": [],
   "source": [
    "def fact(x):\n",
    "    if x==0 or x==1:\n",
    "        return 1\n",
    "    else:\n",
    "        fact=1\n",
    "        while x>1:\n",
    "            fact*=x\n",
    "            x=x-1\n",
    "        return fact"
   ]
  },
  {
   "cell_type": "code",
   "execution_count": 6,
   "id": "46442ea1",
   "metadata": {},
   "outputs": [
    {
     "data": {
      "text/plain": [
       "24"
      ]
     },
     "execution_count": 6,
     "metadata": {},
     "output_type": "execute_result"
    }
   ],
   "source": [
    "fact(4)"
   ]
  },
  {
   "cell_type": "code",
   "execution_count": 7,
   "id": "ed28826a",
   "metadata": {},
   "outputs": [
    {
     "name": "stdout",
     "output_type": "stream",
     "text": [
      "[1, 2, 6, 24, 120, 720]\n"
     ]
    }
   ],
   "source": [
    "print(list(map(fact,[1,2,3,4,5,6])))"
   ]
  },
  {
   "cell_type": "code",
   "execution_count": 8,
   "id": "1daa82cd",
   "metadata": {},
   "outputs": [],
   "source": [
    "def isodd(n):\n",
    "    for i in n:\n",
    "        if i%2!=0:\n",
    "            return True\n",
    "        return False"
   ]
  },
  {
   "cell_type": "code",
   "execution_count": 9,
   "id": "832cd0a3",
   "metadata": {},
   "outputs": [
    {
     "data": {
      "text/plain": [
       "True"
      ]
     },
     "execution_count": 9,
     "metadata": {},
     "output_type": "execute_result"
    }
   ],
   "source": [
    "isodd([1,2,3,4])"
   ]
  },
  {
   "cell_type": "code",
   "execution_count": 10,
   "id": "41f35eb9",
   "metadata": {},
   "outputs": [],
   "source": [
    "def isodd(n):\n",
    "    if n%2!=0:\n",
    "        return True\n",
    "    return False"
   ]
  },
  {
   "cell_type": "code",
   "execution_count": 11,
   "id": "f3f4b6d0",
   "metadata": {},
   "outputs": [
    {
     "name": "stdout",
     "output_type": "stream",
     "text": [
      "<filter object at 0x00000204E8E95D30>\n"
     ]
    }
   ],
   "source": [
    "print(filter(isodd,[1,2,3,4]))"
   ]
  },
  {
   "cell_type": "code",
   "execution_count": 12,
   "id": "030a209b",
   "metadata": {},
   "outputs": [
    {
     "name": "stdout",
     "output_type": "stream",
     "text": [
      "[1, 3]\n"
     ]
    }
   ],
   "source": [
    "print(list(filter(isodd,[1,2,3,4])))"
   ]
  },
  {
   "cell_type": "code",
   "execution_count": 13,
   "id": "12e73e07",
   "metadata": {},
   "outputs": [
    {
     "name": "stdout",
     "output_type": "stream",
     "text": [
      "[True, False, True, False]\n"
     ]
    }
   ],
   "source": [
    "print(list(map(isodd,[1,2,3,4])))"
   ]
  },
  {
   "cell_type": "code",
   "execution_count": 14,
   "id": "114aa9f9",
   "metadata": {},
   "outputs": [
    {
     "name": "stdout",
     "output_type": "stream",
     "text": [
      "[1, 4, 9, 16, 25, 36, 49, 64, 81, 0]\n"
     ]
    }
   ],
   "source": [
    "n=[1,2,3,4,5,6,7,8,9,0]\n",
    "squares=[x**2 for x in n]\n",
    "print(squares)"
   ]
  },
  {
   "cell_type": "code",
   "execution_count": 15,
   "id": "62bdb922",
   "metadata": {},
   "outputs": [
    {
     "name": "stdout",
     "output_type": "stream",
     "text": [
      "['ar', 'it', 'ja', 'di']\n"
     ]
    }
   ],
   "source": [
    "li=[\"chitkara\",\"university\",\"punjab\",\"india\"]\n",
    "list=[string[-3:-1]for string in li]\n",
    "print(list)"
   ]
  },
  {
   "cell_type": "code",
   "execution_count": 16,
   "id": "9865af51",
   "metadata": {},
   "outputs": [
    {
     "name": "stdout",
     "output_type": "stream",
     "text": [
      "[[1, 3], [1, 1], [1, 4], [2, 3], [2, 1], [2, 4], [3, 3], [3, 1], [3, 4]]\n"
     ]
    }
   ],
   "source": [
    "z=[[x,y] for x in [1,2,3] for y in [3,1,4]]\n",
    "print(z)"
   ]
  },
  {
   "cell_type": "code",
   "execution_count": 17,
   "id": "ae5d24aa",
   "metadata": {},
   "outputs": [
    {
     "name": "stdout",
     "output_type": "stream",
     "text": [
      "5\n"
     ]
    }
   ],
   "source": [
    "li=[\"abc\",45,7.8,\"world\",True]\n",
    "print(len(li))"
   ]
  },
  {
   "cell_type": "code",
   "execution_count": 18,
   "id": "9ca7bca4",
   "metadata": {},
   "outputs": [
    {
     "name": "stdout",
     "output_type": "stream",
     "text": [
      "0\n",
      "1\n",
      "2\n",
      "3\n",
      "4\n"
     ]
    }
   ],
   "source": [
    "li=[\"abc\",45,7.8,\"world\",True]\n",
    "for i in range(len(li)):\n",
    "    print(i)"
   ]
  },
  {
   "cell_type": "code",
   "execution_count": 19,
   "id": "ea6764d3",
   "metadata": {},
   "outputs": [
    {
     "name": "stdout",
     "output_type": "stream",
     "text": [
      "0\n",
      "1\n",
      "2\n",
      "3\n",
      "4\n"
     ]
    }
   ],
   "source": [
    "li=[\"abc\",45,7.8,\"world\",True]\n",
    "for i in range(0,len(li)):\n",
    "    print(i)"
   ]
  },
  {
   "cell_type": "code",
   "execution_count": 20,
   "id": "2800f6d8",
   "metadata": {},
   "outputs": [
    {
     "name": "stdout",
     "output_type": "stream",
     "text": [
      "1\n",
      "2\n",
      "3\n",
      "4\n"
     ]
    }
   ],
   "source": [
    "li=[\"abc\",45,7.8,\"world\",True]\n",
    "for i in range(1,len(li)):\n",
    "    print(i)"
   ]
  },
  {
   "cell_type": "code",
   "execution_count": 21,
   "id": "f937ec82",
   "metadata": {},
   "outputs": [
    {
     "name": "stdout",
     "output_type": "stream",
     "text": [
      "['abc', 45, 7.8, 'world', True]\n",
      "['abc', 45, 7.8, 'world', True]\n",
      "['abc', 45, 7.8, 'world', True]\n",
      "['abc', 45, 7.8, 'world', True]\n",
      "['abc', 45, 7.8, 'world', True]\n"
     ]
    }
   ],
   "source": [
    "li=[\"abc\",45,7.8,\"world\",True]\n",
    "for i in range(len(li)):\n",
    "    print(li)"
   ]
  },
  {
   "cell_type": "code",
   "execution_count": 22,
   "id": "184f7610",
   "metadata": {},
   "outputs": [
    {
     "name": "stdout",
     "output_type": "stream",
     "text": [
      "abc\n",
      "45\n",
      "7.8\n",
      "world\n",
      "True\n"
     ]
    }
   ],
   "source": [
    "li=[\"abc\",45,7.8,\"world\",True]\n",
    "for i in range(len(li)):\n",
    "    print(li[i])"
   ]
  },
  {
   "cell_type": "code",
   "execution_count": 23,
   "id": "26c7ba4d",
   "metadata": {},
   "outputs": [
    {
     "name": "stdout",
     "output_type": "stream",
     "text": [
      "0\n",
      "1\n",
      "2\n",
      "3\n",
      "4\n"
     ]
    }
   ],
   "source": [
    "li=[\"abc\",45,7.8,\"world\",True]\n",
    "for i in range(len(li)):\n",
    "    print(i)"
   ]
  },
  {
   "cell_type": "code",
   "execution_count": 24,
   "id": "db3df37d",
   "metadata": {},
   "outputs": [
    {
     "name": "stdout",
     "output_type": "stream",
     "text": [
      "abc\n",
      "45\n",
      "7.8\n",
      "world\n",
      "True\n"
     ]
    }
   ],
   "source": [
    "li=[\"abc\",45,7.8,\"world\",True]\n",
    "for i in li:\n",
    "    print(i)"
   ]
  },
  {
   "cell_type": "code",
   "execution_count": 25,
   "id": "38fa7f37",
   "metadata": {},
   "outputs": [
    {
     "name": "stdout",
     "output_type": "stream",
     "text": [
      "abc457.8worldTrue"
     ]
    }
   ],
   "source": [
    "li=[\"abc\",45,7.8,\"world\",True]\n",
    "for i in li:\n",
    "    print(i,end=\"\")"
   ]
  },
  {
   "cell_type": "code",
   "execution_count": 26,
   "id": "9caa2ce5",
   "metadata": {},
   "outputs": [
    {
     "name": "stdout",
     "output_type": "stream",
     "text": [
      "abc 45 7.8 world True "
     ]
    }
   ],
   "source": [
    "li=[\"abc\",45,7.8,\"world\",True]\n",
    "for i in li:\n",
    "    print(i,end=\" \")"
   ]
  },
  {
   "cell_type": "code",
   "execution_count": 29,
   "id": "5c2895b7",
   "metadata": {},
   "outputs": [
    {
     "name": "stdout",
     "output_type": "stream",
     "text": [
      "5\n",
      "1\n",
      "2\n",
      "3\n",
      "4\n",
      "5\n",
      "[1, 2, 3, 4, 5]\n"
     ]
    }
   ],
   "source": [
    "n=int(input())\n",
    "li=[]\n",
    "for i in range(n):\n",
    "    curr=int(input())     #takes it as integer\n",
    "    li.append(curr)\n",
    "print(li)"
   ]
  },
  {
   "cell_type": "code",
   "execution_count": 30,
   "id": "f213552d",
   "metadata": {},
   "outputs": [
    {
     "name": "stdout",
     "output_type": "stream",
     "text": [
      "5\n",
      "1\n",
      "2\n",
      "3\n",
      "4\n",
      "5\n",
      "['1', '2', '3', '4', '5']\n"
     ]
    }
   ],
   "source": [
    "n=int(input())\n",
    "li=[]\n",
    "for i in range(n):\n",
    "    curr=input()    #takes it as a string\n",
    "    li.append(curr)\n",
    "print(li)"
   ]
  },
  {
   "cell_type": "code",
   "execution_count": 31,
   "id": "4fc0540d",
   "metadata": {},
   "outputs": [
    {
     "name": "stdout",
     "output_type": "stream",
     "text": [
      "1 2 3 4 5\n"
     ]
    },
    {
     "data": {
      "text/plain": [
       "'1 2 3 4 5'"
      ]
     },
     "execution_count": 31,
     "metadata": {},
     "output_type": "execute_result"
    }
   ],
   "source": [
    "rat=input()   #takes it as one string\n",
    "rat   "
   ]
  },
  {
   "cell_type": "code",
   "execution_count": 32,
   "id": "9107602b",
   "metadata": {},
   "outputs": [
    {
     "name": "stdout",
     "output_type": "stream",
     "text": [
      "1 2 3 4 5\n"
     ]
    },
    {
     "data": {
      "text/plain": [
       "['1', '2', '3', '4', '5']"
      ]
     },
     "execution_count": 32,
     "metadata": {},
     "output_type": "execute_result"
    }
   ],
   "source": [
    "rat=input().split()\n",
    "rat"
   ]
  },
  {
   "cell_type": "code",
   "execution_count": 34,
   "id": "171f9ae8",
   "metadata": {},
   "outputs": [
    {
     "name": "stdout",
     "output_type": "stream",
     "text": [
      "1,2,3,4,5\n"
     ]
    },
    {
     "data": {
      "text/plain": [
       "['1', '2', '3', '4', '5']"
      ]
     },
     "execution_count": 34,
     "metadata": {},
     "output_type": "execute_result"
    }
   ],
   "source": [
    "rat=input().split(',')\n",
    "rat"
   ]
  },
  {
   "cell_type": "code",
   "execution_count": 35,
   "id": "2eaae839",
   "metadata": {},
   "outputs": [
    {
     "data": {
      "text/plain": [
       "[1, 2, 3, 4, 5]"
      ]
     },
     "execution_count": 35,
     "metadata": {},
     "output_type": "execute_result"
    }
   ],
   "source": [
    "li=[]\n",
    "for ele in rat:\n",
    "    li.append(int(ele))\n",
    "li"
   ]
  },
  {
   "cell_type": "code",
   "execution_count": 38,
   "id": "39b8b4f2",
   "metadata": {},
   "outputs": [
    {
     "name": "stdout",
     "output_type": "stream",
     "text": [
      "1 2 3 4 5\n"
     ]
    },
    {
     "data": {
      "text/plain": [
       "['1', '2', '3', '4', '5']"
      ]
     },
     "execution_count": 38,
     "metadata": {},
     "output_type": "execute_result"
    }
   ],
   "source": [
    "rat=input().split()\n",
    "rat"
   ]
  },
  {
   "cell_type": "code",
   "execution_count": 39,
   "id": "8d3009fb",
   "metadata": {},
   "outputs": [
    {
     "name": "stdout",
     "output_type": "stream",
     "text": [
      "1 2 3 4 5\n",
      "['1', '2', '3', '4', '5']\n"
     ]
    }
   ],
   "source": [
    "li=[x for x in input().split()]\n",
    "print(li)"
   ]
  },
  {
   "cell_type": "code",
   "execution_count": 43,
   "id": "a75a3c97",
   "metadata": {},
   "outputs": [
    {
     "name": "stdout",
     "output_type": "stream",
     "text": [
      "3\n",
      "9 8 9\n"
     ]
    },
    {
     "data": {
      "text/plain": [
       "[9, 8, 9]"
      ]
     },
     "execution_count": 43,
     "metadata": {},
     "output_type": "execute_result"
    }
   ],
   "source": [
    "n=int(input())\n",
    "li=[int(x) for x in input().split()]\n",
    "li"
   ]
  },
  {
   "cell_type": "code",
   "execution_count": 44,
   "id": "4ed791b0",
   "metadata": {},
   "outputs": [
    {
     "data": {
      "text/plain": [
       "26"
      ]
     },
     "execution_count": 44,
     "metadata": {},
     "output_type": "execute_result"
    }
   ],
   "source": [
    "sum(li)"
   ]
  },
  {
   "cell_type": "code",
   "execution_count": 46,
   "id": "ae542f4e",
   "metadata": {},
   "outputs": [
    {
     "data": {
      "text/plain": [
       "2"
      ]
     },
     "execution_count": 46,
     "metadata": {},
     "output_type": "execute_result"
    }
   ],
   "source": [
    "x=\"23567\"\n",
    "x.index(\"5\")    #we can directly find index in strings,not in list"
   ]
  },
  {
   "cell_type": "code",
   "execution_count": 47,
   "id": "18592031",
   "metadata": {},
   "outputs": [
    {
     "name": "stdout",
     "output_type": "stream",
     "text": [
      "6\n",
      "2 4 7 9 1 13\n",
      "7\n",
      "2\n"
     ]
    }
   ],
   "source": [
    "n=int(input())\n",
    "li=[int(x) for x in input().split()]\n",
    "ele=int(input())\n",
    "for i in range(len(li)):\n",
    "    if li[i]==ele:\n",
    "        print(i)\n",
    "        isFound=True\n",
    "        break\n",
    "    else:\n",
    "        ifFound=False\n",
    "if isFound is False:\n",
    "    print(-1)"
   ]
  },
  {
   "cell_type": "code",
   "execution_count": 48,
   "id": "56230e15",
   "metadata": {},
   "outputs": [],
   "source": [
    "def linear_search(li,ele):\n",
    "    for i in range(len(li)):\n",
    "        if li[i]==ele:\n",
    "            return i\n",
    "    return -1\n"
   ]
  },
  {
   "cell_type": "code",
   "execution_count": 49,
   "id": "c2b70f9e",
   "metadata": {},
   "outputs": [
    {
     "name": "stdout",
     "output_type": "stream",
     "text": [
      "3\n"
     ]
    }
   ],
   "source": [
    "li=[1,2,3,6,5]\n",
    "index=linear_search(li,6)\n",
    "print(index)"
   ]
  },
  {
   "cell_type": "code",
   "execution_count": 50,
   "id": "b1e73edd",
   "metadata": {},
   "outputs": [
    {
     "name": "stdout",
     "output_type": "stream",
     "text": [
      "2\n"
     ]
    }
   ],
   "source": [
    "def increment(a):\n",
    "    a=a+2\n",
    "    return a\n",
    "a=2\n",
    "increment(a)\n",
    "print(a)"
   ]
  },
  {
   "cell_type": "code",
   "execution_count": 51,
   "id": "e576b564",
   "metadata": {},
   "outputs": [
    {
     "name": "stdout",
     "output_type": "stream",
     "text": [
      "4\n"
     ]
    }
   ],
   "source": [
    "def increment(a):\n",
    "    a=a+2\n",
    "    return a\n",
    "a=2\n",
    "a=increment(a)\n",
    "print(a)"
   ]
  },
  {
   "cell_type": "code",
   "execution_count": 52,
   "id": "3d36ef08",
   "metadata": {},
   "outputs": [
    {
     "name": "stdout",
     "output_type": "stream",
     "text": [
      "[3, 2, 3, 4]\n"
     ]
    }
   ],
   "source": [
    "def increment(li):\n",
    "    li[0]=li[0]+2\n",
    "    return\n",
    "li=[1,2,3,4]\n",
    "increment(li)\n",
    "print(li)"
   ]
  },
  {
   "cell_type": "code",
   "execution_count": 53,
   "id": "86f6a39f",
   "metadata": {},
   "outputs": [
    {
     "name": "stdout",
     "output_type": "stream",
     "text": [
      "None\n"
     ]
    }
   ],
   "source": [
    "def increment(li):\n",
    "    li[0]=li[0]+2\n",
    "    return\n",
    "li=[1,2,3,4]\n",
    "li=increment(li)\n",
    "print(li)"
   ]
  },
  {
   "cell_type": "code",
   "execution_count": 58,
   "id": "47b7b16b",
   "metadata": {},
   "outputs": [
    {
     "name": "stdout",
     "output_type": "stream",
     "text": [
      "[1, 2, 3, 4]\n"
     ]
    }
   ],
   "source": [
    "def increment(li):\n",
    "    li=[3,3,4]\n",
    "    return li\n",
    "li=[1,2,3,4]\n",
    "increment(li)\n",
    "print(li)"
   ]
  },
  {
   "cell_type": "code",
   "execution_count": 55,
   "id": "808e2f81",
   "metadata": {},
   "outputs": [
    {
     "name": "stdout",
     "output_type": "stream",
     "text": [
      "None\n"
     ]
    }
   ],
   "source": [
    "def increment(li):\n",
    "    li=[3,3,4]\n",
    "    return\n",
    "li=[1,2,3,4]\n",
    "li=increment(li)\n",
    "print(li)"
   ]
  },
  {
   "cell_type": "code",
   "execution_count": 56,
   "id": "3bf36783",
   "metadata": {},
   "outputs": [
    {
     "name": "stdout",
     "output_type": "stream",
     "text": [
      "[3, 3, 4]\n"
     ]
    }
   ],
   "source": [
    "def increment(li):\n",
    "    li=[3,3,4]\n",
    "    return li\n",
    "li=[1,2,3,4]\n",
    "li=increment(li)\n",
    "print(li)"
   ]
  },
  {
   "cell_type": "code",
   "execution_count": 57,
   "id": "e9b69048",
   "metadata": {},
   "outputs": [
    {
     "name": "stdout",
     "output_type": "stream",
     "text": [
      "[1, 2, 3, 4]\n"
     ]
    }
   ],
   "source": [
    "def increment(li):\n",
    "    li=[3,3,4]\n",
    "    return li\n",
    "li=[1,2,3,4]\n",
    "increment(li)\n",
    "print(li)"
   ]
  },
  {
   "cell_type": "code",
   "execution_count": 59,
   "id": "1a1ac376",
   "metadata": {},
   "outputs": [
    {
     "name": "stdout",
     "output_type": "stream",
     "text": [
      "[1, 2, 3, 4]\n"
     ]
    }
   ],
   "source": [
    "def increment(li):\n",
    "    li=[3,3,4]\n",
    "    return \n",
    "li=[1,2,3,4]\n",
    "increment(li)\n",
    "print(li)"
   ]
  },
  {
   "cell_type": "code",
   "execution_count": 60,
   "id": "7f078d6e",
   "metadata": {},
   "outputs": [
    {
     "name": "stdout",
     "output_type": "stream",
     "text": [
      "[6, 5, 4, 3, 2, 1]\n"
     ]
    }
   ],
   "source": [
    "#reverse a list\n",
    "def reverse_l(li):\n",
    "    length=len(li)\n",
    "    for i in range(length//2):\n",
    "        li[i],li[length-i-1]=li[length-i-1],li[i]\n",
    "li=[1,2,3,4,5,6]\n",
    "reverse_l(li)\n",
    "print(li)"
   ]
  },
  {
   "cell_type": "code",
   "execution_count": 1,
   "id": "4a732254",
   "metadata": {},
   "outputs": [],
   "source": [
    "#swap alternate\n",
    "def swapalternate(a):\n",
    "    n=len(a)\n",
    "    for i in range(0,n-1,2):\n",
    "        temp=a[i]\n",
    "        a[i]=a[i+1]\n",
    "        a[i+1]=temp\n"
   ]
  },
  {
   "cell_type": "code",
   "execution_count": 3,
   "id": "1dff7a46",
   "metadata": {},
   "outputs": [
    {
     "name": "stdout",
     "output_type": "stream",
     "text": [
      "1\n",
      "6\n",
      "1 2 3 4 5 6\n",
      "2 1 4 3 6 5\n"
     ]
    }
   ],
   "source": [
    "t=int(input())\n",
    "while t>0:\n",
    "    n=int(input())\n",
    "    a=[int(x) for x in input().split()]\n",
    "    swapalternate(a)\n",
    "    print(*a)\n",
    "    t-=1"
   ]
  },
  {
   "cell_type": "code",
   "execution_count": 2,
   "id": "f49b0bb7",
   "metadata": {},
   "outputs": [
    {
     "name": "stdout",
     "output_type": "stream",
     "text": [
      "2\n",
      "4\n",
      "5 6 7 8\n",
      "6 5 8 7\n",
      "6\n",
      "2 3 4 5 6 7\n",
      "3 2 5 4 7 6\n"
     ]
    }
   ],
   "source": [
    "t=int(input())\n",
    "while t>0:\n",
    "    n=int(input())\n",
    "    a=[int(x) for x in input().split()]\n",
    "    swapalternate(a)\n",
    "    print(*a)\n",
    "    t-=1"
   ]
  },
  {
   "cell_type": "code",
   "execution_count": 3,
   "id": "cbe05a54",
   "metadata": {},
   "outputs": [
    {
     "name": "stdout",
     "output_type": "stream",
     "text": [
      "4\n",
      "1 2 3 4\n",
      "2 1 4 3\n"
     ]
    }
   ],
   "source": [
    "\n",
    "n=int(input())\n",
    "a=[int(x) for x in input().split()]\n",
    "swapalternate(a)\n",
    "print(*a)\n",
    "    "
   ]
  },
  {
   "cell_type": "code",
   "execution_count": 4,
   "id": "60503803",
   "metadata": {},
   "outputs": [
    {
     "name": "stdout",
     "output_type": "stream",
     "text": [
      "4\n",
      "1 2 3 4\n",
      "[2, 1, 4, 3]\n"
     ]
    }
   ],
   "source": [
    "\n",
    "n=int(input())\n",
    "a=[int(x) for x in input().split()]\n",
    "swapalternate(a)\n",
    "print(a)\n",
    "    "
   ]
  },
  {
   "cell_type": "code",
   "execution_count": 5,
   "id": "f33c7cac",
   "metadata": {},
   "outputs": [
    {
     "name": "stdout",
     "output_type": "stream",
     "text": [
      "4\n",
      "1 2 3 4\n",
      "2 1 4 3\n"
     ]
    }
   ],
   "source": [
    "#swap alternate\n",
    "def swapalternate(a):\n",
    "    n=len(a)\n",
    "    for i in range(0,n-1,2):\n",
    "        temp=a[i]\n",
    "        a[i]=a[i+1]\n",
    "        a[i+1]=temp\n",
    "\n",
    "n=int(input())\n",
    "a=[int(x) for x in input().split()]\n",
    "swapalternate(a)\n",
    "print(*a)\n",
    "    "
   ]
  },
  {
   "cell_type": "code",
   "execution_count": 6,
   "id": "2034dbb8",
   "metadata": {},
   "outputs": [
    {
     "name": "stdout",
     "output_type": "stream",
     "text": [
      "5\n",
      "1 2 3 2 1\n",
      "3\n"
     ]
    }
   ],
   "source": [
    "#find unique\n",
    "n=int(input())\n",
    "li=[int(x) for x in input().split()]\n",
    "for ele in li:\n",
    "    if li.count(ele)==1:\n",
    "        print(ele)\n",
    "        break    "
   ]
  },
  {
   "cell_type": "code",
   "execution_count": 7,
   "id": "1968b607",
   "metadata": {},
   "outputs": [],
   "source": [
    "#find duplicate\n",
    "def duplicateNumber(arr, n):\n",
    "    for i in range(len(arr)):\n",
    "        for j in range(i+1,len(arr)):\n",
    "            if arr[i] == arr[j]:\n",
    "                return arr[i] "
   ]
  },
  {
   "cell_type": "code",
   "execution_count": 14,
   "id": "e012ab33",
   "metadata": {},
   "outputs": [
    {
     "data": {
      "text/plain": [
       "'3'"
      ]
     },
     "execution_count": 14,
     "metadata": {},
     "output_type": "execute_result"
    }
   ],
   "source": [
    "a=\"0315432\"\n",
    "n=7\n",
    "duplicateNumber(a,n)"
   ]
  },
  {
   "cell_type": "code",
   "execution_count": 15,
   "id": "9aa769b4",
   "metadata": {},
   "outputs": [],
   "source": [
    "#array intersection\n",
    "def intersections(arr1, n, arr2, m):\n",
    "    for i in range(n) :\n",
    "        for j in range(m) :\n",
    "            if arr1[i] == arr2[j] :\n",
    "                print(arr1[i], end = \" \") \n",
    "                \n",
    "                break "
   ]
  },
  {
   "cell_type": "code",
   "execution_count": 16,
   "id": "0caee503",
   "metadata": {},
   "outputs": [
    {
     "name": "stdout",
     "output_type": "stream",
     "text": [
      "5 8 "
     ]
    }
   ],
   "source": [
    "intersections(\"345678\",6,\"9185\",4)\n"
   ]
  },
  {
   "cell_type": "code",
   "execution_count": 48,
   "id": "0b4f5594",
   "metadata": {},
   "outputs": [],
   "source": [
    "def pairSum(arr,size,x):\n",
    "    npairs=0\n",
    "    for i in range(size):\n",
    "        for j in range((i+1),size):\n",
    "            if arr[i]+arr[j]==x:\n",
    "                npairs=npairs+1\n",
    "    return npairs            \n"
   ]
  },
  {
   "cell_type": "code",
   "execution_count": 56,
   "id": "85144e03",
   "metadata": {},
   "outputs": [
    {
     "name": "stdout",
     "output_type": "stream",
     "text": [
      "<function pairSum at 0x000002D1B19DA550>\n"
     ]
    }
   ],
   "source": [
    "arr=\"136254324\"\n",
    "s=9\n",
    "x=5\n",
    "pairSum(arr,s,x)\n",
    "print(pairSum)\n"
   ]
  },
  {
   "cell_type": "code",
   "execution_count": 47,
   "id": "a9b5787c",
   "metadata": {},
   "outputs": [
    {
     "ename": "SyntaxError",
     "evalue": "unexpected EOF while parsing (<ipython-input-47-a4eb799c6cfd>, line 5)",
     "output_type": "error",
     "traceback": [
      "\u001b[1;36m  File \u001b[1;32m\"<ipython-input-47-a4eb799c6cfd>\"\u001b[1;36m, line \u001b[1;32m5\u001b[0m\n\u001b[1;33m    \u001b[0m\n\u001b[1;37m    ^\u001b[0m\n\u001b[1;31mSyntaxError\u001b[0m\u001b[1;31m:\u001b[0m unexpected EOF while parsing\n"
     ]
    }
   ],
   "source": [
    "def pairSum(arr,size,x):\n",
    "    for i in range(size):\n",
    "        for j in range(i+1,size):\n",
    "            if arr[i]+arr[j]==x:\n",
    "                "
   ]
  },
  {
   "cell_type": "code",
   "execution_count": null,
   "id": "5b173f6f",
   "metadata": {},
   "outputs": [],
   "source": []
  }
 ],
 "metadata": {
  "kernelspec": {
   "display_name": "Python 3",
   "language": "python",
   "name": "python3"
  },
  "language_info": {
   "codemirror_mode": {
    "name": "ipython",
    "version": 3
   },
   "file_extension": ".py",
   "mimetype": "text/x-python",
   "name": "python",
   "nbconvert_exporter": "python",
   "pygments_lexer": "ipython3",
   "version": "3.8.8"
  }
 },
 "nbformat": 4,
 "nbformat_minor": 5
}
