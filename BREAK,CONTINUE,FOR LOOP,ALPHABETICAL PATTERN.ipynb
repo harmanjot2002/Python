{
 "cells": [
  {
   "cell_type": "code",
   "execution_count": 1,
   "id": "edf11a23",
   "metadata": {},
   "outputs": [
    {
     "name": "stdout",
     "output_type": "stream",
     "text": [
      "1\n",
      "2\n",
      "3\n",
      "4\n",
      "5\n",
      "6\n"
     ]
    }
   ],
   "source": [
    "i=0\n",
    "while (i<=15):\n",
    "    i=i+1\n",
    "    if i==7:\n",
    "        break\n",
    "    print(i)\n",
    "    \n",
    "    "
   ]
  },
  {
   "cell_type": "code",
   "execution_count": 2,
   "id": "d2289bce",
   "metadata": {},
   "outputs": [
    {
     "name": "stdout",
     "output_type": "stream",
     "text": [
      "0\n",
      "1\n",
      "2\n",
      "3\n",
      "4\n",
      "5\n",
      "6\n"
     ]
    }
   ],
   "source": [
    "i=0\n",
    "while (i<=15):\n",
    "  \n",
    "    if i==7:\n",
    "        break\n",
    "    print(i)\n",
    "    i=i+1\n",
    "    \n",
    "    "
   ]
  },
  {
   "cell_type": "code",
   "execution_count": 3,
   "id": "d61b4368",
   "metadata": {},
   "outputs": [
    {
     "name": "stdout",
     "output_type": "stream",
     "text": [
      "1\n",
      "2\n",
      "3\n",
      "4\n",
      "5\n",
      "6\n",
      "7\n"
     ]
    }
   ],
   "source": [
    "  i=0\n",
    "while (i<=15):\n",
    "  \n",
    "    if i==7:\n",
    "        break\n",
    "    i=i+1    \n",
    "    print(i)\n",
    "   \n",
    "    \n",
    "    "
   ]
  },
  {
   "cell_type": "code",
   "execution_count": 5,
   "id": "f7d71ac5",
   "metadata": {},
   "outputs": [
    {
     "name": "stdout",
     "output_type": "stream",
     "text": [
      "1\n",
      "2\n",
      "3\n",
      "4\n",
      "5\n",
      "6\n",
      "8\n",
      "9\n",
      "10\n",
      "11\n",
      "12\n",
      "13\n",
      "14\n",
      "15\n",
      "16\n"
     ]
    }
   ],
   "source": [
    "i=0\n",
    "while i<=15:\n",
    "    i=i+1\n",
    "    if i==7:\n",
    "        continue\n",
    "    print(i)\n",
    "        "
   ]
  },
  {
   "cell_type": "code",
   "execution_count": 6,
   "id": "78d62220",
   "metadata": {},
   "outputs": [
    {
     "name": "stdout",
     "output_type": "stream",
     "text": [
      "1\n",
      "11\n",
      "111\n",
      "1111\n",
      "11111\n",
      "111111\n"
     ]
    }
   ],
   "source": [
    "r=1\n",
    "while r<=6:\n",
    "    c=1\n",
    "    while c<=r:\n",
    "        print(1,end=\"\")\n",
    "        c=c+1\n",
    "    print()\n",
    "    r=r+1\n",
    "        "
   ]
  },
  {
   "cell_type": "code",
   "execution_count": 7,
   "id": "8c0cded4",
   "metadata": {},
   "outputs": [
    {
     "name": "stdout",
     "output_type": "stream",
     "text": [
      "1\n",
      "12\n",
      "123\n",
      "1234\n",
      "12345\n",
      "123456\n"
     ]
    }
   ],
   "source": [
    "r=1\n",
    "while r<=6:\n",
    "    c=1\n",
    "    while c<=r:\n",
    "        print(c,end=\"\")\n",
    "        c=c+1\n",
    "    print()\n",
    "    r=r+1\n",
    "        "
   ]
  },
  {
   "cell_type": "code",
   "execution_count": 8,
   "id": "21747cb7",
   "metadata": {},
   "outputs": [
    {
     "name": "stdout",
     "output_type": "stream",
     "text": [
      "1\n",
      "22\n",
      "333\n",
      "4444\n",
      "55555\n",
      "666666\n"
     ]
    }
   ],
   "source": [
    "r=1\n",
    "while r<=6:\n",
    "    c=1\n",
    "    while c<=r:\n",
    "        print(r,end=\"\")\n",
    "        c=c+1\n",
    "    print()\n",
    "    r=r+1\n",
    "        "
   ]
  },
  {
   "cell_type": "code",
   "execution_count": 9,
   "id": "12e7a42e",
   "metadata": {},
   "outputs": [
    {
     "name": "stdout",
     "output_type": "stream",
     "text": [
      "111111\n",
      "111111\n",
      "111111\n",
      "111111\n",
      "111111\n",
      "111111\n"
     ]
    }
   ],
   "source": [
    "r=1\n",
    "while r<=6:\n",
    "    c=1\n",
    "    while c<=6:\n",
    "        print(1,end=\"\")\n",
    "        c=c+1\n",
    "    print()\n",
    "    r=r+1\n",
    "        "
   ]
  },
  {
   "cell_type": "code",
   "execution_count": 10,
   "id": "5eab54fb",
   "metadata": {},
   "outputs": [
    {
     "name": "stdout",
     "output_type": "stream",
     "text": [
      "*****\n",
      "****\n",
      "***\n",
      "**\n",
      "*\n"
     ]
    }
   ],
   "source": [
    "r=5\n",
    "while r>=1:\n",
    "    c=1\n",
    "    while c<=r:\n",
    "        print(\"*\",end=\"\")\n",
    "        c=c+1\n",
    "    print()\n",
    "    r=r-1"
   ]
  },
  {
   "cell_type": "code",
   "execution_count": 1,
   "id": "18a92465",
   "metadata": {},
   "outputs": [
    {
     "name": "stdout",
     "output_type": "stream",
     "text": [
      "*\n",
      "**\n",
      "***\n",
      "****\n",
      "*****\n",
      "****\n",
      "***\n",
      "**\n",
      "*\n"
     ]
    }
   ],
   "source": [
    "r=1\n",
    "while r<=5:\n",
    "    c=1\n",
    "    while c<=r:\n",
    "        print(\"*\",end=\"\")\n",
    "        c=c+1\n",
    "    print()\n",
    "    r=r+1\n",
    "r=4\n",
    "while r>=1:\n",
    "    c=1\n",
    "    while c<=r:\n",
    "        print(\"*\",end=\"\")\n",
    "        c=c+1\n",
    "    print()\n",
    "    r=r-1"
   ]
  },
  {
   "cell_type": "code",
   "execution_count": 2,
   "id": "4c680a42",
   "metadata": {},
   "outputs": [
    {
     "name": "stdout",
     "output_type": "stream",
     "text": [
      "1\n",
      "23\n",
      "345\n",
      "4567\n",
      "56789\n"
     ]
    }
   ],
   "source": [
    "r=1\n",
    "while r<=5:\n",
    "    c=1\n",
    "    p=r\n",
    "    while c<=r:\n",
    "        print(p,end=\"\")\n",
    "        p=p+1\n",
    "        c=c+1\n",
    "    print()\n",
    "    r=r+1\n",
    "        "
   ]
  },
  {
   "cell_type": "code",
   "execution_count": 5,
   "id": "afbf96c1",
   "metadata": {},
   "outputs": [
    {
     "name": "stdout",
     "output_type": "stream",
     "text": [
      "1 \n",
      "2 3 \n",
      "4 5 6 \n",
      "7 8 9 10 \n",
      "11 12 13 14 15 \n"
     ]
    }
   ],
   "source": [
    "r=1\n",
    "p=1\n",
    "while r<=5:\n",
    "    c=1\n",
    "    while c<=r:\n",
    "        print(p,end=\" \")\n",
    "        p=p+1\n",
    "        c=c+1\n",
    "    print()\n",
    "    r=r+1"
   ]
  },
  {
   "cell_type": "code",
   "execution_count": 7,
   "id": "10e3a31a",
   "metadata": {},
   "outputs": [
    {
     "name": "stdout",
     "output_type": "stream",
     "text": [
      "1 \n",
      "2 1 \n",
      "3 2 1 \n",
      "4 3 2 1 \n",
      "5 4 3 2 1 \n"
     ]
    }
   ],
   "source": [
    "r=1\n",
    "while r<=5:\n",
    "    c=r\n",
    "    while c>=1:\n",
    "        print(c,end=\" \")\n",
    "        c=c-1\n",
    "    print()\n",
    "    r=r+1\n",
    "        "
   ]
  },
  {
   "cell_type": "code",
   "execution_count": 10,
   "id": "3aa4c0a1",
   "metadata": {},
   "outputs": [
    {
     "name": "stdout",
     "output_type": "stream",
     "text": [
      "ABCDE\n",
      "ABCDE\n",
      "ABCDE\n",
      "ABCDE\n",
      "ABCDE\n"
     ]
    }
   ],
   "source": [
    "r=1\n",
    "while r<=5:\n",
    "    c=1\n",
    "    while c<=5:\n",
    "        print((chr(ord(\"A\")+c-1)),end=\"\")\n",
    "        c=c+1\n",
    "    print()    \n",
    "        \n",
    "    r=r+1"
   ]
  },
  {
   "cell_type": "code",
   "execution_count": 11,
   "id": "399d47f2",
   "metadata": {},
   "outputs": [
    {
     "name": "stdout",
     "output_type": "stream",
     "text": [
      "AAAAA\n",
      "BBBBB\n",
      "CCCCC\n",
      "DDDDD\n",
      "EEEEE\n"
     ]
    }
   ],
   "source": [
    "r=1\n",
    "while r<=5:\n",
    "    c=1\n",
    "    while c<=5:\n",
    "        print((chr(ord(\"A\")+r-1)),end=\"\")\n",
    "        c=c+1\n",
    "    print()\n",
    "    r=r+1\n",
    "    "
   ]
  },
  {
   "cell_type": "code",
   "execution_count": 12,
   "id": "209e7cdd",
   "metadata": {},
   "outputs": [
    {
     "name": "stdout",
     "output_type": "stream",
     "text": [
      "A\n",
      "BB\n",
      "CCC\n",
      "DDDD\n",
      "EEEEE\n"
     ]
    }
   ],
   "source": [
    "r=1\n",
    "while r<=5:\n",
    "    c=1\n",
    "    while c<=r:\n",
    "        print((chr(ord(\"A\")+r-1)),end=\"\")\n",
    "        c=c+1\n",
    "    print()\n",
    "    r=r+1\n",
    "    "
   ]
  },
  {
   "cell_type": "code",
   "execution_count": 13,
   "id": "8dceca55",
   "metadata": {},
   "outputs": [
    {
     "name": "stdout",
     "output_type": "stream",
     "text": [
      "A\n",
      "AB\n",
      "ABC\n",
      "ABCD\n",
      "ABCDE\n"
     ]
    }
   ],
   "source": [
    "r=1\n",
    "while r<=5:\n",
    "    c=1\n",
    "    while c<=r:\n",
    "        print((chr(ord(\"A\")+c-1)),end=\"\")\n",
    "        c=c+1\n",
    "    print()\n",
    "    r=r+1\n",
    "    "
   ]
  },
  {
   "cell_type": "code",
   "execution_count": 16,
   "id": "d13ce368",
   "metadata": {},
   "outputs": [
    {
     "name": "stdout",
     "output_type": "stream",
     "text": [
      "EEEEE\n",
      "DDDD\n",
      "CCC\n",
      "BB\n",
      "A\n"
     ]
    }
   ],
   "source": [
    "r=5\n",
    "while r>=1:\n",
    "    c=1\n",
    "    while c<=r:\n",
    "        print((chr(ord(\"A\")+r-1)),end=\"\")\n",
    "        c=c+1\n",
    "    print()    \n",
    "    r=r-1"
   ]
  },
  {
   "cell_type": "code",
   "execution_count": 4,
   "id": "55aa23bd",
   "metadata": {},
   "outputs": [
    {
     "name": "stdout",
     "output_type": "stream",
     "text": [
      "1\n",
      "11\n",
      "202\n",
      "3003\n",
      "40004\n",
      "500005\n"
     ]
    }
   ],
   "source": [
    "print(1)\n",
    "r=1\n",
    "while r<=5:\n",
    "    c=1\n",
    "    while c<=r+1:\n",
    "        if c==1 or c==r+1:\n",
    "            print(r,end=\"\")\n",
    "        else:\n",
    "            print(0,end=\"\")\n",
    "        c=c+1\n",
    "    print()\n",
    "    r=r+1"
   ]
  },
  {
   "cell_type": "code",
   "execution_count": 5,
   "id": "f6622a15",
   "metadata": {},
   "outputs": [
    {
     "name": "stdout",
     "output_type": "stream",
     "text": [
      "1\n",
      "11\n",
      "121\n",
      "1221\n",
      "12221\n",
      "122221\n"
     ]
    }
   ],
   "source": [
    "print(1)\n",
    "r=1\n",
    "while r<=5:\n",
    "    c=1\n",
    "    while c<=r+1:\n",
    "        if c==1 or c==r+1:\n",
    "            print(1,end=\"\")\n",
    "        else:\n",
    "            print(2,end=\"\")\n",
    "        c=c+1\n",
    "    print()\n",
    "    r=r+1\n",
    "    "
   ]
  },
  {
   "cell_type": "code",
   "execution_count": 7,
   "id": "ce09df12",
   "metadata": {},
   "outputs": [
    {
     "name": "stdout",
     "output_type": "stream",
     "text": [
      "5\n",
      "    *\n",
      "   **\n",
      "  ***\n",
      " ****\n",
      "*****\n"
     ]
    }
   ],
   "source": [
    "n=int(input())\n",
    "r=1\n",
    "while r<=n:\n",
    "    spaces=1\n",
    "    while spaces<=n-r:\n",
    "        print(\" \",end=\"\")\n",
    "        spaces=spaces+1\n",
    "    c=1\n",
    "    while c<=r:\n",
    "        print(\"*\",end=\"\")\n",
    "        c=c+1\n",
    "    print()\n",
    "    r=r+1\n",
    "    "
   ]
  },
  {
   "cell_type": "code",
   "execution_count": 8,
   "id": "c97b3933",
   "metadata": {},
   "outputs": [
    {
     "name": "stdout",
     "output_type": "stream",
     "text": [
      "5\n",
      "    1\n",
      "   22\n",
      "  333\n",
      " 4444\n",
      "55555\n"
     ]
    }
   ],
   "source": [
    "n=int(input())\n",
    "r=1\n",
    "while r<=n:\n",
    "    spaces=1\n",
    "    while spaces<=n-r:\n",
    "        print(\" \",end=\"\")\n",
    "        spaces=spaces+1\n",
    "    c=1\n",
    "    while c<=r:\n",
    "        print(r,end=\"\")\n",
    "        c=c+1\n",
    "    print()\n",
    "    r=r+1"
   ]
  },
  {
   "cell_type": "code",
   "execution_count": 10,
   "id": "e5feee32",
   "metadata": {},
   "outputs": [
    {
     "name": "stdout",
     "output_type": "stream",
     "text": [
      "5\n",
      "    1\n",
      "   12\n",
      "  123\n",
      " 1234\n",
      "12345\n"
     ]
    }
   ],
   "source": [
    "n=int(input())\n",
    "r=1\n",
    "while r<=n:\n",
    "    spaces=1\n",
    "    while spaces<=n-r:\n",
    "        print(\" \",end=\"\")\n",
    "        spaces=spaces+1\n",
    "    c=1\n",
    "    while c<=r:\n",
    "        print(c,end=\"\")\n",
    "        c=c+1\n",
    "    print()\n",
    "    r=r+1"
   ]
  },
  {
   "cell_type": "code",
   "execution_count": 12,
   "id": "574a2c89",
   "metadata": {},
   "outputs": [
    {
     "name": "stdout",
     "output_type": "stream",
     "text": [
      "5\n",
      "    1\n",
      "   121\n",
      "  12321\n",
      " 1234321\n",
      "123454321\n"
     ]
    }
   ],
   "source": [
    "n=int(input())\n",
    "r=1\n",
    "while r<=n:\n",
    "    spaces=1\n",
    "    while spaces<=n-r:\n",
    "        print(\" \",end=\"\")\n",
    "        spaces=spaces+1\n",
    "    c=1\n",
    "    while c<=r:\n",
    "        print(c,end=\"\")\n",
    "        c=c+1\n",
    "    p=r-1\n",
    "    while p>=1:\n",
    "        print(p,end=\"\")\n",
    "        p=p-1\n",
    "    print()\n",
    "    r=r+1\n"
   ]
  },
  {
   "cell_type": "code",
   "execution_count": 13,
   "id": "ce178bfb",
   "metadata": {},
   "outputs": [
    {
     "name": "stdout",
     "output_type": "stream",
     "text": [
      "5\n",
      "  *\n",
      " ***\n",
      "*****\n"
     ]
    }
   ],
   "source": [
    "n=int(input())\n",
    "n1=(n+1)/2\n",
    "n2=(n-1)/2\n",
    "r=1\n",
    "while r<=n1:\n",
    "    spaces=1\n",
    "    while spaces<=n1-r:\n",
    "        print(\" \",end=\"\")\n",
    "        spaces=spaces+1\n",
    "    c=1\n",
    "    while c<=2*r-1:\n",
    "        print(\"*\",end=\"\")\n",
    "        c=c+1\n",
    "    print()\n",
    "    r=r+1\n",
    "    "
   ]
  },
  {
   "cell_type": "code",
   "execution_count": 4,
   "id": "144f116d",
   "metadata": {},
   "outputs": [
    {
     "name": "stdout",
     "output_type": "stream",
     "text": [
      "7\n",
      "   *\n",
      "  ***\n",
      " *****\n",
      "*******\n",
      " *****\n",
      "  ***\n",
      "   *\n"
     ]
    }
   ],
   "source": [
    "n=int(input())\n",
    "n1=(n+1)/2\n",
    "n2=(n-1)/2\n",
    "r=1\n",
    "while r<=n1:\n",
    "    spaces=1\n",
    "    while spaces<=n1-r:\n",
    "        print(\" \",end=\"\")\n",
    "        spaces=spaces+1\n",
    "    c=1\n",
    "    while c<=2*r-1:\n",
    "        print(\"*\",end=\"\")\n",
    "        c=c+1\n",
    "    print()\n",
    "    r=r+1\n",
    "r=n2\n",
    "while r>=1:\n",
    "    spaces=1\n",
    "    while spaces<=n2-r+1:\n",
    "        print(\" \",end=\"\")\n",
    "        spaces=spaces+1\n",
    "    c=1\n",
    "    while c<=2*r-1:\n",
    "        print(\"*\",end=\"\")\n",
    "        c=c+1\n",
    "    print()\n",
    "    r=r-1\n",
    "\n",
    "    "
   ]
  },
  {
   "cell_type": "code",
   "execution_count": 5,
   "id": "844fd2d1",
   "metadata": {},
   "outputs": [
    {
     "data": {
      "text/plain": [
       "[0, 1, 2, 3, 4, 5, 6, 7, 8, 9]"
      ]
     },
     "execution_count": 5,
     "metadata": {},
     "output_type": "execute_result"
    }
   ],
   "source": [
    "list (range(10))"
   ]
  },
  {
   "cell_type": "code",
   "execution_count": 6,
   "id": "4b17409f",
   "metadata": {},
   "outputs": [
    {
     "name": "stdout",
     "output_type": "stream",
     "text": [
      "[1, 2.4, 'chitkara']\n",
      "chitkara\n"
     ]
    }
   ],
   "source": [
    "b=[1,2.4,\"chitkara\"]\n",
    "print(b)\n",
    "print(b[2])"
   ]
  },
  {
   "cell_type": "code",
   "execution_count": 7,
   "id": "a5b22453",
   "metadata": {},
   "outputs": [
    {
     "name": "stdout",
     "output_type": "stream",
     "text": [
      "[1, 2.4, 'chitkara']\n",
      "chitkara\n"
     ]
    }
   ],
   "source": [
    "b=[1,2.4,\"chitkara\"]\n",
    "print(b)\n",
    "print(b[-1])"
   ]
  },
  {
   "cell_type": "code",
   "execution_count": 8,
   "id": "ac463784",
   "metadata": {},
   "outputs": [
    {
     "name": "stdout",
     "output_type": "stream",
     "text": [
      "[1, 2, 3]\n",
      "1\n"
     ]
    }
   ],
   "source": [
    "x=[[1,2,3],[4,5,6]]\n",
    "print(x[0])\n",
    "print(x[0][0])"
   ]
  },
  {
   "cell_type": "code",
   "execution_count": 10,
   "id": "c8932be1",
   "metadata": {},
   "outputs": [
    {
     "name": "stdout",
     "output_type": "stream",
     "text": [
      "i got a apple for 500\n",
      "i got a banana for 500\n",
      "i got a kiwi for 500\n",
      "i got a mango for 500\n"
     ]
    }
   ],
   "source": [
    "fruits=[\"apple\",\"banana\",\"kiwi\",\"mango\"]\n",
    "for i in fruits:\n",
    "    print(\"i got a\",i,\"for 500\")"
   ]
  },
  {
   "cell_type": "code",
   "execution_count": 13,
   "id": "e49bd9d4",
   "metadata": {},
   "outputs": [
    {
     "name": "stdout",
     "output_type": "stream",
     "text": [
      "2 4 6 8 10 12 14 16 18 20 "
     ]
    }
   ],
   "source": [
    "for i in range(1,11):\n",
    "    print((i*2),end=\" \")"
   ]
  },
  {
   "cell_type": "code",
   "execution_count": 14,
   "id": "3891cecd",
   "metadata": {},
   "outputs": [
    {
     "name": "stdout",
     "output_type": "stream",
     "text": [
      "2\n",
      "4\n",
      "6\n",
      "8\n",
      "10\n",
      "12\n",
      "14\n",
      "16\n",
      "18\n",
      "20\n"
     ]
    }
   ],
   "source": [
    "for i in range(1,11):\n",
    "    print(i*2)"
   ]
  },
  {
   "cell_type": "code",
   "execution_count": 39,
   "id": "7c9bbb57",
   "metadata": {},
   "outputs": [
    {
     "name": "stdout",
     "output_type": "stream",
     "text": [
      "_________________________________________\n",
      "| 1 | 2 | 3 | 4 | 5 | 6 | 7 | 8 | 9 | 10 \n",
      "_____________________________________________\n",
      "_________________________________________\n",
      "| 2 | 4 | 6 | 8 | 10 | 12 | 14 | 16 | 18 | 20 \n",
      "_____________________________________________\n",
      "_________________________________________\n",
      "| 3 | 6 | 9 | 12 | 15 | 18 | 21 | 24 | 27 | 30 \n",
      "_____________________________________________\n",
      "_________________________________________\n",
      "| 4 | 8 | 12 | 16 | 20 | 24 | 28 | 32 | 36 | 40 \n",
      "_____________________________________________\n",
      "_________________________________________\n",
      "| 5 | 10 | 15 | 20 | 25 | 30 | 35 | 40 | 45 | 50 \n",
      "_____________________________________________\n",
      "_________________________________________\n",
      "| 6 | 12 | 18 | 24 | 30 | 36 | 42 | 48 | 54 | 60 \n",
      "_____________________________________________\n",
      "_________________________________________\n",
      "| 7 | 14 | 21 | 28 | 35 | 42 | 49 | 56 | 63 | 70 \n",
      "_____________________________________________\n",
      "_________________________________________\n",
      "| 8 | 16 | 24 | 32 | 40 | 48 | 56 | 64 | 72 | 80 \n",
      "_____________________________________________\n",
      "_________________________________________\n",
      "| 9 | 18 | 27 | 36 | 45 | 54 | 63 | 72 | 81 | 90 \n",
      "_____________________________________________\n",
      "_________________________________________\n",
      "| 10 | 20 | 30 | 40 | 50 | 60 | 70 | 80 | 90 | 100 \n",
      "_____________________________________________\n"
     ]
    }
   ],
   "source": [
    "for n in range(1,11):\n",
    "    print(\"_________________________________________\")\n",
    "    for i in range(1,11):\n",
    "        \n",
    "        print(\"|\",n*i,end=\" \")\n",
    "        \n",
    "        #print(\"|\",end=\" \")    \n",
    "    print()    \n",
    "    print(\"_____________________________________________\")"
   ]
  },
  {
   "cell_type": "code",
   "execution_count": 42,
   "id": "0fd63758",
   "metadata": {},
   "outputs": [
    {
     "name": "stdout",
     "output_type": "stream",
     "text": [
      "5 10 15 20 25 30 35 40 45 50 \n",
      "6 12 18 24 30 36 42 48 54 60 \n",
      "7 14 21 28 35 42 49 56 63 70 \n",
      "8 16 24 32 40 48 56 64 72 80 \n",
      "9 18 27 36 45 54 63 72 81 90 \n",
      "10 20 30 40 50 60 70 80 90 100 \n",
      "11 22 33 44 55 66 77 88 99 110 \n",
      "12 24 36 48 60 72 84 96 108 120 \n",
      "13 26 39 52 65 78 91 104 117 130 \n",
      "14 28 42 56 70 84 98 112 126 140 \n",
      "15 30 45 60 75 90 105 120 135 150 \n",
      "16 32 48 64 80 96 112 128 144 160 \n",
      "17 34 51 68 85 102 119 136 153 170 \n",
      "18 36 54 72 90 108 126 144 162 180 \n",
      "19 38 57 76 95 114 133 152 171 190 \n",
      "20 40 60 80 100 120 140 160 180 200 \n",
      "21 42 63 84 105 126 147 168 189 210 \n",
      "22 44 66 88 110 132 154 176 198 220 \n",
      "23 46 69 92 115 138 161 184 207 230 \n",
      "24 48 72 96 120 144 168 192 216 240 \n",
      "25 50 75 100 125 150 175 200 225 250 \n",
      "26 52 78 104 130 156 182 208 234 260 \n",
      "27 54 81 108 135 162 189 216 243 270 \n",
      "28 56 84 112 140 168 196 224 252 280 \n",
      "29 58 87 116 145 174 203 232 261 290 \n",
      "30 60 90 120 150 180 210 240 270 300 \n",
      "31 62 93 124 155 186 217 248 279 310 \n",
      "32 64 96 128 160 192 224 256 288 320 \n",
      "33 66 99 132 165 198 231 264 297 330 \n",
      "34 68 102 136 170 204 238 272 306 340 \n",
      "35 70 105 140 175 210 245 280 315 350 \n",
      "36 72 108 144 180 216 252 288 324 360 \n",
      "37 74 111 148 185 222 259 296 333 370 \n",
      "38 76 114 152 190 228 266 304 342 380 \n",
      "39 78 117 156 195 234 273 312 351 390 \n",
      "40 80 120 160 200 240 280 320 360 400 \n",
      "41 82 123 164 205 246 287 328 369 410 \n",
      "42 84 126 168 210 252 294 336 378 420 \n",
      "43 86 129 172 215 258 301 344 387 430 \n",
      "44 88 132 176 220 264 308 352 396 440 \n",
      "45 90 135 180 225 270 315 360 405 450 \n",
      "46 92 138 184 230 276 322 368 414 460 \n",
      "47 94 141 188 235 282 329 376 423 470 \n",
      "48 96 144 192 240 288 336 384 432 480 \n",
      "49 98 147 196 245 294 343 392 441 490 \n",
      "50 100 150 200 250 300 350 400 450 500 \n",
      "51 102 153 204 255 306 357 408 459 510 \n",
      "52 104 156 208 260 312 364 416 468 520 \n",
      "53 106 159 212 265 318 371 424 477 530 \n",
      "54 108 162 216 270 324 378 432 486 540 \n",
      "55 110 165 220 275 330 385 440 495 550 \n",
      "56 112 168 224 280 336 392 448 504 560 \n",
      "57 114 171 228 285 342 399 456 513 570 \n",
      "58 116 174 232 290 348 406 464 522 580 \n",
      "59 118 177 236 295 354 413 472 531 590 \n",
      "60 120 180 240 300 360 420 480 540 600 \n",
      "61 122 183 244 305 366 427 488 549 610 \n",
      "62 124 186 248 310 372 434 496 558 620 \n",
      "63 126 189 252 315 378 441 504 567 630 \n",
      "64 128 192 256 320 384 448 512 576 640 \n",
      "65 130 195 260 325 390 455 520 585 650 \n",
      "66 132 198 264 330 396 462 528 594 660 \n",
      "67 134 201 268 335 402 469 536 603 670 \n",
      "68 136 204 272 340 408 476 544 612 680 \n",
      "69 138 207 276 345 414 483 552 621 690 \n",
      "70 140 210 280 350 420 490 560 630 700 \n",
      "71 142 213 284 355 426 497 568 639 710 \n",
      "72 144 216 288 360 432 504 576 648 720 \n",
      "73 146 219 292 365 438 511 584 657 730 \n",
      "74 148 222 296 370 444 518 592 666 740 \n",
      "75 150 225 300 375 450 525 600 675 750 \n",
      "76 152 228 304 380 456 532 608 684 760 \n",
      "77 154 231 308 385 462 539 616 693 770 \n",
      "78 156 234 312 390 468 546 624 702 780 \n",
      "79 158 237 316 395 474 553 632 711 790 \n",
      "80 160 240 320 400 480 560 640 720 800 \n",
      "81 162 243 324 405 486 567 648 729 810 \n",
      "82 164 246 328 410 492 574 656 738 820 \n",
      "83 166 249 332 415 498 581 664 747 830 \n",
      "84 168 252 336 420 504 588 672 756 840 \n",
      "85 170 255 340 425 510 595 680 765 850 \n",
      "86 172 258 344 430 516 602 688 774 860 \n",
      "87 174 261 348 435 522 609 696 783 870 \n",
      "88 176 264 352 440 528 616 704 792 880 \n",
      "89 178 267 356 445 534 623 712 801 890 \n",
      "90 180 270 360 450 540 630 720 810 900 \n",
      "91 182 273 364 455 546 637 728 819 910 \n",
      "92 184 276 368 460 552 644 736 828 920 \n",
      "93 186 279 372 465 558 651 744 837 930 \n",
      "94 188 282 376 470 564 658 752 846 940 \n",
      "95 190 285 380 475 570 665 760 855 950 \n",
      "96 192 288 384 480 576 672 768 864 960 \n",
      "97 194 291 388 485 582 679 776 873 970 \n",
      "98 196 294 392 490 588 686 784 882 980 \n",
      "99 198 297 396 495 594 693 792 891 990 \n",
      "100 200 300 400 500 600 700 800 900 1000 \n"
     ]
    }
   ],
   "source": [
    "for n in range(5,101):\n",
    "    for i in range(1,11):\n",
    "        print(n*i,end=\" \")\n",
    "    print()    "
   ]
  },
  {
   "cell_type": "code",
   "execution_count": 43,
   "id": "4685631f",
   "metadata": {},
   "outputs": [
    {
     "name": "stdout",
     "output_type": "stream",
     "text": [
      "*\n",
      "**\n",
      "***\n",
      "****\n",
      "*****\n"
     ]
    }
   ],
   "source": [
    "for n in range(1,6):\n",
    "    for i in range(1,n+1):\n",
    "        print(\"*\",end=\"\")\n",
    "    print()    "
   ]
  },
  {
   "cell_type": "code",
   "execution_count": 45,
   "id": "dc961d1a",
   "metadata": {},
   "outputs": [
    {
     "name": "stdout",
     "output_type": "stream",
     "text": [
      "     *\n",
      "    **\n",
      "   ***\n",
      "  ****\n",
      " *****\n"
     ]
    }
   ],
   "source": [
    "for r in range(1,6):\n",
    "    for s in range(1,6-r+1):\n",
    "        print(\" \",end=\"\")\n",
    "    for n in range(1,r+1):\n",
    "        print(\"*\",end=\"\")\n",
    "    print()    "
   ]
  },
  {
   "cell_type": "code",
   "execution_count": 60,
   "id": "8c94f4d6",
   "metadata": {},
   "outputs": [
    {
     "name": "stdout",
     "output_type": "stream",
     "text": [
      "5\n",
      "*****\n",
      "****\n",
      "***\n",
      "**\n",
      "*\n"
     ]
    }
   ],
   "source": [
    "n=int(input())\n",
    "for r in range(n,0,-1):\n",
    "    for c in range (1,r+1):\n",
    "        print(\"*\",end=\"\")\n",
    "    print()    "
   ]
  },
  {
   "cell_type": "code",
   "execution_count": 49,
   "id": "ad31c355",
   "metadata": {},
   "outputs": [
    {
     "name": "stdout",
     "output_type": "stream",
     "text": [
      "1 1 1 1 1 1 \n",
      "0 0 0 0 0 0 \n",
      "1 1 1 1 1 1 \n",
      "0 0 0 0 0 0 \n",
      "1 1 1 1 1 1 \n",
      "0 0 0 0 0 0 \n"
     ]
    }
   ],
   "source": [
    "for r in range(6,0,-1):\n",
    "    for c in range(1,7):\n",
    "        if r%2==0:\n",
    "            print(1,end=\" \")\n",
    "        else:    \n",
    "            print(0,end=\" \")\n",
    "    print()\n",
    "        "
   ]
  },
  {
   "cell_type": "code",
   "execution_count": 59,
   "id": "95361567",
   "metadata": {},
   "outputs": [
    {
     "name": "stdout",
     "output_type": "stream",
     "text": [
      "6\n",
      "1 1 1 1 1 1 \n",
      "0 0 0 0 0 \n",
      "1 1 1 1 \n",
      "0 0 0 \n",
      "1 1 \n",
      "0 \n"
     ]
    }
   ],
   "source": [
    "n=int(input())\n",
    "for r in range(n,0,-1):\n",
    "    for c in range(1,r+1):\n",
    "        if r%2==0:\n",
    "            print(1,end=\" \")\n",
    "        else:    \n",
    "            print(0,end=\" \")\n",
    "    print()\n",
    "        "
   ]
  },
  {
   "cell_type": "code",
   "execution_count": 58,
   "id": "b930f596",
   "metadata": {},
   "outputs": [
    {
     "name": "stdout",
     "output_type": "stream",
     "text": [
      "6\n",
      "1 0 1 0 1 0 \n",
      "0 1 0 1 0 \n",
      "1 0 1 0 \n",
      "0 1 0 \n",
      "1 0 \n",
      "0 \n",
      "\n"
     ]
    }
   ],
   "source": [
    "n=int(input())\n",
    "for r in range(n,-1,-1):\n",
    "    for c in range(0,r):\n",
    "        if (r+c)%2==0:\n",
    "            print(1,end=\" \")\n",
    "        else:\n",
    "            print(0,end=\" \")\n",
    "    print()\n",
    "    \n",
    "    "
   ]
  },
  {
   "cell_type": "code",
   "execution_count": 68,
   "id": "6d46d339",
   "metadata": {},
   "outputs": [
    {
     "name": "stdout",
     "output_type": "stream",
     "text": [
      "6\n",
      "6 5 4 3 2 1 \n",
      "5 4 3 2 1 \n",
      "4 3 2 1 \n",
      "3 2 1 \n",
      "2 1 \n",
      "1 \n"
     ]
    }
   ],
   "source": [
    "n=int(input())\n",
    "for r in range (n,0,-1):\n",
    "    for c in range(r,0,-1):\n",
    "        print(c,end=\" \")\n",
    "    print()    "
   ]
  },
  {
   "cell_type": "code",
   "execution_count": 72,
   "id": "956bc47d",
   "metadata": {},
   "outputs": [
    {
     "name": "stdout",
     "output_type": "stream",
     "text": [
      "6\n",
      "1 2 3 4 5 6 \n",
      "2 3 4 5 6 \n",
      "3 4 5 6 \n",
      "4 5 6 \n",
      "5 6 \n",
      "6 \n"
     ]
    }
   ],
   "source": [
    "n=int(input())\n",
    "for r in range(1,n+1):\n",
    "    for c in range(r,n+1):\n",
    "        print(c,end=\" \")\n",
    "    print()    "
   ]
  },
  {
   "cell_type": "code",
   "execution_count": 76,
   "id": "a11ce940",
   "metadata": {},
   "outputs": [
    {
     "name": "stdout",
     "output_type": "stream",
     "text": [
      "6\n",
      "1 2 3 4 5 6 \n",
      "  2 3 4 5 6 \n",
      "    3 4 5 6 \n",
      "      4 5 6 \n",
      "        5 6 \n",
      "          6 \n"
     ]
    }
   ],
   "source": [
    "n=int(input())\n",
    "for r in range(1,n+1):\n",
    "    for s in range(1,r):\n",
    "        print(\" \",end=\" \")\n",
    "    for c in range (r,n+1):\n",
    "        print(c,end=\" \")\n",
    "    print()    \n",
    "        "
   ]
  },
  {
   "cell_type": "code",
   "execution_count": 78,
   "id": "e96dfe18",
   "metadata": {},
   "outputs": [
    {
     "name": "stdout",
     "output_type": "stream",
     "text": [
      "6\n",
      "            6 \n",
      "          5 6 \n",
      "        4 5 6 \n",
      "      3 4 5 6 \n",
      "    2 3 4 5 6 \n",
      "  1 2 3 4 5 6 \n"
     ]
    }
   ],
   "source": [
    "n=int(input())\n",
    "for r in range(n,0,-1):\n",
    "    for s in range(1,r+1):\n",
    "        print(\" \",end=\" \")\n",
    "    for c in range(r,n+1):\n",
    "        print(c,end=\" \")\n",
    "    print()    \n",
    "    "
   ]
  },
  {
   "cell_type": "code",
   "execution_count": 82,
   "id": "3cbc015d",
   "metadata": {},
   "outputs": [
    {
     "name": "stdout",
     "output_type": "stream",
     "text": [
      "1 2 "
     ]
    }
   ],
   "source": [
    "i=1\n",
    "while i<5:\n",
    "    if i == 3:\n",
    "        break\n",
    "    print(i,end=\" \")\n",
    "    i = i + 1\n",
    "else:\n",
    "    print(\"Else is also printed\")"
   ]
  },
  {
   "cell_type": "code",
   "execution_count": 83,
   "id": "56b063d6",
   "metadata": {},
   "outputs": [
    {
     "name": "stdout",
     "output_type": "stream",
     "text": [
      "6\n",
      "123456\n",
      " 23456\n",
      "  3456\n",
      "   456\n",
      "    56\n",
      "     6\n",
      "    56\n",
      "   456\n",
      "  3456\n",
      " 23456\n",
      "123456\n"
     ]
    }
   ],
   "source": [
    "n=int(input())\n",
    "for i in range(1,n+1):\n",
    "\tfor s in range(0,i-1):\n",
    "\t\t\tprint(\" \", end=\"\")\n",
    "\tfor j in range(i,n+1):\n",
    "\t\t\tprint(j, end=\"\")\n",
    "\tprint()\n",
    "for i in range(1,n):\n",
    "\tfor s in range(1,n-i):\n",
    "\t\t\tprint(\" \", end=\"\")\n",
    "\tfor p in range(n-i,n+1):\n",
    "\t\t\tprint(p, end=\"\")\n",
    "\tprint()"
   ]
  },
  {
   "cell_type": "code",
   "execution_count": 85,
   "id": "50015ebd",
   "metadata": {},
   "outputs": [
    {
     "name": "stdout",
     "output_type": "stream",
     "text": [
      "7\n",
      "   *\n",
      "  ***\n",
      " *****\n",
      "*******\n",
      " *****\n",
      "  ***\n",
      "   *\n"
     ]
    }
   ],
   "source": [
    "N=int(input())\n",
    "n=N//2+1\n",
    "a=n-1\n",
    "for i in range(1,n+1):\n",
    "    for s in range (n-i,0,-1):\n",
    "        print(\" \",end=\"\")\n",
    "    for j in range (0,2*i-1):\n",
    "        print(\"*\",end=\"\")\n",
    "    print()\n",
    "for i in range (a,0,-1):\n",
    "    for s in range (0,a-i+1):\n",
    "        print(\" \",end=\"\")\n",
    "    for j in range(0,2*i-1):\n",
    "        print(\"*\",end=\"\")\n",
    "    print()    "
   ]
  },
  {
   "cell_type": "code",
   "execution_count": 86,
   "id": "1304641d",
   "metadata": {},
   "outputs": [
    {
     "name": "stdout",
     "output_type": "stream",
     "text": [
      "4\n",
      "4444444\n",
      "4333334\n",
      "4322234\n",
      "4321234\n",
      "4322234\n",
      "4333334\n",
      "4444444\n"
     ]
    }
   ],
   "source": [
    "n=int(input())\n",
    "for i in range(1,n+1):\n",
    "    a=n\n",
    "    for j in range (1,i):\n",
    "        print(a,end=\"\")\n",
    "        a=a-1\n",
    "    for j in range (1,(2*n)-(2*i)+2):\n",
    "        print(n-i+1,end=\"\")\n",
    "    for j in range(1,i):\n",
    "        a=a+1\n",
    "        print(a,end=\"\")\n",
    "    print()\n",
    "for i in range(n-1,0,-1):\n",
    "    a=n\n",
    "    for j in range(1,i):\n",
    "        print(a,end=\"\")\n",
    "        a=a-1\n",
    "    for j in range (1,(2*n)-(2*i)+2):\n",
    "        print(n-i+1,end=\"\")\n",
    "    for j in range(1,i):\n",
    "        a=a+1\n",
    "        print(a,end=\"\")\n",
    "    print()    \n"
   ]
  },
  {
   "cell_type": "code",
   "execution_count": 87,
   "id": "c06aa8ab",
   "metadata": {},
   "outputs": [
    {
     "name": "stdout",
     "output_type": "stream",
     "text": [
      "5\n",
      "1 2 3 4 5 \n",
      "11 12 13 14 15 \n",
      "21 22 23 24 25 \n",
      "16 17 18 19 20 \n",
      "6 7 8 9 10 \n"
     ]
    }
   ],
   "source": [
    "n=int(input())\n",
    "even=0\n",
    "odd=0\n",
    "if n%2==0:\n",
    "    even=n-1\n",
    "else:\n",
    "    odd=n-2\n",
    "for i in range (0,n,2):\n",
    "    for j in range (i*n+1,n+(i*n+1)):\n",
    "        print(j,end=\" \")\n",
    "    print()\n",
    "for i in range (even+odd,0,-2):\n",
    "    for j in range(i*n+1,n+(i*n+1)):\n",
    "     \tprint(j,end=\" \")\n",
    "    print()    \n",
    "    "
   ]
  },
  {
   "cell_type": "code",
   "execution_count": 1,
   "id": "06ac0bac",
   "metadata": {},
   "outputs": [
    {
     "name": "stdout",
     "output_type": "stream",
     "text": [
      "*\n",
      "**\n",
      "***\n",
      "****\n",
      "*****\n"
     ]
    }
   ],
   "source": [
    "for i in range(1,6):\n",
    "    for j in range(1,i+1):\n",
    "        print(\"*\",end=\"\")\n",
    "    print()    "
   ]
  },
  {
   "cell_type": "code",
   "execution_count": 2,
   "id": "85cac344",
   "metadata": {},
   "outputs": [
    {
     "name": "stdout",
     "output_type": "stream",
     "text": [
      "     1\n",
      "    12\n",
      "   123\n",
      "  1234\n",
      " 12345\n"
     ]
    }
   ],
   "source": [
    "for i in range(1,6):\n",
    "    for s in range(1,6-i+1):\n",
    "        print(\" \",end=\"\")\n",
    "    for j in range(1,i+1):\n",
    "        print(j,end=\"\")\n",
    "    print()    "
   ]
  },
  {
   "cell_type": "code",
   "execution_count": 3,
   "id": "36baf2ac",
   "metadata": {},
   "outputs": [
    {
     "name": "stdout",
     "output_type": "stream",
     "text": [
      "     *\n",
      "    **\n",
      "   ***\n",
      "  ****\n",
      " *****\n"
     ]
    }
   ],
   "source": [
    "for i in range(1,6):\n",
    "    for s in range(1,6-i+1):\n",
    "        print(\" \",end=\"\")\n",
    "    for j in range(1,i+1):\n",
    "        print(\"*\",end=\"\")\n",
    "    print()    "
   ]
  },
  {
   "cell_type": "code",
   "execution_count": 7,
   "id": "da17cfd0",
   "metadata": {},
   "outputs": [
    {
     "name": "stdout",
     "output_type": "stream",
     "text": [
      "*****\n",
      "****\n",
      "***\n",
      "**\n",
      "*\n"
     ]
    }
   ],
   "source": [
    "for i in range(1,6):\n",
    "    for c in range(1,6-i+1):\n",
    "        print(\"*\",end=\"\")\n",
    "    print()    "
   ]
  },
  {
   "cell_type": "code",
   "execution_count": 10,
   "id": "3bbe8dbc",
   "metadata": {},
   "outputs": [
    {
     "name": "stdout",
     "output_type": "stream",
     "text": [
      "12345\n",
      "1234\n",
      "123\n",
      "12\n",
      "1\n"
     ]
    }
   ],
   "source": [
    "for i in range(1,6):\n",
    "    for c in range(1,6-i+1):\n",
    "        print(c,end=\"\")\n",
    "    print()    "
   ]
  },
  {
   "cell_type": "code",
   "execution_count": 17,
   "id": "8f889605",
   "metadata": {},
   "outputs": [
    {
     "name": "stdout",
     "output_type": "stream",
     "text": [
      "6\n",
      "111111\n",
      "00000\n",
      "1111\n",
      "000\n",
      "11\n",
      "0\n"
     ]
    }
   ],
   "source": [
    "n=int(input())\n",
    "for i in range(1,n+1):\n",
    "    for j in range(1,n-i+2):\n",
    "        if i%2==0:\n",
    "            print(0,end=\"\")\n",
    "        else:\n",
    "            print(1,end=\"\")\n",
    "    print()    "
   ]
  },
  {
   "cell_type": "code",
   "execution_count": 18,
   "id": "f36b027e",
   "metadata": {},
   "outputs": [
    {
     "name": "stdout",
     "output_type": "stream",
     "text": [
      "5\n",
      "11111\n",
      "0000\n",
      "111\n",
      "00\n",
      "1\n"
     ]
    }
   ],
   "source": [
    "n=int(input())\n",
    "for i in range(1,n+1):\n",
    "    for j in range(1,n-i+2):\n",
    "        if i%2==0:\n",
    "            print(0,end=\"\")\n",
    "        else:\n",
    "            print(1,end=\"\")\n",
    "    print()    "
   ]
  },
  {
   "cell_type": "code",
   "execution_count": 21,
   "id": "a7de3821",
   "metadata": {},
   "outputs": [
    {
     "name": "stdout",
     "output_type": "stream",
     "text": [
      "6\n",
      "101010\n",
      "01010\n",
      "1010\n",
      "010\n",
      "10\n",
      "0\n"
     ]
    }
   ],
   "source": [
    "n=int(input())\n",
    "for i in range(1,n+1):\n",
    "    for j in range(1,n-i+2):\n",
    "        if ((i+j)%2==0):\n",
    "            print(1,end=\"\")\n",
    "        else:\n",
    "            print(0,end=\"\")\n",
    "    print()        "
   ]
  },
  {
   "cell_type": "code",
   "execution_count": 22,
   "id": "94e7201d",
   "metadata": {},
   "outputs": [
    {
     "name": "stdout",
     "output_type": "stream",
     "text": [
      "6\n",
      "123456\n",
      "23456\n",
      "3456\n",
      "456\n",
      "56\n",
      "6\n"
     ]
    }
   ],
   "source": [
    "n=int(input())\n",
    "for i in range(1,n+1):\n",
    "    for j in range(i,n+1):\n",
    "        print(j,end=\"\")\n",
    "    print()    "
   ]
  },
  {
   "cell_type": "code",
   "execution_count": 23,
   "id": "3e5d51e8",
   "metadata": {},
   "outputs": [
    {
     "name": "stdout",
     "output_type": "stream",
     "text": [
      "6\n",
      "123456\n",
      " 23456\n",
      "  3456\n",
      "   456\n",
      "    56\n",
      "     6\n"
     ]
    }
   ],
   "source": [
    "n=int(input())\n",
    "for i in range(1,n+1):\n",
    "    for s in range(1,i):\n",
    "        print(\" \",end=\"\")\n",
    "    for j in range(i,n+1):\n",
    "        print(j,end=\"\")\n",
    "    print()    "
   ]
  },
  {
   "cell_type": "code",
   "execution_count": 24,
   "id": "4f157339",
   "metadata": {},
   "outputs": [
    {
     "name": "stdout",
     "output_type": "stream",
     "text": [
      "6\n",
      "     6\n",
      "    56\n",
      "   456\n",
      "  3456\n",
      " 23456\n",
      "123456\n"
     ]
    }
   ],
   "source": [
    "n=int(input())\n",
    "for i in range(n,0,-1):\n",
    "    for s in range(1,i):\n",
    "        print(\" \",end=\"\")\n",
    "    for j in range(i,n+1):\n",
    "        print(j,end=\"\")\n",
    "    print()    "
   ]
  },
  {
   "cell_type": "code",
   "execution_count": 27,
   "id": "c8cf167a",
   "metadata": {},
   "outputs": [
    {
     "name": "stdout",
     "output_type": "stream",
     "text": [
      "a b c d e f g h i j k l m n o p q r s t u v w x y z "
     ]
    }
   ],
   "source": [
    "for i in range(97,123):\n",
    "    print(chr(i),end=\" \")"
   ]
  },
  {
   "cell_type": "code",
   "execution_count": 28,
   "id": "4b51f57f",
   "metadata": {},
   "outputs": [
    {
     "name": "stdout",
     "output_type": "stream",
     "text": [
      "A \n",
      "A B \n",
      "A B C \n",
      "A B C D \n",
      "A B C D E \n"
     ]
    }
   ],
   "source": [
    "for i in range(1,6):\n",
    "    for j in range(1,i+1):\n",
    "        print(chr(65+j-1),end=\" \")\n",
    "    print()    "
   ]
  },
  {
   "cell_type": "code",
   "execution_count": 30,
   "id": "323df69d",
   "metadata": {},
   "outputs": [
    {
     "name": "stdout",
     "output_type": "stream",
     "text": [
      "A B C D E \n",
      "A B C D \n",
      "A B C \n",
      "A B \n",
      "A \n"
     ]
    }
   ],
   "source": [
    "for i in range(5,0,-1):\n",
    "    for j in range(1,i+1):\n",
    "        print(chr(65+j-1),end=\" \")\n",
    "    print()    \n",
    "        "
   ]
  },
  {
   "cell_type": "code",
   "execution_count": 5,
   "id": "8ed91507",
   "metadata": {},
   "outputs": [
    {
     "name": "stdout",
     "output_type": "stream",
     "text": [
      "E E E E E \n",
      "D D D D \n",
      "C C C \n",
      "B B \n",
      "A \n"
     ]
    }
   ],
   "source": [
    "for i in range(5,0,-1):\n",
    "    for j in range(1,i+1):\n",
    "        print(chr(65+i-1),end=\" \")\n",
    "    print()    "
   ]
  },
  {
   "cell_type": "code",
   "execution_count": 7,
   "id": "cccc9278",
   "metadata": {},
   "outputs": [
    {
     "name": "stdout",
     "output_type": "stream",
     "text": [
      "A A A A A \n",
      "B B B B \n",
      "C C C \n",
      "D D \n",
      "E \n"
     ]
    }
   ],
   "source": [
    "for r in range(5,0,-1):\n",
    "    for c in range(1,r+1):\n",
    "        print(chr(ord(\"E\")-r+1),end=\" \")\n",
    "    print()        "
   ]
  },
  {
   "cell_type": "code",
   "execution_count": 2,
   "id": "faef4c61",
   "metadata": {},
   "outputs": [
    {
     "name": "stdout",
     "output_type": "stream",
     "text": [
      "4\n",
      "2\n",
      "2\n"
     ]
    }
   ],
   "source": [
    "#HCF\n",
    "x=int(input())\n",
    "y=int(input())\n",
    "i=1\n",
    "while i<=x and i<=y:\n",
    "    if x%i==0 and y%i==0:\n",
    "        HCF=i\n",
    "    i=i+1   \n",
    "print (HCF)    "
   ]
  },
  {
   "cell_type": "code",
   "execution_count": 3,
   "id": "f2d3776a",
   "metadata": {},
   "outputs": [
    {
     "name": "stdout",
     "output_type": "stream",
     "text": [
      "6\n",
      "4\n",
      "12\n"
     ]
    }
   ],
   "source": [
    "#LCM\n",
    "x=int(input())\n",
    "y=int(input())\n",
    "i=1\n",
    "while i<=x and i<=y:\n",
    "    if x%i==0 and y%i==0:\n",
    "        HCF=i\n",
    "    i=i+1 \n",
    "    LCM=(x*y//HCF)\n",
    "print (LCM)    "
   ]
  },
  {
   "cell_type": "code",
   "execution_count": 11,
   "id": "e1bd5c74",
   "metadata": {},
   "outputs": [
    {
     "name": "stdout",
     "output_type": "stream",
     "text": [
      "C H I T K A R A \n",
      "C H I T K A R \n",
      "C H I T K A \n",
      "C H I T K \n",
      "C H I T \n",
      "C H I \n",
      "C H \n",
      "C \n",
      "\n"
     ]
    }
   ],
   "source": [
    "str=\"CHITKARA\"\n",
    "l=len(str)\n",
    "for r in range(l,-1,-1):\n",
    "    for c in range(0,r):          #range of str always start from 0\n",
    "        print(str[c],end=\" \")\n",
    "    print()    \n"
   ]
  },
  {
   "cell_type": "code",
   "execution_count": 13,
   "id": "e1c7769e",
   "metadata": {},
   "outputs": [
    {
     "name": "stdout",
     "output_type": "stream",
     "text": [
      "C \n",
      "C H \n",
      "C H I \n",
      "C H I T \n",
      "C H I T K \n",
      "C H I T K A \n",
      "C H I T K A R \n",
      "C H I T K A R A \n"
     ]
    }
   ],
   "source": [
    "str=\"CHITKARA\"\n",
    "l=len(str)\n",
    "for r in range(1,l+1):\n",
    "    for c in range(0,r):\n",
    "        print(str[c],end=\" \")\n",
    "    print()    "
   ]
  },
  {
   "cell_type": "code",
   "execution_count": 17,
   "id": "0fea5c45",
   "metadata": {},
   "outputs": [
    {
     "name": "stdout",
     "output_type": "stream",
     "text": [
      "C \n",
      "C H \n",
      "C H I \n",
      "C H I T \n",
      "C H I T K \n",
      "C H I T K A \n",
      "C H I T K A R \n",
      "C H I T K A R A \n",
      "C H I T K A R \n",
      "C H I T K A \n",
      "C H I T K \n",
      "C H I T \n",
      "C H I \n",
      "C H \n",
      "C \n",
      "\n"
     ]
    }
   ],
   "source": [
    "str=\"CHITKARA\"\n",
    "l=len(str)\n",
    "for r in range(1,l+1):\n",
    "    for c in range(0,r):\n",
    "        print(str[c],end=\" \")\n",
    "    print()\n",
    "str=\"CHITKAR\"\n",
    "l=len(str)\n",
    "for r in range(l,-1,-1):\n",
    "    for c in range(0,r):\n",
    "        print(str[c],end=\" \")\n",
    "    print()    "
   ]
  },
  {
   "cell_type": "code",
   "execution_count": 18,
   "id": "fa47137b",
   "metadata": {},
   "outputs": [
    {
     "name": "stdout",
     "output_type": "stream",
     "text": [
      "5\n",
      "        * \n",
      "      * * \n",
      "    * * * \n",
      "  * * * * \n",
      "* * * * * \n"
     ]
    }
   ],
   "source": [
    "n=int(input())\n",
    "for r in range(1,n+1):\n",
    "    for s in range(1,n-r+1):\n",
    "        print(\" \",end=\" \")\n",
    "    for i in range(1,r+1):\n",
    "        print(\"*\",end=\" \")\n",
    "    print()    \n",
    "        \n",
    "        "
   ]
  },
  {
   "cell_type": "code",
   "execution_count": 20,
   "id": "5c275f03",
   "metadata": {},
   "outputs": [
    {
     "name": "stdout",
     "output_type": "stream",
     "text": [
      "8\n",
      "              * \n",
      "            * * * \n",
      "          * * * * * \n",
      "        * * * * * * * \n",
      "      * * * * * * * * * \n",
      "    * * * * * * * * * * * \n",
      "  * * * * * * * * * * * * * \n",
      "* * * * * * * * * * * * * * * \n"
     ]
    }
   ],
   "source": [
    "n=int(input())\n",
    "for r in range(1,n+1):\n",
    "    for s in range(1,n-r+1):\n",
    "        print(\" \",end=\" \")\n",
    "    for a in range(1,r+1):\n",
    "        print(\"*\",end=\" \")\n",
    "    for a in range(0,r-1):\n",
    "        print(\"*\",end=\" \")\n",
    "    print()     "
   ]
  },
  {
   "cell_type": "code",
   "execution_count": 4,
   "id": "9f28c9f8",
   "metadata": {},
   "outputs": [
    {
     "name": "stdout",
     "output_type": "stream",
     "text": [
      "8\n",
      "              * \n",
      "            * * * \n",
      "          * * * * * \n",
      "        * * * * * * * \n",
      "      * * * * * * * * * \n",
      "    * * * * * * * * * * * \n",
      "  * * * * * * * * * * * * * \n",
      "* * * * * * * * * * * * * * * \n"
     ]
    }
   ],
   "source": [
    "n=int(input())\n",
    "for r in range(1,n+1):\n",
    "    for s in range(1,n-r+1):\n",
    "        print(\" \",end=\" \")\n",
    "    for a in range(1,2*r-1+1):\n",
    "        print(\"*\",end=\" \")\n",
    "    \n",
    "    print()     "
   ]
  },
  {
   "cell_type": "code",
   "execution_count": null,
   "id": "b45633fb",
   "metadata": {},
   "outputs": [],
   "source": []
  }
 ],
 "metadata": {
  "kernelspec": {
   "display_name": "Python 3",
   "language": "python",
   "name": "python3"
  },
  "language_info": {
   "codemirror_mode": {
    "name": "ipython",
    "version": 3
   },
   "file_extension": ".py",
   "mimetype": "text/x-python",
   "name": "python",
   "nbconvert_exporter": "python",
   "pygments_lexer": "ipython3",
   "version": "3.8.8"
  }
 },
 "nbformat": 4,
 "nbformat_minor": 5
}
