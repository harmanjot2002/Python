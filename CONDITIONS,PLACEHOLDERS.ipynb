{
 "cells": [
  {
   "cell_type": "code",
   "execution_count": 2,
   "id": "caaa6ee4",
   "metadata": {},
   "outputs": [
    {
     "data": {
      "text/plain": [
       "True"
      ]
     },
     "execution_count": 2,
     "metadata": {},
     "output_type": "execute_result"
    }
   ],
   "source": [
    "bool(123)"
   ]
  },
  {
   "cell_type": "code",
   "execution_count": 3,
   "id": "4de4da2c",
   "metadata": {},
   "outputs": [
    {
     "data": {
      "text/plain": [
       "True"
      ]
     },
     "execution_count": 3,
     "metadata": {},
     "output_type": "execute_result"
    }
   ],
   "source": [
    "bool(324)"
   ]
  },
  {
   "cell_type": "code",
   "execution_count": 4,
   "id": "fa520975",
   "metadata": {},
   "outputs": [
    {
     "data": {
      "text/plain": [
       "False"
      ]
     },
     "execution_count": 4,
     "metadata": {},
     "output_type": "execute_result"
    }
   ],
   "source": [
    "bool(0)"
   ]
  },
  {
   "cell_type": "code",
   "execution_count": 5,
   "id": "6d3e73b9",
   "metadata": {},
   "outputs": [
    {
     "data": {
      "text/plain": [
       "True"
      ]
     },
     "execution_count": 5,
     "metadata": {},
     "output_type": "execute_result"
    }
   ],
   "source": [
    "bool(-234)"
   ]
  },
  {
   "cell_type": "code",
   "execution_count": 9,
   "id": "11ea864c",
   "metadata": {},
   "outputs": [
    {
     "name": "stdout",
     "output_type": "stream",
     "text": [
      "1\n"
     ]
    }
   ],
   "source": [
    "var1=100\n",
    "var2=200\n",
    "if var1<var2:\n",
    "    var3=1\n",
    "else:\n",
    "    var3=0\n",
    "print(var3)    "
   ]
  },
  {
   "cell_type": "code",
   "execution_count": 10,
   "id": "f78e812a",
   "metadata": {},
   "outputs": [
    {
     "data": {
      "text/plain": [
       "False"
      ]
     },
     "execution_count": 10,
     "metadata": {},
     "output_type": "execute_result"
    }
   ],
   "source": [
    "\"asd\">\"ase\"\n"
   ]
  },
  {
   "cell_type": "code",
   "execution_count": 11,
   "id": "1b73e618",
   "metadata": {},
   "outputs": [
    {
     "data": {
      "text/plain": [
       "True"
      ]
     },
     "execution_count": 11,
     "metadata": {},
     "output_type": "execute_result"
    }
   ],
   "source": [
    "\"a\"<\"b\""
   ]
  },
  {
   "cell_type": "code",
   "execution_count": 12,
   "id": "dec9ba6f",
   "metadata": {},
   "outputs": [
    {
     "data": {
      "text/plain": [
       "False"
      ]
     },
     "execution_count": 12,
     "metadata": {},
     "output_type": "execute_result"
    }
   ],
   "source": [
    "\"a\"<\"A\""
   ]
  },
  {
   "cell_type": "code",
   "execution_count": 14,
   "id": "60e01220",
   "metadata": {},
   "outputs": [
    {
     "data": {
      "text/plain": [
       "0.0"
      ]
     },
     "execution_count": 14,
     "metadata": {},
     "output_type": "execute_result"
    }
   ],
   "source": [
    "0/1"
   ]
  },
  {
   "cell_type": "code",
   "execution_count": 15,
   "id": "87cfd156",
   "metadata": {},
   "outputs": [],
   "source": [
    "var1=100\n",
    "var2=0\n",
    "if var1>var2:\n",
    "    if var2==0:\n",
    "        var2=var1\n",
    "    else:\n",
    "        var2+=1  # var2=var2+1\n",
    "else:\n",
    "    if var1==0:\n",
    "        var1=var2\n",
    "    else:\n",
    "        var1+=1\n",
    "    "
   ]
  },
  {
   "cell_type": "code",
   "execution_count": 19,
   "id": "bf832fef",
   "metadata": {},
   "outputs": [
    {
     "name": "stdout",
     "output_type": "stream",
     "text": [
      "100\n"
     ]
    }
   ],
   "source": [
    "print(var1)"
   ]
  },
  {
   "cell_type": "code",
   "execution_count": 13,
   "id": "4838bd5c",
   "metadata": {},
   "outputs": [
    {
     "ename": "SyntaxError",
     "evalue": "invalid syntax (<ipython-input-13-947b10f1b54a>, line 3)",
     "output_type": "error",
     "traceback": [
      "\u001b[1;36m  File \u001b[1;32m\"<ipython-input-13-947b10f1b54a>\"\u001b[1;36m, line \u001b[1;32m3\u001b[0m\n\u001b[1;33m    print(\"Hello Mr.{},ur age is{}years.\"format(st,age))\u001b[0m\n\u001b[1;37m                                         ^\u001b[0m\n\u001b[1;31mSyntaxError\u001b[0m\u001b[1;31m:\u001b[0m invalid syntax\n"
     ]
    }
   ],
   "source": [
    "st=input()\n",
    "age=input()\n",
    "print(\"Hello Mr.{},ur age is{}years.\"format(st,age))"
   ]
  },
  {
   "cell_type": "code",
   "execution_count": 7,
   "id": "ae4bb127",
   "metadata": {},
   "outputs": [],
   "source": [
    "var1=100\n",
    "var2=200\n",
    "if var1>var2:\n",
    "    if var2==0:\n",
    "        var2=var1\n",
    "    else:\n",
    "        var2+=1  # var2=var2+1\n",
    "else:\n",
    "    if var1==0:\n",
    "        var1=var2\n",
    "    else:\n",
    "        var1+=1"
   ]
  },
  {
   "cell_type": "code",
   "execution_count": 9,
   "id": "0120675e",
   "metadata": {},
   "outputs": [
    {
     "data": {
      "text/plain": [
       "200"
      ]
     },
     "execution_count": 9,
     "metadata": {},
     "output_type": "execute_result"
    }
   ],
   "source": [
    "var2"
   ]
  },
  {
   "cell_type": "code",
   "execution_count": 10,
   "id": "ee15e842",
   "metadata": {},
   "outputs": [
    {
     "data": {
      "text/plain": [
       "101"
      ]
     },
     "execution_count": 10,
     "metadata": {},
     "output_type": "execute_result"
    }
   ],
   "source": [
    "var1"
   ]
  },
  {
   "cell_type": "code",
   "execution_count": 16,
   "id": "bf46c980",
   "metadata": {},
   "outputs": [
    {
     "name": "stdout",
     "output_type": "stream",
     "text": [
      "raj\n",
      "23\n",
      "Hello Mr.raj,ur age is23years\n"
     ]
    }
   ],
   "source": [
    "st=input()\n",
    "age=input()\n",
    "print(\"Hello Mr.{},ur age is{}years\".format(st,age))"
   ]
  },
  {
   "cell_type": "code",
   "execution_count": 1,
   "id": "8385f25c",
   "metadata": {},
   "outputs": [
    {
     "name": "stdout",
     "output_type": "stream",
     "text": [
      "this is my raj\n"
     ]
    }
   ],
   "source": [
    "print(\"this is my {fname}\".format(fname=\"raj\"))"
   ]
  },
  {
   "cell_type": "code",
   "execution_count": 1,
   "id": "2eade9ea",
   "metadata": {},
   "outputs": [
    {
     "name": "stdout",
     "output_type": "stream",
     "text": [
      "the value is:40.000\n"
     ]
    }
   ],
   "source": [
    "print(\"the value is:{:.3f}\".format(40))"
   ]
  },
  {
   "cell_type": "code",
   "execution_count": 4,
   "id": "8fb1090b",
   "metadata": {},
   "outputs": [
    {
     "name": "stdout",
     "output_type": "stream",
     "text": [
      "the value is:      40.000\n"
     ]
    }
   ],
   "source": [
    "print(\"the value is:{:12.3f}\".format(40))"
   ]
  },
  {
   "cell_type": "code",
   "execution_count": 5,
   "id": "6db69de0",
   "metadata": {},
   "outputs": [
    {
     "data": {
      "text/plain": [
       "157"
      ]
     },
     "execution_count": 5,
     "metadata": {},
     "output_type": "execute_result"
    }
   ],
   "source": [
    "num1=123\n",
    "num2=34\n",
    "num1+num2"
   ]
  },
  {
   "cell_type": "code",
   "execution_count": 7,
   "id": "9fa1e077",
   "metadata": {},
   "outputs": [
    {
     "name": "stdout",
     "output_type": "stream",
     "text": [
      "<class 'int'>\n",
      "<class 'str'>\n"
     ]
    },
    {
     "data": {
      "text/plain": [
       "579.0"
      ]
     },
     "execution_count": 7,
     "metadata": {},
     "output_type": "execute_result"
    }
   ],
   "source": [
    "num1=123\n",
    "num2=\"456\"\n",
    "print(type(num1))\n",
    "print(type(num2))\n",
    "x=num1+float(num2)\n",
    "x\n"
   ]
  },
  {
   "cell_type": "code",
   "execution_count": 8,
   "id": "50caa8f9",
   "metadata": {},
   "outputs": [
    {
     "name": "stdout",
     "output_type": "stream",
     "text": [
      "harman\n",
      "10010 <class 'int'>\n",
      "navreet\n",
      "10010.0 <class 'float'>\n"
     ]
    }
   ],
   "source": [
    "s=\"10010\"\n",
    "c=int(s)\n",
    "print(\"harman\")\n",
    "print(c,type(c))\n",
    "e=float(s)\n",
    "print(\"navreet\")\n",
    "print(e,type(e))"
   ]
  },
  {
   "cell_type": "code",
   "execution_count": 2,
   "id": "bf6172e3",
   "metadata": {},
   "outputs": [
    {
     "name": "stdout",
     "output_type": "stream",
     "text": [
      "hi\n",
      "hello\n"
     ]
    }
   ],
   "source": [
    "n=5\n",
    "if n<6:\n",
    "    print(\"hi\")\n",
    "if n==5:\n",
    "    print(\"hello\")\n",
    "else:    \n",
    "    print(\"hey\")"
   ]
  },
  {
   "cell_type": "code",
   "execution_count": 3,
   "id": "d5b8a291",
   "metadata": {},
   "outputs": [
    {
     "name": "stdout",
     "output_type": "stream",
     "text": [
      "my name is raj,i m 42 years old.\n"
     ]
    }
   ],
   "source": [
    "st=\"raj\"\n",
    "age=42\n",
    "print(\"my name is {},i m {} years old.\".format(st,age))"
   ]
  },
  {
   "cell_type": "code",
   "execution_count": 4,
   "id": "7d4c06e8",
   "metadata": {},
   "outputs": [
    {
     "name": "stdout",
     "output_type": "stream",
     "text": [
      "my name is raj,i m 42 years old.\n"
     ]
    }
   ],
   "source": [
    "st=\"raj\"\n",
    "age=42\n",
    "print(\"my name is {names},i m {year} years old.\".format(names=st,year=age))"
   ]
  },
  {
   "cell_type": "code",
   "execution_count": 6,
   "id": "5224e08c",
   "metadata": {},
   "outputs": [
    {
     "name": "stdout",
     "output_type": "stream",
     "text": [
      "my name is raj,i m 42 years old.i m a teacher\n"
     ]
    }
   ],
   "source": [
    "\n",
    "print(\"my name is {0},i m {1} years old.i m a {2}\".format(\"raj\",42,\"teacher\"))"
   ]
  },
  {
   "cell_type": "code",
   "execution_count": 7,
   "id": "56c3c0e1",
   "metadata": {},
   "outputs": [
    {
     "name": "stdout",
     "output_type": "stream",
     "text": [
      "my name is raj,i m 41 years old.\n"
     ]
    }
   ],
   "source": [
    "print(\"my name is {ft},i m {tf} years old.\".format(ft=\"raj\",tf=41))"
   ]
  },
  {
   "cell_type": "code",
   "execution_count": 8,
   "id": "a1d0487d",
   "metadata": {},
   "outputs": [
    {
     "name": "stdout",
     "output_type": "stream",
     "text": [
      "my name is 41,i m raj years old.\n"
     ]
    }
   ],
   "source": [
    "print(\"my name is {ft},i m {tf} years old.\".format(tf=\"raj\",ft=41))"
   ]
  },
  {
   "cell_type": "code",
   "execution_count": 9,
   "id": "209ad88c",
   "metadata": {},
   "outputs": [
    {
     "name": "stdout",
     "output_type": "stream",
     "text": [
      "value=90.000000\n"
     ]
    }
   ],
   "source": [
    "print(\"value={:f}\".format(90))"
   ]
  },
  {
   "cell_type": "code",
   "execution_count": 10,
   "id": "b2cf48d4",
   "metadata": {},
   "outputs": [
    {
     "name": "stdout",
     "output_type": "stream",
     "text": [
      "90.000000\n"
     ]
    }
   ],
   "source": [
    "print(\"{:f}\".format(90))"
   ]
  },
  {
   "cell_type": "code",
   "execution_count": 21,
   "id": "5f08a3db",
   "metadata": {},
   "outputs": [
    {
     "name": "stdout",
     "output_type": "stream",
     "text": [
      "the value is 90.00\n"
     ]
    }
   ],
   "source": [
    "print(\"the value is {:.2f}\".format(90))"
   ]
  },
  {
   "cell_type": "code",
   "execution_count": 13,
   "id": "25ff16f2",
   "metadata": {},
   "outputs": [
    {
     "name": "stdout",
     "output_type": "stream",
     "text": [
      "the value is 40.000\n"
     ]
    }
   ],
   "source": [
    "print(\"the value is {:.3f}\".format(40))"
   ]
  },
  {
   "cell_type": "code",
   "execution_count": 15,
   "id": "e3d5c4fd",
   "metadata": {},
   "outputs": [
    {
     "name": "stdout",
     "output_type": "stream",
     "text": [
      "the value is          90.000\n"
     ]
    }
   ],
   "source": [
    "print(\"the value is {:15.3f}\".format(90))"
   ]
  },
  {
   "cell_type": "code",
   "execution_count": 17,
   "id": "1c2f0d58",
   "metadata": {},
   "outputs": [
    {
     "name": "stdout",
     "output_type": "stream",
     "text": [
      "the value is       90.000\n"
     ]
    }
   ],
   "source": [
    "print(\"the value is {:12.3f}\".format(90))"
   ]
  },
  {
   "cell_type": "code",
   "execution_count": 18,
   "id": "8318d927",
   "metadata": {},
   "outputs": [
    {
     "name": "stdout",
     "output_type": "stream",
     "text": [
      "the value is   90.000\n"
     ]
    }
   ],
   "source": [
    "print(\"the value is {:8.3f}\".format(90))"
   ]
  },
  {
   "cell_type": "code",
   "execution_count": 19,
   "id": "390ef291",
   "metadata": {},
   "outputs": [
    {
     "name": "stdout",
     "output_type": "stream",
     "text": [
      "the value is 90.000000\n"
     ]
    }
   ],
   "source": [
    "print(\"the value is {:8.6f}\".format(90))"
   ]
  },
  {
   "cell_type": "code",
   "execution_count": 22,
   "id": "46ea74bb",
   "metadata": {},
   "outputs": [
    {
     "name": "stdout",
     "output_type": "stream",
     "text": [
      "the value is 90\n"
     ]
    }
   ],
   "source": [
    "print(\"the value is {:n}\".format(90.00))"
   ]
  },
  {
   "cell_type": "code",
   "execution_count": 29,
   "id": "b6f57299",
   "metadata": {},
   "outputs": [
    {
     "name": "stdout",
     "output_type": "stream",
     "text": [
      "the value is 90.45\n"
     ]
    }
   ],
   "source": [
    "print(\"the value is {:n}\".format(90.45))"
   ]
  },
  {
   "cell_type": "code",
   "execution_count": 28,
   "id": "184a67e0",
   "metadata": {},
   "outputs": [
    {
     "name": "stdout",
     "output_type": "stream",
     "text": [
      "the value is        500\n"
     ]
    }
   ],
   "source": [
    "print(\"the value is {:10n}\".format(500.000))"
   ]
  },
  {
   "cell_type": "code",
   "execution_count": 30,
   "id": "bcb8cf44",
   "metadata": {},
   "outputs": [
    {
     "name": "stdout",
     "output_type": "stream",
     "text": [
      "the value is 80.000000%\n"
     ]
    }
   ],
   "source": [
    "print(\"the value is {:%}\".format(0.80))"
   ]
  },
  {
   "cell_type": "code",
   "execution_count": 33,
   "id": "5f1e6f4d",
   "metadata": {},
   "outputs": [
    {
     "name": "stdout",
     "output_type": "stream",
     "text": [
      "1,000,000,000\n"
     ]
    }
   ],
   "source": [
    "print(\"{:,}\".format(1000000000))"
   ]
  },
  {
   "cell_type": "code",
   "execution_count": 34,
   "id": "04962bf8",
   "metadata": {},
   "outputs": [
    {
     "name": "stdout",
     "output_type": "stream",
     "text": [
      "+40\n"
     ]
    }
   ],
   "source": [
    "print(\"{:+}\".format(40))"
   ]
  },
  {
   "cell_type": "code",
   "execution_count": 37,
   "id": "42d39372",
   "metadata": {},
   "outputs": [
    {
     "name": "stdout",
     "output_type": "stream",
     "text": [
      "-40\n"
     ]
    }
   ],
   "source": [
    "print(\"{:-}\".format(-40))"
   ]
  },
  {
   "cell_type": "code",
   "execution_count": 45,
   "id": "3243f920",
   "metadata": {},
   "outputs": [
    {
     "name": "stdout",
     "output_type": "stream",
     "text": [
      "      40\n"
     ]
    }
   ],
   "source": [
    "print(\"{:8}\".format(40))"
   ]
  },
  {
   "cell_type": "code",
   "execution_count": 46,
   "id": "481badf2",
   "metadata": {},
   "outputs": [
    {
     "name": "stdout",
     "output_type": "stream",
     "text": [
      "        40\n"
     ]
    }
   ],
   "source": [
    "print(\"{:10}\".format(40))"
   ]
  },
  {
   "cell_type": "code",
   "execution_count": 49,
   "id": "9d71c4bb",
   "metadata": {},
   "outputs": [
    {
     "name": "stdout",
     "output_type": "stream",
     "text": [
      "the value     40     is positive value\n"
     ]
    }
   ],
   "source": [
    "print(\"the value {:^10} is positive value\".format(40))"
   ]
  },
  {
   "cell_type": "code",
   "execution_count": 50,
   "id": "3657c213",
   "metadata": {},
   "outputs": [
    {
     "name": "stdout",
     "output_type": "stream",
     "text": [
      "the value   40   is positive value.\n"
     ]
    }
   ],
   "source": [
    "print(\"the value {:^6} is positive value.\".format(40))"
   ]
  },
  {
   "cell_type": "code",
   "execution_count": 52,
   "id": "6fa93441",
   "metadata": {},
   "outputs": [
    {
     "name": "stdout",
     "output_type": "stream",
     "text": [
      "the value 40     is positive value.\n"
     ]
    }
   ],
   "source": [
    "print(\"the value {:<6} is positive value.\".format(40))"
   ]
  },
  {
   "cell_type": "code",
   "execution_count": 53,
   "id": "0a40d29f",
   "metadata": {},
   "outputs": [
    {
     "name": "stdout",
     "output_type": "stream",
     "text": [
      "the value     40 is positive value.\n"
     ]
    }
   ],
   "source": [
    "print(\"the value {:>6} is positive value.\".format(40))"
   ]
  },
  {
   "cell_type": "code",
   "execution_count": 1,
   "id": "c0f990ed",
   "metadata": {},
   "outputs": [
    {
     "name": "stdout",
     "output_type": "stream",
     "text": [
      "chitkara university\n",
      "chitkara university\n",
      "chitkara university\n",
      "chitkara university\n",
      "chitkara university\n"
     ]
    }
   ],
   "source": [
    "i=1\n",
    "while(i<=5):\n",
    "    print(\"chitkara university\")\n",
    "    i+=1    "
   ]
  },
  {
   "cell_type": "markdown",
   "id": "fced447e",
   "metadata": {},
   "source": [
    "### Ques.: Write a program to check whether the last digit of a number( entered by user ) is divisible by 3 or not."
   ]
  },
  {
   "cell_type": "code",
   "execution_count": 1,
   "id": "aa9da773",
   "metadata": {},
   "outputs": [
    {
     "name": "stdout",
     "output_type": "stream",
     "text": [
      "2345\n",
      "2345 is not divisible by 3\n"
     ]
    }
   ],
   "source": [
    "n=int(input())\n",
    "a=n%10\n",
    "if a%3==0:\n",
    "    print(n,\"is divisible by 3\")\n",
    "else:\n",
    "    print(n,\"is not divisible by 3\")"
   ]
  },
  {
   "cell_type": "code",
   "execution_count": 2,
   "id": "53331acc",
   "metadata": {},
   "outputs": [
    {
     "name": "stdout",
     "output_type": "stream",
     "text": [
      "789\n",
      " the number 789 is divisible by 3. \n"
     ]
    }
   ],
   "source": [
    "n=int(input())\n",
    "a=n%10\n",
    "if a%3==0:\n",
    "    print(\" the number {} is divisible by 3. \".format(n))"
   ]
  },
  {
   "cell_type": "markdown",
   "id": "75510d42",
   "metadata": {},
   "source": [
    "### Ques.:Write a program to whether a number (accepted from user) is divisible by 2 and 3 both."
   ]
  },
  {
   "cell_type": "code",
   "execution_count": 7,
   "id": "bc06995a",
   "metadata": {},
   "outputs": [
    {
     "name": "stdout",
     "output_type": "stream",
     "text": [
      "24\n",
      "the number 24 is divisible 2 and 3 both.\n"
     ]
    }
   ],
   "source": [
    "n=int(input())\n",
    "if (n%2==0) and (n%3==0):\n",
    "    print(\"the number {} is divisible 2 and 3 both.\".format(n))\n",
    "else:\n",
    "    print(\"the number {} is  not divisible .\".format(n))"
   ]
  },
  {
   "cell_type": "markdown",
   "id": "a6cd9e46",
   "metadata": {},
   "source": [
    "### Question: Write a program to check a character is vowel or not."
   ]
  },
  {
   "cell_type": "code",
   "execution_count": 10,
   "id": "d72de6c3",
   "metadata": {},
   "outputs": [
    {
     "name": "stdout",
     "output_type": "stream",
     "text": [
      "character:A\n",
      "character A is a vowel.\n"
     ]
    }
   ],
   "source": [
    "a=input(\"character:\")\n",
    "v=\"aeiouAEIOU\"\n",
    "if (a in v):\n",
    "    print(\"character {} is a vowel.\".format(a))\n",
    "else:\n",
    "    print(\"character {} is not a vowel.\".format(a))"
   ]
  },
  {
   "cell_type": "code",
   "execution_count": 11,
   "id": "03bec5a6",
   "metadata": {},
   "outputs": [
    {
     "ename": "TypeError",
     "evalue": "object of type 'int' has no len()",
     "output_type": "error",
     "traceback": [
      "\u001b[1;31m---------------------------------------------------------------------------\u001b[0m",
      "\u001b[1;31mTypeError\u001b[0m                                 Traceback (most recent call last)",
      "\u001b[1;32m<ipython-input-11-5ca60003dbc9>\u001b[0m in \u001b[0;36m<module>\u001b[1;34m\u001b[0m\n\u001b[0;32m      1\u001b[0m \u001b[0ma\u001b[0m\u001b[1;33m=\u001b[0m\u001b[1;36m455667\u001b[0m\u001b[1;33m\u001b[0m\u001b[1;33m\u001b[0m\u001b[0m\n\u001b[1;32m----> 2\u001b[1;33m \u001b[0mprint\u001b[0m\u001b[1;33m(\u001b[0m\u001b[0mlen\u001b[0m\u001b[1;33m(\u001b[0m\u001b[0ma\u001b[0m\u001b[1;33m)\u001b[0m\u001b[1;33m)\u001b[0m\u001b[1;33m\u001b[0m\u001b[1;33m\u001b[0m\u001b[0m\n\u001b[0m",
      "\u001b[1;31mTypeError\u001b[0m: object of type 'int' has no len()"
     ]
    }
   ],
   "source": [
    "a=455667\n",
    "print(len(a))"
   ]
  },
  {
   "cell_type": "code",
   "execution_count": 12,
   "id": "3fcf5271",
   "metadata": {},
   "outputs": [
    {
     "ename": "TypeError",
     "evalue": "object of type 'int' has no len()",
     "output_type": "error",
     "traceback": [
      "\u001b[1;31m---------------------------------------------------------------------------\u001b[0m",
      "\u001b[1;31mTypeError\u001b[0m                                 Traceback (most recent call last)",
      "\u001b[1;32m<ipython-input-12-a86a854bacc0>\u001b[0m in \u001b[0;36m<module>\u001b[1;34m\u001b[0m\n\u001b[0;32m      1\u001b[0m \u001b[0ma\u001b[0m\u001b[1;33m=\u001b[0m\u001b[1;36m455567\u001b[0m\u001b[1;33m\u001b[0m\u001b[1;33m\u001b[0m\u001b[0m\n\u001b[1;32m----> 2\u001b[1;33m \u001b[0mprint\u001b[0m\u001b[1;33m(\u001b[0m\u001b[0mlen\u001b[0m\u001b[1;33m(\u001b[0m\u001b[0mint\u001b[0m\u001b[1;33m(\u001b[0m\u001b[0ma\u001b[0m\u001b[1;33m)\u001b[0m\u001b[1;33m)\u001b[0m\u001b[1;33m)\u001b[0m\u001b[1;33m\u001b[0m\u001b[1;33m\u001b[0m\u001b[0m\n\u001b[0m",
      "\u001b[1;31mTypeError\u001b[0m: object of type 'int' has no len()"
     ]
    }
   ],
   "source": [
    "a=455567\n",
    "print(len(int(a)))"
   ]
  },
  {
   "cell_type": "code",
   "execution_count": 13,
   "id": "af18fa62",
   "metadata": {},
   "outputs": [
    {
     "name": "stdout",
     "output_type": "stream",
     "text": [
      "5\n"
     ]
    }
   ],
   "source": [
    "a=45567\n",
    "print(len(str(a)))"
   ]
  },
  {
   "cell_type": "code",
   "execution_count": 14,
   "id": "748cd5a0",
   "metadata": {},
   "outputs": [
    {
     "name": "stdout",
     "output_type": "stream",
     "text": [
      "6\n"
     ]
    }
   ],
   "source": [
    "a=\"harman\"\n",
    "print(len(a))"
   ]
  },
  {
   "cell_type": "code",
   "execution_count": 15,
   "id": "360d12c9",
   "metadata": {},
   "outputs": [
    {
     "name": "stdout",
     "output_type": "stream",
     "text": [
      "5\n"
     ]
    }
   ],
   "source": [
    "a=\"45678\"\n",
    "print(len(a))"
   ]
  },
  {
   "cell_type": "markdown",
   "id": "2ceede50",
   "metadata": {},
   "source": [
    "### what is automorphic\n",
    "### An n-digit number is said to be automorphic if the last n digits of its square are the   same as the original number. For instance, 5^2 = 25, 6^2 = 36, 25^2 = 625, 76^2 = 5776 and many others."
   ]
  },
  {
   "cell_type": "code",
   "execution_count": 3,
   "id": "3c8f751f",
   "metadata": {},
   "outputs": [
    {
     "name": "stdout",
     "output_type": "stream",
     "text": [
      "76\n",
      "76 is automorphic.\n"
     ]
    }
   ],
   "source": [
    "n=int(input())\n",
    "l=len(str(n))\n",
    "s=n**2             #s is square of number n.\n",
    "d=s%10**l          #d is last n digits of square of number n.   \n",
    "if d==n:\n",
    "    print(\"{} is automorphic.\".format(n))\n",
    "else:\n",
    "    print(\"{} is not automorphic.\".format(n))"
   ]
  },
  {
   "cell_type": "markdown",
   "id": "0af831e1",
   "metadata": {},
   "source": [
    "### Question: Input a number and check whether the thousands place digit is odd or even"
   ]
  },
  {
   "cell_type": "code",
   "execution_count": 4,
   "id": "ac9e21c8",
   "metadata": {},
   "outputs": [
    {
     "name": "stdout",
     "output_type": "stream",
     "text": [
      "23456789\n",
      " thousand place of 23456789 is even\n"
     ]
    }
   ],
   "source": [
    "n=int(input())\n",
    "r=n%10000          #r gives us last 4 digits of given number.\n",
    "s=r//1000          #s gives us fourth digit of given number.\n",
    "if s%2==0:\n",
    "    print(\" thousand place of {} is even\".format(n))\n",
    "else:\n",
    "    print(\"thousand place of {} is odd\".format(n))\n",
    "    "
   ]
  },
  {
   "cell_type": "code",
   "execution_count": 5,
   "id": "7fcc1051",
   "metadata": {},
   "outputs": [
    {
     "name": "stdout",
     "output_type": "stream",
     "text": [
      "A\n",
      "M\n",
      "[\n"
     ]
    }
   ],
   "source": [
    "# Convert ASCII value to characters\n",
    "a = chr(65)\n",
    "b = chr(77)\n",
    "c=chr(91)\n",
    " \n",
    "print(a)\n",
    "print(b)\n",
    "print(c)"
   ]
  },
  {
   "cell_type": "markdown",
   "id": "e72183a4",
   "metadata": {},
   "source": [
    "#### Question: Write a program that checks whether the number is divisible by 16 or not. Program checks the divisibility by 16 considering following rule: If the thousands place digit is even, take the last three digits. If the thousands place digit is odd, add 8 to the last three digits. With this 3-digit multiply hundreds place digit by 4, then add it to the last two digits. If the resulting number is divisible by 16, the given number is divisible by 16 otherwise not.\n",
    "\n",
    "##### For Example: If the number is 254176, the thousand digit is 4(Even) so take176 , (1 × 4) + 76 = 80 (Divisible by 16) If the number is 693408, the thousand digit is 3(odd) so take 408+8 =416, (4 x 4) + 16 = 32 (Divisible by 16)"
   ]
  },
  {
   "cell_type": "code",
   "execution_count": 12,
   "id": "1d51c022",
   "metadata": {},
   "outputs": [
    {
     "name": "stdout",
     "output_type": "stream",
     "text": [
      "693408\n",
      "693408 is  divisible by 16.\n"
     ]
    }
   ],
   "source": [
    "n=int(input())\n",
    "r=n%10000          #r gives us last 4 digits of given number.\n",
    "s=r//1000          #s gives us fourth(thousandth) digit of given number.\n",
    "l3=n%1000          #l3 gives last 3 digits of number n.\n",
    "h=l3//100          #h gives us third (hundredth) digit of n.\n",
    "l2=n%100           #l2 gives last 2 digits of number n.\n",
    "e=l3+8\n",
    "f=e%1000           #f gives last 3 digits of e.\n",
    "g=f//100           #g gives third (hundredth) digit of e.\n",
    "e2=e%100           #e2 gives last 2 digits of e.\n",
    "if s%2==0:\n",
    "    if (h*4+l2)%16==0:\n",
    "        print(n,\"is divisible by 16\")\n",
    "    else:\n",
    "        print(\"not divisible\")\n",
    "else:\n",
    "    if (h*4+e2)%16==0:\n",
    "        print(n,\"is  divisible by 16.\")\n",
    "    else:\n",
    "        print(\"not divisible\")\n",
    "    "
   ]
  },
  {
   "cell_type": "markdown",
   "id": "a8c84bac",
   "metadata": {},
   "source": [
    "### Question: Given the coordinates (x,y) of a center of a circle and its radius, write a program  which will determine whether a point lies inside the circle, on the circle or outside the circle."
   ]
  },
  {
   "cell_type": "code",
   "execution_count": 5,
   "id": "c7ea3a1c",
   "metadata": {},
   "outputs": [
    {
     "name": "stdout",
     "output_type": "stream",
     "text": [
      "0\n",
      "0\n",
      "(0,0) lies inside circle\n"
     ]
    }
   ],
   "source": [
    "x=2\n",
    "y=3\n",
    "r=4\n",
    "x1=int(input())\n",
    "y1=int(input())\n",
    "d=((x1-x)**2+(y1-y)**2)**0.5\n",
    "if d>r:\n",
    "    print(\"({}, {}) lies outside circle.\".format(x1,y1))\n",
    "elif d==r:\n",
    "    print(\"({},{}) lies on circle.\".format(x1,y1))\n",
    "else:\n",
    "    print(\"({},{}) lies inside circle\".format(x1,y1))"
   ]
  },
  {
   "cell_type": "markdown",
   "id": "164da13d",
   "metadata": {},
   "source": [
    "#### Write a Python program which accepts a character and checks whether it is in small case or capital case. Also display its reverse case (i.e. if inputted character is ‘a’, program should display ‘A’)."
   ]
  },
  {
   "cell_type": "code",
   "execution_count": 6,
   "id": "c1ad91a0",
   "metadata": {},
   "outputs": [
    {
     "name": "stdout",
     "output_type": "stream",
     "text": [
      "E\n",
      "E is in uppercase.\n"
     ]
    }
   ],
   "source": [
    "n=input()\n",
    "if (n.isupper()):\n",
    "    print(n,\"is in uppercase.\")\n",
    "elif (n.islower()):\n",
    "    print(n,\"is in lowercase.\")\n",
    "else:\n",
    "    print(n,\"is neither upper nor lower.\")"
   ]
  },
  {
   "cell_type": "markdown",
   "id": "5b220cdf",
   "metadata": {},
   "source": [
    "#### Accept the percentage from the user and display the grade according to the following criteria:\n",
    "\n",
    "Below 25 —- D\n",
    "25 to 45 —- C\n",
    "45 to 50 —- B\n",
    "50 to 60 –– B+\n",
    "60 to 80 — A\n",
    "Above 80 –- A+"
   ]
  },
  {
   "cell_type": "code",
   "execution_count": 8,
   "id": "5744c67f",
   "metadata": {},
   "outputs": [
    {
     "name": "stdout",
     "output_type": "stream",
     "text": [
      "25\n",
      "C\n"
     ]
    }
   ],
   "source": [
    "n=int(input())\n",
    "if n<25:\n",
    "    print(\"D\")\n",
    "elif n>=25 and n<=45:\n",
    "    print(\"C\")\n",
    "elif n>45 and n<=50:\n",
    "    print(\"B\")\n",
    "elif n>50 and n<=60:\n",
    "    print(\"B+\")\n",
    "elif n>60 and n<=80:\n",
    "    print(\"A\")\n",
    "else:\n",
    "    print(\"A+\")"
   ]
  },
  {
   "cell_type": "markdown",
   "id": "aa42cb1c",
   "metadata": {},
   "source": [
    " A company decided to give bonus to employee according to following criteria:\n",
    "\n",
    "Time period of Service                Bonus\n",
    "\n",
    "More than 10 years             10%\n",
    "\n",
    ">=6 and <=10                   8%\n",
    "\n",
    "Less than 6 years              5%\n",
    "\n",
    "Ask user for their salary and years of service and print the net bonus amount."
   ]
  },
  {
   "cell_type": "code",
   "execution_count": 1,
   "id": "9fe0f2d8",
   "metadata": {},
   "outputs": [
    {
     "name": "stdout",
     "output_type": "stream",
     "text": [
      "salary:300\n",
      "years:3\n",
      "bonus= 15.0\n"
     ]
    }
   ],
   "source": [
    "s=int(input(\"salary:\"))\n",
    "y=int(input(\"years:\"))\n",
    "if y>=10:\n",
    "    print(\"bonus=\", 0.1*s)\n",
    "elif y>=6 and y<=10:\n",
    "    print(\"bonus=\", 0.08*s)\n",
    "elif y<6:\n",
    "    print(\"bonus=\", 0.05*s)"
   ]
  },
  {
   "cell_type": "markdown",
   "id": "43f62796",
   "metadata": {},
   "source": [
    "Accept the marked price from the user and calculate the Net amount as(Marked Price – Discount) to pay according to following criteria:\n",
    "\n",
    "Marked Price Discount\n",
    "\n",
    "10000 20%,\n",
    "7000 and <=10000 15% ,\n",
    "<=7000 10%"
   ]
  },
  {
   "cell_type": "code",
   "execution_count": 3,
   "id": "3495643e",
   "metadata": {},
   "outputs": [
    {
     "name": "stdout",
     "output_type": "stream",
     "text": [
      "marked price:10000\n",
      "8000.0\n"
     ]
    }
   ],
   "source": [
    "m=int(input(\"marked price:\"))\n",
    "if m==10000:\n",
    "    n=0.8*m\n",
    "if m>7000 and m<10000:\n",
    "    n=0.85*m\n",
    "if m<=7000:\n",
    "    n=0.90*m\n",
    "print(n)    "
   ]
  },
  {
   "cell_type": "code",
   "execution_count": 2,
   "id": "2b2656dd",
   "metadata": {},
   "outputs": [
    {
     "name": "stdout",
     "output_type": "stream",
     "text": [
      "5\n",
      "8\n"
     ]
    }
   ],
   "source": [
    "a=1\n",
    "b=1\n",
    "i=0\n",
    "n=int(input())\n",
    "\n",
    "while(i<n):\n",
    "    c=a+b\n",
    "    a=b\n",
    "    b=c\n",
    "    i=i+1\n",
    "print(a)    "
   ]
  },
  {
   "cell_type": "code",
   "execution_count": null,
   "id": "0cf589b0",
   "metadata": {},
   "outputs": [],
   "source": []
  }
 ],
 "metadata": {
  "kernelspec": {
   "display_name": "Python 3",
   "language": "python",
   "name": "python3"
  },
  "language_info": {
   "codemirror_mode": {
    "name": "ipython",
    "version": 3
   },
   "file_extension": ".py",
   "mimetype": "text/x-python",
   "name": "python",
   "nbconvert_exporter": "python",
   "pygments_lexer": "ipython3",
   "version": "3.8.8"
  }
 },
 "nbformat": 4,
 "nbformat_minor": 5
}
