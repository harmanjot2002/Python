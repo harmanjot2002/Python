{
 "cells": [
  {
   "cell_type": "markdown",
   "id": "09b47b10",
   "metadata": {},
   "source": [
    "## push zeroes to end"
   ]
  },
  {
   "cell_type": "code",
   "execution_count": 1,
   "id": "0db06886",
   "metadata": {},
   "outputs": [],
   "source": [
    "def push(arr):\n",
    "    k=0\n",
    "    for i in range(len(arr)-1):\n",
    "        if arr[i]!=0:\n",
    "            arr[k]=arr[i]\n",
    "            k=k+1\n",
    "    for j in range(k,len(arr)-1):\n",
    "        arr[j]=0\n",
    "    return arr"
   ]
  },
  {
   "cell_type": "code",
   "execution_count": 2,
   "id": "8c242d9d",
   "metadata": {},
   "outputs": [
    {
     "name": "stdout",
     "output_type": "stream",
     "text": [
      "[2, 6, 1, 9, 8, 0, 0, 0, 0]\n"
     ]
    }
   ],
   "source": [
    "arr=[2,6,0,0,1,9,0,8,0]\n",
    "x=push(arr)\n",
    "print(x)"
   ]
  },
  {
   "cell_type": "markdown",
   "id": "4426a692",
   "metadata": {},
   "source": [
    "## rotate array"
   ]
  },
  {
   "cell_type": "code",
   "execution_count": 3,
   "id": "05eade2b",
   "metadata": {},
   "outputs": [],
   "source": [
    "def rotate(arr, n, d):\n",
    "    list=[]\n",
    "    i=d\n",
    "    while i<n:\n",
    "        list.append(arr[i])\n",
    "        i=i+1\n",
    "    for j in range(d):\n",
    "        list.append(arr[j])\n",
    "    a=0\n",
    "    while a<n:\n",
    "        arr[a]=list[a]\n",
    "        a=a+1\n",
    "    return arr"
   ]
  },
  {
   "cell_type": "code",
   "execution_count": 4,
   "id": "d853d48e",
   "metadata": {},
   "outputs": [
    {
     "name": "stdout",
     "output_type": "stream",
     "text": [
      "[2, 3, 4, 5, 6, 7, 1]\n"
     ]
    }
   ],
   "source": [
    "arr=[7,1,2,3,4,5,6]\n",
    "n=7\n",
    "d=2\n",
    "x=rotate(arr,n,d)\n",
    "print(x)"
   ]
  },
  {
   "cell_type": "code",
   "execution_count": 5,
   "id": "9c8c727b",
   "metadata": {},
   "outputs": [],
   "source": [
    "def rotate(arr, n, d):\n",
    "    list=[]\n",
    "    i=d\n",
    "    while i<n:\n",
    "        list.append(arr[i])\n",
    "        i=i+1\n",
    "    for j in range(d):\n",
    "        list.append(arr[j])\n",
    "    return list"
   ]
  },
  {
   "cell_type": "code",
   "execution_count": 6,
   "id": "95bc7b06",
   "metadata": {},
   "outputs": [
    {
     "name": "stdout",
     "output_type": "stream",
     "text": [
      "[2, 3, 4, 5, 6, 7, 1]\n"
     ]
    }
   ],
   "source": [
    "arr=[7,1,2,3,4,5,6]\n",
    "n=7\n",
    "d=2\n",
    "x=rotate(arr,n,d)\n",
    "print(x)"
   ]
  },
  {
   "cell_type": "markdown",
   "id": "e266c35c",
   "metadata": {},
   "source": [
    "## second largest in array"
   ]
  },
  {
   "cell_type": "code",
   "execution_count": 7,
   "id": "9064e60b",
   "metadata": {},
   "outputs": [],
   "source": [
    "MIN_VALUE=-2147483648\n",
    "def secondLargestElement(arr, n):\n",
    "    if n == 0 : \n",
    "        return MIN_VALUE\n",
    "    largest = arr[0] \n",
    "    secondLargest = MIN_VALUE \n",
    "    for i in range(n) : \n",
    "        if largest < arr[i] : \n",
    "            secondLargest = largest \n",
    "            largest = arr[i]\n",
    "        elif secondLargest < arr[i] and arr[i] != largest :\n",
    "            secondLargest = arr[i] \n",
    "    return secondLargest "
   ]
  },
  {
   "cell_type": "code",
   "execution_count": 8,
   "id": "94533937",
   "metadata": {},
   "outputs": [
    {
     "name": "stdout",
     "output_type": "stream",
     "text": [
      "78\n"
     ]
    }
   ],
   "source": [
    "arr=[2,13,124,25,78,56,78]\n",
    "n=7\n",
    "x=secondLargestElement(arr,n)\n",
    "print(x)"
   ]
  },
  {
   "cell_type": "markdown",
   "id": "5db12992",
   "metadata": {},
   "source": [
    "## check array rotation"
   ]
  },
  {
   "cell_type": "code",
   "execution_count": 9,
   "id": "2943d943",
   "metadata": {},
   "outputs": [],
   "source": [
    "def arrayRotateCheck(arr):\n",
    "    for i in range(len(arr)-1):\n",
    "        if arr[i]>arr[i+1]:\n",
    "            return i+1\n",
    "    return 0"
   ]
  },
  {
   "cell_type": "code",
   "execution_count": 10,
   "id": "9a32a84f",
   "metadata": {},
   "outputs": [
    {
     "data": {
      "text/plain": [
       "2"
      ]
     },
     "execution_count": 10,
     "metadata": {},
     "output_type": "execute_result"
    }
   ],
   "source": [
    "arr=[6,7,1,2,3,4]\n",
    "arrayRotateCheck(arr)"
   ]
  },
  {
   "cell_type": "markdown",
   "id": "82d3135d",
   "metadata": {},
   "source": [
    "## sort 0,1,2"
   ]
  },
  {
   "cell_type": "code",
   "execution_count": 11,
   "id": "11b4e200",
   "metadata": {},
   "outputs": [],
   "source": [
    "def sort012(arr) :\n",
    "    arr.sort()\n",
    "    return arr"
   ]
  },
  {
   "cell_type": "code",
   "execution_count": 12,
   "id": "a82686db",
   "metadata": {},
   "outputs": [
    {
     "data": {
      "text/plain": [
       "[0, 0, 1, 1, 1, 2, 2, 2]"
      ]
     },
     "execution_count": 12,
     "metadata": {},
     "output_type": "execute_result"
    }
   ],
   "source": [
    "arr=[1,1,1,2,2,0,0,2]\n",
    "sort012(arr)"
   ]
  },
  {
   "cell_type": "markdown",
   "id": "2ccb3a84",
   "metadata": {},
   "source": [
    "## sum of two arrays"
   ]
  },
  {
   "cell_type": "code",
   "execution_count": 13,
   "id": "e40ea64b",
   "metadata": {},
   "outputs": [],
   "source": [
    "def sumOfTwoArrays(arr1, n, arr2, m,output) :\n",
    "    i=n-1\n",
    "    j=m-1\n",
    "    carry=0\n",
    "    k=max(n,m)\n",
    "    while i>=0 and j>=0:\n",
    "        sum=arr1[i]+arr2[j]+carry\n",
    "        output[k]=sum%10         #modulus or remainder\n",
    "        carry=sum//10            #floor division\n",
    "        i=i-1\n",
    "        j=j-1\n",
    "        k=k-1\n",
    "    while i>=0:\n",
    "        sum=arr1[i]+carry\n",
    "        output[k]=sum%10\n",
    "        carry=sum//10\n",
    "        i=i-1\n",
    "        k=k-1\n",
    "    while j>=0:\n",
    "        sum=arr2[j]+carry\n",
    "        output[k]=sum%10\n",
    "        carry=sum//10\n",
    "        j=j-1\n",
    "        k=k-1\n",
    "    output[0]=carry\n",
    "    return output"
   ]
  },
  {
   "cell_type": "code",
   "execution_count": 14,
   "id": "7a97afa8",
   "metadata": {},
   "outputs": [
    {
     "name": "stdout",
     "output_type": "stream",
     "text": [
      "[1, 0, 0, 1, 2, 0, 0]\n"
     ]
    }
   ],
   "source": [
    "arr1=[9,9,9,1,3,4]\n",
    "n=6\n",
    "arr2=[2,0,6,6]\n",
    "m=4\n",
    "output=(1+max(n,m))*[0]\n",
    "x=sumOfTwoArrays(arr1, n, arr2, m,output)\n",
    "print(x)"
   ]
  },
  {
   "cell_type": "code",
   "execution_count": null,
   "id": "ede0f74c",
   "metadata": {},
   "outputs": [],
   "source": []
  }
 ],
 "metadata": {
  "kernelspec": {
   "display_name": "Python 3",
   "language": "python",
   "name": "python3"
  },
  "language_info": {
   "codemirror_mode": {
    "name": "ipython",
    "version": 3
   },
   "file_extension": ".py",
   "mimetype": "text/x-python",
   "name": "python",
   "nbconvert_exporter": "python",
   "pygments_lexer": "ipython3",
   "version": "3.8.8"
  }
 },
 "nbformat": 4,
 "nbformat_minor": 5
}
