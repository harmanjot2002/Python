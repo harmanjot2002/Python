{
 "cells": [
  {
   "cell_type": "code",
   "execution_count": 1,
   "id": "11def5fd",
   "metadata": {},
   "outputs": [
    {
     "data": {
      "text/plain": [
       "[6]"
      ]
     },
     "execution_count": 1,
     "metadata": {},
     "output_type": "execute_result"
    }
   ],
   "source": [
    "#print elements from list that are divisible by both 2 and 3\n",
    "li=[1,2,3,4,5,6,7,8,9,10]\n",
    "li1=[ele for ele in li if ele%2==0 if ele%3==0]\n",
    "li1"
   ]
  },
  {
   "cell_type": "code",
   "execution_count": 2,
   "id": "5caeda06",
   "metadata": {},
   "outputs": [
    {
     "name": "stdout",
     "output_type": "stream",
     "text": [
      "[2, 3, 4, 5]\n"
     ]
    }
   ],
   "source": [
    "#print elements common in both lists\n",
    "li1=[1,2,3,4,5]\n",
    "li2=[2,3,4,5,6]\n",
    "a=[ele for ele in li1 for ele2 in li2 if ele==ele2 ]\n",
    "print(a)"
   ]
  },
  {
   "cell_type": "code",
   "execution_count": 3,
   "id": "c0f865dd",
   "metadata": {},
   "outputs": [
    {
     "name": "stdout",
     "output_type": "stream",
     "text": [
      "[[0, 0, 0, 0], [0, 1, 2, 3], [0, 2, 4, 6]]\n"
     ]
    }
   ],
   "source": [
    "#print a 2D list with 3 rows and 4 columns\n",
    "li=[[i*j for j in range(4)]for i in range(3)]\n",
    "print(li)"
   ]
  },
  {
   "cell_type": "code",
   "execution_count": 4,
   "id": "ec88ac46",
   "metadata": {},
   "outputs": [
    {
     "name": "stdout",
     "output_type": "stream",
     "text": [
      "3 4\n",
      "1 2 3 4\n",
      "5 6 7 8\n",
      "9 10 11 12\n"
     ]
    },
    {
     "data": {
      "text/plain": [
       "[[1, 2, 3, 4], [5, 6, 7, 8], [9, 10, 11, 12]]"
      ]
     },
     "execution_count": 4,
     "metadata": {},
     "output_type": "execute_result"
    }
   ],
   "source": [
    "#input of 2D list by (n,m)\n",
    "str=input().split()    #for first input\n",
    "n,m=int(str[0]),int(str[1])    #assigning rows and columns\n",
    "\n",
    "li=[[int(j) for j in input().split()] for i in range(n)]   #printing list\n",
    "li"
   ]
  },
  {
   "cell_type": "code",
   "execution_count": 5,
   "id": "8ed9dca8",
   "metadata": {},
   "outputs": [
    {
     "name": "stdout",
     "output_type": "stream",
     "text": [
      "3\n",
      "1 2 3 4\n",
      "5 6 7 8\n",
      "9 10 11 12\n"
     ]
    },
    {
     "data": {
      "text/plain": [
       "[[1, 2, 3, 4], [5, 6, 7, 8], [9, 10, 11, 12]]"
      ]
     },
     "execution_count": 5,
     "metadata": {},
     "output_type": "execute_result"
    }
   ],
   "source": [
    "#input of 2D list by (n,m)\n",
    "n=int(input())\n",
    "li=[[int(j) for j in input().split()] for i in range(n)]\n",
    "li    #valid for both simple 2D list as well as jagged list"
   ]
  },
  {
   "cell_type": "code",
   "execution_count": 7,
   "id": "6b990e2d",
   "metadata": {},
   "outputs": [
    {
     "name": "stdout",
     "output_type": "stream",
     "text": [
      "3\n",
      "1 2 3 4\n",
      "5 6\n",
      "7 8 9\n"
     ]
    },
    {
     "data": {
      "text/plain": [
       "[[1, 2, 3, 4], [5, 6], [7, 8, 9]]"
      ]
     },
     "execution_count": 7,
     "metadata": {},
     "output_type": "execute_result"
    }
   ],
   "source": [
    "#input of 2D list by (n,m)\n",
    "n=int(input())\n",
    "li=[[int(j) for j in input().split()] for i in range(n)]\n",
    "li    #valid for both simple 2D list as well as jagged list"
   ]
  },
  {
   "cell_type": "code",
   "execution_count": 6,
   "id": "2861b0fc",
   "metadata": {},
   "outputs": [
    {
     "name": "stdout",
     "output_type": "stream",
     "text": [
      "3 4\n",
      "1 2 3 4 5 6 7 8 9 10 11 12\n"
     ]
    },
    {
     "data": {
      "text/plain": [
       "[[1, 2, 3, 4], [5, 6, 7, 8], [9, 10, 11, 12]]"
      ]
     },
     "execution_count": 6,
     "metadata": {},
     "output_type": "execute_result"
    }
   ],
   "source": [
    "#input of 2 D list by (m*i)+j:\n",
    "str=input().split()\n",
    "n,m=int(str[0]),int(str[1])\n",
    "b=input().split()\n",
    "li=[[int(b[(m*i)+j]) for j in range(m)] for i in range(n)]\n",
    "li"
   ]
  },
  {
   "cell_type": "code",
   "execution_count": 7,
   "id": "30fe3017",
   "metadata": {},
   "outputs": [
    {
     "name": "stdout",
     "output_type": "stream",
     "text": [
      "3 4 1 2 3 4 5 6 7 8 9 10 11 12\n"
     ]
    },
    {
     "data": {
      "text/plain": [
       "[[1, 2, 3, 4], [5, 6, 7, 8], [9, 10, 11, 12]]"
      ]
     },
     "execution_count": 7,
     "metadata": {},
     "output_type": "execute_result"
    }
   ],
   "source": [
    "#input of 2 D list by (m*i)+j:\n",
    "str=input().split()\n",
    "n,m=int(str[0]),int(str[1])\n",
    "b=str[2:]\n",
    "li=[[int(b[(m*i)+j]) for j in range(m)] for i in range(n)]\n",
    "li"
   ]
  },
  {
   "cell_type": "code",
   "execution_count": 8,
   "id": "0f400cb8",
   "metadata": {},
   "outputs": [
    {
     "name": "stdout",
     "output_type": "stream",
     "text": [
      "1 2 3 4 \n",
      "5 6 \n",
      "7 8 9 \n"
     ]
    }
   ],
   "source": [
    "#2-D list to matrix conversion\n",
    "a=[[1,2,3,4],[5,6],[7,8,9]]\n",
    "for i in a:\n",
    "    for j in i:\n",
    "        print(j,end=\" \")\n",
    "    print()"
   ]
  },
  {
   "cell_type": "code",
   "execution_count": 9,
   "id": "9372de93",
   "metadata": {},
   "outputs": [
    {
     "name": "stdout",
     "output_type": "stream",
     "text": [
      "1 2 3 4 \n",
      "5 6 \n",
      "7 8 9 \n"
     ]
    }
   ],
   "source": [
    "#2-D list to matrix conversion\n",
    "a=[[1,2,3,4],[5,6],[7,8,9]]\n",
    "for i in range(len(a)):\n",
    "    for j in range(len(a[i])):\n",
    "        print(a[i][j],end=\" \")\n",
    "    print()"
   ]
  },
  {
   "cell_type": "code",
   "execution_count": 10,
   "id": "bb43cae8",
   "metadata": {},
   "outputs": [
    {
     "name": "stdout",
     "output_type": "stream",
     "text": [
      "[[2, 3, 4, 5, 6], [3, 6, 9, 12, 3], [4, 2, 7, 9, 12]]\n"
     ]
    }
   ],
   "source": [
    "#matrix to 2-D list conversion\n",
    "a=[\n",
    "    [2,3,4,5,6],\n",
    "    [3,6,9,12,3],\n",
    "    [4,2,7,9,12]\n",
    "]\n",
    "print(a)"
   ]
  },
  {
   "cell_type": "code",
   "execution_count": 11,
   "id": "3e1a3ea2",
   "metadata": {},
   "outputs": [
    {
     "name": "stdout",
     "output_type": "stream",
     "text": [
      "45\n"
     ]
    }
   ],
   "source": [
    "#calculate sum of all numbers in 2-D list\n",
    "a=[[1,2,3,4],[5,6],[7,8,9]]\n",
    "s=0\n",
    "for i in range(len(a)):\n",
    "    for j in range(len(a[i])):\n",
    "        s+=a[i][j]\n",
    "print(s)"
   ]
  },
  {
   "cell_type": "code",
   "execution_count": 12,
   "id": "38a73931",
   "metadata": {},
   "outputs": [
    {
     "name": "stdout",
     "output_type": "stream",
     "text": [
      "5050\n"
     ]
    }
   ],
   "source": [
    "#calculate sum of all numbers in a matrix\n",
    "array2d = [\n",
    "[1, 2, 3, 4, 5, 6, 7, 8, 9, 10],\n",
    "[11, 12, 13, 14, 15, 16, 17, 18, 19, 20],\n",
    "[21, 22, 23, 24, 25, 26, 27, 28, 29, 30],\n",
    "[31, 32, 33, 34, 35, 36, 37, 38, 39, 40],\n",
    "[41, 42, 43, 44, 45, 46, 47, 48, 49, 50],\n",
    "[51, 52, 53, 54, 55, 56, 57, 58, 59, 60],\n",
    "[61, 62, 63, 64, 65, 66, 67, 68, 69, 70],\n",
    "[71, 72, 73, 74, 75, 76, 77, 78, 79, 80],\n",
    "[81, 82, 83, 84, 85, 86, 87, 88, 89, 90],\n",
    "[91, 92, 93, 94, 95, 96, 97, 98, 99, 100]\n",
    "]\n",
    "s=0\n",
    "for i in range(len(array2d)):\n",
    "    for j in range(len(array2d[i])):\n",
    "        s+=array2d[i][j]\n",
    "print(s)\n",
    "        "
   ]
  },
  {
   "cell_type": "code",
   "execution_count": 13,
   "id": "918a167e",
   "metadata": {},
   "outputs": [
    {
     "name": "stdout",
     "output_type": "stream",
     "text": [
      "505\n"
     ]
    }
   ],
   "source": [
    "#sum of all diagnol elements of matrix\n",
    "s=0\n",
    "for i in range(len(array2d)):\n",
    "    for j in range(len(array2d[i])):\n",
    "        if i==j:\n",
    "            s+=array2d[i][j]\n",
    "print(s)"
   ]
  },
  {
   "cell_type": "code",
   "execution_count": 14,
   "id": "291722e4",
   "metadata": {},
   "outputs": [
    {
     "name": "stdout",
     "output_type": "stream",
     "text": [
      "1 \n",
      "11 12 \n",
      "21 22 23 \n",
      "31 32 33 34 \n",
      "41 42 43 44 45 \n",
      "51 52 53 54 55 56 \n",
      "61 62 63 64 65 66 67 \n",
      "71 72 73 74 75 76 77 78 \n",
      "81 82 83 84 85 86 87 88 89 \n",
      "91 92 93 94 95 96 97 98 99 100 \n"
     ]
    }
   ],
   "source": [
    "#print all lower diagnol elements of a matrix\n",
    "for i in range(len(array2d)):\n",
    "    for j in range(len(array2d[i])):\n",
    "        if i>=j:\n",
    "            print(array2d[i][j],end=\" \")\n",
    "    print()"
   ]
  },
  {
   "cell_type": "code",
   "execution_count": 15,
   "id": "c7e1eeb4",
   "metadata": {},
   "outputs": [
    {
     "name": "stdout",
     "output_type": "stream",
     "text": [
      "4 2\n",
      "1 2 \n",
      "3 4\n",
      "5 6\n",
      "7 8\n",
      "3 7 11 15 "
     ]
    }
   ],
   "source": [
    "#row wise sum\n",
    "str=input().split()\n",
    "nRows,mCols=int(str[0]),int(str[1])\n",
    "mat=[[int(j)for j in input().split()]for i in range(nRows)] #here we are converting matrix to list\n",
    "for i in range(nRows):\n",
    "    sum=0\n",
    "    for j in range(mCols):\n",
    "        sum=sum+mat[i][j]\n",
    "    print(sum,end=\" \")"
   ]
  },
  {
   "cell_type": "code",
   "execution_count": 1,
   "id": "265342f3",
   "metadata": {},
   "outputs": [
    {
     "name": "stdout",
     "output_type": "stream",
     "text": [
      "4 2\n",
      "1 2\n",
      "3 4\n",
      "5 6\n",
      "7 8\n",
      "16\n",
      "20\n"
     ]
    }
   ],
   "source": [
    "#column wise sum\n",
    "str=input().split()\n",
    "nRows,mCols=int(str[0]),int(str[1])\n",
    "mat=[[int(j)for j in input().split()]for i in range(nRows)]\n",
    "for j in range(mCols):\n",
    "    sum=0\n",
    "    for i in range(nRows):\n",
    "        sum=sum+mat[i][j]\n",
    "    print(sum)"
   ]
  },
  {
   "cell_type": "code",
   "execution_count": 1,
   "id": "2b34d688",
   "metadata": {},
   "outputs": [
    {
     "name": "stdout",
     "output_type": "stream",
     "text": [
      "3 4\n",
      "1 2 3 4\n",
      "5 6 7 8\n",
      "9 10 11 12\n",
      "15\n",
      "18\n",
      "21\n",
      "24\n"
     ]
    }
   ],
   "source": [
    "#column wise sum\n",
    "str=input().split()\n",
    "n,m=int(str[0]),int(str[1])\n",
    "mat=[[int(j) for j in input().split()] for i in range(n)]\n",
    "for c in range(m):\n",
    "    sum=0\n",
    "    for r in range(n):\n",
    "        sum+=mat[r][c]\n",
    "    print(sum)"
   ]
  },
  {
   "cell_type": "code",
   "execution_count": 4,
   "id": "b75b91f3",
   "metadata": {},
   "outputs": [
    {
     "name": "stdout",
     "output_type": "stream",
     "text": [
      "3 4\n",
      "1 2 3 4\n",
      "5 6 7 8\n",
      "9 10 11 12\n"
     ]
    },
    {
     "ename": "NameError",
     "evalue": "name 'i' is not defined",
     "output_type": "error",
     "traceback": [
      "\u001b[1;31m---------------------------------------------------------------------------\u001b[0m",
      "\u001b[1;31mNameError\u001b[0m                                 Traceback (most recent call last)",
      "\u001b[1;32m<ipython-input-4-cfe63030a19f>\u001b[0m in \u001b[0;36m<module>\u001b[1;34m\u001b[0m\n\u001b[0;32m      3\u001b[0m \u001b[0mn\u001b[0m\u001b[1;33m,\u001b[0m\u001b[0mm\u001b[0m\u001b[1;33m=\u001b[0m\u001b[0mint\u001b[0m\u001b[1;33m(\u001b[0m\u001b[0mstr\u001b[0m\u001b[1;33m[\u001b[0m\u001b[1;36m0\u001b[0m\u001b[1;33m]\u001b[0m\u001b[1;33m)\u001b[0m\u001b[1;33m,\u001b[0m\u001b[0mint\u001b[0m\u001b[1;33m(\u001b[0m\u001b[0mstr\u001b[0m\u001b[1;33m[\u001b[0m\u001b[1;36m1\u001b[0m\u001b[1;33m]\u001b[0m\u001b[1;33m)\u001b[0m\u001b[1;33m\u001b[0m\u001b[1;33m\u001b[0m\u001b[0m\n\u001b[0;32m      4\u001b[0m \u001b[0mmat\u001b[0m\u001b[1;33m=\u001b[0m\u001b[1;33m[\u001b[0m\u001b[1;33m[\u001b[0m\u001b[0mint\u001b[0m\u001b[1;33m(\u001b[0m\u001b[0mj\u001b[0m\u001b[1;33m)\u001b[0m \u001b[1;32mfor\u001b[0m \u001b[0mj\u001b[0m \u001b[1;32min\u001b[0m \u001b[0minput\u001b[0m\u001b[1;33m(\u001b[0m\u001b[1;33m)\u001b[0m\u001b[1;33m.\u001b[0m\u001b[0msplit\u001b[0m\u001b[1;33m(\u001b[0m\u001b[1;33m)\u001b[0m\u001b[1;33m]\u001b[0m \u001b[1;32mfor\u001b[0m \u001b[0mi\u001b[0m \u001b[1;32min\u001b[0m \u001b[0mrange\u001b[0m\u001b[1;33m(\u001b[0m\u001b[0mn\u001b[0m\u001b[1;33m)\u001b[0m\u001b[1;33m]\u001b[0m\u001b[1;33m\u001b[0m\u001b[1;33m\u001b[0m\u001b[0m\n\u001b[1;32m----> 5\u001b[1;33m \u001b[1;32mfor\u001b[0m \u001b[0mj\u001b[0m \u001b[1;32min\u001b[0m \u001b[0mrange\u001b[0m\u001b[1;33m(\u001b[0m\u001b[0mlen\u001b[0m\u001b[1;33m(\u001b[0m\u001b[0mmat\u001b[0m\u001b[1;33m[\u001b[0m\u001b[0mi\u001b[0m\u001b[1;33m]\u001b[0m\u001b[1;33m)\u001b[0m\u001b[1;33m)\u001b[0m\u001b[1;33m:\u001b[0m\u001b[1;33m\u001b[0m\u001b[1;33m\u001b[0m\u001b[0m\n\u001b[0m\u001b[0;32m      6\u001b[0m     \u001b[0msum\u001b[0m\u001b[1;33m=\u001b[0m\u001b[1;36m0\u001b[0m\u001b[1;33m\u001b[0m\u001b[1;33m\u001b[0m\u001b[0m\n\u001b[0;32m      7\u001b[0m     \u001b[1;32mfor\u001b[0m \u001b[0mi\u001b[0m \u001b[1;32min\u001b[0m \u001b[0mrange\u001b[0m\u001b[1;33m(\u001b[0m\u001b[0mlen\u001b[0m\u001b[1;33m(\u001b[0m\u001b[0mmat\u001b[0m\u001b[1;33m)\u001b[0m\u001b[1;33m)\u001b[0m\u001b[1;33m:\u001b[0m\u001b[1;33m\u001b[0m\u001b[1;33m\u001b[0m\u001b[0m\n",
      "\u001b[1;31mNameError\u001b[0m: name 'i' is not defined"
     ]
    }
   ],
   "source": [
    "#column wise sum\n",
    "str=input().split()\n",
    "n,m=int(str[0]),int(str[1])\n",
    "mat=[[int(j) for j in input().split()] for i in range(n)]\n",
    "for j in range(len(mat[i])):\n",
    "    sum=0\n",
    "    for i in range(len(mat)):\n",
    "        sum+=mat[i][j]\n",
    "    print(sum)#we cannot take range(len(?)) where we want to iterate over columns first."
   ]
  },
  {
   "cell_type": "code",
   "execution_count": 5,
   "id": "48340765",
   "metadata": {},
   "outputs": [
    {
     "name": "stdout",
     "output_type": "stream",
     "text": [
      "3 4\n",
      "1 2 3 4\n",
      "5 6 7 8\n",
      "9 10 11 12\n",
      "1 5 9 \n",
      "2 6 10 \n",
      "3 7 11 \n",
      "4 8 12 \n"
     ]
    }
   ],
   "source": [
    "#transpose of matrix\n",
    "str=input().split()\n",
    "nRows,mCols=int(str[0]),int(str[1])\n",
    "mat=[[int(j)for j in input().split()]for i in range(nRows)]\n",
    "for j in range(mCols):\n",
    "    for i in range(nRows):\n",
    "        print(mat[i][j],end=\" \")\n",
    "    print()"
   ]
  },
  {
   "cell_type": "code",
   "execution_count": 3,
   "id": "98bb6dac",
   "metadata": {},
   "outputs": [
    {
     "name": "stdout",
     "output_type": "stream",
     "text": [
      "4 2\n",
      "1 2\n",
      "3 4\n",
      "5 6\n",
      "7 8\n",
      "16 20 "
     ]
    }
   ],
   "source": [
    "#column wise sum\n",
    "str=input().split()\n",
    "nRows,mCols=int(str[0]),int(str[1])\n",
    "mat=[[int(j)for j in input().split()]for i in range(nRows)] #converted matrix to list\n",
    "for j in range(mCols):\n",
    "    sum=0\n",
    "    for i in range(nRows):\n",
    "        sum=sum+mat[i][j]\n",
    "    print(sum,end=\" \")"
   ]
  },
  {
   "cell_type": "code",
   "execution_count": 6,
   "id": "9a76d0df",
   "metadata": {},
   "outputs": [
    {
     "name": "stdout",
     "output_type": "stream",
     "text": [
      "21 3\n"
     ]
    }
   ],
   "source": [
    "#largest column sum in 2D (without using functions)\n",
    "li=[[1,2,3,4],[8,7,6,5],[9,10,11,12]]\n",
    "n,m=len(li),len(li[0])\n",
    "max_sum=-1\n",
    "max_col_index=-1\n",
    "for j in range(m):\n",
    "    sum=0\n",
    "    for i in range(n):\n",
    "        sum+=li[i][j]\n",
    "    if sum>max_sum:\n",
    "        max_sum=sum\n",
    "        max_col_index=j\n",
    "print(max_sum,max_col_index)"
   ]
  },
  {
   "cell_type": "code",
   "execution_count": 7,
   "id": "a5e5c992",
   "metadata": {},
   "outputs": [
    {
     "name": "stdout",
     "output_type": "stream",
     "text": [
      "21 3\n"
     ]
    }
   ],
   "source": [
    "#largest column sum in 2D\n",
    "def lar_col_sum(li):\n",
    "    n=len(li)   #n=no. of rows\n",
    "    m=len(li[0])  #m=no. of columns\n",
    "    max_sum=-1   #can assign any negative value here(just for comparison of max sum)\n",
    "    max_col_index=-1\n",
    "    for j in range(m):   #iterating over column first\n",
    "        sum=0\n",
    "        for i in range(n):  #iterating over row first\n",
    "            sum+=li[i][j]\n",
    "        if sum>max_sum:\n",
    "            max_col_index=j\n",
    "            max_sum=sum\n",
    "    return max_sum,max_col_index\n",
    "li=[[1,2,3,4],[8,7,6,5],[9,10,11,12]]\n",
    "lar_sum,lar_col_Index=lar_col_sum(li)\n",
    "print(lar_sum,lar_col_Index)"
   ]
  },
  {
   "cell_type": "code",
   "execution_count": 17,
   "id": "77ee25af",
   "metadata": {},
   "outputs": [
    {
     "name": "stdout",
     "output_type": "stream",
     "text": [
      "3 6 9\n",
      "1 4 7\n",
      "2 8 9\n",
      "column 2 25\n"
     ]
    }
   ],
   "source": [
    "#largest row or column\n",
    "def findLargest(arr, nRows, mCols):\n",
    "    min_value=-67945\n",
    "    n=nRows\n",
    "    m=mCols\n",
    "    max_index=-1\n",
    "    max_sum=-1\n",
    "    if nRows==0 and mCols==0:\n",
    "        print('row',0,-67945)\n",
    "    else:\n",
    "        for j in range(m):\n",
    "            sum=0\n",
    "            for ele in arr:\n",
    "                sum=sum+ele[j]\n",
    "            if sum>max_sum:\n",
    "                max_sum=sum\n",
    "                max_index=j\n",
    "        max_rindex=-1\n",
    "        max_rsum=-1\n",
    "        for i in range(n):\n",
    "            sum=0\n",
    "            for j in range(m):\n",
    "                sum=sum+arr[i][j]\n",
    "            if sum>max_rsum:\n",
    "                max_rsum=sum\n",
    "                max_rindex=i\n",
    "        if max_sum>max_rsum:\n",
    "            print('column',max_index,max_sum)\n",
    "        else:\n",
    "            print('row',max_rindex,max_rsum)\n",
    "nRows,mCols=3,3\n",
    "arr=[[int(j) for j in input().split()] for i in range(nRows)]\n",
    "findLargest(arr,nRows,mCols)"
   ]
  },
  {
   "cell_type": "code",
   "execution_count": 19,
   "id": "777c3066",
   "metadata": {},
   "outputs": [
    {
     "name": "stdout",
     "output_type": "stream",
     "text": [
      "0\n",
      "0\n",
      "row 0 -67945\n"
     ]
    }
   ],
   "source": [
    "#largest row or column\n",
    "def findLargest(arr, nRows, mCols):\n",
    "    min_value=-67945\n",
    "    n=nRows\n",
    "    m=mCols\n",
    "    max_index=-1\n",
    "    max_sum=-1\n",
    "    if nRows==0 and mCols==0:\n",
    "        print('row',0,-67945)\n",
    "    else:\n",
    "        for j in range(m):\n",
    "            sum=0\n",
    "            for ele in arr:\n",
    "                sum=sum+ele[j]\n",
    "            if sum>max_sum:\n",
    "                max_sum=sum\n",
    "                max_index=j\n",
    "        max_rindex=-1\n",
    "        max_rsum=-1\n",
    "        for i in range(n):\n",
    "            sum=0\n",
    "            for j in range(m):\n",
    "                sum=sum+arr[i][j]\n",
    "            if sum>max_rsum:\n",
    "                max_rsum=sum\n",
    "                max_rindex=i\n",
    "        if max_sum>max_rsum:\n",
    "            print('column',max_index,max_sum)\n",
    "        else:\n",
    "            print('row',max_rindex,max_rsum)\n",
    "nRows=int(input())\n",
    "mCols=int(input())\n",
    "arr=[[int(j) for j in input().split()] for i in range(nRows)]\n",
    "findLargest(arr,nRows,mCols)"
   ]
  },
  {
   "cell_type": "code",
   "execution_count": 8,
   "id": "e02cc060",
   "metadata": {},
   "outputs": [
    {
     "name": "stdout",
     "output_type": "stream",
     "text": [
      "1 5 9 2 6 10 3 7 11 4 8 12 "
     ]
    }
   ],
   "source": [
    "li=[[1,2,3,4],[5,6,7,8],[9,10,11,12]]\n",
    "for j in range(4):     #iterating over columns first\n",
    "    for ele in li:     #iterating over rows first\n",
    "        print(ele[j],end = \" \")\n"
   ]
  },
  {
   "cell_type": "code",
   "execution_count": 3,
   "id": "4c63cc6b",
   "metadata": {},
   "outputs": [
    {
     "name": "stdout",
     "output_type": "stream",
     "text": [
      "3 4\n",
      "1 2 3 4\n",
      "5 6 7 8\n",
      "9 10 11 12\n",
      "[[1, 2, 3, 4], [5, 6, 7, 8], [9, 10, 11, 12]]\n"
     ]
    }
   ],
   "source": [
    "str=input().split()\n",
    "n,m=int(str[0]),int(str[1])\n",
    "mat=[[int(j) for j in input().split()] for i in range(n)]  #converted matrix to list\n",
    "print(mat)"
   ]
  },
  {
   "cell_type": "code",
   "execution_count": 2,
   "id": "5bca58e4",
   "metadata": {},
   "outputs": [
    {
     "name": "stdout",
     "output_type": "stream",
     "text": [
      "3 4\n",
      "1 2 3 4\n",
      "5 6 7 8\n",
      "9 10 11 12\n",
      "[1, 5, 9]\n",
      "[2, 6, 10]\n",
      "[3, 7, 11]\n",
      "[4, 8, 12]\n"
     ]
    }
   ],
   "source": [
    "\n",
    "str=input().split()\n",
    "n,m=int(str[0]),int(str[1])\n",
    "mat=[[int(j) for j in input().split()] for i in range(n)]  #converted matrix to list\n",
    "for j in range(m):   #iterating over colun first\n",
    "        temp=[]\n",
    "        for i in range(n):   #iterating over rows here\n",
    "            temp.append(mat[i][j])   #made lists out of 2D list\n",
    "        print(temp)\n"
   ]
  },
  {
   "cell_type": "code",
   "execution_count": 4,
   "id": "6a955abc",
   "metadata": {},
   "outputs": [
    {
     "name": "stdout",
     "output_type": "stream",
     "text": [
      "3 4\n",
      "1 2 3 4\n",
      "5 6 7 8\n",
      "9 10 11 12\n",
      "1 5 9 10 6 2 3 7 11 12 8 4 "
     ]
    }
   ],
   "source": [
    "#wave print\n",
    "str=input().split()\n",
    "n,m=int(str[0]),int(str[1])\n",
    "mat=[[int(j) for j in input().split()] for i in range(n)]  #converted matrix to list\n",
    "for j in range(m):   #iterating over column first\n",
    "        temp=[]\n",
    "        for i in range(n):   #iterating over rows here\n",
    "            temp.append(mat[i][j])     #got converted lists here(transpose of given matrix)\n",
    "        if j%2==0:      #here j is j of given matrix\n",
    "            for ele in temp:   #iterating over rows in converted lists\n",
    "                print(ele,end=\" \")\n",
    "        else:\n",
    "            rev=reversed(temp)\n",
    "            for k in rev:\n",
    "                print(k,end=\" \")\n",
    "        "
   ]
  },
  {
   "cell_type": "code",
   "execution_count": 7,
   "id": "8705a305",
   "metadata": {},
   "outputs": [
    {
     "name": "stdout",
     "output_type": "stream",
     "text": [
      "4 4\n",
      "1 2 3 4\n",
      "5 6 7 8\n",
      "9 10 11 12\n",
      "13 14 15 16\n",
      "1 6 11 16 "
     ]
    }
   ],
   "source": [
    "#1print diagnol elements of matrix (matrix to 2D list to matrix)\n",
    "str=input().split()\n",
    "n,m=int(str[0]),int(str[1])\n",
    "li=[[int(j) for j in input().split()] for i in range(n)]\n",
    "for r in range(len(li)):\n",
    "    for c in range(len(li[r])):\n",
    "        if r==c:\n",
    "            print(li[r][c],end=\" \")\n",
    "        "
   ]
  },
  {
   "cell_type": "code",
   "execution_count": 25,
   "id": "55efadbe",
   "metadata": {},
   "outputs": [
    {
     "name": "stdout",
     "output_type": "stream",
     "text": [
      "1 6 11 16 "
     ]
    }
   ],
   "source": [
    "#1print diagnol elements of matrix (2D list to matrix)\n",
    "arr=[\n",
    "    [1,2,3,4],\n",
    "    [5,6,7,8],\n",
    "    [9,10,11,12],\n",
    "    [13,14,15,16]\n",
    "]\n",
    "for i in range(len(arr)):\n",
    "    for j in range(len(arr[i])):\n",
    "        if i==j:\n",
    "            print(arr[i][j],end=\" \")\n",
    "        "
   ]
  },
  {
   "cell_type": "code",
   "execution_count": 12,
   "id": "a39fdc92",
   "metadata": {},
   "outputs": [
    {
     "name": "stdout",
     "output_type": "stream",
     "text": [
      "4 4\n",
      "1 2 3 4\n",
      "5 6 7 8\n",
      "9 10 11 12\n",
      "13 14 15 16\n",
      "34\n"
     ]
    }
   ],
   "source": [
    "#2 sum of diagnol elements of 2D matrix (matrix to 2D list to sum)\n",
    "str=input().split()\n",
    "n,m=int(str[0]),int(str[1])\n",
    "li=[[int(j) for j in input().split()] for i in range(n)]\n",
    "sum=0\n",
    "for r in range(len(li)):\n",
    "    for c in range(len(li[r])):\n",
    "        if r==c:\n",
    "            sum+=li[r][c]\n",
    "print(sum)\n",
    "            "
   ]
  },
  {
   "cell_type": "code",
   "execution_count": 27,
   "id": "aca1af48",
   "metadata": {},
   "outputs": [
    {
     "name": "stdout",
     "output_type": "stream",
     "text": [
      "34\n"
     ]
    }
   ],
   "source": [
    "#2 sum of diagnol elements of 2D matrix (2D list to sum)\n",
    "arr=[\n",
    "    [1,2,3,4],\n",
    "    [5,6,7,8],\n",
    "    [9,10,11,12],\n",
    "    [13,14,15,16]\n",
    "]\n",
    "sum=0\n",
    "for i in range(len(arr)):\n",
    "    for j in range(len(arr[i])):\n",
    "        if i==j:\n",
    "            sum=sum+arr[i][j]\n",
    "print(sum)"
   ]
  },
  {
   "cell_type": "code",
   "execution_count": 32,
   "id": "a6127d6e",
   "metadata": {},
   "outputs": [
    {
     "name": "stdout",
     "output_type": "stream",
     "text": [
      "4 4\n",
      "1 2 3 4\n",
      "5 6 7 8\n",
      "9 10 11 12 \n",
      "13 14 15 16\n",
      "10\n",
      "26\n",
      "42\n",
      "58\n"
     ]
    }
   ],
   "source": [
    "#3 sum of rows of 2D matrix (matrix to 2D list to sum)\n",
    "str=input().split()\n",
    "n,m=int(str[0]),int(str[1])\n",
    "li=[[int(j) for j in input().split()] for i in range(n)]\n",
    "\n",
    "for r in range(len(li)):\n",
    "    sum=0\n",
    "    for c in range(len(li[r])):\n",
    "        sum+=li[r][c]\n",
    "    print(sum)\n",
    "            "
   ]
  },
  {
   "cell_type": "code",
   "execution_count": 30,
   "id": "a73f2252",
   "metadata": {},
   "outputs": [
    {
     "name": "stdout",
     "output_type": "stream",
     "text": [
      "10\n",
      "26\n",
      "42\n",
      "58\n"
     ]
    }
   ],
   "source": [
    "#3 sum of rows of 2D matrix (2D list to sum)\n",
    "arr=[\n",
    "    [1,2,3,4],\n",
    "    [5,6,7,8],\n",
    "    [9,10,11,12],\n",
    "    [13,14,15,16]\n",
    "]\n",
    "for i in range(len(arr)):\n",
    "    sum=0\n",
    "    for j in range(len(arr[i])):\n",
    "        sum=sum+arr[i][j]\n",
    "    print(sum)"
   ]
  },
  {
   "cell_type": "code",
   "execution_count": 37,
   "id": "49989e5b",
   "metadata": {},
   "outputs": [
    {
     "name": "stdout",
     "output_type": "stream",
     "text": [
      "4 4\n",
      "1 2 3 4\n",
      "5 6 7 8\n",
      "9 10 11 12\n",
      "13 14 15 16\n",
      "136\n"
     ]
    }
   ],
   "source": [
    "#4 sum of all elements of 2D matrix (matrix to 2D list to sum)\n",
    "str=input().split()\n",
    "n,m=int(str[0]),int(str[1])\n",
    "li=[[int(j) for j in input().split()] for i in range(n)]\n",
    "sum=0\n",
    "for r in range(len(li)):\n",
    "    for c in range(len(li[r])):\n",
    "        sum+=li[r][c]\n",
    "print(sum)\n",
    "            "
   ]
  },
  {
   "cell_type": "code",
   "execution_count": 35,
   "id": "8e8e5350",
   "metadata": {},
   "outputs": [
    {
     "name": "stdout",
     "output_type": "stream",
     "text": [
      "136\n"
     ]
    }
   ],
   "source": [
    "#4 print sum of all elements of 2D list(2D list to sum)\n",
    "\n",
    "sum=0\n",
    "arr=[\n",
    "    [1,2,3,4],\n",
    "    [5,6,7,8],\n",
    "    [9,10,11,12],\n",
    "    [13,14,15,16]\n",
    "]\n",
    "for i in range(len(arr)):\n",
    "    for j in range(len(arr[i])):\n",
    "        sum+=arr[i][j]\n",
    "print(sum)"
   ]
  },
  {
   "cell_type": "code",
   "execution_count": 2,
   "id": "6b4d4caa",
   "metadata": {},
   "outputs": [
    {
     "name": "stdout",
     "output_type": "stream",
     "text": [
      "4 4\n",
      "1 2 3 4\n",
      "5 6 7 8\n",
      "9 10 11 12\n",
      "13 14 15 16\n",
      "1 \n",
      "5 6 \n",
      "9 10 11 \n",
      "13 14 15 16 \n"
     ]
    }
   ],
   "source": [
    "#5 print lower half and diagnol elements of 2D matrix(matrix to 2D list to matrix)\n",
    "str=input().split()\n",
    "n,m=int(str[0]),int(str[1])\n",
    "li=[[int(j) for j in input().split()] for i in range(n)]\n",
    "for i in range(len(li)):\n",
    "    for j in range(len(li[i])):\n",
    "        if i>=j:\n",
    "            print(li[i][j],end=\" \")\n",
    "    print()"
   ]
  },
  {
   "cell_type": "code",
   "execution_count": 3,
   "id": "3a014bb2",
   "metadata": {},
   "outputs": [
    {
     "name": "stdout",
     "output_type": "stream",
     "text": [
      "1 \n",
      "5 6 \n",
      "9 10 11 \n",
      "13 14 15 16 \n"
     ]
    }
   ],
   "source": [
    "#5 print lower half and diagnol elements of 2D matrix(2D list to matrix)\n",
    "arr=[\n",
    "    [1,2,3,4],\n",
    "    [5,6,7,8],\n",
    "    [9,10,11,12],\n",
    "    [13,14,15,16]\n",
    "]\n",
    "for i in range(len(arr)):\n",
    "    for j in range(len(arr[i])):\n",
    "        if i>=j:\n",
    "            print(arr[i][j],end=\" \")\n",
    "    print()"
   ]
  },
  {
   "cell_type": "code",
   "execution_count": 8,
   "id": "f668fe10",
   "metadata": {},
   "outputs": [
    {
     "name": "stdout",
     "output_type": "stream",
     "text": [
      "4 4\n",
      "1 2 3 4\n",
      "5 6 7 8\n",
      "9 10 11 12\n",
      "13 14 15 16 \n",
      "  2 3 4 \n",
      "    7 8 \n",
      "      12 \n",
      "        \n"
     ]
    }
   ],
   "source": [
    "#6 print upper half  elements of 2D matrix(matrix to 2D list to matrix)\n",
    "str=input().split()\n",
    "n,m=int(str[0]),int(str[1])\n",
    "li=[[int(j) for j in input().split()] for i in range(n)]\n",
    "for i in range(len(li)):\n",
    "    for j in range(len(li[i])):\n",
    "        if i>=j:\n",
    "            print(\" \",end=\" \")\n",
    "        \n",
    "        elif i<j:\n",
    "            print(li[i][j],end=\" \")\n",
    "    print()"
   ]
  },
  {
   "cell_type": "code",
   "execution_count": 10,
   "id": "700ef2d2",
   "metadata": {},
   "outputs": [
    {
     "name": "stdout",
     "output_type": "stream",
     "text": [
      "  2 3 4 \n",
      "    7 8 \n",
      "      12 \n",
      "        \n"
     ]
    }
   ],
   "source": [
    "#6 print upper half  elements of 2D matrix(2D list to matrix)\n",
    "arr=[\n",
    "    [1,2,3,4],\n",
    "    [5,6,7,8],\n",
    "    [9,10,11,12],\n",
    "    [13,14,15,16]\n",
    "]\n",
    "for i in range(len(arr)):\n",
    "    for j in range(len(arr[i])):\n",
    "        if i>=j:\n",
    "            print(\" \",end=\" \")\n",
    "        elif i<j:\n",
    "            print(arr[i][j],end=\" \")\n",
    "    print()"
   ]
  },
  {
   "cell_type": "code",
   "execution_count": 15,
   "id": "9cb200c1",
   "metadata": {},
   "outputs": [
    {
     "name": "stdout",
     "output_type": "stream",
     "text": [
      "3 4\n",
      "1 2 3 4\n",
      "5 6 7 8\n",
      "9 10 11 12\n",
      "1 5 9 \n",
      "2 6 10 \n",
      "3 7 11 \n",
      "4 8 12 \n"
     ]
    }
   ],
   "source": [
    "#7 transpose of a matrix (matrix to list to matrix)\n",
    "str=input().split()\n",
    "n,m=int(str[0]),int(str[1])\n",
    "li=[[int(j) for j in input().split()]for i in range(n)]\n",
    "for i in range(m):\n",
    "    for j in range(n):\n",
    "        print(li[j][i],end=\" \")\n",
    "    print()"
   ]
  },
  {
   "cell_type": "code",
   "execution_count": 16,
   "id": "2342cc89",
   "metadata": {},
   "outputs": [
    {
     "name": "stdout",
     "output_type": "stream",
     "text": [
      "1 5 9 13 \n",
      "2 6 10 14 \n",
      "3 7 11 15 \n",
      "4 8 12 16 \n"
     ]
    }
   ],
   "source": [
    "#7 transpose of a matrix (2D to matrix)\n",
    "arr=[\n",
    "    [1,2,3,4],\n",
    "    [5,6,7,8],\n",
    "    [9,10,11,12],\n",
    "    [13,14,15,16]\n",
    "]\n",
    "for i in range(len(arr)):\n",
    "    for j in range(len(arr[i])):\n",
    "        print(arr[j][i],end=\" \")\n",
    "    print()"
   ]
  },
  {
   "cell_type": "code",
   "execution_count": 18,
   "id": "84f8f333",
   "metadata": {},
   "outputs": [
    {
     "name": "stdout",
     "output_type": "stream",
     "text": [
      "20922789888000\n"
     ]
    }
   ],
   "source": [
    "#8 multiplication of matrix(matrix to multiply)\n",
    "multiply=1\n",
    "arr=[\n",
    "    [1,2,3,4],\n",
    "    [5,6,7,8],\n",
    "    [9,10,11,12],\n",
    "    [13,14,15,16]\n",
    "]\n",
    "for i in range(len(arr)):\n",
    "    for j in range(len(arr[i])):\n",
    "        multiply*=arr[i][j]\n",
    "print(multiply)"
   ]
  },
  {
   "cell_type": "code",
   "execution_count": 19,
   "id": "607dbe8f",
   "metadata": {},
   "outputs": [
    {
     "name": "stdout",
     "output_type": "stream",
     "text": [
      "3 3\n",
      "1 2 3\n",
      "4 5 6\n",
      "7 8 9\n",
      "362880\n"
     ]
    }
   ],
   "source": [
    "#8 multiply of all elements of 2D matrix (matrix to 2D list to multiply)\n",
    "str=input().split()\n",
    "n,m=int(str[0]),int(str[1])\n",
    "li=[[int(j) for j in input().split()] for i in range(n)]\n",
    "multiply=1\n",
    "for r in range(len(li)):\n",
    "    for c in range(len(li[r])):\n",
    "        multiply*=li[r][c]\n",
    "print(multiply)\n",
    "            "
   ]
  },
  {
   "cell_type": "code",
   "execution_count": null,
   "id": "0c30149e",
   "metadata": {},
   "outputs": [],
   "source": []
  }
 ],
 "metadata": {
  "kernelspec": {
   "display_name": "Python 3",
   "language": "python",
   "name": "python3"
  },
  "language_info": {
   "codemirror_mode": {
    "name": "ipython",
    "version": 3
   },
   "file_extension": ".py",
   "mimetype": "text/x-python",
   "name": "python",
   "nbconvert_exporter": "python",
   "pygments_lexer": "ipython3",
   "version": "3.8.8"
  }
 },
 "nbformat": 4,
 "nbformat_minor": 5
}
