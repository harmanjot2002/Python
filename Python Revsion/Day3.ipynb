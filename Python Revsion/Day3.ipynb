{
 "cells": [
  {
   "cell_type": "code",
   "execution_count": 1,
   "id": "39066787",
   "metadata": {},
   "outputs": [
    {
     "name": "stdout",
     "output_type": "stream",
     "text": [
      "name\tplace\n",
      "pantech\tT-nagar\n"
     ]
    }
   ],
   "source": [
    "#Escape characters\n",
    "s=\"name\\tplace\\npantech\\tT-nagar\"\n",
    "print(s)"
   ]
  },
  {
   "cell_type": "code",
   "execution_count": 2,
   "id": "2519c552",
   "metadata": {},
   "outputs": [
    {
     "name": "stdout",
     "output_type": "stream",
     "text": [
      "abcdef\n"
     ]
    }
   ],
   "source": [
    "#Concatenation of 2 strings\n",
    "s1=\"abc\"\n",
    "s2=\"def\"\n",
    "s=s1+s2\n",
    "print(s)"
   ]
  },
  {
   "cell_type": "code",
   "execution_count": 3,
   "id": "841cda87",
   "metadata": {},
   "outputs": [
    {
     "data": {
      "text/plain": [
       "'abc23'"
      ]
     },
     "execution_count": 3,
     "metadata": {},
     "output_type": "execute_result"
    }
   ],
   "source": [
    "#String Operations\n",
    "\"abc\"+str(23)"
   ]
  },
  {
   "cell_type": "code",
   "execution_count": 4,
   "id": "a62a6331",
   "metadata": {},
   "outputs": [
    {
     "data": {
      "text/plain": [
       "6"
      ]
     },
     "execution_count": 4,
     "metadata": {},
     "output_type": "execute_result"
    }
   ],
   "source": [
    "len(\"abcdef\")"
   ]
  },
  {
   "cell_type": "code",
   "execution_count": 5,
   "id": "755c3783",
   "metadata": {},
   "outputs": [
    {
     "data": {
      "text/plain": [
       "3"
      ]
     },
     "execution_count": 5,
     "metadata": {},
     "output_type": "execute_result"
    }
   ],
   "source": [
    "s=\"abcdefghi\"\n",
    "s.find(\"def\")"
   ]
  },
  {
   "cell_type": "code",
   "execution_count": 6,
   "id": "4149f65e",
   "metadata": {},
   "outputs": [
    {
     "data": {
      "text/plain": [
       "'bcde'"
      ]
     },
     "execution_count": 6,
     "metadata": {},
     "output_type": "execute_result"
    }
   ],
   "source": [
    "s=\"abcdefghi\"\n",
    "s[1:5]"
   ]
  },
  {
   "cell_type": "code",
   "execution_count": 7,
   "id": "748cfc70",
   "metadata": {},
   "outputs": [
    {
     "data": {
      "text/plain": [
       "'abcde'"
      ]
     },
     "execution_count": 7,
     "metadata": {},
     "output_type": "execute_result"
    }
   ],
   "source": [
    "s[:5]"
   ]
  },
  {
   "cell_type": "code",
   "execution_count": 8,
   "id": "1fc1493d",
   "metadata": {},
   "outputs": [
    {
     "data": {
      "text/plain": [
       "'defghi'"
      ]
     },
     "execution_count": 8,
     "metadata": {},
     "output_type": "execute_result"
    }
   ],
   "source": [
    "s=\"abcdefghi\"\n",
    "s[3:]"
   ]
  },
  {
   "cell_type": "code",
   "execution_count": 9,
   "id": "2cd343f1",
   "metadata": {},
   "outputs": [
    {
     "data": {
      "text/plain": [
       "'try try try until u succeed'"
      ]
     },
     "execution_count": 9,
     "metadata": {},
     "output_type": "execute_result"
    }
   ],
   "source": [
    "s=\"wait wait wait until u succeed\"\n",
    "s.replace(\"wait\",\"try\")"
   ]
  },
  {
   "cell_type": "code",
   "execution_count": 10,
   "id": "e79f2fcb",
   "metadata": {},
   "outputs": [
    {
     "data": {
      "text/plain": [
       "'ABVG'"
      ]
     },
     "execution_count": 10,
     "metadata": {},
     "output_type": "execute_result"
    }
   ],
   "source": [
    "\"aBVG\".upper()"
   ]
  },
  {
   "cell_type": "code",
   "execution_count": 11,
   "id": "2f01ed97",
   "metadata": {},
   "outputs": [
    {
     "data": {
      "text/plain": [
       "'abvg'"
      ]
     },
     "execution_count": 11,
     "metadata": {},
     "output_type": "execute_result"
    }
   ],
   "source": [
    "\"aBVG\".lower()"
   ]
  },
  {
   "cell_type": "code",
   "execution_count": 12,
   "id": "8ded0f11",
   "metadata": {},
   "outputs": [
    {
     "name": "stdout",
     "output_type": "stream",
     "text": [
      "It can be ur no.\n"
     ]
    }
   ],
   "source": [
    "#Conditionals\n",
    "x=101\n",
    "if(x==34):\n",
    "    print(\"Its 34\")\n",
    "elif(x>=34):\n",
    "    print(\"It can be ur no.\")\n",
    "else:\n",
    "    print(\"Its definitely not ur no.\")"
   ]
  },
  {
   "cell_type": "code",
   "execution_count": 13,
   "id": "2e4c3ee1",
   "metadata": {},
   "outputs": [
    {
     "name": "stdout",
     "output_type": "stream",
     "text": [
      "Enter the input stringmadam\n",
      "It is a palindrome\n"
     ]
    }
   ],
   "source": [
    "a=str(input(\"Enter the input string\"))\n",
    "a=a.casefold()\n",
    "b=reversed(a)\n",
    "if(list(a)==list(b)):\n",
    "    print(\"It is a palindrome\")\n",
    "else:\n",
    "    print(\"It is not a palindrome\")"
   ]
  },
  {
   "cell_type": "code",
   "execution_count": 14,
   "id": "b67502eb",
   "metadata": {},
   "outputs": [
    {
     "name": "stdout",
     "output_type": "stream",
     "text": [
      "1\n",
      "2\n",
      "3\n",
      "4\n",
      "5\n",
      "6\n",
      "7\n",
      "8\n",
      "9\n",
      "10\n"
     ]
    }
   ],
   "source": [
    "def count_to_10():\n",
    "    for i in range(1,11):\n",
    "        print(i)\n",
    "count_to_10()"
   ]
  }
 ],
 "metadata": {
  "kernelspec": {
   "display_name": "Python 3",
   "language": "python",
   "name": "python3"
  },
  "language_info": {
   "codemirror_mode": {
    "name": "ipython",
    "version": 3
   },
   "file_extension": ".py",
   "mimetype": "text/x-python",
   "name": "python",
   "nbconvert_exporter": "python",
   "pygments_lexer": "ipython3",
   "version": "3.8.8"
  }
 },
 "nbformat": 4,
 "nbformat_minor": 5
}
