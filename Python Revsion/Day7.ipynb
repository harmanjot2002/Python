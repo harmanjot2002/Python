{
 "cells": [
  {
   "cell_type": "markdown",
   "id": "5f2d3857",
   "metadata": {},
   "source": [
    "### List comprehensions"
   ]
  },
  {
   "cell_type": "raw",
   "id": "b8e31896",
   "metadata": {},
   "source": [
    "Python list comprehension provides a much more short syntax for creating a new list based on values of an existing list.\n",
    "It is similar to for loops,diffrence is their performance.\n",
    "Advantages of List Comprehension:\n",
    "    -More time-efficient and space-efficient than loops.\n",
    "    -Require fewer lines of code.\n",
    "    -Transforms iterative statement into a formula."
   ]
  },
  {
   "cell_type": "code",
   "execution_count": 1,
   "id": "04b1e908",
   "metadata": {},
   "outputs": [
    {
     "name": "stdout",
     "output_type": "stream",
     "text": [
      "[1, 2, 3]\n"
     ]
    }
   ],
   "source": [
    "List=[character for character in [1,2,3]]\n",
    "print(List)"
   ]
  },
  {
   "cell_type": "code",
   "execution_count": 2,
   "id": "0f178e59",
   "metadata": {},
   "outputs": [
    {
     "name": "stdout",
     "output_type": "stream",
     "text": [
      "[0, 2, 4, 6, 8, 10]\n"
     ]
    }
   ],
   "source": [
    "list=[i for i in range(11) if i%2==0]\n",
    "print(list)"
   ]
  },
  {
   "cell_type": "code",
   "execution_count": 3,
   "id": "efa1eb7d",
   "metadata": {},
   "outputs": [
    {
     "name": "stdout",
     "output_type": "stream",
     "text": [
      "[[0, 1, 2], [0, 1, 2], [0, 1, 2]]\n"
     ]
    }
   ],
   "source": [
    "matrix=[[j for j in range(3)] for i in range(3)]\n",
    "print(matrix)"
   ]
  },
  {
   "cell_type": "code",
   "execution_count": 4,
   "id": "0ff6d0f1",
   "metadata": {},
   "outputs": [
    {
     "name": "stdout",
     "output_type": "stream",
     "text": [
      "['W', 'e', 'l', 'c', 'o', 'm', 'e', ' ', 'T', 'o', ' ', 'A', 'd', 'v', 'a', 'n', 'c', 'e', 'd', ' ', 'P', 'y', 't', 'h', 'o', 'n', ' ', 'P', 'r', 'o', 'g', 'r', 'a', 'm', 'm', 'i', 'n', 'g']\n"
     ]
    }
   ],
   "source": [
    "List=[]\n",
    "for character in 'Welcome To Advanced Python Programming':\n",
    "    List.append(character)\n",
    "print(List)"
   ]
  },
  {
   "cell_type": "markdown",
   "id": "dc4af6e0",
   "metadata": {},
   "source": [
    "### Serialization"
   ]
  },
  {
   "cell_type": "raw",
   "id": "497bd871",
   "metadata": {},
   "source": [
    "In the context of data storage,serialization is the process of translating data strutures or object state into a format that can be stored(e.g.in a memory buffer)or transmitted and reconstructed later.\n",
    "\n",
    "In serialization,an object is transforemd into a format that can be stored,so as to be able to deserialize it later and recreate the original object from the serialized format.\n",
    "\n",
    "Pickling is the process whereby a Python object heirarchy is converted into a byte stream(usually not a human readable)to be written to a file,this is also known as Serialization.\n",
    "\n",
    "Unpicking is the reverse opearation,whereby a byte stream is converted back into a working Python object heirarchy.\n",
    "\n",
    "Pickle is operationally simplest way to store the object.\n",
    "\n",
    "Python Pickle module is an object-oriented way to store objects directly in a special storae format.\n",
    "\n",
    "WHAT PICKLE CAN DO?\n",
    "Pickle can store and reproduce dictionaries and lists very easily.\n",
    "Stores object attributes and restores them back to same State.\n",
    "\n",
    "WHAT PICKLE CAN'T DO?\n",
    "It doesnot save an object's code.Only its attributes values.\n",
    "It cannot store file handles or connection sockets."
   ]
  },
  {
   "cell_type": "raw",
   "id": "a33435d3",
   "metadata": {},
   "source": [
    "The pickle interface provides four different methods:\n",
    "1.dump():It serializes to an open file(file-like object)\n",
    "2.dumps():Serializes to a string\n",
    "3.load():Deserializes from an open-like object\n",
    "4.loads():Deserializes from a string"
   ]
  },
  {
   "cell_type": "code",
   "execution_count": 5,
   "id": "a2bd3c99",
   "metadata": {},
   "outputs": [],
   "source": [
    "import pickle\n",
    "class Animal:\n",
    "    def __init__(self,number_of_legs,color):\n",
    "        self.number_of_legs=number_of_legs\n",
    "        self.color=color\n",
    "        \n",
    "class Cat(Animal):\n",
    "    def __init__(self,color):\n",
    "        Animal.__init__(self,4,color)"
   ]
  },
  {
   "cell_type": "code",
   "execution_count": 6,
   "id": "a764b485",
   "metadata": {},
   "outputs": [
    {
     "name": "stdout",
     "output_type": "stream",
     "text": [
      "My cat pussy is White and has 4 legs\n"
     ]
    }
   ],
   "source": [
    "pussy=Cat(\"White\")\n",
    "print(str.format(\"My cat pussy is {0} and has {1} legs\",pussy.color,pussy.number_of_legs))"
   ]
  },
  {
   "cell_type": "code",
   "execution_count": 7,
   "id": "91230274",
   "metadata": {},
   "outputs": [
    {
     "name": "stdout",
     "output_type": "stream",
     "text": [
      "Would you like to see her pickled?Here she is?\n",
      "b'\\x80\\x04\\x95?\\x00\\x00\\x00\\x00\\x00\\x00\\x00\\x8c\\x08__main__\\x94\\x8c\\x03Cat\\x94\\x93\\x94)\\x81\\x94}\\x94(\\x8c\\x0enumber_of_legs\\x94K\\x04\\x8c\\x05color\\x94\\x8c\\x05White\\x94ub.'\n"
     ]
    }
   ],
   "source": [
    "pickled_pussy=pickle.dumps(pussy)\n",
    "print(\"Would you like to see her pickled?Here she is?\")\n",
    "print(pickled_pussy)"
   ]
  },
  {
   "cell_type": "raw",
   "id": "fafcb48c",
   "metadata": {},
   "source": [
    "JSON:\n",
    "JSON(JavaScript Object Notation) has been part of the Python standard library is a lightweight data-interchange format.\n",
    "It is easy for humans to read and write.It is easy to parse and generate.\n",
    "Because of its simplicity,JSON is a way by which we store and exchange data,which is accomplished through its JSON syntax,and is used in many web applications.\n",
    "As it is in human readabe format,and this may be one of the reasons for using it in data transmission,in addition to its effectiveness when working with APIs."
   ]
  },
  {
   "cell_type": "raw",
   "id": "cf619f50",
   "metadata": {},
   "source": [
    "JSON TO PYTHON:\n",
    "    -Reading JSON means converting JSON into a Python value(object).\n",
    "    -JSON library parses JSON into a dictionary or list in Python.\n",
    "    -In order to do that,we use the loads() function (load from a string):"
   ]
  },
  {
   "cell_type": "code",
   "execution_count": 8,
   "id": "a8268e85",
   "metadata": {},
   "outputs": [
    {
     "name": "stdout",
     "output_type": "stream",
     "text": [
      "{'EmployeeID': 402040, 'EmployeeName': 'Zack', 'Department': 'Financial Services'}\n"
     ]
    }
   ],
   "source": [
    "import json\n",
    "jsonData='{\"EmployeeID\":402040,\"EmployeeName\":\"Zack\",\"Department\":\"Financial Services\"}'\n",
    "jsonToPython=json.loads(jsonData)\n",
    "print(jsonToPython)"
   ]
  },
  {
   "cell_type": "code",
   "execution_count": null,
   "id": "efce5d49",
   "metadata": {},
   "outputs": [],
   "source": []
  }
 ],
 "metadata": {
  "kernelspec": {
   "display_name": "Python 3",
   "language": "python",
   "name": "python3"
  },
  "language_info": {
   "codemirror_mode": {
    "name": "ipython",
    "version": 3
   },
   "file_extension": ".py",
   "mimetype": "text/x-python",
   "name": "python",
   "nbconvert_exporter": "python",
   "pygments_lexer": "ipython3",
   "version": "3.8.8"
  }
 },
 "nbformat": 4,
 "nbformat_minor": 5
}
