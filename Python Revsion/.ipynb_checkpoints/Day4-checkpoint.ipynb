{
 "cells": [
  {
   "cell_type": "code",
   "execution_count": 1,
   "id": "4cde3e4c",
   "metadata": {},
   "outputs": [
    {
     "name": "stdout",
     "output_type": "stream",
     "text": [
      "Name:  Sam Age:  30\n",
      "Name:  Manni Age:  34\n",
      "Total students 2\n"
     ]
    }
   ],
   "source": [
    "class Student:\n",
    "    stuCount=0\n",
    "    def __init__(self,name,age):\n",
    "        self.name=name\n",
    "        self.age=age\n",
    "        Student.stuCount+=1\n",
    "    def displayCount(self):\n",
    "        print(\"Total student %d\" % Student.stuCount)\n",
    "    def displayStudent(self):\n",
    "        print(\"Name: \",self.name,\"Age: \",self.age)\n",
    "stu1 = Student(\"Sam\",30)\n",
    "stu2 = Student (\"Manni\",34)\n",
    "stu1.displayStudent()\n",
    "stu2.displayStudent()\n",
    "print(\"Total students %d\" % Student.stuCount)"
   ]
  },
  {
   "cell_type": "code",
   "execution_count": 2,
   "id": "d5b3f371",
   "metadata": {},
   "outputs": [
    {
     "name": "stdout",
     "output_type": "stream",
     "text": [
      "Calling child constructor\n",
      "Child class method\n",
      "Calling parent method\n",
      "Parent attribute:  200\n"
     ]
    }
   ],
   "source": [
    "class Parent:\n",
    "    parentAttr=100\n",
    "    def __init__(self):\n",
    "        print(\"Calling parent constructor\")\n",
    "    def parentMethod(self):\n",
    "        print(\"Calling parent method\")\n",
    "    def setAttr(self,attr):\n",
    "        Parent.parentAttr=attr\n",
    "    def getAttr(self):\n",
    "        print(\"Parent attribute: \",Parent.parentAttr)\n",
    "        \n",
    "class Child(Parent):\n",
    "    def __init__(self):\n",
    "        print(\"Calling child constructor\")\n",
    "    def childMethod(self):\n",
    "        print(\"Child class method\")\n",
    "c=Child()\n",
    "c.childMethod()\n",
    "c.parentMethod()\n",
    "c.setAttr(200)\n",
    "c.getAttr()"
   ]
  },
  {
   "cell_type": "code",
   "execution_count": null,
   "id": "4866160b",
   "metadata": {},
   "outputs": [],
   "source": []
  }
 ],
 "metadata": {
  "kernelspec": {
   "display_name": "Python 3",
   "language": "python",
   "name": "python3"
  },
  "language_info": {
   "codemirror_mode": {
    "name": "ipython",
    "version": 3
   },
   "file_extension": ".py",
   "mimetype": "text/x-python",
   "name": "python",
   "nbconvert_exporter": "python",
   "pygments_lexer": "ipython3",
   "version": "3.8.8"
  }
 },
 "nbformat": 4,
 "nbformat_minor": 5
}
