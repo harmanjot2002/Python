{
 "cells": [
  {
   "cell_type": "raw",
   "id": "90d4a569",
   "metadata": {},
   "source": [
    "30 Days Advanced Python Programming  Masterclass \n",
    "\n",
    "Day 1 - Introduction to Python\n",
    "Day 2 - Python – Tools| Syntaxes and Data Structures\n",
    "Day 3 - Python – Dictionaries, Lists, Tuples, Functions\n",
    "Day 4 - Python – Classes and Objects , Reg Expressions\n",
    "Day 5 - Python – Iterators , Modules\n",
    "Day 6 - Python – Packages, Generators\n",
    "Day 7 - Python – List Comprehensions, Serialization\n",
    "Day 8 - Python – Partial Functions , Closures\n",
    "Day 9 - Python – Decorators, Python - Examples\n",
    "Day 10 - Python – Networking , Multithreading\n",
    "Day 11 - Pandas library – Introduction\n",
    "Day 12 - Pandas library – Data Structures\n",
    "Day 13 - Numpy library – Introduction\n",
    "Day 14 - Numpy library – Array Manipulations , Mathematical Functions\n",
    "Day 15 - Matplotlib , Histogram using Matplotlib | I/O with Numpy\n",
    "Day 16 - Matplotlib library – Pyplot API , Types of plots\n",
    "Day 17 - Seaborn library\n",
    "Day 18 - SKLearn library\n",
    "Day 19 - Keras Library\n",
    "Day 20 - Automation In Python\n",
    "Day 21 - Weight Converter GUI with Python , Create a ChessBoard Using Python\n",
    "Day 22 - Card Game Using Python,Python Clock App With Kiwi\n",
    "Day 23 - Turtle Graphics With Python , Monty Hall Simulator Using Python\n",
    "Day 24 - Chatbot creation in Python    \n",
    "Day 25 - Electricity Price Prediction Using ML          \n",
    "Day 26 - Customer Segmentation Using ML\n",
    "Day 27 - House Price Prediction\n",
    "Day 28- Intrusion Detection using ML\n",
    "Day 29 - Android Malware Detection\n",
    "Day 30- Churn Prediction"
   ]
  },
  {
   "cell_type": "code",
   "execution_count": 1,
   "id": "2d410775",
   "metadata": {},
   "outputs": [
    {
     "name": "stdout",
     "output_type": "stream",
     "text": [
      "Welcome to advanced python programming\n"
     ]
    }
   ],
   "source": [
    "print(\"Welcome to advanced python programming\")"
   ]
  },
  {
   "cell_type": "code",
   "execution_count": 2,
   "id": "6a9198e3",
   "metadata": {},
   "outputs": [
    {
     "name": "stdout",
     "output_type": "stream",
     "text": [
      "6\n"
     ]
    }
   ],
   "source": [
    "print(2*3)"
   ]
  },
  {
   "cell_type": "code",
   "execution_count": 3,
   "id": "5e0bb5f1",
   "metadata": {},
   "outputs": [
    {
     "name": "stdout",
     "output_type": "stream",
     "text": [
      "30\n"
     ]
    }
   ],
   "source": [
    "a=10\n",
    "b=20\n",
    "c=a+b\n",
    "print(c)"
   ]
  },
  {
   "cell_type": "code",
   "execution_count": null,
   "id": "8e1ae7d6",
   "metadata": {},
   "outputs": [],
   "source": []
  }
 ],
 "metadata": {
  "kernelspec": {
   "display_name": "Python 3",
   "language": "python",
   "name": "python3"
  },
  "language_info": {
   "codemirror_mode": {
    "name": "ipython",
    "version": 3
   },
   "file_extension": ".py",
   "mimetype": "text/x-python",
   "name": "python",
   "nbconvert_exporter": "python",
   "pygments_lexer": "ipython3",
   "version": "3.8.8"
  }
 },
 "nbformat": 4,
 "nbformat_minor": 5
}
