{
 "cells": [
  {
   "cell_type": "code",
   "execution_count": 1,
   "id": "6a126e91",
   "metadata": {},
   "outputs": [
    {
     "name": "stdout",
     "output_type": "stream",
     "text": [
      "P\n",
      "a\n",
      "n\n",
      "t\n",
      "e\n",
      "c\n",
      "h\n"
     ]
    }
   ],
   "source": [
    "iterable_value=\"Pantech\"\n",
    "iterable_obj=iter(iterable_value)\n",
    "\n",
    "while True:\n",
    "    try:\n",
    "        #Iterate by calling next\n",
    "        item=next(iterable_obj)\n",
    "        print(item)\n",
    "    except:\n",
    "        #exception will happen when iteration will over\n",
    "        break\n",
    "    "
   ]
  },
  {
   "cell_type": "code",
   "execution_count": 2,
   "id": "ffb923b0",
   "metadata": {},
   "outputs": [
    {
     "name": "stdout",
     "output_type": "stream",
     "text": [
      "10\n",
      "11\n",
      "12\n",
      "13\n",
      "14\n",
      "15\n"
     ]
    }
   ],
   "source": [
    "class Test:\n",
    "    #constructor\n",
    "    def __init__(self,limit):\n",
    "        self.limit=limit\n",
    "    \n",
    "    #creates iterator object\n",
    "    #called when iterator is initiated\n",
    "    def __iter__(self):\n",
    "        self.x=10\n",
    "        return self\n",
    "    \n",
    "    #To move to next element.In python3,we should replace with __next__\n",
    "    def __next__(self):\n",
    "        x=self.x\n",
    "        \n",
    "        if x>self.limit:\n",
    "            raise StopIteration\n",
    "            \n",
    "        self.x=x+1;\n",
    "        return x\n",
    "\n",
    "for i in Test(15):\n",
    "    print(i)\n",
    "    \n",
    "for i in Test(5):\n",
    "    print (i)"
   ]
  },
  {
   "cell_type": "code",
   "execution_count": 5,
   "id": "26d135f2",
   "metadata": {},
   "outputs": [
    {
     "ename": "ModuleNotFoundError",
     "evalue": "No module named 'support'",
     "output_type": "error",
     "traceback": [
      "\u001b[1;31m---------------------------------------------------------------------------\u001b[0m",
      "\u001b[1;31mModuleNotFoundError\u001b[0m                       Traceback (most recent call last)",
      "\u001b[1;32m<ipython-input-5-cf4efa65468f>\u001b[0m in \u001b[0;36m<module>\u001b[1;34m\u001b[0m\n\u001b[0;32m      7\u001b[0m \u001b[1;33m\u001b[0m\u001b[0m\n\u001b[0;32m      8\u001b[0m \u001b[1;31m#Import module support\u001b[0m\u001b[1;33m\u001b[0m\u001b[1;33m\u001b[0m\u001b[1;33m\u001b[0m\u001b[0m\n\u001b[1;32m----> 9\u001b[1;33m \u001b[1;32mimport\u001b[0m \u001b[0msupport\u001b[0m\u001b[1;33m\u001b[0m\u001b[1;33m\u001b[0m\u001b[0m\n\u001b[0m\u001b[0;32m     10\u001b[0m \u001b[1;33m\u001b[0m\u001b[0m\n\u001b[0;32m     11\u001b[0m \u001b[1;31m#Now you can call defined function that module as follows\u001b[0m\u001b[1;33m\u001b[0m\u001b[1;33m\u001b[0m\u001b[1;33m\u001b[0m\u001b[0m\n",
      "\u001b[1;31mModuleNotFoundError\u001b[0m: No module named 'support'"
     ]
    }
   ],
   "source": [
    "def print_func(par):\n",
    "    print(\"Hello:\",par)\n",
    "    return\n",
    "\n",
    "#The inport statement:\n",
    "#!/usr/bin/python\n",
    "\n",
    "#Import module support\n",
    "import support\n",
    "\n",
    "#Now you can call defined function that module as follows\n",
    "support.print_func(\"Ramya\")\n"
   ]
  },
  {
   "cell_type": "code",
   "execution_count": 4,
   "id": "5ad9f412",
   "metadata": {},
   "outputs": [
    {
     "name": "stdout",
     "output_type": "stream",
     "text": [
      "5.0\n",
      "120\n"
     ]
    }
   ],
   "source": [
    "from math import sqrt,factorial\n",
    "print(sqrt(25))\n",
    "print(factorial(5))"
   ]
  },
  {
   "cell_type": "code",
   "execution_count": null,
   "id": "346815fc",
   "metadata": {},
   "outputs": [],
   "source": []
  }
 ],
 "metadata": {
  "kernelspec": {
   "display_name": "Python 3",
   "language": "python",
   "name": "python3"
  },
  "language_info": {
   "codemirror_mode": {
    "name": "ipython",
    "version": 3
   },
   "file_extension": ".py",
   "mimetype": "text/x-python",
   "name": "python",
   "nbconvert_exporter": "python",
   "pygments_lexer": "ipython3",
   "version": "3.8.8"
  }
 },
 "nbformat": 4,
 "nbformat_minor": 5
}
