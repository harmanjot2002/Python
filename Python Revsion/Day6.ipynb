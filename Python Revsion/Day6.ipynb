{
 "cells": [
  {
   "cell_type": "raw",
   "id": "ea9533b6",
   "metadata": {},
   "source": [
    "# package is a folder containing one or more modules.\n",
    "# Use of __init__.py:\n",
    "#     Python interpreter recognizes a folder as a package if it contains __init__.py file.\n",
    "#     __init__.py exposes specfied resources from its modules to be imported.\n",
    "#     An empty __init__.py file makes all functions from the above modules available when this package is imported."
   ]
  },
  {
   "cell_type": "raw",
   "id": "2d396a96",
   "metadata": {},
   "source": [
    "# generator function is similar to normal functions,but whenever it needs to generate a value,it does so with yield keyword rather than return keyword. "
   ]
  },
  {
   "cell_type": "code",
   "execution_count": 1,
   "id": "55043b3e",
   "metadata": {},
   "outputs": [],
   "source": [
    "def simpleGeneratorFun():\n",
    "    yield 1\n",
    "    yield 2\n",
    "    yield 3"
   ]
  },
  {
   "cell_type": "code",
   "execution_count": 2,
   "id": "332bfa38",
   "metadata": {},
   "outputs": [
    {
     "name": "stdout",
     "output_type": "stream",
     "text": [
      "1\n",
      "2\n",
      "3\n"
     ]
    }
   ],
   "source": [
    "for value in simpleGeneratorFun():\n",
    "    print(value)"
   ]
  },
  {
   "cell_type": "raw",
   "id": "f6e8b9bc",
   "metadata": {},
   "source": [
    "# Generator functions return a generator object.\n",
    "# Generator objects are used either by calling the next method on the generator object or using the generator object in a \"for in\" loop."
   ]
  },
  {
   "cell_type": "code",
   "execution_count": 3,
   "id": "52706075",
   "metadata": {},
   "outputs": [
    {
     "name": "stdout",
     "output_type": "stream",
     "text": [
      "1\n",
      "2\n",
      "3\n"
     ]
    }
   ],
   "source": [
    "# Iterting over the generator object using \"next\"\n",
    "x=simpleGeneratorFun()\n",
    "print(next(x))\n",
    "print(next(x))\n",
    "print(next(x))"
   ]
  },
  {
   "cell_type": "code",
   "execution_count": null,
   "id": "4d0474d7",
   "metadata": {},
   "outputs": [],
   "source": []
  }
 ],
 "metadata": {
  "kernelspec": {
   "display_name": "Python 3",
   "language": "python",
   "name": "python3"
  },
  "language_info": {
   "codemirror_mode": {
    "name": "ipython",
    "version": 3
   },
   "file_extension": ".py",
   "mimetype": "text/x-python",
   "name": "python",
   "nbconvert_exporter": "python",
   "pygments_lexer": "ipython3",
   "version": "3.8.8"
  }
 },
 "nbformat": 4,
 "nbformat_minor": 5
}
