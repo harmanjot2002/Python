{
 "cells": [
  {
   "cell_type": "markdown",
   "id": "e7484615",
   "metadata": {},
   "source": [
    "### Partial Functions"
   ]
  },
  {
   "cell_type": "raw",
   "id": "9fd0b00a",
   "metadata": {},
   "source": [
    "-Partial functions allow us to fix a certain no. of arguments of a function and generate a new function.\n",
    "-Partial functions can be used to derive specialied functions from general functions and therefore help us to reuse our code.\n",
    "-Using partial function is a concept of metaprogramming in Python,a concept that refers to a programmer writing code that manipulates code."
   ]
  },
  {
   "cell_type": "code",
   "execution_count": 1,
   "id": "94d8eca9",
   "metadata": {},
   "outputs": [
    {
     "name": "stdout",
     "output_type": "stream",
     "text": [
      "3145\n"
     ]
    }
   ],
   "source": [
    "from functools import partial\n",
    "def f(a,b,c,x):\n",
    "    return 1000*a+100*b+10*c+x\n",
    "\n",
    "g=partial(f,3,1,4)\n",
    "print(g(5))\n",
    "\n",
    "#In this,we have pre-filled our function with some \n",
    "#constant values of a,b,c and g() takes single arg(x)"
   ]
  },
  {
   "cell_type": "code",
   "execution_count": 2,
   "id": "ef6085d0",
   "metadata": {},
   "outputs": [
    {
     "name": "stdout",
     "output_type": "stream",
     "text": [
      "312\n"
     ]
    }
   ],
   "source": [
    "from functools import *\n",
    "\n",
    "def add(a,b,c):\n",
    "    return 100*a+10*b+c\n",
    "\n",
    "add_part=partial(add,c=2,b=1)\n",
    "print(add_part(3))"
   ]
  },
  {
   "cell_type": "markdown",
   "id": "52e69d58",
   "metadata": {},
   "source": [
    "### Nested functions"
   ]
  },
  {
   "cell_type": "code",
   "execution_count": 3,
   "id": "67a37a9a",
   "metadata": {},
   "outputs": [],
   "source": [
    "def outerFunction(text):\n",
    "    text=text\n",
    "    \n",
    "def innerFunction():\n",
    "    print(text)\n",
    "    innerFunction()\n",
    "\n",
    "if __name__=='__main__':\n",
    "    outerFunction('Hey!')"
   ]
  },
  {
   "cell_type": "markdown",
   "id": "9e9dade2",
   "metadata": {},
   "source": [
    "### Closures"
   ]
  },
  {
   "cell_type": "raw",
   "id": "a03ac150",
   "metadata": {},
   "source": [
    "A closure allows the function to access those captures variables through the closure's copies of their values of references,even when function is invoked outside their scope."
   ]
  },
  {
   "cell_type": "code",
   "execution_count": 4,
   "id": "666afe9d",
   "metadata": {},
   "outputs": [
    {
     "ename": "NameError",
     "evalue": "name 'text' is not defined",
     "output_type": "error",
     "traceback": [
      "\u001b[1;31m---------------------------------------------------------------------------\u001b[0m",
      "\u001b[1;31mNameError\u001b[0m                                 Traceback (most recent call last)",
      "\u001b[1;32m<ipython-input-4-1d0eef5fd481>\u001b[0m in \u001b[0;36m<module>\u001b[1;34m\u001b[0m\n\u001b[0;32m      9\u001b[0m \u001b[1;32mif\u001b[0m \u001b[0m__name__\u001b[0m\u001b[1;33m==\u001b[0m\u001b[1;34m\"__main__\"\u001b[0m\u001b[1;33m:\u001b[0m\u001b[1;33m\u001b[0m\u001b[1;33m\u001b[0m\u001b[0m\n\u001b[0;32m     10\u001b[0m     \u001b[0mmyFunction\u001b[0m\u001b[1;33m=\u001b[0m\u001b[0mouterFunction\u001b[0m\u001b[1;33m(\u001b[0m\u001b[1;34m\"Hey!\"\u001b[0m\u001b[1;33m)\u001b[0m\u001b[1;33m\u001b[0m\u001b[1;33m\u001b[0m\u001b[0m\n\u001b[1;32m---> 11\u001b[1;33m     \u001b[0mmyFunction\u001b[0m\u001b[1;33m(\u001b[0m\u001b[1;33m)\u001b[0m\u001b[1;33m\u001b[0m\u001b[1;33m\u001b[0m\u001b[0m\n\u001b[0m",
      "\u001b[1;32m<ipython-input-3-366c42beb088>\u001b[0m in \u001b[0;36minnerFunction\u001b[1;34m()\u001b[0m\n\u001b[0;32m      3\u001b[0m \u001b[1;33m\u001b[0m\u001b[0m\n\u001b[0;32m      4\u001b[0m \u001b[1;32mdef\u001b[0m \u001b[0minnerFunction\u001b[0m\u001b[1;33m(\u001b[0m\u001b[1;33m)\u001b[0m\u001b[1;33m:\u001b[0m\u001b[1;33m\u001b[0m\u001b[1;33m\u001b[0m\u001b[0m\n\u001b[1;32m----> 5\u001b[1;33m     \u001b[0mprint\u001b[0m\u001b[1;33m(\u001b[0m\u001b[0mtext\u001b[0m\u001b[1;33m)\u001b[0m\u001b[1;33m\u001b[0m\u001b[1;33m\u001b[0m\u001b[0m\n\u001b[0m\u001b[0;32m      6\u001b[0m     \u001b[0minnerFunction\u001b[0m\u001b[1;33m(\u001b[0m\u001b[1;33m)\u001b[0m\u001b[1;33m\u001b[0m\u001b[1;33m\u001b[0m\u001b[0m\n\u001b[0;32m      7\u001b[0m \u001b[1;33m\u001b[0m\u001b[0m\n",
      "\u001b[1;31mNameError\u001b[0m: name 'text' is not defined"
     ]
    }
   ],
   "source": [
    "def outerFunction(text):\n",
    "    text=text\n",
    "    \n",
    "    def innerFuntion():\n",
    "        print(text)\n",
    "    return innerFunction\n",
    "\n",
    "if __name__==\"__main__\":\n",
    "    myFunction=outerFunction(\"Hey!\")\n",
    "    myFunction()"
   ]
  }
 ],
 "metadata": {
  "kernelspec": {
   "display_name": "Python 3",
   "language": "python",
   "name": "python3"
  },
  "language_info": {
   "codemirror_mode": {
    "name": "ipython",
    "version": 3
   },
   "file_extension": ".py",
   "mimetype": "text/x-python",
   "name": "python",
   "nbconvert_exporter": "python",
   "pygments_lexer": "ipython3",
   "version": "3.8.8"
  }
 },
 "nbformat": 4,
 "nbformat_minor": 5
}
