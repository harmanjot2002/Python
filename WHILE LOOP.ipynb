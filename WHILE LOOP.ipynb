{
 "cells": [
  {
   "cell_type": "code",
   "execution_count": 1,
   "id": "c5fc9e39",
   "metadata": {},
   "outputs": [
    {
     "name": "stdout",
     "output_type": "stream",
     "text": [
      "543\n",
      "345\n"
     ]
    }
   ],
   "source": [
    "n=int(input())\n",
    "rev=0\n",
    "while (n>0):\n",
    "    dig=n%10\n",
    "    rev=(rev*10)+dig\n",
    "    n=n//10\n",
    "print(rev)"
   ]
  },
  {
   "cell_type": "markdown",
   "id": "30f3dde9",
   "metadata": {},
   "source": [
    "### SUM OF N NATURAL NUMBERS"
   ]
  },
  {
   "cell_type": "code",
   "execution_count": 2,
   "id": "7e1b70c9",
   "metadata": {},
   "outputs": [
    {
     "name": "stdout",
     "output_type": "stream",
     "text": [
      "10\n",
      "55\n"
     ]
    }
   ],
   "source": [
    "n=int(input())\n",
    "sum=0\n",
    "i=0\n",
    "while(i<=n):\n",
    "    sum=sum+i\n",
    "    i=i+1\n",
    "print(sum)    "
   ]
  },
  {
   "cell_type": "markdown",
   "id": "23b9d0d7",
   "metadata": {},
   "source": [
    "### sum of n even numbers"
   ]
  },
  {
   "cell_type": "code",
   "execution_count": 3,
   "id": "8679150d",
   "metadata": {},
   "outputs": [
    {
     "name": "stdout",
     "output_type": "stream",
     "text": [
      "10\n",
      "30\n"
     ]
    }
   ],
   "source": [
    "n=int(input())\n",
    "sum=0\n",
    "i=0\n",
    "while(i<=n):\n",
    "    sum=sum+i\n",
    "    i=i+2\n",
    "print(sum)    "
   ]
  },
  {
   "cell_type": "code",
   "execution_count": 4,
   "id": "95cf24b0",
   "metadata": {},
   "outputs": [
    {
     "name": "stdout",
     "output_type": "stream",
     "text": [
      "10\n",
      "30\n"
     ]
    }
   ],
   "source": [
    "n=int(input())\n",
    "sum=0\n",
    "i=0\n",
    "while(i<=n):\n",
    "    if i%2==0:\n",
    "        sum=sum+i\n",
    "    i=i+1\n",
    "print(sum)    "
   ]
  },
  {
   "cell_type": "markdown",
   "id": "3e30c5be",
   "metadata": {},
   "source": [
    "### sum of n odd numbers"
   ]
  },
  {
   "cell_type": "code",
   "execution_count": 5,
   "id": "a0b26f12",
   "metadata": {},
   "outputs": [
    {
     "name": "stdout",
     "output_type": "stream",
     "text": [
      "10\n",
      "25\n"
     ]
    }
   ],
   "source": [
    "n=int(input())\n",
    "sum=0\n",
    "i=1\n",
    "while(i<=n):\n",
    "    sum=sum+i\n",
    "    i=i+2\n",
    "print(sum)    "
   ]
  },
  {
   "cell_type": "markdown",
   "id": "7a336830",
   "metadata": {},
   "source": [
    "### sum of digits of given number"
   ]
  },
  {
   "cell_type": "code",
   "execution_count": 7,
   "id": "bfcfa4f2",
   "metadata": {},
   "outputs": [
    {
     "name": "stdout",
     "output_type": "stream",
     "text": [
      "2345\n",
      "14\n"
     ]
    }
   ],
   "source": [
    "n=int(input())\n",
    "sum=0\n",
    "while(n>0):\n",
    "    sum=sum+n%10\n",
    "    n=n//10\n",
    "print(sum)"
   ]
  },
  {
   "cell_type": "markdown",
   "id": "a1e2f364",
   "metadata": {},
   "source": [
    "### count of digits"
   ]
  },
  {
   "cell_type": "code",
   "execution_count": 8,
   "id": "caf406d8",
   "metadata": {},
   "outputs": [
    {
     "name": "stdout",
     "output_type": "stream",
     "text": [
      "5\n"
     ]
    }
   ],
   "source": [
    "a=23456\n",
    "print(len(str(a)))"
   ]
  },
  {
   "cell_type": "code",
   "execution_count": 9,
   "id": "aa215f11",
   "metadata": {},
   "outputs": [
    {
     "name": "stdout",
     "output_type": "stream",
     "text": [
      "23456\n",
      "5\n"
     ]
    }
   ],
   "source": [
    "n=int(input())\n",
    "length=0\n",
    "while(n>0):\n",
    "    length=length+1\n",
    "    n=n//10\n",
    "print(length)    "
   ]
  },
  {
   "cell_type": "markdown",
   "id": "9b59dbe4",
   "metadata": {},
   "source": [
    "### reverse of a number"
   ]
  },
  {
   "cell_type": "code",
   "execution_count": 6,
   "id": "46250b88",
   "metadata": {},
   "outputs": [
    {
     "name": "stdout",
     "output_type": "stream",
     "text": [
      "1234\n",
      "4321\n"
     ]
    }
   ],
   "source": [
    "n=int(input())\n",
    "rev=0\n",
    "while(n>0):\n",
    "    rev=(rev*10)+(n%10)\n",
    "    n=n//10\n",
    "print(rev)    "
   ]
  },
  {
   "cell_type": "markdown",
   "id": "08e3fdc0",
   "metadata": {},
   "source": [
    "### palindrome number"
   ]
  },
  {
   "cell_type": "code",
   "execution_count": 12,
   "id": "db9e76bb",
   "metadata": {},
   "outputs": [
    {
     "name": "stdout",
     "output_type": "stream",
     "text": [
      "12321\n",
      "it is panidrome number\n"
     ]
    }
   ],
   "source": [
    "n=int(input())\n",
    "rev=0\n",
    "while(n>0):\n",
    "    rev=rev*10+n%10\n",
    "    n=n//10\n",
    "if rev==n:\n",
    "    print(\"it is a panidrome number\")\n",
    "else:\n",
    "    print(\"it is panidrome number\")\n",
    "    "
   ]
  },
  {
   "cell_type": "markdown",
   "id": "4f5f220f",
   "metadata": {},
   "source": [
    "### armstrong number"
   ]
  },
  {
   "cell_type": "code",
   "execution_count": 15,
   "id": "5a22653b",
   "metadata": {},
   "outputs": [
    {
     "name": "stdout",
     "output_type": "stream",
     "text": [
      "1634\n",
      "armstrong no.\n"
     ]
    }
   ],
   "source": [
    "n=int(input())\n",
    "x=n\n",
    "sum=0\n",
    "l=len(str(n))\n",
    "while(n>0):\n",
    "    d=(n%10)**l\n",
    "    sum=sum+d\n",
    "    n=n//10\n",
    "if (x==sum):\n",
    "    print(\"armstrong no.\")\n",
    "else:\n",
    "    print(\"not armstrong no.\")"
   ]
  },
  {
   "cell_type": "code",
   "execution_count": 6,
   "id": "f55722fd",
   "metadata": {},
   "outputs": [
    {
     "name": "stdout",
     "output_type": "stream",
     "text": [
      "153\n",
      "true\n"
     ]
    }
   ],
   "source": [
    "n=int(input())\n",
    "x=n\n",
    "sum=0\n",
    "l=len(str(n))\n",
    "while (n>0):\n",
    "    d=(n%10)**l\n",
    "    sum=sum+d\n",
    "    n=n//10\n",
    "if x==sum:\n",
    "    print(\"true\")\n",
    "else:\n",
    "    print(\"false\")"
   ]
  },
  {
   "cell_type": "markdown",
   "id": "6c6faf2b",
   "metadata": {},
   "source": [
    "### febnacci series"
   ]
  },
  {
   "cell_type": "code",
   "execution_count": 16,
   "id": "000c1092",
   "metadata": {},
   "outputs": [
    {
     "name": "stdout",
     "output_type": "stream",
     "text": [
      "5\n",
      "1\n",
      "1\n",
      "2\n",
      "3\n",
      "5\n"
     ]
    }
   ],
   "source": [
    "n=int(input())\n",
    "n1=1\n",
    "n2=1\n",
    "i=0\n",
    "while(i<n):\n",
    "    print(n1)\n",
    "    n3=n1+n2\n",
    "    n1=n2\n",
    "    n2=n3\n",
    "    i+=1"
   ]
  },
  {
   "cell_type": "code",
   "execution_count": 17,
   "id": "acc68aeb",
   "metadata": {},
   "outputs": [
    {
     "name": "stdout",
     "output_type": "stream",
     "text": [
      "5\n",
      "8\n"
     ]
    }
   ],
   "source": [
    "n=int(input())\n",
    "n2=1\n",
    "n1=1\n",
    "i=0\n",
    "while(i<n):\n",
    "    n3=n1+n2\n",
    "    n1=n2\n",
    "    n2=n3\n",
    "    i+=1\n",
    "print(n1)    "
   ]
  },
  {
   "cell_type": "markdown",
   "id": "c1398a8f",
   "metadata": {},
   "source": [
    "### fahrenheit to celcius conversion"
   ]
  },
  {
   "cell_type": "code",
   "execution_count": 22,
   "id": "50135771",
   "metadata": {},
   "outputs": [
    {
     "name": "stdout",
     "output_type": "stream",
     "text": [
      "0\n",
      "100\n",
      "20\n",
      "0 -17\n",
      "20 -6\n",
      "40 4\n",
      "60 15\n",
      "80 26\n",
      "100 37\n"
     ]
    }
   ],
   "source": [
    "S=int(input())    #S=start fahrenheit value\n",
    "E=int(input())    #E=end fahrenheit value\n",
    "W=int(input())    #W=step value\n",
    "\n",
    "while S<=E:\n",
    "    F=S\n",
    "    C=((F-32)*5/9)\n",
    "    print(S , int(C))\n",
    "    S=S+W\n",
    "    \n"
   ]
  },
  {
   "cell_type": "code",
   "execution_count": 25,
   "id": "3f995d70",
   "metadata": {},
   "outputs": [
    {
     "name": "stdout",
     "output_type": "stream",
     "text": [
      "0\n",
      "100\n",
      "20\n",
      "20 -17\n",
      "40 -6\n",
      "60 4\n",
      "80 15\n",
      "100 26\n",
      "120 37\n"
     ]
    }
   ],
   "source": [
    "S=int(input())    #S=start fahrenheit value\n",
    "E=int(input())    #E=end fahrenheit value\n",
    "W=int(input())    #W=step value\n",
    "\n",
    "while S<=E:\n",
    "    F=S\n",
    "    C=((F-32)*5/9)\n",
    "    S=S+W\n",
    "    print(S , int(C))"
   ]
  },
  {
   "cell_type": "code",
   "execution_count": 24,
   "id": "2af520fb",
   "metadata": {},
   "outputs": [
    {
     "name": "stdout",
     "output_type": "stream",
     "text": [
      "0\n",
      "100\n",
      "20\n",
      "120 37\n"
     ]
    }
   ],
   "source": [
    "S=int(input())    #S=start fahrenheit value\n",
    "E=int(input())    #E=end fahrenheit value\n",
    "W=int(input())    #W=step value\n",
    "\n",
    "while S<=E:\n",
    "    F=S\n",
    "    C=((F-32)*5/9)\n",
    "    S=S+W\n",
    "print(S , int(C))"
   ]
  },
  {
   "cell_type": "markdown",
   "id": "fd8b4c1e",
   "metadata": {},
   "source": []
  }
 ],
 "metadata": {
  "kernelspec": {
   "display_name": "Python 3",
   "language": "python",
   "name": "python3"
  },
  "language_info": {
   "codemirror_mode": {
    "name": "ipython",
    "version": 3
   },
   "file_extension": ".py",
   "mimetype": "text/x-python",
   "name": "python",
   "nbconvert_exporter": "python",
   "pygments_lexer": "ipython3",
   "version": "3.8.8"
  }
 },
 "nbformat": 4,
 "nbformat_minor": 5
}
