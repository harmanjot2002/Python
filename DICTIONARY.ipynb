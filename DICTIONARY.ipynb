{
 "cells": [
  {
   "cell_type": "markdown",
   "id": "b3914f5f",
   "metadata": {},
   "source": [
    "### CREATING DICTIONARY"
   ]
  },
  {
   "cell_type": "code",
   "execution_count": 1,
   "id": "921610e3",
   "metadata": {},
   "outputs": [],
   "source": [
    "Dict={\"name\":\"Tom\",\"Age\":23,\"Salary\":50000}\n"
   ]
  },
  {
   "cell_type": "code",
   "execution_count": 2,
   "id": "fa341d49",
   "metadata": {},
   "outputs": [
    {
     "name": "stdout",
     "output_type": "stream",
     "text": [
      "{'name': 'Tom', 'Age': 23, 'Salary': 50000}\n"
     ]
    }
   ],
   "source": [
    "print(Dict)"
   ]
  },
  {
   "cell_type": "code",
   "execution_count": 3,
   "id": "dcba9f7d",
   "metadata": {},
   "outputs": [
    {
     "data": {
      "text/plain": [
       "dict"
      ]
     },
     "execution_count": 3,
     "metadata": {},
     "output_type": "execute_result"
    }
   ],
   "source": [
    "type(Dict)"
   ]
  },
  {
   "cell_type": "code",
   "execution_count": 4,
   "id": "6d4d714c",
   "metadata": {},
   "outputs": [
    {
     "name": "stdout",
     "output_type": "stream",
     "text": [
      "enter name:\n",
      "enter age:\n"
     ]
    }
   ],
   "source": [
    "p={}\n",
    "p[\"name\"]=input(\"enter name:\")\n",
    "p[\"age\"]=input(\"enter age:\")\n"
   ]
  },
  {
   "cell_type": "code",
   "execution_count": 5,
   "id": "d4f12ef1",
   "metadata": {},
   "outputs": [
    {
     "name": "stdout",
     "output_type": "stream",
     "text": [
      "{'name': '', 'age': ''}\n"
     ]
    }
   ],
   "source": [
    "print(p)"
   ]
  },
  {
   "cell_type": "code",
   "execution_count": 6,
   "id": "e74be1ae",
   "metadata": {},
   "outputs": [
    {
     "name": "stdout",
     "output_type": "stream",
     "text": [
      "<class 'dict'>\n"
     ]
    }
   ],
   "source": [
    "print(type(p))"
   ]
  },
  {
   "cell_type": "markdown",
   "id": "ef180afe",
   "metadata": {},
   "source": [
    "### ACCESSING VALUES IN DICTIONARY"
   ]
  },
  {
   "cell_type": "code",
   "execution_count": 7,
   "id": "cca2e106",
   "metadata": {},
   "outputs": [],
   "source": [
    "employee={\"name\":\"john\",\"age\":29,\"salary\":25000,\"company\":\"google\"}"
   ]
  },
  {
   "cell_type": "code",
   "execution_count": 8,
   "id": "db16a719",
   "metadata": {},
   "outputs": [
    {
     "name": "stdout",
     "output_type": "stream",
     "text": [
      "{'name': 'john', 'age': 29, 'salary': 25000, 'company': 'google'}\n"
     ]
    }
   ],
   "source": [
    "print(employee)"
   ]
  },
  {
   "cell_type": "code",
   "execution_count": 9,
   "id": "cb12a0e7",
   "metadata": {},
   "outputs": [
    {
     "name": "stdout",
     "output_type": "stream",
     "text": [
      "john\n"
     ]
    }
   ],
   "source": [
    "print(employee[\"name\"])"
   ]
  },
  {
   "cell_type": "code",
   "execution_count": 10,
   "id": "e9663504",
   "metadata": {},
   "outputs": [
    {
     "name": "stdout",
     "output_type": "stream",
     "text": [
      "google 25000\n"
     ]
    }
   ],
   "source": [
    "print(employee[\"company\"],employee[\"salary\"])"
   ]
  },
  {
   "cell_type": "markdown",
   "id": "57c081fd",
   "metadata": {},
   "source": [
    "### DUPLICATES NOT ALLOWED\n",
    "If key appears more than one time,only last will be retained.\n",
    "One value can be assigned to more than one key."
   ]
  },
  {
   "cell_type": "code",
   "execution_count": 11,
   "id": "bba23bf1",
   "metadata": {},
   "outputs": [],
   "source": [
    "thisdict={\n",
    "    \"brand\":\"ford\",\n",
    "    \"model\":\"ford\",\n",
    "    \"model\":\"abc\",\n",
    "    \"year\":1964,\n",
    "    \"year\":2000\n",
    "}"
   ]
  },
  {
   "cell_type": "code",
   "execution_count": 12,
   "id": "dbc7e07e",
   "metadata": {},
   "outputs": [
    {
     "name": "stdout",
     "output_type": "stream",
     "text": [
      "{'brand': 'ford', 'model': 'abc', 'year': 2000}\n"
     ]
    }
   ],
   "source": [
    "print(thisdict)"
   ]
  },
  {
   "cell_type": "code",
   "execution_count": 13,
   "id": "ae9f8ce4",
   "metadata": {},
   "outputs": [
    {
     "name": "stdout",
     "output_type": "stream",
     "text": [
      "{}\n"
     ]
    }
   ],
   "source": [
    "p={}\n",
    "print(p)"
   ]
  },
  {
   "cell_type": "markdown",
   "id": "1ce7cbea",
   "metadata": {},
   "source": [
    "### LIST AS DICTIONARY VALUE"
   ]
  },
  {
   "cell_type": "code",
   "execution_count": 14,
   "id": "934a5699",
   "metadata": {},
   "outputs": [],
   "source": [
    "d={\"fruit\":[\"mango\",\"apple\",\"kiwi\"],\"colour\":[\"blue\",\"red\"],\"names\":\"harman\"}"
   ]
  },
  {
   "cell_type": "code",
   "execution_count": 15,
   "id": "be24d917",
   "metadata": {},
   "outputs": [
    {
     "name": "stdout",
     "output_type": "stream",
     "text": [
      "{'fruit': ['mango', 'apple', 'kiwi'], 'colour': ['blue', 'red'], 'names': 'harman'}\n"
     ]
    }
   ],
   "source": [
    "print(d)"
   ]
  },
  {
   "cell_type": "code",
   "execution_count": 16,
   "id": "52add362",
   "metadata": {},
   "outputs": [
    {
     "name": "stdout",
     "output_type": "stream",
     "text": [
      "['mango', 'apple', 'kiwi']\n"
     ]
    }
   ],
   "source": [
    "print(d[\"fruit\"])"
   ]
  },
  {
   "cell_type": "code",
   "execution_count": 17,
   "id": "b65db1f3",
   "metadata": {},
   "outputs": [
    {
     "name": "stdout",
     "output_type": "stream",
     "text": [
      "harman\n"
     ]
    }
   ],
   "source": [
    "print(d[\"names\"])"
   ]
  },
  {
   "cell_type": "markdown",
   "id": "35dde190",
   "metadata": {},
   "source": [
    "### CREATING LIST BY DICT() CONSTRUCTOR METHOD"
   ]
  },
  {
   "cell_type": "code",
   "execution_count": 18,
   "id": "d401cffb",
   "metadata": {},
   "outputs": [],
   "source": [
    "employee=dict(name=\"john\",age=29,salary=25000,company=\"google\")"
   ]
  },
  {
   "cell_type": "code",
   "execution_count": 19,
   "id": "bb7a8685",
   "metadata": {},
   "outputs": [
    {
     "name": "stdout",
     "output_type": "stream",
     "text": [
      "{'name': 'john', 'age': 29, 'salary': 25000, 'company': 'google'}\n"
     ]
    }
   ],
   "source": [
    "print(employee)"
   ]
  },
  {
   "cell_type": "markdown",
   "id": "9be41cdb",
   "metadata": {},
   "source": [
    "### BUILDING A DICTIONARY INCREMENTALLY"
   ]
  },
  {
   "cell_type": "code",
   "execution_count": 20,
   "id": "5291b222",
   "metadata": {},
   "outputs": [],
   "source": [
    "d={\"name\":\"suresh\"}"
   ]
  },
  {
   "cell_type": "code",
   "execution_count": 21,
   "id": "3159feb0",
   "metadata": {},
   "outputs": [
    {
     "name": "stdout",
     "output_type": "stream",
     "text": [
      "{'name': 'suresh'}\n"
     ]
    }
   ],
   "source": [
    "print(d)"
   ]
  },
  {
   "cell_type": "code",
   "execution_count": 22,
   "id": "fa3d2ed1",
   "metadata": {},
   "outputs": [],
   "source": [
    "d[\"fname\"]=\"gopal\""
   ]
  },
  {
   "cell_type": "code",
   "execution_count": 23,
   "id": "c7733bce",
   "metadata": {},
   "outputs": [
    {
     "name": "stdout",
     "output_type": "stream",
     "text": [
      "{'name': 'suresh', 'fname': 'gopal'}\n"
     ]
    }
   ],
   "source": [
    "print(d)"
   ]
  },
  {
   "cell_type": "code",
   "execution_count": 24,
   "id": "1d617776",
   "metadata": {},
   "outputs": [],
   "source": [
    "d[\"city\"]=\"rajpura\""
   ]
  },
  {
   "cell_type": "code",
   "execution_count": 25,
   "id": "1f5280e0",
   "metadata": {},
   "outputs": [
    {
     "name": "stdout",
     "output_type": "stream",
     "text": [
      "{'name': 'suresh', 'fname': 'gopal', 'city': 'rajpura'}\n"
     ]
    }
   ],
   "source": [
    "print(d)"
   ]
  },
  {
   "cell_type": "code",
   "execution_count": 26,
   "id": "143d84c5",
   "metadata": {},
   "outputs": [],
   "source": [
    "d[\"city\"]=\"mohali\""
   ]
  },
  {
   "cell_type": "code",
   "execution_count": 27,
   "id": "9e9fb0ed",
   "metadata": {},
   "outputs": [
    {
     "name": "stdout",
     "output_type": "stream",
     "text": [
      "{'name': 'suresh', 'fname': 'gopal', 'city': 'mohali'}\n"
     ]
    }
   ],
   "source": [
    "print(d)"
   ]
  },
  {
   "cell_type": "code",
   "execution_count": 28,
   "id": "0f14fc63",
   "metadata": {},
   "outputs": [],
   "source": [
    "del d[\"city\"]"
   ]
  },
  {
   "cell_type": "code",
   "execution_count": 29,
   "id": "42bde8fe",
   "metadata": {},
   "outputs": [
    {
     "name": "stdout",
     "output_type": "stream",
     "text": [
      "{'name': 'suresh', 'fname': 'gopal'}\n"
     ]
    }
   ],
   "source": [
    "print(d)"
   ]
  },
  {
   "cell_type": "code",
   "execution_count": 30,
   "id": "3863fc72",
   "metadata": {},
   "outputs": [],
   "source": [
    "d.clear()"
   ]
  },
  {
   "cell_type": "code",
   "execution_count": 31,
   "id": "3c25db5b",
   "metadata": {},
   "outputs": [
    {
     "name": "stdout",
     "output_type": "stream",
     "text": [
      "{}\n"
     ]
    }
   ],
   "source": [
    "print(d)"
   ]
  },
  {
   "cell_type": "code",
   "execution_count": 32,
   "id": "d2c56bda",
   "metadata": {},
   "outputs": [],
   "source": [
    "person={}\n",
    "person[\"fname\"]=\"ramesh\"\n",
    "person[\"lname\"]=\"kumar\"\n",
    "person[\"age\"]=29\n",
    "person[\"spouse\"]=\"sunita\"\n",
    "person[\"children\"]=[\"vivek\",\"mohan\",\"gopal\"]   #inserting list in dictionary\n",
    "person[\"pets\"]={\"dog\":\"sheru\",\"cat\":\"moo\"}     #inserting dictionary in dictionary"
   ]
  },
  {
   "cell_type": "code",
   "execution_count": 33,
   "id": "0c543a56",
   "metadata": {},
   "outputs": [
    {
     "name": "stdout",
     "output_type": "stream",
     "text": [
      "{'fname': 'ramesh', 'lname': 'kumar', 'age': 29, 'spouse': 'sunita', 'children': ['vivek', 'mohan', 'gopal'], 'pets': {'dog': 'sheru', 'cat': 'moo'}}\n"
     ]
    }
   ],
   "source": [
    "print(person)"
   ]
  },
  {
   "cell_type": "markdown",
   "id": "fea1a27d",
   "metadata": {},
   "source": [
    "### UPDATING DICTIONARY"
   ]
  },
  {
   "cell_type": "code",
   "execution_count": 34,
   "id": "af802db8",
   "metadata": {},
   "outputs": [
    {
     "name": "stdout",
     "output_type": "stream",
     "text": [
      "dict['age']: 8\n",
      "dict['school']: DPS School\n",
      "{'name': 'zara', 'age': 8, 'class': 'first', 'school': 'DPS School'}\n"
     ]
    }
   ],
   "source": [
    "dict={\"name\":\"zara\",\"age\":7,\"class\":\"first\"}\n",
    "dict[\"age\"]=8    #updating existing entry     \n",
    "dict[\"school\"]=\"DPS School\"     #adding new entry\n",
    "print(\"dict['age']:\",dict[\"age\"])\n",
    "print(\"dict['school']:\",dict[\"school\"])\n",
    "print(dict)"
   ]
  },
  {
   "cell_type": "markdown",
   "id": "d7c37cfc",
   "metadata": {},
   "source": [
    "### DELETE DICTIONARY ELEMENTS"
   ]
  },
  {
   "cell_type": "code",
   "execution_count": 35,
   "id": "b376066b",
   "metadata": {},
   "outputs": [
    {
     "name": "stdout",
     "output_type": "stream",
     "text": [
      "{'name': 'zara', 'age': 7, 'class': 'first', 'school': 'DPS School'}\n"
     ]
    }
   ],
   "source": [
    "dict={\"name\":\"zara\",\"age\":7,\"class\":\"first\",\"school\":\"DPS School\"}\n",
    "print(dict)"
   ]
  },
  {
   "cell_type": "code",
   "execution_count": 36,
   "id": "683d5931",
   "metadata": {},
   "outputs": [
    {
     "name": "stdout",
     "output_type": "stream",
     "text": [
      "{'age': 7, 'class': 'first', 'school': 'DPS School'}\n"
     ]
    }
   ],
   "source": [
    "dict={\"name\":\"zara\",\"age\":7,\"class\":\"first\",\"school\":\"DPS School\"}\n",
    "del dict[\"name\"]   #remove entry with key \"name\"\n",
    "print(dict)"
   ]
  },
  {
   "cell_type": "code",
   "execution_count": 37,
   "id": "fedb99fc",
   "metadata": {},
   "outputs": [
    {
     "name": "stdout",
     "output_type": "stream",
     "text": [
      "{}\n"
     ]
    }
   ],
   "source": [
    "dict={\"name\":\"zara\",\"age\":7,\"class\":\"first\",\"school\":\"DPS School\"}\n",
    "dict.clear()      #remove all entries in dictionary\n",
    "print (dict)"
   ]
  },
  {
   "cell_type": "code",
   "execution_count": 38,
   "id": "1a2ae1f4",
   "metadata": {},
   "outputs": [
    {
     "name": "stdout",
     "output_type": "stream",
     "text": [
      "<class 'dict'>\n"
     ]
    }
   ],
   "source": [
    "dict={\"name\":\"zara\",\"age\":7,\"class\":\"first\",\"school\":\"DPS School\"}\n",
    "del dict    #delete entire dictionary\n",
    "print(dict)"
   ]
  },
  {
   "cell_type": "markdown",
   "id": "f1829cf9",
   "metadata": {},
   "source": [
    "### ITERATING DICTIONARY"
   ]
  },
  {
   "cell_type": "code",
   "execution_count": 39,
   "id": "b02a790d",
   "metadata": {},
   "outputs": [],
   "source": [
    "employee={\"name\":\"john\",\"age\":29,\"salary\":25000,\"company\":\"google\"}"
   ]
  },
  {
   "cell_type": "code",
   "execution_count": 40,
   "id": "db56f933",
   "metadata": {},
   "outputs": [
    {
     "name": "stdout",
     "output_type": "stream",
     "text": [
      "dict_keys(['name', 'age', 'salary', 'company'])\n"
     ]
    }
   ],
   "source": [
    "print(employee.keys())"
   ]
  },
  {
   "cell_type": "code",
   "execution_count": 41,
   "id": "8c809676",
   "metadata": {},
   "outputs": [
    {
     "name": "stdout",
     "output_type": "stream",
     "text": [
      "dict_values(['john', 29, 25000, 'google'])\n"
     ]
    }
   ],
   "source": [
    "print(employee.values())"
   ]
  },
  {
   "cell_type": "code",
   "execution_count": 42,
   "id": "278f14e2",
   "metadata": {},
   "outputs": [
    {
     "name": "stdout",
     "output_type": "stream",
     "text": [
      "dict_items([('name', 'john'), ('age', 29), ('salary', 25000), ('company', 'google')])\n"
     ]
    }
   ],
   "source": [
    "print(employee.items())"
   ]
  },
  {
   "cell_type": "code",
   "execution_count": 43,
   "id": "f9d0c611",
   "metadata": {},
   "outputs": [
    {
     "name": "stdout",
     "output_type": "stream",
     "text": [
      "name\n",
      "age\n",
      "salary\n",
      "company\n"
     ]
    }
   ],
   "source": [
    "#for loop to print all keys of dictionary\n",
    "for x in employee:\n",
    "    print(x)"
   ]
  },
  {
   "cell_type": "code",
   "execution_count": 44,
   "id": "6764cdcd",
   "metadata": {},
   "outputs": [
    {
     "name": "stdout",
     "output_type": "stream",
     "text": [
      "john\n",
      "29\n",
      "25000\n",
      "google\n"
     ]
    }
   ],
   "source": [
    "#for loop to print all values of dictionary\n",
    "for x in employee:\n",
    "    print(employee[x])"
   ]
  },
  {
   "cell_type": "code",
   "execution_count": 45,
   "id": "69102ca6",
   "metadata": {},
   "outputs": [
    {
     "name": "stdout",
     "output_type": "stream",
     "text": [
      "john\n",
      "29\n",
      "25000\n",
      "google\n"
     ]
    }
   ],
   "source": [
    "#for loop to print values of dictionary by using values() method\n",
    "for x in employee.values():\n",
    "    print(x)"
   ]
  },
  {
   "cell_type": "code",
   "execution_count": 46,
   "id": "78a8b66b",
   "metadata": {},
   "outputs": [
    {
     "name": "stdout",
     "output_type": "stream",
     "text": [
      "('name', 'john')\n",
      "('age', 29)\n",
      "('salary', 25000)\n",
      "('company', 'google')\n"
     ]
    }
   ],
   "source": [
    "#for loop to print items of dictionary by using items() method\n",
    "for x in employee.items():\n",
    "    print(x)"
   ]
  },
  {
   "cell_type": "code",
   "execution_count": 47,
   "id": "463a92d2",
   "metadata": {},
   "outputs": [
    {
     "name": "stdout",
     "output_type": "stream",
     "text": [
      "name john\n",
      "age 29\n",
      "salary 25000\n",
      "company google\n"
     ]
    }
   ],
   "source": [
    "#for loop to print items of dictionary by using items() method\n",
    "for (x,y) in employee.items():\n",
    "    print(x,y)"
   ]
  },
  {
   "cell_type": "markdown",
   "id": "5576092a",
   "metadata": {},
   "source": [
    "### CODING NINZA"
   ]
  },
  {
   "cell_type": "code",
   "execution_count": 48,
   "id": "29ac88fa",
   "metadata": {},
   "outputs": [
    {
     "data": {
      "text/plain": [
       "dict"
      ]
     },
     "execution_count": 48,
     "metadata": {},
     "output_type": "execute_result"
    }
   ],
   "source": [
    "a={\"the\":1,\"a\":5,1000:\"abc\"}\n",
    "type(a)"
   ]
  },
  {
   "cell_type": "code",
   "execution_count": 49,
   "id": "2b71c9a1",
   "metadata": {},
   "outputs": [
    {
     "name": "stdout",
     "output_type": "stream",
     "text": [
      "{'the': 1, 'a': 5, 1000: 'abc'}\n"
     ]
    }
   ],
   "source": [
    "print(a)"
   ]
  },
  {
   "cell_type": "code",
   "execution_count": 50,
   "id": "5f6f6866",
   "metadata": {},
   "outputs": [
    {
     "data": {
      "text/plain": [
       "3"
      ]
     },
     "execution_count": 50,
     "metadata": {},
     "output_type": "execute_result"
    }
   ],
   "source": [
    "len(a)"
   ]
  },
  {
   "cell_type": "code",
   "execution_count": 51,
   "id": "dbf70ae6",
   "metadata": {},
   "outputs": [
    {
     "data": {
      "text/plain": [
       "{'the': 1, 'a': 5, 1000: 'abc'}"
      ]
     },
     "execution_count": 51,
     "metadata": {},
     "output_type": "execute_result"
    }
   ],
   "source": [
    "b=a.copy()\n",
    "b"
   ]
  },
  {
   "cell_type": "markdown",
   "id": "05bc43ef",
   "metadata": {},
   "source": [
    "### creating dictionary by pairs"
   ]
  },
  {
   "cell_type": "code",
   "execution_count": 52,
   "id": "b3e76b2d",
   "metadata": {},
   "outputs": [
    {
     "data": {
      "text/plain": [
       "{'the': 3, 'a': 10, 2: 3}"
      ]
     },
     "execution_count": 52,
     "metadata": {},
     "output_type": "execute_result"
    }
   ],
   "source": [
    "c=dict([(\"the\",3),(\"a\",10),(2,3)])\n",
    "c"
   ]
  },
  {
   "cell_type": "markdown",
   "id": "e7d2c03d",
   "metadata": {},
   "source": [
    "### creating dictionary from keys"
   ]
  },
  {
   "cell_type": "code",
   "execution_count": 53,
   "id": "78214e69",
   "metadata": {},
   "outputs": [
    {
     "data": {
      "text/plain": [
       "{'ab': None, 32: None, 4: None}"
      ]
     },
     "execution_count": 53,
     "metadata": {},
     "output_type": "execute_result"
    }
   ],
   "source": [
    "d=dict.fromkeys([\"ab\",32,4])\n",
    "d"
   ]
  },
  {
   "cell_type": "markdown",
   "id": "5dd8fcdb",
   "metadata": {},
   "source": [
    "### accessing elements in dictionary"
   ]
  },
  {
   "cell_type": "code",
   "execution_count": 54,
   "id": "50cbe948",
   "metadata": {},
   "outputs": [
    {
     "data": {
      "text/plain": [
       "{1: 2, 3: 4, 'list': [1, 2, 3], 'dict': {1: 2}}"
      ]
     },
     "execution_count": 54,
     "metadata": {},
     "output_type": "execute_result"
    }
   ],
   "source": [
    "a={1:2,3:4,\"list\":[1,2,3],\"dict\":{1:2}}\n",
    "a"
   ]
  },
  {
   "cell_type": "code",
   "execution_count": 55,
   "id": "15631276",
   "metadata": {},
   "outputs": [
    {
     "ename": "KeyError",
     "evalue": "0",
     "output_type": "error",
     "traceback": [
      "\u001b[1;31m---------------------------------------------------------------------------\u001b[0m",
      "\u001b[1;31mKeyError\u001b[0m                                  Traceback (most recent call last)",
      "\u001b[1;32m<ipython-input-55-dbc1e5923d55>\u001b[0m in \u001b[0;36m<module>\u001b[1;34m\u001b[0m\n\u001b[1;32m----> 1\u001b[1;33m \u001b[0ma\u001b[0m\u001b[1;33m[\u001b[0m\u001b[1;36m0\u001b[0m\u001b[1;33m]\u001b[0m       \u001b[1;31m#there is no indexin in dictionary\u001b[0m\u001b[1;33m\u001b[0m\u001b[1;33m\u001b[0m\u001b[0m\n\u001b[0m",
      "\u001b[1;31mKeyError\u001b[0m: 0"
     ]
    }
   ],
   "source": [
    "a[0]       #there is no indexin in dictionary"
   ]
  },
  {
   "cell_type": "code",
   "execution_count": null,
   "id": "b074336c",
   "metadata": {},
   "outputs": [],
   "source": [
    "a[3]"
   ]
  },
  {
   "cell_type": "code",
   "execution_count": 56,
   "id": "3085678a",
   "metadata": {},
   "outputs": [
    {
     "data": {
      "text/plain": [
       "[1, 2, 3]"
      ]
     },
     "execution_count": 56,
     "metadata": {},
     "output_type": "execute_result"
    }
   ],
   "source": [
    "a[\"list\"]"
   ]
  },
  {
   "cell_type": "code",
   "execution_count": 57,
   "id": "5a26c5c3",
   "metadata": {},
   "outputs": [
    {
     "data": {
      "text/plain": [
       "[1, 2, 3]"
      ]
     },
     "execution_count": 57,
     "metadata": {},
     "output_type": "execute_result"
    }
   ],
   "source": [
    "a.get(\"list\")"
   ]
  },
  {
   "cell_type": "code",
   "execution_count": 58,
   "id": "6fd8b88a",
   "metadata": {},
   "outputs": [],
   "source": [
    "a.get(\"li\")"
   ]
  },
  {
   "cell_type": "code",
   "execution_count": 59,
   "id": "1fe20b89",
   "metadata": {},
   "outputs": [
    {
     "name": "stdout",
     "output_type": "stream",
     "text": [
      "None\n"
     ]
    }
   ],
   "source": [
    "print(a.get(\"li\"))"
   ]
  },
  {
   "cell_type": "code",
   "execution_count": 60,
   "id": "0b450075",
   "metadata": {},
   "outputs": [
    {
     "data": {
      "text/plain": [
       "0"
      ]
     },
     "execution_count": 60,
     "metadata": {},
     "output_type": "execute_result"
    }
   ],
   "source": [
    "a.get(\"li\",0)"
   ]
  },
  {
   "cell_type": "code",
   "execution_count": 61,
   "id": "05de5e7d",
   "metadata": {},
   "outputs": [
    {
     "data": {
      "text/plain": [
       "dict_keys([1, 3, 'list', 'dict'])"
      ]
     },
     "execution_count": 61,
     "metadata": {},
     "output_type": "execute_result"
    }
   ],
   "source": [
    "a.keys()"
   ]
  },
  {
   "cell_type": "code",
   "execution_count": 62,
   "id": "74dd6885",
   "metadata": {},
   "outputs": [
    {
     "data": {
      "text/plain": [
       "dict_items([(1, 2), (3, 4), ('list', [1, 2, 3]), ('dict', {1: 2})])"
      ]
     },
     "execution_count": 62,
     "metadata": {},
     "output_type": "execute_result"
    }
   ],
   "source": [
    "a.items()"
   ]
  },
  {
   "cell_type": "code",
   "execution_count": 63,
   "id": "620aa6c0",
   "metadata": {},
   "outputs": [
    {
     "data": {
      "text/plain": [
       "dict_values([2, 4, [1, 2, 3], {1: 2}])"
      ]
     },
     "execution_count": 63,
     "metadata": {},
     "output_type": "execute_result"
    }
   ],
   "source": [
    "a.values()"
   ]
  },
  {
   "cell_type": "code",
   "execution_count": 64,
   "id": "47016627",
   "metadata": {},
   "outputs": [
    {
     "name": "stdout",
     "output_type": "stream",
     "text": [
      "1\n",
      "3\n",
      "list\n",
      "dict\n"
     ]
    }
   ],
   "source": [
    "for i in a:\n",
    "    print(i)"
   ]
  },
  {
   "cell_type": "code",
   "execution_count": 65,
   "id": "2498af12",
   "metadata": {},
   "outputs": [
    {
     "name": "stdout",
     "output_type": "stream",
     "text": [
      "1 2\n",
      "3 4\n",
      "list [1, 2, 3]\n",
      "dict {1: 2}\n"
     ]
    }
   ],
   "source": [
    "for i in a:\n",
    "    print(i,a[i])"
   ]
  },
  {
   "cell_type": "code",
   "execution_count": 66,
   "id": "b34d26e3",
   "metadata": {},
   "outputs": [
    {
     "name": "stdout",
     "output_type": "stream",
     "text": [
      "2\n",
      "4\n",
      "[1, 2, 3]\n",
      "{1: 2}\n"
     ]
    }
   ],
   "source": [
    "for i in a.values():\n",
    "    print(i)"
   ]
  },
  {
   "cell_type": "code",
   "execution_count": 67,
   "id": "7eac799c",
   "metadata": {},
   "outputs": [
    {
     "data": {
      "text/plain": [
       "True"
      ]
     },
     "execution_count": 67,
     "metadata": {},
     "output_type": "execute_result"
    }
   ],
   "source": [
    "\"list\" in a"
   ]
  },
  {
   "cell_type": "code",
   "execution_count": 68,
   "id": "52b2c792",
   "metadata": {},
   "outputs": [
    {
     "data": {
      "text/plain": [
       "False"
      ]
     },
     "execution_count": 68,
     "metadata": {},
     "output_type": "execute_result"
    }
   ],
   "source": [
    "\"li\" in a"
   ]
  },
  {
   "cell_type": "code",
   "execution_count": 69,
   "id": "2a54f5cb",
   "metadata": {},
   "outputs": [
    {
     "data": {
      "text/plain": [
       "False"
      ]
     },
     "execution_count": 69,
     "metadata": {},
     "output_type": "execute_result"
    }
   ],
   "source": [
    "2 in a"
   ]
  },
  {
   "cell_type": "code",
   "execution_count": 70,
   "id": "2f22eb32",
   "metadata": {},
   "outputs": [
    {
     "data": {
      "text/plain": [
       "True"
      ]
     },
     "execution_count": 70,
     "metadata": {},
     "output_type": "execute_result"
    }
   ],
   "source": [
    "1 in a"
   ]
  },
  {
   "cell_type": "code",
   "execution_count": 71,
   "id": "15b033c0",
   "metadata": {},
   "outputs": [
    {
     "ename": "KeyError",
     "evalue": "0",
     "output_type": "error",
     "traceback": [
      "\u001b[1;31m---------------------------------------------------------------------------\u001b[0m",
      "\u001b[1;31mKeyError\u001b[0m                                  Traceback (most recent call last)",
      "\u001b[1;32m<ipython-input-71-ac3f786fe4f3>\u001b[0m in \u001b[0;36m<module>\u001b[1;34m\u001b[0m\n\u001b[0;32m      1\u001b[0m \u001b[0md\u001b[0m\u001b[1;33m=\u001b[0m\u001b[1;33m{\u001b[0m\u001b[1;36m1\u001b[0m\u001b[1;33m:\u001b[0m\u001b[1;36m2\u001b[0m\u001b[1;33m,\u001b[0m\u001b[1;34m\"abc\"\u001b[0m\u001b[1;33m:\u001b[0m\u001b[1;36m5\u001b[0m\u001b[1;33m,\u001b[0m\u001b[1;34m\"def\"\u001b[0m\u001b[1;33m:\u001b[0m\u001b[1;36m7\u001b[0m\u001b[1;33m}\u001b[0m\u001b[1;33m\u001b[0m\u001b[1;33m\u001b[0m\u001b[0m\n\u001b[1;32m----> 2\u001b[1;33m \u001b[0mprint\u001b[0m\u001b[1;33m(\u001b[0m\u001b[0md\u001b[0m\u001b[1;33m[\u001b[0m\u001b[1;36m0\u001b[0m\u001b[1;33m]\u001b[0m\u001b[1;33m)\u001b[0m\u001b[1;33m\u001b[0m\u001b[1;33m\u001b[0m\u001b[0m\n\u001b[0m",
      "\u001b[1;31mKeyError\u001b[0m: 0"
     ]
    }
   ],
   "source": [
    "d={1:2,\"abc\":5,\"def\":7}\n",
    "print(d[0])"
   ]
  },
  {
   "cell_type": "code",
   "execution_count": 72,
   "id": "4621abdd",
   "metadata": {},
   "outputs": [
    {
     "name": "stdout",
     "output_type": "stream",
     "text": [
      "5\n"
     ]
    }
   ],
   "source": [
    "d={1:2,\"abc\":5,\"def\":7}\n",
    "print(d.get(0,5))"
   ]
  },
  {
   "cell_type": "code",
   "execution_count": 73,
   "id": "ea76a1a4",
   "metadata": {},
   "outputs": [
    {
     "name": "stdout",
     "output_type": "stream",
     "text": [
      "not present\n"
     ]
    }
   ],
   "source": [
    "d={1:2,\"abc\":5,\"def\":7}\n",
    "if 2 in d:\n",
    "    print(\"present\")\n",
    "else:\n",
    "    print(\"not present\")"
   ]
  },
  {
   "cell_type": "markdown",
   "id": "ae081aa1",
   "metadata": {},
   "source": [
    "### adding/removing data in dictionary"
   ]
  },
  {
   "cell_type": "code",
   "execution_count": 74,
   "id": "a33ca353",
   "metadata": {},
   "outputs": [
    {
     "data": {
      "text/plain": [
       "{1: 2, 3: 4, 'list': [1, 23], 'dict': {1, 2}, 't': {1, 2, 3}}"
      ]
     },
     "execution_count": 74,
     "metadata": {},
     "output_type": "execute_result"
    }
   ],
   "source": [
    "a={1:2,3:4,\"list\":[1,23],\"dict\":{1,2}}\n",
    "a[\"t\"]={1,2,3}\n",
    "a"
   ]
  },
  {
   "cell_type": "code",
   "execution_count": 75,
   "id": "0daec597",
   "metadata": {},
   "outputs": [
    {
     "data": {
      "text/plain": [
       "{1: 10, 3: 4, 'list': [1, 23], 'dict': {1, 2}, 't': {1, 2, 3}}"
      ]
     },
     "execution_count": 75,
     "metadata": {},
     "output_type": "execute_result"
    }
   ],
   "source": [
    "a[1]=10\n",
    "a"
   ]
  },
  {
   "cell_type": "code",
   "execution_count": 76,
   "id": "d2b53836",
   "metadata": {},
   "outputs": [
    {
     "data": {
      "text/plain": [
       "{1: 10,\n",
       " 3: 5,\n",
       " 'list': [1, 23],\n",
       " 'dict': {1, 2},\n",
       " 't': {1, 2, 3},\n",
       " 'the': 4,\n",
       " 2: 100}"
      ]
     },
     "execution_count": 76,
     "metadata": {},
     "output_type": "execute_result"
    }
   ],
   "source": [
    "b={3:5,\"the\":4,2:100}\n",
    "a.update(b)\n",
    "a"
   ]
  },
  {
   "cell_type": "code",
   "execution_count": 77,
   "id": "e917e247",
   "metadata": {},
   "outputs": [
    {
     "ename": "TypeError",
     "evalue": "pop expected at least 1 argument, got 0",
     "output_type": "error",
     "traceback": [
      "\u001b[1;31m---------------------------------------------------------------------------\u001b[0m",
      "\u001b[1;31mTypeError\u001b[0m                                 Traceback (most recent call last)",
      "\u001b[1;32m<ipython-input-77-9c070c907602>\u001b[0m in \u001b[0;36m<module>\u001b[1;34m\u001b[0m\n\u001b[1;32m----> 1\u001b[1;33m \u001b[0ma\u001b[0m\u001b[1;33m.\u001b[0m\u001b[0mpop\u001b[0m\u001b[1;33m(\u001b[0m\u001b[1;33m)\u001b[0m\u001b[1;33m\u001b[0m\u001b[1;33m\u001b[0m\u001b[0m\n\u001b[0m",
      "\u001b[1;31mTypeError\u001b[0m: pop expected at least 1 argument, got 0"
     ]
    }
   ],
   "source": [
    "a.pop()"
   ]
  },
  {
   "cell_type": "code",
   "execution_count": 78,
   "id": "d79b255d",
   "metadata": {},
   "outputs": [
    {
     "data": {
      "text/plain": [
       "{1, 2, 3}"
      ]
     },
     "execution_count": 78,
     "metadata": {},
     "output_type": "execute_result"
    }
   ],
   "source": [
    "a.pop(\"t\")"
   ]
  },
  {
   "cell_type": "code",
   "execution_count": 79,
   "id": "9fa281c5",
   "metadata": {},
   "outputs": [
    {
     "data": {
      "text/plain": [
       "{3: 5, 'list': [1, 23], 'dict': {1, 2}, 'the': 4, 2: 100}"
      ]
     },
     "execution_count": 79,
     "metadata": {},
     "output_type": "execute_result"
    }
   ],
   "source": [
    "del a[1]\n",
    "a"
   ]
  },
  {
   "cell_type": "code",
   "execution_count": 80,
   "id": "bf27c948",
   "metadata": {},
   "outputs": [
    {
     "data": {
      "text/plain": [
       "{}"
      ]
     },
     "execution_count": 80,
     "metadata": {},
     "output_type": "execute_result"
    }
   ],
   "source": [
    "a.clear()\n",
    "a"
   ]
  },
  {
   "cell_type": "code",
   "execution_count": 81,
   "id": "f330d293",
   "metadata": {},
   "outputs": [
    {
     "ename": "NameError",
     "evalue": "name 'a' is not defined",
     "output_type": "error",
     "traceback": [
      "\u001b[1;31m---------------------------------------------------------------------------\u001b[0m",
      "\u001b[1;31mNameError\u001b[0m                                 Traceback (most recent call last)",
      "\u001b[1;32m<ipython-input-81-88f0dc819981>\u001b[0m in \u001b[0;36m<module>\u001b[1;34m\u001b[0m\n\u001b[0;32m      1\u001b[0m \u001b[1;32mdel\u001b[0m \u001b[0ma\u001b[0m\u001b[1;33m\u001b[0m\u001b[1;33m\u001b[0m\u001b[0m\n\u001b[1;32m----> 2\u001b[1;33m \u001b[0ma\u001b[0m\u001b[1;33m\u001b[0m\u001b[1;33m\u001b[0m\u001b[0m\n\u001b[0m",
      "\u001b[1;31mNameError\u001b[0m: name 'a' is not defined"
     ]
    }
   ],
   "source": [
    "del a\n",
    "a"
   ]
  },
  {
   "cell_type": "code",
   "execution_count": 82,
   "id": "7a2b7fb8",
   "metadata": {},
   "outputs": [
    {
     "name": "stdout",
     "output_type": "stream",
     "text": [
      "{1: 2, 'list': [1, 2], 3: 7, 4: 5}\n",
      "7\n"
     ]
    }
   ],
   "source": [
    "a={1:2,\"list\":[1,2],3:5}\n",
    "b={4:5,3:7}\n",
    "a.update(b)\n",
    "print(a)\n",
    "print(a[3])"
   ]
  },
  {
   "cell_type": "code",
   "execution_count": 83,
   "id": "ee441f58",
   "metadata": {},
   "outputs": [
    {
     "name": "stdout",
     "output_type": "stream",
     "text": [
      "{1: 2, 3: 5}\n",
      "[3, 5]\n"
     ]
    }
   ],
   "source": [
    "a={1:2,\"list\":[1,2],3:5}\n",
    "a.pop(\"list\")\n",
    "print(a)\n",
    "a[\"list\"]=[3,5]\n",
    "print(a[\"list\"])"
   ]
  },
  {
   "cell_type": "code",
   "execution_count": 84,
   "id": "7e4c7504",
   "metadata": {},
   "outputs": [
    {
     "data": {
      "text/plain": [
       "{'this': 1, 'is': 1, 'a': 1, 'word': 2, 'string': 1, 'having': 1, 'many': 2}"
      ]
     },
     "execution_count": 84,
     "metadata": {},
     "output_type": "execute_result"
    }
   ],
   "source": [
    "#print all words with frequency k\n",
    "a=\"this is a word string having many many word\"\n",
    "words=a.split()      #words is a list\n",
    "d={}\n",
    "for w in words:\n",
    "    if w in d:       \n",
    "        d[w]=d[w]+1\n",
    "    else:\n",
    "        d[w]=1\n",
    "d"
   ]
  },
  {
   "cell_type": "code",
   "execution_count": 85,
   "id": "fa054371",
   "metadata": {},
   "outputs": [
    {
     "data": {
      "text/plain": [
       "['this', 'is', 'a', 'word', 'string', 'having', 'many', 'many', 'word']"
      ]
     },
     "execution_count": 85,
     "metadata": {},
     "output_type": "execute_result"
    }
   ],
   "source": [
    "words"
   ]
  },
  {
   "cell_type": "code",
   "execution_count": 86,
   "id": "2277a246",
   "metadata": {},
   "outputs": [
    {
     "data": {
      "text/plain": [
       "{'this': 1, 'is': 1, 'a': 1, 'word': 2, 'string': 1, 'having': 1, 'many': 2}"
      ]
     },
     "execution_count": 86,
     "metadata": {},
     "output_type": "execute_result"
    }
   ],
   "source": [
    "#print all words with frequency k\n",
    "a=\"this is a word string having many many word\"\n",
    "words=a.split()      #words is a list\n",
    "d={}\n",
    "for w in words:\n",
    "    d[w]=d.get(w,0)+1\n",
    "d"
   ]
  },
  {
   "cell_type": "code",
   "execution_count": 87,
   "id": "17da4db3",
   "metadata": {},
   "outputs": [
    {
     "name": "stdout",
     "output_type": "stream",
     "text": [
      "word\n",
      "many\n"
     ]
    }
   ],
   "source": [
    "#print all words with frequency k\n",
    "a=\"this is a word string having many many word\"\n",
    "words=a.split()      #words is a list\n",
    "d={}\n",
    "k=2\n",
    "for w in words:\n",
    "    d[w]=d.get(w,0)+1\n",
    "for w in d:\n",
    "    if d[w]==k:\n",
    "        print(w)\n"
   ]
  },
  {
   "cell_type": "code",
   "execution_count": 88,
   "id": "cf140194",
   "metadata": {},
   "outputs": [
    {
     "name": "stdout",
     "output_type": "stream",
     "text": [
      "{'name': 'kelly', 'age': 25, 'salary': 8000, 'location': 'new york'}\n"
     ]
    }
   ],
   "source": [
    "#rename key \"city\" to \"location\" in following dictionary:\n",
    "sampledict={\n",
    "    \"name\":\"kelly\",\n",
    "    \"age\":25,\n",
    "    \"salary\":8000,\n",
    "    \"city\":\"new york\"\n",
    "}\n",
    "x=sampledict.pop(\"city\")   #x will give \"value\" of key city and will update it by removing \"city\"\n",
    "sampledict[\"location\"]=x   #this will insert new key'location' in sampledict with value x\n",
    "print(sampledict)"
   ]
  },
  {
   "cell_type": "code",
   "execution_count": 89,
   "id": "1efaed77",
   "metadata": {},
   "outputs": [
    {
     "name": "stdout",
     "output_type": "stream",
     "text": [
      "270\n"
     ]
    }
   ],
   "source": [
    "#sum of all values in dictionary\n",
    "d={\"a\":10,\"b\":20,\"c\":50,\"d\":40,\"e\":50,\"f\":50,\"g\":50}\n",
    "print(sum(d.values()))"
   ]
  },
  {
   "cell_type": "code",
   "execution_count": 91,
   "id": "131cbfaf",
   "metadata": {},
   "outputs": [
    {
     "name": "stdout",
     "output_type": "stream",
     "text": [
      "8\n",
      "{1: 1, 2: 4, 3: 9, 4: 16, 5: 25, 6: 36, 7: 49, 8: 64}\n"
     ]
    }
   ],
   "source": [
    "#{1:1,2:4,3:9,4:16,.....,x:x*x}\n",
    "n=int(input())\n",
    "d={}\n",
    "for x in range(1,n+1):\n",
    "    d[x]=x*x     #it specifies that value of every key(x) in dict. is equal to x*x\n",
    "print(d)"
   ]
  },
  {
   "cell_type": "code",
   "execution_count": 92,
   "id": "faa701c4",
   "metadata": {},
   "outputs": [
    {
     "name": "stdout",
     "output_type": "stream",
     "text": [
      "{'a': 10, 'b': 20, 'd': 40}\n"
     ]
    }
   ],
   "source": [
    "#remove duplicates\n",
    "d={\"a\":10,\"b\":20,\"c\":10,\"d\":40}\n",
    "r={}\n",
    "for k,v in d.items():\n",
    "    if v not in r.values():\n",
    "        r[k]=v\n",
    "print(r)"
   ]
  },
  {
   "cell_type": "code",
   "execution_count": null,
   "id": "1588c7dd",
   "metadata": {},
   "outputs": [],
   "source": []
  }
 ],
 "metadata": {
  "kernelspec": {
   "display_name": "Python 3",
   "language": "python",
   "name": "python3"
  },
  "language_info": {
   "codemirror_mode": {
    "name": "ipython",
    "version": 3
   },
   "file_extension": ".py",
   "mimetype": "text/x-python",
   "name": "python",
   "nbconvert_exporter": "python",
   "pygments_lexer": "ipython3",
   "version": "3.8.8"
  }
 },
 "nbformat": 4,
 "nbformat_minor": 5
}
