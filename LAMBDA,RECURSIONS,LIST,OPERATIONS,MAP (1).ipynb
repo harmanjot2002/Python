{
 "cells": [
  {
   "cell_type": "code",
   "execution_count": 1,
   "id": "d5e85b0e",
   "metadata": {},
   "outputs": [],
   "source": [
    "def double(x):\n",
    "    double=x*2\n",
    "    return double"
   ]
  },
  {
   "cell_type": "code",
   "execution_count": 2,
   "id": "fc71a477",
   "metadata": {},
   "outputs": [
    {
     "data": {
      "text/plain": [
       "12"
      ]
     },
     "execution_count": 2,
     "metadata": {},
     "output_type": "execute_result"
    }
   ],
   "source": [
    "double(6)"
   ]
  },
  {
   "cell_type": "code",
   "execution_count": 3,
   "id": "ee38202e",
   "metadata": {},
   "outputs": [
    {
     "name": "stdout",
     "output_type": "stream",
     "text": [
      "12\n"
     ]
    }
   ],
   "source": [
    "double=lambda x:x*2\n",
    "print(double(6))"
   ]
  },
  {
   "cell_type": "code",
   "execution_count": 4,
   "id": "e30f58a4",
   "metadata": {},
   "outputs": [
    {
     "name": "stdout",
     "output_type": "stream",
     "text": [
      "helloworld\n"
     ]
    }
   ],
   "source": [
    "x=lambda:\"helloworld\"\n",
    "print(x())    "
   ]
  },
  {
   "cell_type": "code",
   "execution_count": 5,
   "id": "684d7731",
   "metadata": {},
   "outputs": [],
   "source": [
    "def square(x):\n",
    "    s=x**2\n",
    "    return s"
   ]
  },
  {
   "cell_type": "code",
   "execution_count": 6,
   "id": "ae688091",
   "metadata": {},
   "outputs": [
    {
     "data": {
      "text/plain": [
       "64"
      ]
     },
     "execution_count": 6,
     "metadata": {},
     "output_type": "execute_result"
    }
   ],
   "source": [
    "square(8)"
   ]
  },
  {
   "cell_type": "code",
   "execution_count": 7,
   "id": "0781fa98",
   "metadata": {},
   "outputs": [
    {
     "name": "stdout",
     "output_type": "stream",
     "text": [
      "64\n"
     ]
    }
   ],
   "source": [
    "square=lambda x:x**2\n",
    "print(square(8))"
   ]
  },
  {
   "cell_type": "code",
   "execution_count": 8,
   "id": "ea814527",
   "metadata": {},
   "outputs": [
    {
     "name": "stdout",
     "output_type": "stream",
     "text": [
      "64\n"
     ]
    }
   ],
   "source": [
    "sqr=square(8)\n",
    "print(sqr)"
   ]
  },
  {
   "cell_type": "code",
   "execution_count": 9,
   "id": "785fdd1a",
   "metadata": {},
   "outputs": [],
   "source": [
    "def sum(x,y):\n",
    "    c=x+y\n",
    "    return c"
   ]
  },
  {
   "cell_type": "code",
   "execution_count": 10,
   "id": "b45c1ca1",
   "metadata": {},
   "outputs": [
    {
     "name": "stdout",
     "output_type": "stream",
     "text": [
      "4\n"
     ]
    }
   ],
   "source": [
    "print(sum(1,3))"
   ]
  },
  {
   "cell_type": "code",
   "execution_count": 11,
   "id": "4850beef",
   "metadata": {},
   "outputs": [
    {
     "data": {
      "text/plain": [
       "4"
      ]
     },
     "execution_count": 11,
     "metadata": {},
     "output_type": "execute_result"
    }
   ],
   "source": [
    "sum=lambda x,y:x+y\n",
    "sum(1,3)"
   ]
  },
  {
   "cell_type": "code",
   "execution_count": 12,
   "id": "9a4e75ef",
   "metadata": {},
   "outputs": [
    {
     "data": {
      "text/plain": [
       "4"
      ]
     },
     "execution_count": 12,
     "metadata": {},
     "output_type": "execute_result"
    }
   ],
   "source": [
    "(lambda x,y:x+y)(1,3)"
   ]
  },
  {
   "cell_type": "code",
   "execution_count": 13,
   "id": "0cb11014",
   "metadata": {},
   "outputs": [
    {
     "data": {
      "text/plain": [
       "105"
      ]
     },
     "execution_count": 13,
     "metadata": {},
     "output_type": "execute_result"
    }
   ],
   "source": [
    "(lambda x,y=3,z=5:x*y*z)(x=7)"
   ]
  },
  {
   "cell_type": "code",
   "execution_count": 14,
   "id": "9b3cf900",
   "metadata": {},
   "outputs": [],
   "source": [
    "def sum3(x,y,z):\n",
    "    c=x+sum(y,z)\n",
    "    return c"
   ]
  },
  {
   "cell_type": "code",
   "execution_count": 15,
   "id": "cda79cc3",
   "metadata": {},
   "outputs": [
    {
     "data": {
      "text/plain": [
       "168"
      ]
     },
     "execution_count": 15,
     "metadata": {},
     "output_type": "execute_result"
    }
   ],
   "source": [
    "sum3(45,56,67)"
   ]
  },
  {
   "cell_type": "code",
   "execution_count": 16,
   "id": "3755a283",
   "metadata": {},
   "outputs": [
    {
     "name": "stdout",
     "output_type": "stream",
     "text": [
      "120\n"
     ]
    }
   ],
   "source": [
    "def fact(x):\n",
    "    if x==1:\n",
    "        return 1\n",
    "    else:\n",
    "        return x*fact(x-1)\n",
    "print(fact(5))   "
   ]
  },
  {
   "cell_type": "code",
   "execution_count": 17,
   "id": "921357f9",
   "metadata": {},
   "outputs": [],
   "source": [
    "def sod(n):\n",
    "    if n//10==0:\n",
    "        return n\n",
    "    else:\n",
    "        return (sod(n//10)+n%10)"
   ]
  },
  {
   "cell_type": "code",
   "execution_count": 18,
   "id": "f23217e0",
   "metadata": {},
   "outputs": [
    {
     "data": {
      "text/plain": [
       "20"
      ]
     },
     "execution_count": 18,
     "metadata": {},
     "output_type": "execute_result"
    }
   ],
   "source": [
    "sod(5672)"
   ]
  },
  {
   "cell_type": "code",
   "execution_count": 19,
   "id": "0b1bf648",
   "metadata": {},
   "outputs": [],
   "source": [
    "def isprime(n):\n",
    "    for d in range(2,n):\n",
    "        if (n%d==0):\n",
    "            break\n",
    "    else:\n",
    "        return True\n",
    "    return False"
   ]
  },
  {
   "cell_type": "code",
   "execution_count": 20,
   "id": "d8610302",
   "metadata": {
    "scrolled": false
   },
   "outputs": [
    {
     "data": {
      "text/plain": [
       "True"
      ]
     },
     "execution_count": 20,
     "metadata": {},
     "output_type": "execute_result"
    }
   ],
   "source": [
    "isprime(17)"
   ]
  },
  {
   "cell_type": "code",
   "execution_count": 21,
   "id": "e188f26d",
   "metadata": {},
   "outputs": [],
   "source": [
    "def primefrom2toN(a):\n",
    "    for k in range(2,a+1):\n",
    "        is_k_prime=isprime(k)\n",
    "        if (is_k_prime):\n",
    "            print(k)"
   ]
  },
  {
   "cell_type": "code",
   "execution_count": 22,
   "id": "5084d5b3",
   "metadata": {
    "scrolled": true
   },
   "outputs": [
    {
     "name": "stdout",
     "output_type": "stream",
     "text": [
      "2\n",
      "3\n",
      "5\n",
      "7\n",
      "11\n",
      "13\n",
      "17\n",
      "19\n"
     ]
    }
   ],
   "source": [
    "primefrom2toN(20)"
   ]
  },
  {
   "cell_type": "code",
   "execution_count": 23,
   "id": "722425bd",
   "metadata": {},
   "outputs": [],
   "source": [
    "def febo(n):\n",
    "    if n==1:\n",
    "        return 1\n",
    "    elif n==2:\n",
    "        return 1\n",
    "    else:\n",
    "        return(febo(n-1)+febo(n-2))"
   ]
  },
  {
   "cell_type": "code",
   "execution_count": 24,
   "id": "67738f50",
   "metadata": {},
   "outputs": [
    {
     "data": {
      "text/plain": [
       "2"
      ]
     },
     "execution_count": 24,
     "metadata": {},
     "output_type": "execute_result"
    }
   ],
   "source": [
    "febo(3)"
   ]
  },
  {
   "cell_type": "code",
   "execution_count": 25,
   "id": "637297a4",
   "metadata": {},
   "outputs": [
    {
     "data": {
      "text/plain": [
       "5"
      ]
     },
     "execution_count": 25,
     "metadata": {},
     "output_type": "execute_result"
    }
   ],
   "source": [
    "febo(5)"
   ]
  },
  {
   "cell_type": "code",
   "execution_count": 26,
   "id": "2ebdc5bb",
   "metadata": {},
   "outputs": [
    {
     "name": "stdout",
     "output_type": "stream",
     "text": [
      "<class 'list'>\n",
      "[1, 2, 3, 4.5, 6, 7, 'ABC']\n",
      "['hello', 1, 4.63, True, 'world', 2.0, False]\n",
      "True\n"
     ]
    }
   ],
   "source": [
    "a=[\"hello\",1,4.63,True,\"world\",2.0,False]\n",
    "b=[1,2,3,4.5,6,7,\"ABC\"]  #indexing in list starts from 0.\n",
    "print(type(a))\n",
    "print(b)\n",
    "print(a)\n",
    "print(a[3])\n"
   ]
  },
  {
   "cell_type": "code",
   "execution_count": 27,
   "id": "90558d87",
   "metadata": {},
   "outputs": [
    {
     "data": {
      "text/plain": [
       "list"
      ]
     },
     "execution_count": 27,
     "metadata": {},
     "output_type": "execute_result"
    }
   ],
   "source": [
    "a=[\"hello\",1,4.63,True,\"world\",2.0,False]\n",
    "b=[1,2,3,4.5,6,7,\"ABC\"]\n",
    "\n",
    "#print(b)\n",
    "#print(a)\n",
    "#print(a[3])\n",
    "type(a)"
   ]
  },
  {
   "cell_type": "markdown",
   "id": "e6fa9f77",
   "metadata": {},
   "source": [
    "### slicing"
   ]
  },
  {
   "cell_type": "code",
   "execution_count": 28,
   "id": "f9c6b408",
   "metadata": {},
   "outputs": [
    {
     "data": {
      "text/plain": [
       "2.0"
      ]
     },
     "execution_count": 28,
     "metadata": {},
     "output_type": "execute_result"
    }
   ],
   "source": [
    "a[-2]"
   ]
  },
  {
   "cell_type": "code",
   "execution_count": 29,
   "id": "b1495be1",
   "metadata": {},
   "outputs": [
    {
     "data": {
      "text/plain": [
       "[4.63, True, 'world']"
      ]
     },
     "execution_count": 29,
     "metadata": {},
     "output_type": "execute_result"
    }
   ],
   "source": [
    "a[2:5]"
   ]
  },
  {
   "cell_type": "code",
   "execution_count": 30,
   "id": "e5ad6329",
   "metadata": {},
   "outputs": [
    {
     "data": {
      "text/plain": [
       "['hello', 1, 4.63, True, 'world', 2.0, False]"
      ]
     },
     "execution_count": 30,
     "metadata": {},
     "output_type": "execute_result"
    }
   ],
   "source": [
    "a[:]"
   ]
  },
  {
   "cell_type": "code",
   "execution_count": 31,
   "id": "db96b4b4",
   "metadata": {},
   "outputs": [
    {
     "data": {
      "text/plain": [
       "[False, 2.0]"
      ]
     },
     "execution_count": 31,
     "metadata": {},
     "output_type": "execute_result"
    }
   ],
   "source": [
    "a[-1:-3:-1]"
   ]
  },
  {
   "cell_type": "markdown",
   "id": "ac220041",
   "metadata": {},
   "source": [
    "### replacing our existing data"
   ]
  },
  {
   "cell_type": "code",
   "execution_count": 32,
   "id": "89e32039",
   "metadata": {},
   "outputs": [
    {
     "name": "stdout",
     "output_type": "stream",
     "text": [
      "['apple', 'banana', 'kiwi', 'cherry', 'orange', 'mango']\n"
     ]
    }
   ],
   "source": [
    "thislist=[\"apple\",\"banana\",\"kiwi\",\"cherry\",\"orange\",\"mango\"]\n",
    "print(thislist)"
   ]
  },
  {
   "cell_type": "code",
   "execution_count": 33,
   "id": "4133e190",
   "metadata": {},
   "outputs": [
    {
     "name": "stdout",
     "output_type": "stream",
     "text": [
      "['apple', 'blackcurrant', 'watermelon', 'cherry', 'orange', 'mango']\n"
     ]
    }
   ],
   "source": [
    "thislist=[\"apple\",\"banana\",\"kiwi\",\"cherry\",\"orange\",\"mango\"]\n",
    "thislist[1:3]=[\"blackcurrant\",\"watermelon\"]\n",
    "print(thislist)"
   ]
  },
  {
   "cell_type": "markdown",
   "id": "21fc31bd",
   "metadata": {},
   "source": [
    "### insert items"
   ]
  },
  {
   "cell_type": "code",
   "execution_count": 34,
   "id": "041e073b",
   "metadata": {},
   "outputs": [
    {
     "name": "stdout",
     "output_type": "stream",
     "text": [
      "['apple', 'banana', 'watermelon', 'cherry']\n"
     ]
    }
   ],
   "source": [
    "thislist=[\"apple\",\"banana\",\"cherry\"]\n",
    "thislist.insert(2,\"watermelon\")   #means 2nd place pe hmne watermelon print krvana hai\n",
    "print(thislist)"
   ]
  },
  {
   "cell_type": "code",
   "execution_count": 35,
   "id": "8128a71e",
   "metadata": {},
   "outputs": [
    {
     "name": "stdout",
     "output_type": "stream",
     "text": [
      "['apple', 'banana', 'cherry', 'orange']\n"
     ]
    }
   ],
   "source": [
    "thislist=[\"apple\",\"banana\",\"cherry\"]\n",
    "thislist.append(\"orange\")\n",
    "print(thislist)"
   ]
  },
  {
   "cell_type": "code",
   "execution_count": 36,
   "id": "17860a3e",
   "metadata": {},
   "outputs": [
    {
     "name": "stdout",
     "output_type": "stream",
     "text": [
      "['apple', 'banana', 'cherry', 'mango', 'pineapple', 'papaya']\n"
     ]
    }
   ],
   "source": [
    "thislist=[\"apple\",\"banana\",\"cherry\"]\n",
    "tropical=[\"mango\",\"pineapple\",\"papaya\"]\n",
    "thislist.extend(tropical)\n",
    "print(thislist)"
   ]
  },
  {
   "cell_type": "code",
   "execution_count": 37,
   "id": "d1be4be3",
   "metadata": {},
   "outputs": [
    {
     "name": "stdout",
     "output_type": "stream",
     "text": [
      "['apple', 'cherry']\n"
     ]
    }
   ],
   "source": [
    "thislist=[\"apple\",\"banana\",\"cherry\"]\n",
    "thislist.remove(\"banana\")\n",
    "print(thislist)"
   ]
  },
  {
   "cell_type": "code",
   "execution_count": 38,
   "id": "194bccbb",
   "metadata": {},
   "outputs": [
    {
     "name": "stdout",
     "output_type": "stream",
     "text": [
      "['apple', 'cherry']\n"
     ]
    }
   ],
   "source": [
    "thislist=[\"apple\",\"banana\",\"cherry\"]\n",
    "thislist.pop(1)\n",
    "print(thislist)"
   ]
  },
  {
   "cell_type": "code",
   "execution_count": 39,
   "id": "dcb6731d",
   "metadata": {},
   "outputs": [
    {
     "name": "stdout",
     "output_type": "stream",
     "text": [
      "['apple', 'cherry']\n"
     ]
    }
   ],
   "source": [
    "thislist=[\"apple\",\"banana\",\"cherry\"]\n",
    "del thislist[1]\n",
    "print(thislist)"
   ]
  },
  {
   "cell_type": "code",
   "execution_count": 40,
   "id": "867f3952",
   "metadata": {},
   "outputs": [
    {
     "name": "stdout",
     "output_type": "stream",
     "text": [
      "2\n",
      "4\n",
      "8\n"
     ]
    }
   ],
   "source": [
    "#program to find even numbers from list\n",
    "list1=[1,2,3,5,4,8,7,9]\n",
    "for i in list1:\n",
    "    if i%2==0:\n",
    "        print(i)"
   ]
  },
  {
   "cell_type": "code",
   "execution_count": 41,
   "id": "7f8ecb08",
   "metadata": {},
   "outputs": [
    {
     "name": "stdout",
     "output_type": "stream",
     "text": [
      "[1, 2, 4, 6, 9, 3, 19, 7]\n"
     ]
    }
   ],
   "source": [
    "#program to merge 2 lists\n",
    "list3=[1,2,4,6]\n",
    "list4=[9,3,19,7]\n",
    "list3.extend(list4)\n",
    "print(list3)"
   ]
  },
  {
   "cell_type": "code",
   "execution_count": 42,
   "id": "2a5d54fd",
   "metadata": {},
   "outputs": [
    {
     "name": "stdout",
     "output_type": "stream",
     "text": [
      "[23, 29, 51, 9, 17, 6, 7, 1]\n"
     ]
    }
   ],
   "source": [
    "#interchange first and last element of a list\n",
    "list5=[1,29,51,9,17,6,7,23]\n",
    "list5[0],list5[-1]=list5[-1],list5[0]\n",
    "print (list5)"
   ]
  },
  {
   "cell_type": "code",
   "execution_count": 43,
   "id": "350d1e16",
   "metadata": {},
   "outputs": [
    {
     "name": "stdout",
     "output_type": "stream",
     "text": [
      "[1, 2, 3, 5]\n"
     ]
    }
   ],
   "source": [
    "#program to subtract a list from another list\n",
    "a=[1,2,3,5]\n",
    "b=[10,20]\n",
    "l1=[]\n",
    "for i in a:\n",
    "    if i not in b:\n",
    "        l1.append(i)\n",
    "print(l1)        "
   ]
  },
  {
   "cell_type": "code",
   "execution_count": 44,
   "id": "282db065",
   "metadata": {},
   "outputs": [
    {
     "name": "stdout",
     "output_type": "stream",
     "text": [
      "[2, 3, 5]\n"
     ]
    }
   ],
   "source": [
    "#program to get data items from list appearing odd no. of times\n",
    "x=[1,2,3,4,5,1,3,3,4]\n",
    "l1=[]\n",
    "for i in x:\n",
    "    if x.count(i)%2!=0:\n",
    "        if i not in l1:\n",
    "            l1.append(i)\n",
    "print(l1)            "
   ]
  },
  {
   "cell_type": "code",
   "execution_count": 45,
   "id": "47296e0f",
   "metadata": {},
   "outputs": [
    {
     "data": {
      "text/plain": [
       "[1, 2, 3, 4, 5, 6, 7, 8]"
      ]
     },
     "execution_count": 45,
     "metadata": {},
     "output_type": "execute_result"
    }
   ],
   "source": [
    "a=[1,2,3,4,5,6,7,8]\n",
    "a"
   ]
  },
  {
   "cell_type": "code",
   "execution_count": 46,
   "id": "bb4fe46f",
   "metadata": {},
   "outputs": [],
   "source": [
    "a[2:4]=[20,30]"
   ]
  },
  {
   "cell_type": "code",
   "execution_count": 47,
   "id": "6df65fa9",
   "metadata": {},
   "outputs": [
    {
     "data": {
      "text/plain": [
       "[1, 2, 20, 30, 5, 6, 7, 8]"
      ]
     },
     "execution_count": 47,
     "metadata": {},
     "output_type": "execute_result"
    }
   ],
   "source": [
    "a"
   ]
  },
  {
   "cell_type": "code",
   "execution_count": 48,
   "id": "981df39b",
   "metadata": {},
   "outputs": [],
   "source": [
    "a[2:5]=[20]"
   ]
  },
  {
   "cell_type": "code",
   "execution_count": 49,
   "id": "844fd923",
   "metadata": {},
   "outputs": [
    {
     "data": {
      "text/plain": [
       "[1, 2, 20, 6, 7, 8]"
      ]
     },
     "execution_count": 49,
     "metadata": {},
     "output_type": "execute_result"
    }
   ],
   "source": [
    "a"
   ]
  },
  {
   "cell_type": "code",
   "execution_count": 50,
   "id": "cdf7fa55",
   "metadata": {},
   "outputs": [
    {
     "data": {
      "text/plain": [
       "[1, 111, 2, 20, 6, 7, 8]"
      ]
     },
     "execution_count": 50,
     "metadata": {},
     "output_type": "execute_result"
    }
   ],
   "source": [
    "a.insert(1,111)\n",
    "a"
   ]
  },
  {
   "cell_type": "code",
   "execution_count": 51,
   "id": "4ad6757a",
   "metadata": {},
   "outputs": [],
   "source": [
    "a.append(1000)"
   ]
  },
  {
   "cell_type": "code",
   "execution_count": 52,
   "id": "e215b94a",
   "metadata": {},
   "outputs": [
    {
     "data": {
      "text/plain": [
       "[1, 111, 2, 20, 6, 7, 8, 1000]"
      ]
     },
     "execution_count": 52,
     "metadata": {},
     "output_type": "execute_result"
    }
   ],
   "source": [
    "a"
   ]
  },
  {
   "cell_type": "code",
   "execution_count": 53,
   "id": "21f1b999",
   "metadata": {},
   "outputs": [
    {
     "name": "stdout",
     "output_type": "stream",
     "text": [
      "[1, 2, 6, 7, 8, 20, 111, 1000]\n"
     ]
    }
   ],
   "source": [
    "a.sort()\n",
    "print(a)"
   ]
  },
  {
   "cell_type": "code",
   "execution_count": 54,
   "id": "1c054eeb",
   "metadata": {},
   "outputs": [
    {
     "name": "stdout",
     "output_type": "stream",
     "text": [
      "[1, 2, 3]\n",
      "[4, 5, 6]\n"
     ]
    }
   ],
   "source": [
    "a=[1,2,3]\n",
    "b=[4,5,6]\n",
    "print(a)\n",
    "print(b)\n"
   ]
  },
  {
   "cell_type": "code",
   "execution_count": 55,
   "id": "b9bf16da",
   "metadata": {},
   "outputs": [],
   "source": [
    "a.extend(b)"
   ]
  },
  {
   "cell_type": "code",
   "execution_count": 56,
   "id": "6a93ab2a",
   "metadata": {},
   "outputs": [
    {
     "data": {
      "text/plain": [
       "[1, 2, 3, 4, 5, 6]"
      ]
     },
     "execution_count": 56,
     "metadata": {},
     "output_type": "execute_result"
    }
   ],
   "source": [
    "a"
   ]
  },
  {
   "cell_type": "code",
   "execution_count": 57,
   "id": "f46461c7",
   "metadata": {},
   "outputs": [
    {
     "name": "stdout",
     "output_type": "stream",
     "text": [
      "10 15\n"
     ]
    }
   ],
   "source": [
    "a,b=10,15\n",
    "print(a,b)"
   ]
  },
  {
   "cell_type": "code",
   "execution_count": 58,
   "id": "da65d5e8",
   "metadata": {},
   "outputs": [
    {
     "data": {
      "text/plain": [
       "3"
      ]
     },
     "execution_count": 58,
     "metadata": {},
     "output_type": "execute_result"
    }
   ],
   "source": [
    "a=[1,1,1,2,3,4,2,3,4]\n",
    "a.count(1)"
   ]
  },
  {
   "cell_type": "code",
   "execution_count": 59,
   "id": "48871487",
   "metadata": {},
   "outputs": [
    {
     "name": "stdout",
     "output_type": "stream",
     "text": [
      "2\n"
     ]
    }
   ],
   "source": [
    "print(a.count(3))"
   ]
  },
  {
   "cell_type": "code",
   "execution_count": 60,
   "id": "8a50eea1",
   "metadata": {},
   "outputs": [
    {
     "name": "stdout",
     "output_type": "stream",
     "text": [
      "[1, 2, 3, 2]\n"
     ]
    }
   ],
   "source": [
    "a=[1,2,3,2]\n",
    "print(a)"
   ]
  },
  {
   "cell_type": "code",
   "execution_count": 61,
   "id": "0825c1f4",
   "metadata": {},
   "outputs": [
    {
     "name": "stdout",
     "output_type": "stream",
     "text": [
      "[]\n"
     ]
    }
   ],
   "source": [
    "a.clear()\n",
    "print(a)"
   ]
  },
  {
   "cell_type": "code",
   "execution_count": 62,
   "id": "cc87d1a9",
   "metadata": {},
   "outputs": [
    {
     "name": "stdout",
     "output_type": "stream",
     "text": [
      "[2, 3, 2, 1]\n"
     ]
    }
   ],
   "source": [
    "a=[1,2,3,2]\n",
    "a.reverse()\n",
    "print(a)"
   ]
  },
  {
   "cell_type": "code",
   "execution_count": 63,
   "id": "710ff00f",
   "metadata": {},
   "outputs": [
    {
     "name": "stdout",
     "output_type": "stream",
     "text": [
      "[1, 2, 2, 3]\n"
     ]
    }
   ],
   "source": [
    "a=[1,2,3,2]\n",
    "a.sort()\n",
    "print(a)"
   ]
  },
  {
   "cell_type": "code",
   "execution_count": 64,
   "id": "15ebb21d",
   "metadata": {},
   "outputs": [
    {
     "name": "stdout",
     "output_type": "stream",
     "text": [
      "[3, 2, 2, 1]\n"
     ]
    }
   ],
   "source": [
    "a=[1,2,3,2]\n",
    "a.sort(reverse=True)\n",
    "print(a)"
   ]
  },
  {
   "cell_type": "code",
   "execution_count": 65,
   "id": "38302007",
   "metadata": {},
   "outputs": [
    {
     "name": "stdout",
     "output_type": "stream",
     "text": [
      "[1, 2, 3, 4, 5]\n"
     ]
    }
   ],
   "source": [
    "x=[2,1,4,5,3]\n",
    "x.sort()\n",
    "print(x)"
   ]
  },
  {
   "cell_type": "code",
   "execution_count": 66,
   "id": "c94be88b",
   "metadata": {},
   "outputs": [
    {
     "name": "stdout",
     "output_type": "stream",
     "text": [
      "[5, 4, 3, 2, 1]\n"
     ]
    }
   ],
   "source": [
    "x.sort(reverse=True)\n",
    "print(x)"
   ]
  },
  {
   "cell_type": "code",
   "execution_count": 67,
   "id": "6247c65b",
   "metadata": {},
   "outputs": [
    {
     "name": "stdout",
     "output_type": "stream",
     "text": [
      "[5, 2, 9, 0]\n",
      "[0, 2, 5, 9]\n"
     ]
    }
   ],
   "source": [
    "x=[5,2,9,0]\n",
    "y=sorted(x)\n",
    "print(x)\n",
    "print(y)"
   ]
  },
  {
   "cell_type": "code",
   "execution_count": 68,
   "id": "33ceca00",
   "metadata": {},
   "outputs": [
    {
     "name": "stdout",
     "output_type": "stream",
     "text": [
      "[1, 2, 3, 4, 5, 6]\n",
      "[1, 2, 3]\n",
      "[4, 5, 6]\n"
     ]
    }
   ],
   "source": [
    "x=[1,2,3]\n",
    "y=[4,5,6]\n",
    "z=x+y\n",
    "print(z)\n",
    "print(x)\n",
    "print(y)"
   ]
  },
  {
   "cell_type": "code",
   "execution_count": 69,
   "id": "4f03a890",
   "metadata": {},
   "outputs": [
    {
     "name": "stdout",
     "output_type": "stream",
     "text": [
      "[1, 2, 3]\n",
      "[1, 2, 3, 1, 2, 3, 1, 2, 3]\n"
     ]
    }
   ],
   "source": [
    "x=[1,2,3]\n",
    "y=x*3    #*operation replicates a list to n number of times.\n",
    "print(x)\n",
    "print(y)"
   ]
  },
  {
   "cell_type": "code",
   "execution_count": 70,
   "id": "656fdc78",
   "metadata": {},
   "outputs": [
    {
     "name": "stdout",
     "output_type": "stream",
     "text": [
      "3\n",
      "[40, 100, 3, 9, 4]\n"
     ]
    }
   ],
   "source": [
    "x=[40,100,3,9,4]\n",
    "print(min(x))\n",
    "print(x)"
   ]
  },
  {
   "cell_type": "code",
   "execution_count": 71,
   "id": "01a5c65f",
   "metadata": {},
   "outputs": [
    {
     "name": "stdout",
     "output_type": "stream",
     "text": [
      "100\n",
      "[40, 100, 3, 9, 4]\n"
     ]
    }
   ],
   "source": [
    "print(max(x))\n",
    "print(x)"
   ]
  },
  {
   "cell_type": "code",
   "execution_count": 72,
   "id": "8f6bb762",
   "metadata": {},
   "outputs": [
    {
     "name": "stdout",
     "output_type": "stream",
     "text": [
      "2\n"
     ]
    }
   ],
   "source": [
    "print(x.index(3))"
   ]
  },
  {
   "cell_type": "code",
   "execution_count": 73,
   "id": "d8f698f8",
   "metadata": {},
   "outputs": [
    {
     "name": "stdout",
     "output_type": "stream",
     "text": [
      "3\n",
      "[10, 30, 20, 30, 30]\n"
     ]
    }
   ],
   "source": [
    "x=[10,30,20,30,30]\n",
    "print(x.count(30))\n",
    "print(x)"
   ]
  },
  {
   "cell_type": "code",
   "execution_count": 1,
   "id": "4e97fc6c",
   "metadata": {},
   "outputs": [
    {
     "name": "stdout",
     "output_type": "stream",
     "text": [
      "9.0\n",
      "[2.5, 3, 3.5]\n"
     ]
    }
   ],
   "source": [
    "x=[2.5,3,3.5]\n",
    "print(sum(x))\n",
    "print(x)"
   ]
  },
  {
   "cell_type": "code",
   "execution_count": 2,
   "id": "aab948c7",
   "metadata": {},
   "outputs": [],
   "source": [
    "pow2=[]\n",
    "for x in range(10):\n",
    "    pow2.append(2**x)"
   ]
  },
  {
   "cell_type": "code",
   "execution_count": 3,
   "id": "8c2468d2",
   "metadata": {},
   "outputs": [
    {
     "name": "stdout",
     "output_type": "stream",
     "text": [
      "3\n",
      "[2.5, 3, 3.5]\n"
     ]
    }
   ],
   "source": [
    "x=[2.5,3,3.5]\n",
    "print(len(x))\n",
    "print(x)"
   ]
  },
  {
   "cell_type": "code",
   "execution_count": 4,
   "id": "50ace623",
   "metadata": {},
   "outputs": [
    {
     "name": "stdout",
     "output_type": "stream",
     "text": [
      "[2.5, 3, 3.5]\n",
      "[2.5, 3, 3.5]\n"
     ]
    }
   ],
   "source": [
    "x=[2.5,3,3.5]\n",
    "y=x.copy()\n",
    "print(y)\n",
    "print(x)"
   ]
  },
  {
   "cell_type": "code",
   "execution_count": 5,
   "id": "23a982b7",
   "metadata": {},
   "outputs": [
    {
     "name": "stdout",
     "output_type": "stream",
     "text": [
      "['abcd', 'def', 5]\n"
     ]
    }
   ],
   "source": [
    "li =['abcd','def']\n",
    "li.insert(4,5)   #it means at 4th index of list,we want to print 5.\n",
    "print(li) \n"
   ]
  },
  {
   "cell_type": "code",
   "execution_count": 6,
   "id": "8f81f5c2",
   "metadata": {},
   "outputs": [
    {
     "data": {
      "text/plain": [
       "54"
      ]
     },
     "execution_count": 6,
     "metadata": {},
     "output_type": "execute_result"
    }
   ],
   "source": [
    "li=[2,3,5,4,7,8,23,65,76,98,32,54]\n",
    "li.pop()         #print last element of list."
   ]
  },
  {
   "cell_type": "code",
   "execution_count": 7,
   "id": "ad287b9e",
   "metadata": {},
   "outputs": [
    {
     "data": {
      "text/plain": [
       "32"
      ]
     },
     "execution_count": 7,
     "metadata": {},
     "output_type": "execute_result"
    }
   ],
   "source": [
    "li.pop()"
   ]
  },
  {
   "cell_type": "code",
   "execution_count": 8,
   "id": "b0203cb3",
   "metadata": {},
   "outputs": [
    {
     "data": {
      "text/plain": [
       "98"
      ]
     },
     "execution_count": 8,
     "metadata": {},
     "output_type": "execute_result"
    }
   ],
   "source": [
    "li.pop()"
   ]
  },
  {
   "cell_type": "code",
   "execution_count": 9,
   "id": "76ba6c69",
   "metadata": {},
   "outputs": [
    {
     "data": {
      "text/plain": [
       "7"
      ]
     },
     "execution_count": 9,
     "metadata": {},
     "output_type": "execute_result"
    }
   ],
   "source": [
    "li=[2,3,5,4,7,8,23,65,76,98,32,54]\n",
    "li.pop(4)    #prints element at given index of list.\n"
   ]
  },
  {
   "cell_type": "code",
   "execution_count": 10,
   "id": "42864bbe",
   "metadata": {},
   "outputs": [
    {
     "name": "stdout",
     "output_type": "stream",
     "text": [
      "[2, 3, 5, 4, 8, 23, 65, 76, 98, 32, 54]\n"
     ]
    }
   ],
   "source": [
    "li=[2,3,5,4,7,8,23,65,76,98,32,54]\n",
    "li.pop(4)    \n",
    "print(li)    #prints whole list except element at given index of list."
   ]
  },
  {
   "cell_type": "code",
   "execution_count": 11,
   "id": "c14df662",
   "metadata": {},
   "outputs": [
    {
     "name": "stdout",
     "output_type": "stream",
     "text": [
      "['abcd', 'def', 5]\n"
     ]
    }
   ],
   "source": [
    "li = ['abcd',5,'def',5]\n",
    "li.remove(5)   #removes 5 at first place in fiven list.\n",
    "print(li)"
   ]
  },
  {
   "cell_type": "code",
   "execution_count": 12,
   "id": "7c80cec2",
   "metadata": {},
   "outputs": [
    {
     "name": "stdout",
     "output_type": "stream",
     "text": [
      "[5, 2, 8]\n"
     ]
    }
   ],
   "source": [
    "li = [5,2,6,8]\n",
    "li.pop(2)    #denotes element at index2.\n",
    "print(li)\n"
   ]
  },
  {
   "cell_type": "code",
   "execution_count": 13,
   "id": "763164e5",
   "metadata": {},
   "outputs": [
    {
     "name": "stdout",
     "output_type": "stream",
     "text": [
      "0\n",
      "1\n",
      "2\n",
      "3\n",
      "4\n"
     ]
    }
   ],
   "source": [
    "li=[\"abc\",45,7.8,\"world\",True]\n",
    "for i in range(len(li)):\n",
    "    print(i)"
   ]
  },
  {
   "cell_type": "code",
   "execution_count": 14,
   "id": "4af6ba0c",
   "metadata": {},
   "outputs": [
    {
     "name": "stdout",
     "output_type": "stream",
     "text": [
      "['abc', 45, 7.8, 'world', True]\n",
      "['abc', 45, 7.8, 'world', True]\n",
      "['abc', 45, 7.8, 'world', True]\n",
      "['abc', 45, 7.8, 'world', True]\n",
      "['abc', 45, 7.8, 'world', True]\n"
     ]
    }
   ],
   "source": [
    "li=[\"abc\",45,7.8,\"world\",True]\n",
    "for i in range(len(li)):\n",
    "    print(li)"
   ]
  },
  {
   "cell_type": "code",
   "execution_count": 15,
   "id": "7355a017",
   "metadata": {},
   "outputs": [
    {
     "name": "stdout",
     "output_type": "stream",
     "text": [
      "abc\n",
      "45\n",
      "7.8\n",
      "world\n",
      "True\n"
     ]
    }
   ],
   "source": [
    "li=[\"abc\",45,7.8,\"world\",True]\n",
    "for i in range(len(li)):\n",
    "    print(li[i])"
   ]
  },
  {
   "cell_type": "code",
   "execution_count": 16,
   "id": "09eff5af",
   "metadata": {},
   "outputs": [
    {
     "name": "stdout",
     "output_type": "stream",
     "text": [
      "abc\n",
      "45\n",
      "7.8\n",
      "world\n",
      "True\n"
     ]
    }
   ],
   "source": [
    "for i in li:\n",
    "    print(i)"
   ]
  },
  {
   "cell_type": "code",
   "execution_count": 17,
   "id": "36ce9948",
   "metadata": {},
   "outputs": [
    {
     "name": "stdout",
     "output_type": "stream",
     "text": [
      "7.8\n",
      "world\n",
      "True\n"
     ]
    }
   ],
   "source": [
    "for i in li[2:]:\n",
    "    print(i)"
   ]
  },
  {
   "cell_type": "code",
   "execution_count": 18,
   "id": "4147f204",
   "metadata": {},
   "outputs": [
    {
     "name": "stdout",
     "output_type": "stream",
     "text": [
      "7.8\n",
      "world\n"
     ]
    }
   ],
   "source": [
    "for i in li[2:4]:\n",
    "    print(i)"
   ]
  },
  {
   "cell_type": "code",
   "execution_count": 19,
   "id": "afab0d20",
   "metadata": {},
   "outputs": [
    {
     "data": {
      "text/plain": [
       "[2, 4]"
      ]
     },
     "execution_count": 19,
     "metadata": {},
     "output_type": "execute_result"
    }
   ],
   "source": [
    "li=[1,2,3,4,5,6,7]\n",
    "li[1:4:2]"
   ]
  },
  {
   "cell_type": "code",
   "execution_count": 20,
   "id": "0f4ee119",
   "metadata": {},
   "outputs": [
    {
     "data": {
      "text/plain": [
       "[2, 3, 4, 5]"
      ]
     },
     "execution_count": 20,
     "metadata": {},
     "output_type": "execute_result"
    }
   ],
   "source": [
    "li[1:5:1]"
   ]
  },
  {
   "cell_type": "code",
   "execution_count": 21,
   "id": "dc7e48e3",
   "metadata": {},
   "outputs": [
    {
     "data": {
      "text/plain": [
       "[2, 3, 4, 5, 6, 7]"
      ]
     },
     "execution_count": 21,
     "metadata": {},
     "output_type": "execute_result"
    }
   ],
   "source": [
    "li[1:]"
   ]
  },
  {
   "cell_type": "code",
   "execution_count": 22,
   "id": "ab6f0799",
   "metadata": {},
   "outputs": [
    {
     "data": {
      "text/plain": [
       "[2, 5]"
      ]
     },
     "execution_count": 22,
     "metadata": {},
     "output_type": "execute_result"
    }
   ],
   "source": [
    "li[1::3]   #printing will start from index 1 nd leaving 3-1=2 spaces in between,\n",
    "           #it will keep on printing next elements in list."
   ]
  },
  {
   "cell_type": "code",
   "execution_count": 23,
   "id": "92161d78",
   "metadata": {},
   "outputs": [
    {
     "data": {
      "text/plain": [
       "[2, 4, 6]"
      ]
     },
     "execution_count": 23,
     "metadata": {},
     "output_type": "execute_result"
    }
   ],
   "source": [
    "li[1::2]  #printing will start from index 1 nd leaving 2-1=1 spaces in between,\n",
    "          #it will keep on printing next elements in list."
   ]
  },
  {
   "cell_type": "code",
   "execution_count": 24,
   "id": "edb31b03",
   "metadata": {},
   "outputs": [
    {
     "data": {
      "text/plain": [
       "[1, 2, 3]"
      ]
     },
     "execution_count": 24,
     "metadata": {},
     "output_type": "execute_result"
    }
   ],
   "source": [
    "li[:3]   #elements at 0,1 and 2nd index will be printed."
   ]
  },
  {
   "cell_type": "code",
   "execution_count": 25,
   "id": "c51f4ac2",
   "metadata": {},
   "outputs": [
    {
     "data": {
      "text/plain": [
       "7"
      ]
     },
     "execution_count": 25,
     "metadata": {},
     "output_type": "execute_result"
    }
   ],
   "source": [
    "li[-1]   #by default,last element of list is the end of list,\n",
    "         #so we start here from -1 index and move till -1 index only."
   ]
  },
  {
   "cell_type": "code",
   "execution_count": 26,
   "id": "7c2e445e",
   "metadata": {},
   "outputs": [
    {
     "data": {
      "text/plain": [
       "[5, 6]"
      ]
     },
     "execution_count": 26,
     "metadata": {},
     "output_type": "execute_result"
    }
   ],
   "source": [
    "li[-3:-1]  # by default,last element of list is the end of list,\n",
    "           #so we start here from -3 index and move till -1 index."
   ]
  },
  {
   "cell_type": "code",
   "execution_count": 28,
   "id": "ecbc34be",
   "metadata": {},
   "outputs": [
    {
     "name": "stdout",
     "output_type": "stream",
     "text": [
      "5\n"
     ]
    }
   ],
   "source": [
    "n=input()"
   ]
  },
  {
   "cell_type": "code",
   "execution_count": 29,
   "id": "aa78b928",
   "metadata": {},
   "outputs": [
    {
     "data": {
      "text/plain": [
       "'5'"
      ]
     },
     "execution_count": 29,
     "metadata": {},
     "output_type": "execute_result"
    }
   ],
   "source": [
    "n    #input function by default takes its arguments as strings."
   ]
  },
  {
   "cell_type": "code",
   "execution_count": 30,
   "id": "ef3bed72",
   "metadata": {},
   "outputs": [
    {
     "name": "stdout",
     "output_type": "stream",
     "text": [
      "5\n"
     ]
    }
   ],
   "source": [
    "n=int(input())"
   ]
  },
  {
   "cell_type": "code",
   "execution_count": 31,
   "id": "cfc67fff",
   "metadata": {},
   "outputs": [
    {
     "data": {
      "text/plain": [
       "5"
      ]
     },
     "execution_count": 31,
     "metadata": {},
     "output_type": "execute_result"
    }
   ],
   "source": [
    "n"
   ]
  },
  {
   "cell_type": "code",
   "execution_count": 32,
   "id": "31939b98",
   "metadata": {},
   "outputs": [
    {
     "name": "stdout",
     "output_type": "stream",
     "text": [
      "1\n",
      "2\n",
      "3\n",
      "4\n",
      "5\n"
     ]
    },
    {
     "data": {
      "text/plain": [
       "[1, 2, 3, 4, 5]"
      ]
     },
     "execution_count": 32,
     "metadata": {},
     "output_type": "execute_result"
    }
   ],
   "source": [
    "li=[]\n",
    "for i in range(n):\n",
    "    curr=int(input())\n",
    "    li.append(curr)\n",
    "li"
   ]
  },
  {
   "cell_type": "code",
   "execution_count": 33,
   "id": "4bc6ab43",
   "metadata": {},
   "outputs": [
    {
     "name": "stdout",
     "output_type": "stream",
     "text": [
      "5\n",
      "1\n",
      "2\n",
      "3\n",
      "45\n",
      "5\n",
      "[1, 2, 3, 45, 5]\n"
     ]
    }
   ],
   "source": [
    "\n",
    "n = int(input())\n",
    "li = []\n",
    "for i in range(n):\n",
    "    li.append(int(input()))\n",
    "print(li)\n"
   ]
  },
  {
   "cell_type": "code",
   "execution_count": 34,
   "id": "e7e7bcb5",
   "metadata": {},
   "outputs": [
    {
     "name": "stdout",
     "output_type": "stream",
     "text": [
      "5\n",
      "1\n",
      "2\n",
      "3\n",
      "4\n",
      "5\n",
      "['1', '2', '3', '4', '5']\n"
     ]
    }
   ],
   "source": [
    "\n",
    "n = int(input())\n",
    "li = []\n",
    "for i in range(n):\n",
    "    li.append(input())\n",
    "print(li)\n"
   ]
  },
  {
   "cell_type": "code",
   "execution_count": 35,
   "id": "28548ba2",
   "metadata": {},
   "outputs": [
    {
     "name": "stdout",
     "output_type": "stream",
     "text": [
      "[1, 2, 4, 8, 16, 32, 64, 128, 256, 512]\n"
     ]
    }
   ],
   "source": [
    "pow2=[]\n",
    "for x in range(10):\n",
    "    pow2.append(2**x)\n",
    "print(pow2)"
   ]
  },
  {
   "cell_type": "code",
   "execution_count": 36,
   "id": "8eb315f5",
   "metadata": {},
   "outputs": [
    {
     "name": "stdout",
     "output_type": "stream",
     "text": [
      "3\n"
     ]
    }
   ],
   "source": [
    "x=[10,30,20,30,30]\n",
    "print(x.count(30))"
   ]
  },
  {
   "cell_type": "code",
   "execution_count": 37,
   "id": "0f9f62d4",
   "metadata": {},
   "outputs": [
    {
     "name": "stdout",
     "output_type": "stream",
     "text": [
      "9.0\n"
     ]
    }
   ],
   "source": [
    "x=[2.5,3,3.5]\n",
    "print(sum(x))"
   ]
  },
  {
   "cell_type": "code",
   "execution_count": 38,
   "id": "b8b248df",
   "metadata": {},
   "outputs": [
    {
     "name": "stdout",
     "output_type": "stream",
     "text": [
      "89\n",
      "6\n"
     ]
    }
   ],
   "source": [
    "x=[12,23,45,6,23,89]\n",
    "print(max(x))\n",
    "print(min(x))"
   ]
  },
  {
   "cell_type": "code",
   "execution_count": 39,
   "id": "d08a6221",
   "metadata": {},
   "outputs": [
    {
     "data": {
      "text/plain": [
       "89"
      ]
     },
     "execution_count": 39,
     "metadata": {},
     "output_type": "execute_result"
    }
   ],
   "source": [
    "max(x)"
   ]
  },
  {
   "cell_type": "code",
   "execution_count": 40,
   "id": "c773a871",
   "metadata": {},
   "outputs": [
    {
     "name": "stdout",
     "output_type": "stream",
     "text": [
      "[2.5, 3, 3.5]\n",
      "[2.5, 3, 3.5]\n"
     ]
    }
   ],
   "source": [
    "x=[2.5,3,3.5]\n",
    "y=x.copy()\n",
    "print(x)\n",
    "print(y)"
   ]
  },
  {
   "cell_type": "code",
   "execution_count": 41,
   "id": "218e7c74",
   "metadata": {},
   "outputs": [
    {
     "name": "stdout",
     "output_type": "stream",
     "text": [
      "[2.5, 3, 3.5]\n"
     ]
    }
   ],
   "source": [
    "x=[2.5,3,3.5]\n",
    "y=x.copy()\n",
    "print(y)"
   ]
  },
  {
   "cell_type": "code",
   "execution_count": 42,
   "id": "d4ccf887",
   "metadata": {},
   "outputs": [
    {
     "name": "stdout",
     "output_type": "stream",
     "text": [
      "1\n"
     ]
    }
   ],
   "source": [
    "print(x.index(3))"
   ]
  },
  {
   "cell_type": "code",
   "execution_count": 43,
   "id": "5b164605",
   "metadata": {},
   "outputs": [
    {
     "name": "stdout",
     "output_type": "stream",
     "text": [
      "3\n"
     ]
    }
   ],
   "source": [
    "x=[2.5,3,3.5]\n",
    "print(len(x))"
   ]
  },
  {
   "cell_type": "code",
   "execution_count": 44,
   "id": "39c29ebc",
   "metadata": {},
   "outputs": [
    {
     "data": {
      "text/plain": [
       "[1, 2, 2, 3, 3, 4, 6]"
      ]
     },
     "execution_count": 44,
     "metadata": {},
     "output_type": "execute_result"
    }
   ],
   "source": [
    "a=[1,2,3,4,6,2,3]\n",
    "a.sort()\n",
    "a"
   ]
  },
  {
   "cell_type": "code",
   "execution_count": 45,
   "id": "642a4bf4",
   "metadata": {},
   "outputs": [
    {
     "data": {
      "text/plain": [
       "[6, 4, 3, 3, 2, 2, 1]"
      ]
     },
     "execution_count": 45,
     "metadata": {},
     "output_type": "execute_result"
    }
   ],
   "source": [
    "a.sort(reverse=True)\n",
    "a"
   ]
  },
  {
   "cell_type": "code",
   "execution_count": 46,
   "id": "3dcf0e56",
   "metadata": {},
   "outputs": [
    {
     "data": {
      "text/plain": [
       "[3, 2, 6, 4, 3, 2, 1]"
      ]
     },
     "execution_count": 46,
     "metadata": {},
     "output_type": "execute_result"
    }
   ],
   "source": [
    "a=[1,2,3,4,6,2,3]\n",
    "a.reverse()\n",
    "a"
   ]
  },
  {
   "cell_type": "code",
   "execution_count": 47,
   "id": "3688a4d4",
   "metadata": {},
   "outputs": [
    {
     "name": "stdout",
     "output_type": "stream",
     "text": [
      "2\n",
      "4\n",
      "8\n"
     ]
    }
   ],
   "source": [
    "#program to find even numbers from list\n",
    "list1=[1,2,3,5,4,8,7,9]\n",
    "for i in list1:\n",
    "    if i%2==0:\n",
    "        print(i)\n",
    "    "
   ]
  },
  {
   "cell_type": "code",
   "execution_count": 48,
   "id": "fceae187",
   "metadata": {},
   "outputs": [
    {
     "name": "stdout",
     "output_type": "stream",
     "text": [
      "[1, 2, 43, 5, 9, 3, 5, 96]\n"
     ]
    }
   ],
   "source": [
    "#program to merge 2 list.\n",
    "list1=[1,2,43,5]\n",
    "list2=[9,3,5,96]\n",
    "list1.extend(list2)\n",
    "print(list1)"
   ]
  },
  {
   "cell_type": "code",
   "execution_count": 49,
   "id": "a53ca58e",
   "metadata": {},
   "outputs": [
    {
     "name": "stdout",
     "output_type": "stream",
     "text": [
      "[67, 3, 5, 7, 8, 5, 34, 67, 56, 23, 98, 1]\n"
     ]
    }
   ],
   "source": [
    "#interchange first and last element of list\n",
    "li=[1,3,5,7,8,5,34,67,56,23,98,67]\n",
    "li[0],li[-1]=li[-1],li[0]\n",
    "print(li)"
   ]
  },
  {
   "cell_type": "code",
   "execution_count": 50,
   "id": "1dc28341",
   "metadata": {},
   "outputs": [
    {
     "data": {
      "text/plain": [
       "[1, 2, 6]"
      ]
     },
     "execution_count": 50,
     "metadata": {},
     "output_type": "execute_result"
    }
   ],
   "source": [
    "#program to subtract list b from list a\n",
    "a=[1,2,3,4,5,6]\n",
    "b=[3,4,5]\n",
    "li=[]\n",
    "for i in a:\n",
    "    if i not in b:\n",
    "        li.append(i)  #here we cannot use extend bcoz it is used to merge list,\n",
    "                      #means argument filled in append is a list,not some element. \n",
    "li        \n",
    "        "
   ]
  },
  {
   "cell_type": "code",
   "execution_count": 51,
   "id": "ab007340",
   "metadata": {},
   "outputs": [
    {
     "data": {
      "text/plain": [
       "[3, 23, 5, 41, 31]"
      ]
     },
     "execution_count": 51,
     "metadata": {},
     "output_type": "execute_result"
    }
   ],
   "source": [
    "#program to get data items from list appearing odd no. of times.\n",
    "x=[1,2,3,1,23,3,5,6,2,3,41,2,31,1,3,1,3,2,6]\n",
    "li=[]\n",
    "for i in x:\n",
    "    if x.count(i)%2!=0:\n",
    "        if i not in li:\n",
    "            li.append(i)\n",
    "li            "
   ]
  },
  {
   "cell_type": "code",
   "execution_count": 56,
   "id": "805ceffa",
   "metadata": {},
   "outputs": [],
   "source": [
    "def sod(n):\n",
    "    if n//10==0:\n",
    "        return n\n",
    "    else:\n",
    "        return sod(n//10)+n%10"
   ]
  },
  {
   "cell_type": "code",
   "execution_count": 57,
   "id": "44a4f80a",
   "metadata": {},
   "outputs": [
    {
     "data": {
      "text/plain": [
       "20"
      ]
     },
     "execution_count": 57,
     "metadata": {},
     "output_type": "execute_result"
    }
   ],
   "source": [
    "sod(5672)"
   ]
  },
  {
   "cell_type": "code",
   "execution_count": null,
   "id": "edea9497",
   "metadata": {},
   "outputs": [],
   "source": []
  }
 ],
 "metadata": {
  "kernelspec": {
   "display_name": "Python 3",
   "language": "python",
   "name": "python3"
  },
  "language_info": {
   "codemirror_mode": {
    "name": "ipython",
    "version": 3
   },
   "file_extension": ".py",
   "mimetype": "text/x-python",
   "name": "python",
   "nbconvert_exporter": "python",
   "pygments_lexer": "ipython3",
   "version": "3.8.8"
  }
 },
 "nbformat": 4,
 "nbformat_minor": 5
}
