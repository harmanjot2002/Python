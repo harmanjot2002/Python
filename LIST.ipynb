{
 "cells": [
  {
   "cell_type": "code",
   "execution_count": 1,
   "id": "4d2ea75f",
   "metadata": {},
   "outputs": [
    {
     "name": "stdout",
     "output_type": "stream",
     "text": [
      "5\n"
     ]
    }
   ],
   "source": [
    "n=int(input())"
   ]
  },
  {
   "cell_type": "code",
   "execution_count": 2,
   "id": "0cd81e6d",
   "metadata": {},
   "outputs": [
    {
     "name": "stdout",
     "output_type": "stream",
     "text": [
      "1 2 3 4 5\n"
     ]
    }
   ],
   "source": [
    "rat=input()"
   ]
  },
  {
   "cell_type": "code",
   "execution_count": 3,
   "id": "b5581c8b",
   "metadata": {},
   "outputs": [
    {
     "data": {
      "text/plain": [
       "'1 2 3 4 5'"
      ]
     },
     "execution_count": 3,
     "metadata": {},
     "output_type": "execute_result"
    }
   ],
   "source": [
    "rat"
   ]
  },
  {
   "cell_type": "code",
   "execution_count": 4,
   "id": "6592536f",
   "metadata": {},
   "outputs": [],
   "source": [
    "ratsplit=rat.split(' ')  \n",
    "#it will split string into strings from place where there are strings and print in form of list."
   ]
  },
  {
   "cell_type": "code",
   "execution_count": 5,
   "id": "63d9b6da",
   "metadata": {},
   "outputs": [
    {
     "data": {
      "text/plain": [
       "['1', '2', '3', '4', '5']"
      ]
     },
     "execution_count": 5,
     "metadata": {},
     "output_type": "execute_result"
    }
   ],
   "source": [
    "ratsplit"
   ]
  },
  {
   "cell_type": "code",
   "execution_count": 6,
   "id": "abc5ad8a",
   "metadata": {},
   "outputs": [
    {
     "name": "stdout",
     "output_type": "stream",
     "text": [
      "1,2,3,4,5\n"
     ]
    }
   ],
   "source": [
    "rat=input()"
   ]
  },
  {
   "cell_type": "code",
   "execution_count": 7,
   "id": "9c8fb3bc",
   "metadata": {},
   "outputs": [
    {
     "data": {
      "text/plain": [
       "'1,2,3,4,5'"
      ]
     },
     "execution_count": 7,
     "metadata": {},
     "output_type": "execute_result"
    }
   ],
   "source": [
    "rat   #take it as a string."
   ]
  },
  {
   "cell_type": "code",
   "execution_count": 8,
   "id": "ea5969a8",
   "metadata": {},
   "outputs": [],
   "source": [
    "ratsplit=rat.split(',')   \n",
    "#it will split string into strings from place where there were commas and print in form of list."
   ]
  },
  {
   "cell_type": "code",
   "execution_count": 9,
   "id": "8c7277ff",
   "metadata": {},
   "outputs": [
    {
     "data": {
      "text/plain": [
       "['1', '2', '3', '4', '5']"
      ]
     },
     "execution_count": 9,
     "metadata": {},
     "output_type": "execute_result"
    }
   ],
   "source": [
    "ratsplit"
   ]
  },
  {
   "cell_type": "code",
   "execution_count": 10,
   "id": "ade1c382",
   "metadata": {},
   "outputs": [],
   "source": [
    "'''it will make new list and then print all elements of above string \n",
    "in form of integers by appending them one by one.'''\n",
    "li=[]\n",
    "for ele in ratsplit:\n",
    "    li.append(int(ele))  \n",
    "    \n",
    "        "
   ]
  },
  {
   "cell_type": "code",
   "execution_count": 11,
   "id": "18793c6d",
   "metadata": {},
   "outputs": [
    {
     "data": {
      "text/plain": [
       "[1, 2, 3, 4, 5]"
      ]
     },
     "execution_count": 11,
     "metadata": {},
     "output_type": "execute_result"
    }
   ],
   "source": [
    "li"
   ]
  },
  {
   "cell_type": "code",
   "execution_count": 12,
   "id": "c6670236",
   "metadata": {},
   "outputs": [
    {
     "name": "stdout",
     "output_type": "stream",
     "text": [
      "1 2 3 4 5\n"
     ]
    }
   ],
   "source": [
    "li=[int(x)for x in input().split()]"
   ]
  },
  {
   "cell_type": "code",
   "execution_count": 13,
   "id": "63c75004",
   "metadata": {},
   "outputs": [
    {
     "data": {
      "text/plain": [
       "[1, 2, 3, 4, 5]"
      ]
     },
     "execution_count": 13,
     "metadata": {},
     "output_type": "execute_result"
    }
   ],
   "source": [
    "li\n"
   ]
  },
  {
   "cell_type": "code",
   "execution_count": 14,
   "id": "8de5add4",
   "metadata": {},
   "outputs": [
    {
     "name": "stdout",
     "output_type": "stream",
     "text": [
      "1\n",
      "2\n",
      "3\n",
      "4\n",
      "5\n"
     ]
    }
   ],
   "source": [
    "for ele in li:\n",
    "    print(ele)\n"
   ]
  },
  {
   "cell_type": "code",
   "execution_count": 19,
   "id": "6c2f6f9f",
   "metadata": {},
   "outputs": [
    {
     "name": "stdout",
     "output_type": "stream",
     "text": [
      "5\n",
      "1 2 3 4 5\n",
      "1\n",
      "2\n",
      "3\n",
      "4\n",
      "5\n"
     ]
    }
   ],
   "source": [
    "n=int(input())\n",
    "li=[int(x) for x in input().split()]  #this will take input as integers to form list.\n",
    "for ele in li:     #it will print each element of list.\n",
    "    print(ele)"
   ]
  },
  {
   "cell_type": "code",
   "execution_count": 21,
   "id": "191346c6",
   "metadata": {},
   "outputs": [
    {
     "name": "stdout",
     "output_type": "stream",
     "text": [
      "1 3 6 8 9\n",
      "['1', '3', '6', '8', '9']\n"
     ]
    }
   ],
   "source": [
    "#here they took each element as string to form list.\n",
    "li = [x for x in input().split()]\n",
    "print(li)"
   ]
  },
  {
   "cell_type": "code",
   "execution_count": null,
   "id": "bce29e78",
   "metadata": {},
   "outputs": [],
   "source": []
  }
 ],
 "metadata": {
  "kernelspec": {
   "display_name": "Python 3",
   "language": "python",
   "name": "python3"
  },
  "language_info": {
   "codemirror_mode": {
    "name": "ipython",
    "version": 3
   },
   "file_extension": ".py",
   "mimetype": "text/x-python",
   "name": "python",
   "nbconvert_exporter": "python",
   "pygments_lexer": "ipython3",
   "version": "3.8.8"
  }
 },
 "nbformat": 4,
 "nbformat_minor": 5
}
