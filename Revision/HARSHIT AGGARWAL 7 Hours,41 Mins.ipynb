{
 "cells": [
  {
   "cell_type": "code",
   "execution_count": 1,
   "id": "40aaf6dd",
   "metadata": {},
   "outputs": [
    {
     "name": "stdout",
     "output_type": "stream",
     "text": [
      "hello\n"
     ]
    }
   ],
   "source": [
    "print(\"hello\")"
   ]
  },
  {
   "cell_type": "markdown",
   "id": "9c7fb1d7",
   "metadata": {},
   "source": [
    "when cell colour is blue,it is in command mode\n",
    "when cell colour is green,it is in edit mode"
   ]
  },
  {
   "cell_type": "markdown",
   "id": "bc41e712",
   "metadata": {},
   "source": [
    "in command mode:\n",
    "       to add cell above,type a\n",
    "       to add cell below,type b"
   ]
  },
  {
   "cell_type": "code",
   "execution_count": null,
   "id": "1dc67b9d",
   "metadata": {},
   "outputs": [],
   "source": []
  },
  {
   "cell_type": "code",
   "execution_count": null,
   "id": "9efff4a1",
   "metadata": {},
   "outputs": [],
   "source": []
  },
  {
   "cell_type": "code",
   "execution_count": 2,
   "id": "2c948256",
   "metadata": {},
   "outputs": [
    {
     "data": {
      "text/plain": [
       "8"
      ]
     },
     "execution_count": 2,
     "metadata": {},
     "output_type": "execute_result"
    }
   ],
   "source": [
    "#exponentiation\n",
    "2**3"
   ]
  },
  {
   "cell_type": "code",
   "execution_count": 3,
   "id": "59d8cfda",
   "metadata": {},
   "outputs": [
    {
     "data": {
      "text/plain": [
       "8"
      ]
     },
     "execution_count": 3,
     "metadata": {},
     "output_type": "execute_result"
    }
   ],
   "source": [
    "pow(2,3)"
   ]
  },
  {
   "cell_type": "code",
   "execution_count": 4,
   "id": "ade1a1f7",
   "metadata": {},
   "outputs": [
    {
     "data": {
      "text/plain": [
       "3.3333333333333335"
      ]
     },
     "execution_count": 4,
     "metadata": {},
     "output_type": "execute_result"
    }
   ],
   "source": [
    "10/3 #division"
   ]
  },
  {
   "cell_type": "code",
   "execution_count": 5,
   "id": "90fbe9a9",
   "metadata": {},
   "outputs": [
    {
     "data": {
      "text/plain": [
       "3"
      ]
     },
     "execution_count": 5,
     "metadata": {},
     "output_type": "execute_result"
    }
   ],
   "source": [
    "10//3 #floor division(quotient)"
   ]
  },
  {
   "cell_type": "code",
   "execution_count": 6,
   "id": "6da4107f",
   "metadata": {},
   "outputs": [
    {
     "data": {
      "text/plain": [
       "1"
      ]
     },
     "execution_count": 6,
     "metadata": {},
     "output_type": "execute_result"
    }
   ],
   "source": [
    "10%3 #modulus(remainder)"
   ]
  },
  {
   "cell_type": "code",
   "execution_count": 7,
   "id": "201f96c9",
   "metadata": {},
   "outputs": [
    {
     "name": "stdout",
     "output_type": "stream",
     "text": [
      "25\n"
     ]
    }
   ],
   "source": [
    "print(25)"
   ]
  },
  {
   "cell_type": "code",
   "execution_count": 8,
   "id": "5c9afbba",
   "metadata": {},
   "outputs": [
    {
     "data": {
      "text/plain": [
       "98"
      ]
     },
     "execution_count": 8,
     "metadata": {},
     "output_type": "execute_result"
    }
   ],
   "source": [
    "li=[1,2,3,65,98,32,98]\n",
    "li[len(li)-1]"
   ]
  },
  {
   "cell_type": "code",
   "execution_count": 9,
   "id": "d503a661",
   "metadata": {},
   "outputs": [
    {
     "data": {
      "text/plain": [
       "[2, 3, 65, 98, 32, 98]"
      ]
     },
     "execution_count": 9,
     "metadata": {},
     "output_type": "execute_result"
    }
   ],
   "source": [
    "li[1::]"
   ]
  },
  {
   "cell_type": "code",
   "execution_count": 10,
   "id": "15e351d0",
   "metadata": {},
   "outputs": [
    {
     "data": {
      "text/plain": [
       "[98, 32, 98, 65, 3, 2, 1]"
      ]
     },
     "execution_count": 10,
     "metadata": {},
     "output_type": "execute_result"
    }
   ],
   "source": [
    "li[::-1]"
   ]
  },
  {
   "cell_type": "code",
   "execution_count": 11,
   "id": "c48d16c2",
   "metadata": {},
   "outputs": [
    {
     "data": {
      "text/plain": [
       "[2, 65, 32]"
      ]
     },
     "execution_count": 11,
     "metadata": {},
     "output_type": "execute_result"
    }
   ],
   "source": [
    "li[1::2]"
   ]
  },
  {
   "cell_type": "code",
   "execution_count": 12,
   "id": "d0ef11c3",
   "metadata": {},
   "outputs": [
    {
     "data": {
      "text/plain": [
       "[1, 2, 3, 65, 98, 32, 98]"
      ]
     },
     "execution_count": 12,
     "metadata": {},
     "output_type": "execute_result"
    }
   ],
   "source": [
    "li[::]"
   ]
  },
  {
   "cell_type": "code",
   "execution_count": 13,
   "id": "614525e3",
   "metadata": {},
   "outputs": [
    {
     "data": {
      "text/plain": [
       "[]"
      ]
     },
     "execution_count": 13,
     "metadata": {},
     "output_type": "execute_result"
    }
   ],
   "source": [
    "li[1:4:-1]"
   ]
  },
  {
   "cell_type": "code",
   "execution_count": 14,
   "id": "130dad76",
   "metadata": {},
   "outputs": [
    {
     "data": {
      "text/plain": [
       "[98, 65, 3]"
      ]
     },
     "execution_count": 14,
     "metadata": {},
     "output_type": "execute_result"
    }
   ],
   "source": [
    "li[4:1:-1]"
   ]
  },
  {
   "cell_type": "code",
   "execution_count": 15,
   "id": "aa3322c7",
   "metadata": {},
   "outputs": [
    {
     "data": {
      "text/plain": [
       "[]"
      ]
     },
     "execution_count": 15,
     "metadata": {},
     "output_type": "execute_result"
    }
   ],
   "source": [
    "li[1:1:-1]"
   ]
  },
  {
   "cell_type": "code",
   "execution_count": 16,
   "id": "1d6cfcf4",
   "metadata": {},
   "outputs": [
    {
     "data": {
      "text/plain": [
       "[98, 32, 98, 65, 3]"
      ]
     },
     "execution_count": 16,
     "metadata": {},
     "output_type": "execute_result"
    }
   ],
   "source": [
    "li[-1:1:-1]"
   ]
  },
  {
   "cell_type": "code",
   "execution_count": 17,
   "id": "efc8b4a8",
   "metadata": {},
   "outputs": [],
   "source": [
    "a=[10,20,39,56,89,56,45,34,23,90,12,10,20,56,34,85]"
   ]
  },
  {
   "cell_type": "code",
   "execution_count": 18,
   "id": "a679be68",
   "metadata": {},
   "outputs": [
    {
     "data": {
      "text/plain": [
       "[10, 20, 39, 56, 89, 56, 45, 34, 23, 90, 12, 10, 20, 56, 34, 85]"
      ]
     },
     "execution_count": 18,
     "metadata": {},
     "output_type": "execute_result"
    }
   ],
   "source": [
    "a"
   ]
  },
  {
   "cell_type": "code",
   "execution_count": 19,
   "id": "b9e57408",
   "metadata": {},
   "outputs": [
    {
     "data": {
      "text/plain": [
       "[10, 20, 39, 56, 89, 56, 45, 34, 23, 90, 12, 10, 20, 56, 34, 85, -10]"
      ]
     },
     "execution_count": 19,
     "metadata": {},
     "output_type": "execute_result"
    }
   ],
   "source": [
    "a.append(-10)\n",
    "a"
   ]
  },
  {
   "cell_type": "code",
   "execution_count": 20,
   "id": "be259d6e",
   "metadata": {},
   "outputs": [
    {
     "data": {
      "text/plain": [
       "[10, 20, 39, 56, 89, 56, 45, 34, 23, 90, 12, 10, 20, 56, 34, 85, -10, [2, 9]]"
      ]
     },
     "execution_count": 20,
     "metadata": {},
     "output_type": "execute_result"
    }
   ],
   "source": [
    "a.append([2,9])\n",
    "a          #with append,it is added as a list"
   ]
  },
  {
   "cell_type": "code",
   "execution_count": 21,
   "id": "0899d86a",
   "metadata": {},
   "outputs": [
    {
     "data": {
      "text/plain": [
       "[10, 20, 39, 56, 89, 56, 45, 34, 23, 90, 12, 10, 20, 56, 34, 85, 2, 9]"
      ]
     },
     "execution_count": 21,
     "metadata": {},
     "output_type": "execute_result"
    }
   ],
   "source": [
    "a=[10,20,39,56,89,56,45,34,23,90,12,10,20,56,34,85]\n",
    "a.extend([2,9])\n",
    "a          #with extend,it is added as elements only"
   ]
  },
  {
   "cell_type": "code",
   "execution_count": 22,
   "id": "df44b979",
   "metadata": {},
   "outputs": [
    {
     "data": {
      "text/plain": [
       "[10, 20, 24, 39, 56, 89, 56, 45, 34, 23, 90, 12, 10, 20, 56, 34, 85]"
      ]
     },
     "execution_count": 22,
     "metadata": {},
     "output_type": "execute_result"
    }
   ],
   "source": [
    "a=[10,20,39,56,89,56,45,34,23,90,12,10,20,56,34,85]\n",
    "a.insert(2,24)\n",
    "a         #insert adds particluar element at particular index in list"
   ]
  },
  {
   "cell_type": "code",
   "execution_count": 23,
   "id": "945ecc70",
   "metadata": {},
   "outputs": [
    {
     "data": {
      "text/plain": [
       "85"
      ]
     },
     "execution_count": 23,
     "metadata": {},
     "output_type": "execute_result"
    }
   ],
   "source": [
    "a=[10,20,39,56,89,56,45,34,23,90,12,10,20,56,34,85]\n",
    "a.pop()    #this will give last element of list"
   ]
  },
  {
   "cell_type": "code",
   "execution_count": 24,
   "id": "fec2bd61",
   "metadata": {},
   "outputs": [
    {
     "data": {
      "text/plain": [
       "[10, 20, 39, 56, 89, 56, 45, 34, 23, 90, 12, 10, 20, 56, 34]"
      ]
     },
     "execution_count": 24,
     "metadata": {},
     "output_type": "execute_result"
    }
   ],
   "source": [
    "a       #this will give whole list except last element"
   ]
  },
  {
   "cell_type": "code",
   "execution_count": 25,
   "id": "c939e566",
   "metadata": {},
   "outputs": [
    {
     "data": {
      "text/plain": [
       "39"
      ]
     },
     "execution_count": 25,
     "metadata": {},
     "output_type": "execute_result"
    }
   ],
   "source": [
    "a=[10,20,39,56,89,56,45,34,23,90,12,10,20,56,34,85]\n",
    "a.pop(2)\n"
   ]
  },
  {
   "cell_type": "code",
   "execution_count": 26,
   "id": "2e65ebd1",
   "metadata": {},
   "outputs": [
    {
     "data": {
      "text/plain": [
       "[10, 20, 56, 89, 56, 45, 34, 23, 90, 12, 10, 20, 56, 34, 85]"
      ]
     },
     "execution_count": 26,
     "metadata": {},
     "output_type": "execute_result"
    }
   ],
   "source": [
    "a"
   ]
  },
  {
   "cell_type": "code",
   "execution_count": 27,
   "id": "280beb8f",
   "metadata": {},
   "outputs": [
    {
     "data": {
      "text/plain": [
       "[10, 20, 39, 89, 56, 45, 34, 23, 90, 12, 10, 20, 56, 34, 85]"
      ]
     },
     "execution_count": 27,
     "metadata": {},
     "output_type": "execute_result"
    }
   ],
   "source": [
    "a=[10,20,39,56,89,56,45,34,23,90,12,10,20,56,34,85]\n",
    "a.remove(56)\n",
    "a        #this will remove first occurence of 56"
   ]
  },
  {
   "cell_type": "code",
   "execution_count": 28,
   "id": "91aa8767",
   "metadata": {},
   "outputs": [
    {
     "data": {
      "text/plain": [
       "3"
      ]
     },
     "execution_count": 28,
     "metadata": {},
     "output_type": "execute_result"
    }
   ],
   "source": [
    "a=[10,20,39,56,89,56,45,34,23,90,12,10,20,56,34,85]\n",
    "a.count(56)"
   ]
  },
  {
   "cell_type": "code",
   "execution_count": 29,
   "id": "69a6b955",
   "metadata": {},
   "outputs": [
    {
     "data": {
      "text/plain": [
       "0"
      ]
     },
     "execution_count": 29,
     "metadata": {},
     "output_type": "execute_result"
    }
   ],
   "source": [
    "a.count(100)       #gives 0 if not present"
   ]
  },
  {
   "cell_type": "code",
   "execution_count": 30,
   "id": "e2ab859f",
   "metadata": {},
   "outputs": [
    {
     "data": {
      "text/plain": [
       "3"
      ]
     },
     "execution_count": 30,
     "metadata": {},
     "output_type": "execute_result"
    }
   ],
   "source": [
    "a=[10,20,39,56,89,56,45,34,23,90,12,10,20,56,34,85]\n",
    "a.index(56)"
   ]
  },
  {
   "cell_type": "code",
   "execution_count": 31,
   "id": "3fa07da7",
   "metadata": {},
   "outputs": [
    {
     "ename": "ValueError",
     "evalue": "100 is not in list",
     "output_type": "error",
     "traceback": [
      "\u001b[1;31m---------------------------------------------------------------------------\u001b[0m",
      "\u001b[1;31mValueError\u001b[0m                                Traceback (most recent call last)",
      "\u001b[1;32m<ipython-input-31-5066cf7f13cb>\u001b[0m in \u001b[0;36m<module>\u001b[1;34m\u001b[0m\n\u001b[1;32m----> 1\u001b[1;33m \u001b[0ma\u001b[0m\u001b[1;33m.\u001b[0m\u001b[0mindex\u001b[0m\u001b[1;33m(\u001b[0m\u001b[1;36m100\u001b[0m\u001b[1;33m)\u001b[0m     \u001b[1;31m#gives error if not present\u001b[0m\u001b[1;33m\u001b[0m\u001b[1;33m\u001b[0m\u001b[0m\n\u001b[0m",
      "\u001b[1;31mValueError\u001b[0m: 100 is not in list"
     ]
    }
   ],
   "source": [
    "a.index(100)     #gives error if not present"
   ]
  },
  {
   "cell_type": "code",
   "execution_count": 32,
   "id": "a5e2c0a2",
   "metadata": {},
   "outputs": [
    {
     "data": {
      "text/plain": [
       "[85, 34, 56, 20, 10, 12, 90, 23, 34, 45, 56, 89, 56, 39, 20, 10]"
      ]
     },
     "execution_count": 32,
     "metadata": {},
     "output_type": "execute_result"
    }
   ],
   "source": [
    "a=[10,20,39,56,89,56,45,34,23,90,12,10,20,56,34,85]\n",
    "a.reverse()\n",
    "a"
   ]
  },
  {
   "cell_type": "code",
   "execution_count": 33,
   "id": "281efcf0",
   "metadata": {},
   "outputs": [
    {
     "data": {
      "text/plain": [
       "[10, 10, 12, 20, 20, 23, 34, 34, 39, 45, 56, 56, 56, 85, 89, 90]"
      ]
     },
     "execution_count": 33,
     "metadata": {},
     "output_type": "execute_result"
    }
   ],
   "source": [
    "a=[10,20,39,56,89,56,45,34,23,90,12,10,20,56,34,85]\n",
    "a.sort()\n",
    "a"
   ]
  },
  {
   "cell_type": "code",
   "execution_count": 34,
   "id": "47473092",
   "metadata": {},
   "outputs": [
    {
     "data": {
      "text/plain": [
       "[90, 89, 85, 56, 56, 56, 45, 39, 34, 34, 23, 20, 20, 12, 10, 10]"
      ]
     },
     "execution_count": 34,
     "metadata": {},
     "output_type": "execute_result"
    }
   ],
   "source": [
    "a.sort(reverse=True)\n",
    "a"
   ]
  },
  {
   "cell_type": "code",
   "execution_count": 35,
   "id": "357f051f",
   "metadata": {},
   "outputs": [
    {
     "data": {
      "text/plain": [
       "[10, 10, 12, 20, 20, 23, 34, 34, 39, 45, 56, 56, 56, 85, 89, 90]"
      ]
     },
     "execution_count": 35,
     "metadata": {},
     "output_type": "execute_result"
    }
   ],
   "source": [
    "a.sort(reverse=False)\n",
    "a"
   ]
  },
  {
   "cell_type": "code",
   "execution_count": 36,
   "id": "c79fafd2",
   "metadata": {},
   "outputs": [
    {
     "name": "stdout",
     "output_type": "stream",
     "text": [
      "4\n",
      "5\n",
      "6\n",
      "7\n",
      "8\n"
     ]
    }
   ],
   "source": [
    "x=4\n",
    "for i in range(0,5):\n",
    "    print(x+i)"
   ]
  },
  {
   "cell_type": "code",
   "execution_count": 37,
   "id": "921ad642",
   "metadata": {},
   "outputs": [
    {
     "name": "stdout",
     "output_type": "stream",
     "text": [
      "120\n"
     ]
    }
   ],
   "source": [
    "#factorial of number\n",
    "x=1\n",
    "for i in range(1,6):\n",
    "    x=x*i\n",
    "print(x)\n",
    "    "
   ]
  },
  {
   "cell_type": "code",
   "execution_count": 38,
   "id": "1a9e4fc9",
   "metadata": {},
   "outputs": [
    {
     "name": "stdout",
     "output_type": "stream",
     "text": [
      "1\n",
      "2\n",
      "6\n",
      "24\n",
      "120\n"
     ]
    }
   ],
   "source": [
    "#factorial of numbers\n",
    "x=1\n",
    "for i in range(1,6):\n",
    "    x=x*i\n",
    "    print(x)\n",
    "    "
   ]
  },
  {
   "cell_type": "code",
   "execution_count": 39,
   "id": "9bfc1dcc",
   "metadata": {},
   "outputs": [
    {
     "name": "stdout",
     "output_type": "stream",
     "text": [
      "0 9\n",
      "1 8\n",
      "2 7\n",
      "3 6\n",
      "4 5\n"
     ]
    }
   ],
   "source": [
    "x=10\n",
    "for i in range(0,5):\n",
    "    x=x-1\n",
    "    print(i,x)"
   ]
  },
  {
   "cell_type": "code",
   "execution_count": 40,
   "id": "6db4914d",
   "metadata": {},
   "outputs": [
    {
     "name": "stdout",
     "output_type": "stream",
     "text": [
      "1\n",
      "2\n",
      "we are skipping\n",
      "4\n"
     ]
    }
   ],
   "source": [
    "for i in range(1,5):\n",
    "    if i==3:\n",
    "        print(\"we are skipping\")\n",
    "        continue\n",
    "    print(i)"
   ]
  },
  {
   "cell_type": "code",
   "execution_count": 41,
   "id": "d9c4a8f8",
   "metadata": {},
   "outputs": [
    {
     "name": "stdout",
     "output_type": "stream",
     "text": [
      "1\n",
      "2\n",
      "we are skipping\n"
     ]
    }
   ],
   "source": [
    "for i in range(1,5):\n",
    "    if i==3:\n",
    "        print(\"we are skipping\")\n",
    "        break\n",
    "    print(i)"
   ]
  },
  {
   "cell_type": "code",
   "execution_count": 42,
   "id": "6054c0fe",
   "metadata": {},
   "outputs": [],
   "source": [
    "#factorial by functions\n",
    "def fact(x):\n",
    "    fact=1\n",
    "    for i in range(1,x+1):\n",
    "        fact=fact*i\n",
    "    return fact"
   ]
  },
  {
   "cell_type": "code",
   "execution_count": 43,
   "id": "bc030810",
   "metadata": {},
   "outputs": [
    {
     "data": {
      "text/plain": [
       "720"
      ]
     },
     "execution_count": 43,
     "metadata": {},
     "output_type": "execute_result"
    }
   ],
   "source": [
    "fact(6)"
   ]
  },
  {
   "cell_type": "code",
   "execution_count": 44,
   "id": "8d306a59",
   "metadata": {},
   "outputs": [],
   "source": [
    "#factorial by functions\n",
    "def fact(x):\n",
    "    fact=1\n",
    "    for i in range(1,x+1):\n",
    "        fact=fact*i\n",
    "    return (fact)"
   ]
  },
  {
   "cell_type": "code",
   "execution_count": 45,
   "id": "bfab9cde",
   "metadata": {},
   "outputs": [
    {
     "data": {
      "text/plain": [
       "720"
      ]
     },
     "execution_count": 45,
     "metadata": {},
     "output_type": "execute_result"
    }
   ],
   "source": [
    "fact(6)"
   ]
  },
  {
   "cell_type": "markdown",
   "id": "e14d073d",
   "metadata": {},
   "source": [
    "#recursive functon is a function that calls itself directly or indirectly\n"
   ]
  },
  {
   "cell_type": "code",
   "execution_count": 46,
   "id": "82aec7f3",
   "metadata": {},
   "outputs": [],
   "source": [
    "#factorial using recursion functions\n",
    "def factorial(x):\n",
    "    if x==1:\n",
    "        return 1\n",
    "    else:\n",
    "        return x*factorial(x-1)"
   ]
  },
  {
   "cell_type": "code",
   "execution_count": 47,
   "id": "17c6213a",
   "metadata": {},
   "outputs": [
    {
     "data": {
      "text/plain": [
       "720"
      ]
     },
     "execution_count": 47,
     "metadata": {},
     "output_type": "execute_result"
    }
   ],
   "source": [
    "factorial(6)"
   ]
  },
  {
   "cell_type": "markdown",
   "id": "64b74e8c",
   "metadata": {},
   "source": [
    "#febonacci series 0 1 1 2 3 5 8 13 21...."
   ]
  },
  {
   "cell_type": "code",
   "execution_count": 48,
   "id": "41106c39",
   "metadata": {},
   "outputs": [],
   "source": [
    "#print x th febonacci no. of serie\n",
    "def febonacci(x):\n",
    "    if x==1:\n",
    "        return 0\n",
    "    elif x==2:\n",
    "        return 1\n",
    "    else:\n",
    "        return febonacci(x-1)+febonacci(x-2)"
   ]
  },
  {
   "cell_type": "code",
   "execution_count": 49,
   "id": "f8f14245",
   "metadata": {},
   "outputs": [
    {
     "data": {
      "text/plain": [
       "3"
      ]
     },
     "execution_count": 49,
     "metadata": {},
     "output_type": "execute_result"
    }
   ],
   "source": [
    "febonacci(5)"
   ]
  },
  {
   "cell_type": "code",
   "execution_count": 50,
   "id": "b3fcc1be",
   "metadata": {},
   "outputs": [
    {
     "name": "stdout",
     "output_type": "stream",
     "text": [
      "5\n",
      "0 1 1 2 3 "
     ]
    }
   ],
   "source": [
    "#print febonacci serie upto given number\n",
    "x=int(input())\n",
    "for i in range(1,x+1):\n",
    "    print(febonacci(i),end=\" \")"
   ]
  },
  {
   "cell_type": "code",
   "execution_count": 51,
   "id": "beead66d",
   "metadata": {},
   "outputs": [
    {
     "data": {
      "text/plain": [
       "{2, 3, 4, 5, 6, 8}"
      ]
     },
     "execution_count": 51,
     "metadata": {},
     "output_type": "execute_result"
    }
   ],
   "source": [
    "a={1,2,3,7,8}\n",
    "b={1,7,4,5,6}\n",
    "a^b       #gives all non common elements"
   ]
  },
  {
   "cell_type": "code",
   "execution_count": 52,
   "id": "3cc41657",
   "metadata": {},
   "outputs": [
    {
     "data": {
      "text/plain": [
       "{1, 2, 3, 7, 8}"
      ]
     },
     "execution_count": 52,
     "metadata": {},
     "output_type": "execute_result"
    }
   ],
   "source": [
    "a"
   ]
  },
  {
   "cell_type": "code",
   "execution_count": 53,
   "id": "1115ed82",
   "metadata": {},
   "outputs": [
    {
     "data": {
      "text/plain": [
       "{1, 2, 3, 4, 5, 6, 7, 8}"
      ]
     },
     "execution_count": 53,
     "metadata": {},
     "output_type": "execute_result"
    }
   ],
   "source": [
    "a.union(b)"
   ]
  },
  {
   "cell_type": "code",
   "execution_count": 54,
   "id": "711980f7",
   "metadata": {},
   "outputs": [],
   "source": [
    "#square by lambda functions\n",
    "square=lambda x:x*x\n"
   ]
  },
  {
   "cell_type": "code",
   "execution_count": 55,
   "id": "14df35e1",
   "metadata": {},
   "outputs": [
    {
     "data": {
      "text/plain": [
       "36"
      ]
     },
     "execution_count": 55,
     "metadata": {},
     "output_type": "execute_result"
    }
   ],
   "source": [
    "square(6)"
   ]
  },
  {
   "cell_type": "code",
   "execution_count": 56,
   "id": "16082142",
   "metadata": {},
   "outputs": [],
   "source": [
    "#addition by lambda functions\n",
    "add=lambda x,y:x+y"
   ]
  },
  {
   "cell_type": "code",
   "execution_count": 57,
   "id": "1caee8c3",
   "metadata": {},
   "outputs": [
    {
     "data": {
      "text/plain": [
       "9"
      ]
     },
     "execution_count": 57,
     "metadata": {},
     "output_type": "execute_result"
    }
   ],
   "source": [
    "add(4,5)"
   ]
  },
  {
   "cell_type": "code",
   "execution_count": 58,
   "id": "bb9d36c4",
   "metadata": {},
   "outputs": [],
   "source": [
    "larger= lambda x,y: \"x is greater than y\" if x>y else \"x is smaller\""
   ]
  },
  {
   "cell_type": "code",
   "execution_count": 59,
   "id": "c3f8b1a5",
   "metadata": {},
   "outputs": [
    {
     "data": {
      "text/plain": [
       "'x is smaller'"
      ]
     },
     "execution_count": 59,
     "metadata": {},
     "output_type": "execute_result"
    }
   ],
   "source": [
    "larger(3,6)"
   ]
  },
  {
   "cell_type": "markdown",
   "id": "42cd95b5",
   "metadata": {},
   "source": [
    "#a map function takes a function and iter(list/tuple) as an argument and returns a map object of all the results,which is an iterator after applying function to all elements in iter."
   ]
  },
  {
   "cell_type": "code",
   "execution_count": 60,
   "id": "1e945713",
   "metadata": {},
   "outputs": [],
   "source": [
    "x=[1,2,3,4,5,6]\n",
    "def square(x):\n",
    "    return x*x"
   ]
  },
  {
   "cell_type": "code",
   "execution_count": 61,
   "id": "0b886c40",
   "metadata": {},
   "outputs": [
    {
     "data": {
      "text/plain": [
       "[1, 4, 9, 16, 25, 36]"
      ]
     },
     "execution_count": 61,
     "metadata": {},
     "output_type": "execute_result"
    }
   ],
   "source": [
    "y=map(square,x)\n",
    "list(y)"
   ]
  },
  {
   "cell_type": "code",
   "execution_count": 62,
   "id": "b639aa53",
   "metadata": {},
   "outputs": [],
   "source": [
    "x=[1,7,9,4,5]\n",
    "y=[2,9,5,3,0]\n",
    "def add(x,y):\n",
    "    return x+y"
   ]
  },
  {
   "cell_type": "code",
   "execution_count": 63,
   "id": "4660c6ea",
   "metadata": {},
   "outputs": [
    {
     "data": {
      "text/plain": [
       "[3, 16, 14, 7, 5]"
      ]
     },
     "execution_count": 63,
     "metadata": {},
     "output_type": "execute_result"
    }
   ],
   "source": [
    "z=map(add,x,y)\n",
    "list(z)"
   ]
  },
  {
   "cell_type": "markdown",
   "id": "8bee23d1",
   "metadata": {},
   "source": [
    "# exception handling"
   ]
  },
  {
   "cell_type": "code",
   "execution_count": 1,
   "id": "4bf7093f",
   "metadata": {},
   "outputs": [
    {
     "ename": "NameError",
     "evalue": "name 'x' is not defined",
     "output_type": "error",
     "traceback": [
      "\u001b[1;31m---------------------------------------------------------------------------\u001b[0m",
      "\u001b[1;31mNameError\u001b[0m                                 Traceback (most recent call last)",
      "\u001b[1;32m<ipython-input-1-fc17d851ef81>\u001b[0m in \u001b[0;36m<module>\u001b[1;34m\u001b[0m\n\u001b[1;32m----> 1\u001b[1;33m \u001b[0mprint\u001b[0m\u001b[1;33m(\u001b[0m\u001b[0mx\u001b[0m\u001b[1;33m)\u001b[0m\u001b[1;33m\u001b[0m\u001b[1;33m\u001b[0m\u001b[0m\n\u001b[0m",
      "\u001b[1;31mNameError\u001b[0m: name 'x' is not defined"
     ]
    }
   ],
   "source": [
    "print(x)"
   ]
  },
  {
   "cell_type": "code",
   "execution_count": 2,
   "id": "50c3b282",
   "metadata": {},
   "outputs": [
    {
     "name": "stdout",
     "output_type": "stream",
     "text": [
      "please define x\n"
     ]
    }
   ],
   "source": [
    "try:\n",
    "    print(x)\n",
    "except:\n",
    "    print(\"please define x\")"
   ]
  },
  {
   "cell_type": "code",
   "execution_count": 3,
   "id": "61573159",
   "metadata": {},
   "outputs": [],
   "source": [
    "x=12"
   ]
  },
  {
   "cell_type": "code",
   "execution_count": 4,
   "id": "86f61c1a",
   "metadata": {},
   "outputs": [
    {
     "name": "stdout",
     "output_type": "stream",
     "text": [
      "12\n"
     ]
    }
   ],
   "source": [
    "try:\n",
    "    print(x)\n",
    "except:\n",
    "    print(\"please define x\")"
   ]
  },
  {
   "cell_type": "code",
   "execution_count": 5,
   "id": "e1cfaf4e",
   "metadata": {},
   "outputs": [
    {
     "ename": "ValueError",
     "evalue": "could not convert string to float: 'hello'",
     "output_type": "error",
     "traceback": [
      "\u001b[1;31m---------------------------------------------------------------------------\u001b[0m",
      "\u001b[1;31mValueError\u001b[0m                                Traceback (most recent call last)",
      "\u001b[1;32m<ipython-input-5-12145fe13e53>\u001b[0m in \u001b[0;36m<module>\u001b[1;34m\u001b[0m\n\u001b[0;32m      1\u001b[0m \u001b[0mx\u001b[0m\u001b[1;33m=\u001b[0m\u001b[1;34m\"hello\"\u001b[0m\u001b[1;33m\u001b[0m\u001b[1;33m\u001b[0m\u001b[0m\n\u001b[1;32m----> 2\u001b[1;33m \u001b[0my\u001b[0m\u001b[1;33m=\u001b[0m\u001b[0mfloat\u001b[0m\u001b[1;33m(\u001b[0m\u001b[0mx\u001b[0m\u001b[1;33m)\u001b[0m\u001b[1;33m\u001b[0m\u001b[1;33m\u001b[0m\u001b[0m\n\u001b[0m\u001b[0;32m      3\u001b[0m \u001b[0mprint\u001b[0m\u001b[1;33m(\u001b[0m\u001b[0my\u001b[0m\u001b[1;33m)\u001b[0m\u001b[1;33m\u001b[0m\u001b[1;33m\u001b[0m\u001b[0m\n",
      "\u001b[1;31mValueError\u001b[0m: could not convert string to float: 'hello'"
     ]
    }
   ],
   "source": [
    "x=\"hello\"\n",
    "y=float(x)\n",
    "print(y)"
   ]
  },
  {
   "cell_type": "code",
   "execution_count": 6,
   "id": "0e43bb30",
   "metadata": {},
   "outputs": [
    {
     "name": "stdout",
     "output_type": "stream",
     "text": [
      "enter number\n"
     ]
    }
   ],
   "source": [
    "x=\"hello\"\n",
    "try:\n",
    "    y=float(x)\n",
    "    print(y)\n",
    "except:\n",
    "    print(\"enter number\")"
   ]
  },
  {
   "cell_type": "code",
   "execution_count": 7,
   "id": "0e869ea1",
   "metadata": {},
   "outputs": [
    {
     "name": "stdout",
     "output_type": "stream",
     "text": [
      "100.0\n",
      "finished\n"
     ]
    }
   ],
   "source": [
    "x=100\n",
    "try:\n",
    "    y=float(x)\n",
    "    print(y)\n",
    "except:\n",
    "    print(\"enter number\")\n",
    "finally:\n",
    "    print(\"finished\")"
   ]
  },
  {
   "cell_type": "code",
   "execution_count": 9,
   "id": "7427c324",
   "metadata": {},
   "outputs": [
    {
     "name": "stdout",
     "output_type": "stream",
     "text": [
      "15\n",
      "finished\n"
     ]
    }
   ],
   "source": [
    "try:\n",
    "    age=12\n",
    "    y=age+3\n",
    "    print(y)\n",
    "except:\n",
    "    print(\"enter number\")\n",
    "finally:\n",
    "    print(\"finished\")"
   ]
  },
  {
   "cell_type": "code",
   "execution_count": 13,
   "id": "3b54b624",
   "metadata": {},
   "outputs": [],
   "source": [
    "def age(x):\n",
    "    try:\n",
    "        x=int(input())\n",
    "        y=x+3\n",
    "        print(y)\n",
    "    except:\n",
    "        print(\"enter number\")\n",
    "    finally:\n",
    "        print(\"finished\")"
   ]
  },
  {
   "cell_type": "code",
   "execution_count": 14,
   "id": "8580dc01",
   "metadata": {},
   "outputs": [
    {
     "name": "stdout",
     "output_type": "stream",
     "text": [
      "12\n",
      "15\n",
      "finished\n"
     ]
    }
   ],
   "source": [
    "age(x)"
   ]
  },
  {
   "cell_type": "code",
   "execution_count": null,
   "id": "0874158f",
   "metadata": {},
   "outputs": [],
   "source": []
  }
 ],
 "metadata": {
  "kernelspec": {
   "display_name": "Python 3",
   "language": "python",
   "name": "python3"
  },
  "language_info": {
   "codemirror_mode": {
    "name": "ipython",
    "version": 3
   },
   "file_extension": ".py",
   "mimetype": "text/x-python",
   "name": "python",
   "nbconvert_exporter": "python",
   "pygments_lexer": "ipython3",
   "version": "3.8.8"
  }
 },
 "nbformat": 4,
 "nbformat_minor": 5
}
