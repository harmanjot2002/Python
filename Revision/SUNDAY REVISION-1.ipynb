{
 "cells": [
  {
   "cell_type": "markdown",
   "id": "d9abfc8c",
   "metadata": {},
   "source": [
    "## patterns1"
   ]
  },
  {
   "cell_type": "code",
   "execution_count": 1,
   "id": "8dfb68e6",
   "metadata": {},
   "outputs": [
    {
     "name": "stdout",
     "output_type": "stream",
     "text": [
      "1\n",
      "21\n",
      "321\n",
      "4321\n",
      "54321\n"
     ]
    }
   ],
   "source": [
    "r=1\n",
    "while r<=5:\n",
    "    c=r\n",
    "    while c>=1:\n",
    "        print(c,end=\"\")\n",
    "        c=c-1\n",
    "    print()\n",
    "    r=r+1"
   ]
  },
  {
   "cell_type": "code",
   "execution_count": 2,
   "id": "bca8d737",
   "metadata": {},
   "outputs": [
    {
     "data": {
      "text/plain": [
       "65"
      ]
     },
     "execution_count": 2,
     "metadata": {},
     "output_type": "execute_result"
    }
   ],
   "source": [
    "ord(\"A\")"
   ]
  },
  {
   "cell_type": "code",
   "execution_count": 3,
   "id": "12ededfd",
   "metadata": {},
   "outputs": [
    {
     "data": {
      "text/plain": [
       "97"
      ]
     },
     "execution_count": 3,
     "metadata": {},
     "output_type": "execute_result"
    }
   ],
   "source": [
    "ord(\"a\")"
   ]
  },
  {
   "cell_type": "code",
   "execution_count": 4,
   "id": "f4a93d69",
   "metadata": {},
   "outputs": [
    {
     "name": "stdout",
     "output_type": "stream",
     "text": [
      "12345\n",
      "12345\n",
      "12345\n",
      "12345\n",
      "12345\n"
     ]
    }
   ],
   "source": [
    "r=1\n",
    "while r<=5:\n",
    "    c=1\n",
    "    while c<=5:\n",
    "        print(c,end=\"\")\n",
    "        c=c+1\n",
    "    print()\n",
    "    r=r+1"
   ]
  },
  {
   "cell_type": "code",
   "execution_count": 5,
   "id": "3d1ef5af",
   "metadata": {},
   "outputs": [
    {
     "name": "stdout",
     "output_type": "stream",
     "text": [
      "ABCDE\n",
      "ABCDE\n",
      "ABCDE\n",
      "ABCDE\n",
      "ABCDE\n"
     ]
    }
   ],
   "source": [
    "r=1\n",
    "while r<=5:\n",
    "    c=1\n",
    "    while c<=5:\n",
    "        print(chr(ord(\"A\")+c-1),end=\"\")\n",
    "        c=c+1\n",
    "    print()\n",
    "    r+=1"
   ]
  },
  {
   "cell_type": "code",
   "execution_count": 6,
   "id": "053e5fed",
   "metadata": {},
   "outputs": [
    {
     "name": "stdout",
     "output_type": "stream",
     "text": [
      "1\n",
      "21\n",
      "321\n",
      "4321\n",
      "54321\n"
     ]
    }
   ],
   "source": [
    "r=1\n",
    "while r<=5:\n",
    "    c=r\n",
    "    while c>=1:  #printing will start from right end and go till left end.\n",
    "        print(c,end=\"\")\n",
    "        c=c-1\n",
    "    print()\n",
    "    r=r+1\n",
    "    "
   ]
  },
  {
   "cell_type": "code",
   "execution_count": 7,
   "id": "4e5cf013",
   "metadata": {},
   "outputs": [
    {
     "name": "stdout",
     "output_type": "stream",
     "text": [
      "A\n",
      "BA\n",
      "CBA\n",
      "DCBA\n",
      "EDCBA\n"
     ]
    }
   ],
   "source": [
    "r=1\n",
    "while r<=5:\n",
    "    c=r\n",
    "    while c>=1:\n",
    "        print(chr(ord(\"A\")+c-1),end=\"\")\n",
    "        c=c-1\n",
    "    print()\n",
    "    r=r+1"
   ]
  },
  {
   "cell_type": "code",
   "execution_count": 8,
   "id": "9c42ac32",
   "metadata": {},
   "outputs": [
    {
     "name": "stdout",
     "output_type": "stream",
     "text": [
      "E\n",
      "DE\n",
      "CDE\n",
      "BCDE\n",
      "ABCDE\n"
     ]
    }
   ],
   "source": [
    "r=1\n",
    "while r<=5:\n",
    "    c=r\n",
    "    while c>=1:\n",
    "        print(chr(ord(\"E\")-c+1),end=\"\")\n",
    "        c=c-1\n",
    "    print()\n",
    "    r=r+1"
   ]
  },
  {
   "cell_type": "code",
   "execution_count": 9,
   "id": "75c4aa33",
   "metadata": {},
   "outputs": [
    {
     "name": "stdout",
     "output_type": "stream",
     "text": [
      "A\n",
      "AB\n",
      "ABC\n",
      "ABCD\n",
      "ABCDE\n"
     ]
    }
   ],
   "source": [
    "r=1\n",
    "while r<=5:\n",
    "    c=1\n",
    "    while c<=r:\n",
    "        print(chr(ord(\"A\")+c-1),end=\"\")\n",
    "        c=c+1\n",
    "    print()\n",
    "    r=r+1"
   ]
  },
  {
   "cell_type": "code",
   "execution_count": 10,
   "id": "82e15955",
   "metadata": {},
   "outputs": [
    {
     "name": "stdout",
     "output_type": "stream",
     "text": [
      "ABCDE\n",
      "BCDEF\n",
      "CDEFG\n",
      "DEFGH\n",
      "EFGHI\n"
     ]
    }
   ],
   "source": [
    "j=1\n",
    "while j<=5:\n",
    "    start_row=chr(ord(\"A\")+j-1)\n",
    "    c=1\n",
    "    while c<=5:\n",
    "        print(chr(ord(start_row)+c-1),end=\"\")\n",
    "        c=c+1\n",
    "    print()\n",
    "    j=j+1"
   ]
  },
  {
   "cell_type": "code",
   "execution_count": 11,
   "id": "c7e6135e",
   "metadata": {},
   "outputs": [
    {
     "name": "stdout",
     "output_type": "stream",
     "text": [
      "1\n",
      "1 1 \n",
      "2 0 2 \n",
      "3 0 0 3 \n",
      "4 0 0 0 4 \n",
      "5 0 0 0 0 5 \n"
     ]
    }
   ],
   "source": [
    "print(1)\n",
    "r=1\n",
    "while r<=5:\n",
    "    c=1\n",
    "    while c<=r+1:\n",
    "        if c==1 or c==r+1:\n",
    "            print(r,end=\" \")\n",
    "        else:\n",
    "            print(0,end=\" \")\n",
    "        c=c+1    \n",
    "    r=r+1\n",
    "    print()"
   ]
  },
  {
   "cell_type": "code",
   "execution_count": 12,
   "id": "77d7980b",
   "metadata": {},
   "outputs": [
    {
     "name": "stdout",
     "output_type": "stream",
     "text": [
      "1\n",
      "1 1 \n",
      "1 2 1 \n",
      "1 2 2 1 \n",
      "1 2 2 2 1 \n",
      "1 2 2 2 2 1 \n"
     ]
    }
   ],
   "source": [
    "print(1)\n",
    "r=1\n",
    "while r<=5:\n",
    "    c=1\n",
    "    while c<=r+1:\n",
    "        if c==1 or c==r+1:\n",
    "            print(1,end=\" \")\n",
    "        else:\n",
    "            print(2,end=\" \")\n",
    "        c=c+1    \n",
    "    r=r+1\n",
    "    print()"
   ]
  },
  {
   "cell_type": "markdown",
   "id": "e6a7aa7d",
   "metadata": {},
   "source": [
    "## patterns2"
   ]
  },
  {
   "cell_type": "code",
   "execution_count": 1,
   "id": "4f1329c3",
   "metadata": {},
   "outputs": [
    {
     "name": "stdout",
     "output_type": "stream",
     "text": [
      "5\n",
      "    * \n",
      "  * * * \n",
      "* * * * * \n",
      "  * * * \n",
      "    * \n"
     ]
    }
   ],
   "source": [
    "n=int(input())\n",
    "n1=(n+1)/2\n",
    "n2=(n-1)/2\n",
    "r=1\n",
    "while r<=n1:\n",
    "    spaces=1\n",
    "    while spaces<=n1-r:\n",
    "        print(\" \",end=\" \")\n",
    "        spaces=spaces+1\n",
    "    c=1\n",
    "    while c<=2*r-1:\n",
    "        print(\"*\",end=\" \")\n",
    "        c=c+1\n",
    "    print()\n",
    "    r=r+1\n",
    "r=n2\n",
    "while r>=1:\n",
    "    spaces=1\n",
    "    while spaces<=n2-r+1:\n",
    "        print(\" \",end=\" \")\n",
    "        spaces=spaces+1\n",
    "    c=1\n",
    "    while c<=2*r-1:\n",
    "        print(\"*\",end=\" \")\n",
    "        c=c+1\n",
    "    print()\n",
    "    r=r-1\n",
    "\n",
    "    \n",
    "    "
   ]
  },
  {
   "cell_type": "code",
   "execution_count": 2,
   "id": "1370b93a",
   "metadata": {},
   "outputs": [
    {
     "name": "stdout",
     "output_type": "stream",
     "text": [
      "5\n",
      "1 \n",
      "1 2 \n",
      "1 2 3 \n",
      "1 2 3 4 \n",
      "1 2 3 4 5 \n"
     ]
    }
   ],
   "source": [
    "n=int(input())\n",
    "r=1\n",
    "while r<=n:\n",
    "    c=1\n",
    "    while c<=r:\n",
    "        print(c,end=\" \")\n",
    "        c=c+1\n",
    "    print()\n",
    "    r=r+1"
   ]
  },
  {
   "cell_type": "code",
   "execution_count": 3,
   "id": "11eba756",
   "metadata": {},
   "outputs": [
    {
     "name": "stdout",
     "output_type": "stream",
     "text": [
      "5\n",
      "1 1 \n",
      "1 2 2 1 \n",
      "1 2 3 3 2 1 \n",
      "1 2 3 4 4 3 2 1 \n",
      "1 2 3 4 5 5 4 3 2 1 \n"
     ]
    }
   ],
   "source": [
    "n=int(input())\n",
    "r=1\n",
    "while r<=n:\n",
    "    c=1\n",
    "    while c<=r:\n",
    "        print(c,end=\" \")\n",
    "        c=c+1\n",
    "    c=r\n",
    "    while c>=1:\n",
    "        print(c,end=\" \")\n",
    "        c=c-1\n",
    "    print()\n",
    "    r=r+1"
   ]
  },
  {
   "cell_type": "code",
   "execution_count": 4,
   "id": "e31641db",
   "metadata": {},
   "outputs": [
    {
     "name": "stdout",
     "output_type": "stream",
     "text": [
      "5\n",
      "1         1 \n",
      "1 2       2 1 \n",
      "1 2 3     3 2 1 \n",
      "1 2 3 4   4 3 2 1 \n",
      "1 2 3 4 5 5 4 3 2 1 \n"
     ]
    }
   ],
   "source": [
    "n=int(input())\n",
    "r=1\n",
    "while r<=n:\n",
    "    c=1\n",
    "    while c<=r:\n",
    "        print(c,end=\" \")\n",
    "        c=c+1\n",
    "    spaces=1\n",
    "    while spaces<=n-r:\n",
    "        print(\" \",end=\" \")\n",
    "        spaces=spaces+1\n",
    "    c=r\n",
    "    while c>=1:\n",
    "        print(c,end=\" \")\n",
    "        c=c-1\n",
    "    print()\n",
    "    r=r+1"
   ]
  },
  {
   "cell_type": "code",
   "execution_count": 5,
   "id": "4e4ea677",
   "metadata": {},
   "outputs": [
    {
     "name": "stdout",
     "output_type": "stream",
     "text": [
      "5\n",
      "1                 1 \n",
      "1 2             2 1 \n",
      "1 2 3         3 2 1 \n",
      "1 2 3 4     4 3 2 1 \n",
      "1 2 3 4 5 5 4 3 2 1 \n"
     ]
    }
   ],
   "source": [
    "n=int(input())\n",
    "r=1\n",
    "while r<=n:\n",
    "    c=1\n",
    "    while c<=r:\n",
    "        print(c,end=\" \")\n",
    "        c=c+1\n",
    "    spaces=1\n",
    "    while spaces<=2*(n-r):\n",
    "        print(\" \",end=\" \")\n",
    "        spaces=spaces+1\n",
    "    c=r\n",
    "    while c>=1:\n",
    "        print(c,end=\" \")\n",
    "        c=c-1\n",
    "    print()\n",
    "    r=r+1"
   ]
  },
  {
   "cell_type": "code",
   "execution_count": 6,
   "id": "4ba8a69c",
   "metadata": {},
   "outputs": [
    {
     "name": "stdout",
     "output_type": "stream",
     "text": [
      "5\n",
      "*0000*0000*\n",
      "0*000*000*0\n",
      "00*00*00*00\n",
      "000*0*0*000\n",
      "0000***0000\n"
     ]
    }
   ],
   "source": [
    "n=int(input())\n",
    "r=1\n",
    "while r<=n:\n",
    "    c=1\n",
    "    while c<=n:\n",
    "        if c==r:\n",
    "            print(\"*\",end=\"\")\n",
    "        else:\n",
    "            print(0,end=\"\")\n",
    "        c=c+1    \n",
    "    c=1\n",
    "    print(\"*\",end=\"\")\n",
    "    c=n\n",
    "    while c>=1:\n",
    "        if c==r:\n",
    "            print(\"*\",end=\"\")\n",
    "        else:\n",
    "            print(0,end=\"\")\n",
    "        c=c-1    \n",
    "    print()         \n",
    "    r=r+1    "
   ]
  },
  {
   "cell_type": "code",
   "execution_count": 7,
   "id": "1461a19d",
   "metadata": {},
   "outputs": [
    {
     "name": "stdout",
     "output_type": "stream",
     "text": [
      "5\n",
      "        1 \n",
      "      2 1 \n",
      "    3 2 1 \n",
      "  4 3 2 1 \n",
      "5 4 3 2 1 \n"
     ]
    }
   ],
   "source": [
    "n=int(input())\n",
    "r=1\n",
    "while r<=n:\n",
    "    spaces=1\n",
    "    while spaces<=n-r:\n",
    "        print(\" \",end=\" \")\n",
    "        spaces=spaces+1\n",
    "    c=r\n",
    "    while c>=1:\n",
    "        print(c,end=\" \")\n",
    "        c=c-1\n",
    "    print()\n",
    "    r=r+1"
   ]
  },
  {
   "cell_type": "code",
   "execution_count": 8,
   "id": "6e6efdf5",
   "metadata": {},
   "outputs": [
    {
     "name": "stdout",
     "output_type": "stream",
     "text": [
      "5\n",
      "        1 \n",
      "      2 1 2 \n",
      "    3 2 1 2 3 \n",
      "  4 3 2 1 2 3 4 \n",
      "5 4 3 2 1 2 3 4 5 \n"
     ]
    }
   ],
   "source": [
    "n=int(input())\n",
    "r=1\n",
    "while r<=n:\n",
    "    spaces=1\n",
    "    while spaces<=n-r:\n",
    "        print(\" \",end=\" \")\n",
    "        spaces=spaces+1\n",
    "    c=r\n",
    "    while c>=1:\n",
    "        print(c,end=\" \")\n",
    "        c=c-1\n",
    "    c=2\n",
    "    while c<=r:\n",
    "        print(c,end=\" \")\n",
    "        c=c+1\n",
    "    print()\n",
    "    r=r+1"
   ]
  },
  {
   "cell_type": "code",
   "execution_count": 9,
   "id": "a43006c6",
   "metadata": {},
   "outputs": [
    {
     "name": "stdout",
     "output_type": "stream",
     "text": [
      "5\n",
      "*\n",
      " **\n",
      "  ***\n"
     ]
    }
   ],
   "source": [
    "n=int(input())\n",
    "r=1\n",
    "while r<=(n+1)/2:\n",
    "    spaces=1\n",
    "    while spaces<=r-1:\n",
    "        print(\" \",end=\"\")\n",
    "        spaces=spaces+1\n",
    "    j=1\n",
    "    while j<=r:\n",
    "        print(\"*\",end=\"\")\n",
    "        j=j+1\n",
    "    print()\n",
    "    r=r+1\n",
    "\n",
    "        "
   ]
  },
  {
   "cell_type": "code",
   "execution_count": 10,
   "id": "7aec3872",
   "metadata": {},
   "outputs": [
    {
     "name": "stdout",
     "output_type": "stream",
     "text": [
      "5\n",
      "*\n",
      " **\n",
      "  ***\n",
      " **\n",
      "*\n"
     ]
    }
   ],
   "source": [
    "n=int(input())\n",
    "r=1\n",
    "while r<=(n+1)/2:\n",
    "    spaces=1\n",
    "    while spaces<=r-1:\n",
    "        print(\" \",end=\"\")\n",
    "        spaces=spaces+1\n",
    "    j=1\n",
    "    while j<=r:\n",
    "        print(\"*\",end=\"\")\n",
    "        j=j+1\n",
    "    print()\n",
    "    r=r+1\n",
    "r=(n-1)/2\n",
    "while r>=1:\n",
    "    spaces=r-1\n",
    "    while spaces>=1:\n",
    "        print(\" \",end=\"\")\n",
    "        spaces=spaces-1\n",
    "    j=r\n",
    "    while j>=1:\n",
    "        print(\"*\",end=\"\")\n",
    "        j=j-1\n",
    "    print()\n",
    "    r=r-1\n",
    "        \n",
    "        "
   ]
  },
  {
   "cell_type": "markdown",
   "id": "08165776",
   "metadata": {},
   "source": [
    "## more on loops"
   ]
  },
  {
   "cell_type": "code",
   "execution_count": 1,
   "id": "5a951e3a",
   "metadata": {},
   "outputs": [
    {
     "name": "stdout",
     "output_type": "stream",
     "text": [
      "1 2 3 4 "
     ]
    }
   ],
   "source": [
    "for i in range(1,5):\n",
    "    print(i,end=\" \")"
   ]
  },
  {
   "cell_type": "code",
   "execution_count": 2,
   "id": "8d216b71",
   "metadata": {},
   "outputs": [
    {
     "name": "stdout",
     "output_type": "stream",
     "text": [
      "0 1 2 3 4 "
     ]
    }
   ],
   "source": [
    "for i in range(5):\n",
    "    print(i,end=\" \")"
   ]
  },
  {
   "cell_type": "code",
   "execution_count": 3,
   "id": "9c530851",
   "metadata": {},
   "outputs": [
    {
     "name": "stdout",
     "output_type": "stream",
     "text": [
      "1 2 "
     ]
    }
   ],
   "source": [
    "i=1\n",
    "while i<5:\n",
    "    if i==3:\n",
    "        break\n",
    "    print(i,end=\" \")\n",
    "    i=i+1"
   ]
  },
  {
   "cell_type": "code",
   "execution_count": 4,
   "id": "5676b65f",
   "metadata": {},
   "outputs": [
    {
     "name": "stdout",
     "output_type": "stream",
     "text": [
      "1245\n",
      "1245\n",
      "1245\n"
     ]
    }
   ],
   "source": [
    "i=1\n",
    "while i<=3:\n",
    "    j=0\n",
    "    while j<5:\n",
    "        j=j+1\n",
    "        if j==3:\n",
    "            continue\n",
    "        print(j,end=\"\")\n",
    "    print()\n",
    "    i=i+1"
   ]
  },
  {
   "cell_type": "code",
   "execution_count": 5,
   "id": "1d67dca5",
   "metadata": {},
   "outputs": [
    {
     "name": "stdout",
     "output_type": "stream",
     "text": [
      "124512451245"
     ]
    }
   ],
   "source": [
    "i=1\n",
    "while i<=3:\n",
    "    j=0\n",
    "    while j<5:\n",
    "        j=j+1\n",
    "        if j==3:\n",
    "            continue\n",
    "        print(j,end=\"\")\n",
    "    i=i+1"
   ]
  },
  {
   "cell_type": "code",
   "execution_count": 6,
   "id": "82d850f7",
   "metadata": {},
   "outputs": [
    {
     "name": "stdout",
     "output_type": "stream",
     "text": [
      "4\n",
      "0000\n",
      "111\n",
      "00\n",
      "1\n"
     ]
    }
   ],
   "source": [
    "n=int(input())\n",
    "r=n\n",
    "while r>=1:\n",
    "    c=1\n",
    "    while c<=r:\n",
    "        if r%2!=0:\n",
    "            print(1,end=\"\")  \n",
    "        else:\n",
    "            print(0,end=\"\")\n",
    "        c=c+1\n",
    "    print()\n",
    "    r=r-1\n",
    "#here we can use while loop ,but not reverse while loop\n",
    "#,reverse loop will result in incorrect output for even or odd value of n.\"\"\""
   ]
  },
  {
   "cell_type": "code",
   "execution_count": 7,
   "id": "c72208fc",
   "metadata": {},
   "outputs": [
    {
     "name": "stdout",
     "output_type": "stream",
     "text": [
      "5\n",
      "11111\n",
      "0000\n",
      "111\n",
      "00\n",
      "1\n"
     ]
    }
   ],
   "source": [
    "n=int(input())\n",
    "r=n\n",
    "while r>=1:\n",
    "    c=1\n",
    "    while c<=r:\n",
    "        if r%2!=0:\n",
    "            print(1,end=\"\")  \n",
    "        else:\n",
    "            print(0,end=\"\")\n",
    "        c=c+1\n",
    "    print()\n",
    "    r=r-1\n",
    "#here we can use while loop ,but not reverse while loop\n",
    "#,reverse loop will result in incorrect output for even or odd value of n.\"\"\""
   ]
  },
  {
   "cell_type": "code",
   "execution_count": 9,
   "id": "af3bf5dc",
   "metadata": {},
   "outputs": [
    {
     "name": "stdout",
     "output_type": "stream",
     "text": [
      "5\n",
      "11111\n",
      "0000\n",
      "111\n",
      "00\n",
      "1\n"
     ]
    }
   ],
   "source": [
    "n=int(input())\n",
    "r=1\n",
    "while r<=n:\n",
    "    c=1\n",
    "    while c<=n-r+1:\n",
    "        if r%2==0:\n",
    "            print(0,end=\"\")\n",
    "        else:\n",
    "            print(1,end=\"\")\n",
    "        c=c+1\n",
    "    print()\n",
    "    r=r+1"
   ]
  },
  {
   "cell_type": "code",
   "execution_count": 10,
   "id": "fb8e6ef4",
   "metadata": {},
   "outputs": [
    {
     "name": "stdout",
     "output_type": "stream",
     "text": [
      "4\n",
      "1111\n",
      "000\n",
      "11\n",
      "0\n"
     ]
    }
   ],
   "source": [
    "n=int(input())\n",
    "r=1\n",
    "while r<=n:\n",
    "    c=1\n",
    "    while c<=n-r+1:\n",
    "        if r%2==0:\n",
    "            print(0,end=\"\")\n",
    "        else:\n",
    "            print(1,end=\"\")\n",
    "        c=c+1\n",
    "    print()\n",
    "    r=r+1"
   ]
  },
  {
   "cell_type": "code",
   "execution_count": 12,
   "id": "b93abb16",
   "metadata": {},
   "outputs": [
    {
     "name": "stdout",
     "output_type": "stream",
     "text": [
      "4\n",
      "1111\n",
      "000\n",
      "11\n",
      "0\n"
     ]
    }
   ],
   "source": [
    "n=int(input())\n",
    "for r in range(1,n+1):\n",
    "    for c in range(1,n-r+2):\n",
    "        if r%2==0:\n",
    "            print(0,end=\"\")\n",
    "        else:\n",
    "            print(1,end=\"\")\n",
    "    print()    "
   ]
  },
  {
   "cell_type": "code",
   "execution_count": 13,
   "id": "25c9a2db",
   "metadata": {},
   "outputs": [
    {
     "name": "stdout",
     "output_type": "stream",
     "text": [
      "5\n",
      "11111\n",
      "0000\n",
      "111\n",
      "00\n",
      "1\n"
     ]
    }
   ],
   "source": [
    "n=int(input())\n",
    "for r in range(1,n+1):\n",
    "    for c in range(1,n-r+2):\n",
    "        if r%2==0:\n",
    "            print(0,end=\"\")\n",
    "        else:\n",
    "            print(1,end=\"\")\n",
    "    print()    "
   ]
  },
  {
   "cell_type": "code",
   "execution_count": 13,
   "id": "e3940762",
   "metadata": {},
   "outputs": [
    {
     "name": "stdout",
     "output_type": "stream",
     "text": [
      "4\n",
      "1234\n",
      " 234\n",
      "  34\n",
      "   4\n",
      "  34\n",
      " 234\n",
      "1234\n"
     ]
    }
   ],
   "source": [
    "n=int(input())\n",
    "r=1\n",
    "while r<=n:\n",
    "    spaces=1\n",
    "    while spaces<=r-1:\n",
    "        print(\" \",end=\"\")\n",
    "        spaces=spaces+1\n",
    "    c=r\n",
    "    while c<=n:\n",
    "        print(c,end=\"\")\n",
    "        c=c+1\n",
    "    print()\n",
    "    r=r+1\n",
    "\n",
    "r=1\n",
    "while r<=n-1:\n",
    "    spaces=1\n",
    "    while spaces<=n-r-1:\n",
    "        print(\" \",end=\"\")\n",
    "        spaces=spaces+1\n",
    "    c=n-r\n",
    "    while c<=n:\n",
    "        print(c,end=\"\")\n",
    "        c=c+1\n",
    "    \n",
    "    print()\n",
    "    r=r+1"
   ]
  },
  {
   "cell_type": "code",
   "execution_count": 4,
   "id": "cdfbf0b6",
   "metadata": {},
   "outputs": [
    {
     "name": "stdout",
     "output_type": "stream",
     "text": [
      "4\n",
      "1234\n",
      " 234\n",
      "  34\n",
      "   4\n",
      "  34\n",
      " 234\n",
      "1234\n"
     ]
    }
   ],
   "source": [
    "n=int(input())\n",
    "for r in range(1,n+1):\n",
    "    for s in range(1,r):\n",
    "        print(\" \",end=\"\")\n",
    "    for c in range(r,n+1):\n",
    "        print(c,end=\"\")\n",
    "    print()\n",
    "\n",
    "for r in range(1,n):\n",
    "    for s in range(1,n-r):\n",
    "        print(\" \",end=\"\")\n",
    "    for c in range(n-r,n+1):\n",
    "        print(c,end=\"\")\n",
    "    print()    "
   ]
  },
  {
   "cell_type": "code",
   "execution_count": 6,
   "id": "944e621c",
   "metadata": {},
   "outputs": [
    {
     "name": "stdout",
     "output_type": "stream",
     "text": [
      "3\n",
      "33333\n",
      "32223\n",
      "32123\n",
      "32223\n",
      "33333\n"
     ]
    }
   ],
   "source": [
    "n = int (input())\n",
    "for i in range (1 , n + 1, 1):\n",
    "    for j in range (1 , n + 1 , 1):\n",
    "        if i < j:\n",
    "            print (n - i + 1 , end= '')\n",
    "        else:\n",
    "            print (n - j + 1 , end= '')\n",
    "    for j in range (n - 1 , 0 , -1):\n",
    "        if i < j :\n",
    "            print (n - i + 1, end= '')\n",
    "        else:\n",
    "            print (n - j + 1 , end= '')\n",
    "    print ()\n",
    "for i in range (n - 1 , 0 , -1):\n",
    "    for j in range (1 , n + 1, 1):\n",
    "        if i < j :\n",
    "            print ( n - i + 1, end= '')\n",
    "        else :\n",
    "            print (n - j + 1, end= '')\n",
    "    for j in range (n-1 , 0 ,-1):\n",
    "        if i < j:\n",
    "            print (n - i + 1, end= '')\n",
    "        else :\n",
    "            print (n - j + 1, end= '')\n",
    "    print ()"
   ]
  },
  {
   "cell_type": "code",
   "execution_count": 13,
   "id": "a780e471",
   "metadata": {},
   "outputs": [
    {
     "name": "stdout",
     "output_type": "stream",
     "text": [
      "3\n",
      "33333\n",
      "32223\n",
      "32123\n",
      "32223\n",
      "33333\n"
     ]
    }
   ],
   "source": [
    "n=int(input())\n",
    "for r in range(1,n+1):\n",
    "    for c in range(1,n+1):\n",
    "        if r<c:\n",
    "            print(n-r+1,end=\"\")\n",
    "        else:\n",
    "            print(n-c+1,end=\"\")\n",
    "    for c in range(n-1,0,-1):\n",
    "        if r<c:\n",
    "            print(n-r+1,end=\"\")\n",
    "        else:\n",
    "            print(n-c+1,end=\"\")\n",
    "    print()\n",
    "for r in range(n-1,0,-1):\n",
    "    for c in range(1,n+1):\n",
    "        if r<c:\n",
    "            print(n-r+1,end=\"\")\n",
    "        else:\n",
    "            print(n-c+1,end=\"\")\n",
    "    for c in range(n-1,0,-1):\n",
    "        if r<c:\n",
    "            print(n-r+1,end=\"\")\n",
    "        else:\n",
    "            print(n-c+1,end=\"\")\n",
    "    print()    \n",
    "    "
   ]
  },
  {
   "cell_type": "code",
   "execution_count": null,
   "id": "cc940388",
   "metadata": {},
   "outputs": [],
   "source": []
  },
  {
   "cell_type": "code",
   "execution_count": null,
   "id": "53dae8aa",
   "metadata": {},
   "outputs": [],
   "source": []
  },
  {
   "cell_type": "markdown",
   "id": "df5b272b",
   "metadata": {},
   "source": [
    "### test1"
   ]
  },
  {
   "cell_type": "code",
   "execution_count": 1,
   "id": "f7bdbd2a",
   "metadata": {},
   "outputs": [
    {
     "name": "stdout",
     "output_type": "stream",
     "text": [
      "5\n",
      "5432*\n",
      "543*1\n",
      "54*21\n",
      "5*321\n",
      "*4321\n"
     ]
    }
   ],
   "source": [
    "n=int(input())\n",
    "r=1\n",
    "while r<=n:\n",
    "    c=n\n",
    "    while c>=1:\n",
    "        if c==r:\n",
    "            print(\"*\",end=\"\")\n",
    "        else:\n",
    "            print(c,end=\"\")\n",
    "        c=c-1\n",
    "    print()\n",
    "    r=r+1"
   ]
  },
  {
   "cell_type": "code",
   "execution_count": 2,
   "id": "e9c42a01",
   "metadata": {},
   "outputs": [
    {
     "name": "stdout",
     "output_type": "stream",
     "text": [
      "5\n",
      "*0000*0000*\n",
      "0*000*000*0\n",
      "00*00*00*00\n",
      "000*0*0*000\n",
      "0000***0000\n"
     ]
    }
   ],
   "source": [
    "n=int(input())\n",
    "r=1\n",
    "while r<=n:\n",
    "    c=1\n",
    "    while c<=n:\n",
    "        if c==r:\n",
    "            print(\"*\",end=\"\")\n",
    "        else:\n",
    "            print(0,end=\"\")\n",
    "        c=c+1\n",
    "    c=1\n",
    "    print(\"*\",end=\"\")\n",
    "    c=n\n",
    "    while c>=1:\n",
    "        if c==r:\n",
    "            print(\"*\",end=\"\")\n",
    "        else:\n",
    "            print(0,end=\"\")\n",
    "        c=c-1\n",
    "    print()\n",
    "    r=r+1"
   ]
  },
  {
   "cell_type": "code",
   "execution_count": 3,
   "id": "e2c6512a",
   "metadata": {},
   "outputs": [
    {
     "name": "stdout",
     "output_type": "stream",
     "text": [
      "153\n",
      "true\n"
     ]
    }
   ],
   "source": [
    "n=int(input())\n",
    "x=n\n",
    "sum=0\n",
    "l=len(str(n))\n",
    "while n>0:\n",
    "    d=(n%10)**l\n",
    "    sum=sum+d\n",
    "    n=n//10\n",
    "if x==sum:\n",
    "    print(\"true\")\n",
    "else:\n",
    "    print(\"false\")"
   ]
  },
  {
   "cell_type": "markdown",
   "id": "52543126",
   "metadata": {},
   "source": [
    "### 18 sept. test\n"
   ]
  },
  {
   "cell_type": "code",
   "execution_count": 1,
   "id": "ffe7edc9",
   "metadata": {},
   "outputs": [
    {
     "name": "stdout",
     "output_type": "stream",
     "text": [
      "hello\n",
      "hellohello\n"
     ]
    }
   ],
   "source": [
    "a = input()\n",
    "b=a*2\n",
    "print(b)\n"
   ]
  },
  {
   "cell_type": "code",
   "execution_count": 2,
   "id": "556721e4",
   "metadata": {},
   "outputs": [
    {
     "data": {
      "text/plain": [
       "97"
      ]
     },
     "execution_count": 2,
     "metadata": {},
     "output_type": "execute_result"
    }
   ],
   "source": [
    "ord(\"a\")"
   ]
  },
  {
   "cell_type": "code",
   "execution_count": 3,
   "id": "b5e88501",
   "metadata": {},
   "outputs": [
    {
     "name": "stdout",
     "output_type": "stream",
     "text": [
      "12+10-2\n"
     ]
    },
    {
     "ename": "ValueError",
     "evalue": "invalid literal for int() with base 10: '12+10-2'",
     "output_type": "error",
     "traceback": [
      "\u001b[1;31m---------------------------------------------------------------------------\u001b[0m",
      "\u001b[1;31mValueError\u001b[0m                                Traceback (most recent call last)",
      "\u001b[1;32m<ipython-input-3-1a387ada7cac>\u001b[0m in \u001b[0;36m<module>\u001b[1;34m\u001b[0m\n\u001b[1;32m----> 1\u001b[1;33m \u001b[0ma\u001b[0m \u001b[1;33m=\u001b[0m \u001b[0mint\u001b[0m\u001b[1;33m(\u001b[0m\u001b[0minput\u001b[0m\u001b[1;33m(\u001b[0m\u001b[1;33m)\u001b[0m\u001b[1;33m)\u001b[0m\u001b[1;33m\u001b[0m\u001b[1;33m\u001b[0m\u001b[0m\n\u001b[0m\u001b[0;32m      2\u001b[0m \u001b[0mprint\u001b[0m\u001b[1;33m(\u001b[0m\u001b[0ma\u001b[0m\u001b[1;33m)\u001b[0m\u001b[1;33m\u001b[0m\u001b[1;33m\u001b[0m\u001b[0m\n",
      "\u001b[1;31mValueError\u001b[0m: invalid literal for int() with base 10: '12+10-2'"
     ]
    }
   ],
   "source": [
    "a = int(input())\n",
    "print(a)"
   ]
  },
  {
   "cell_type": "code",
   "execution_count": 4,
   "id": "e2ca39b1",
   "metadata": {},
   "outputs": [
    {
     "data": {
      "text/plain": [
       "5.0"
      ]
     },
     "execution_count": 4,
     "metadata": {},
     "output_type": "execute_result"
    }
   ],
   "source": [
    "abs(3+4j)"
   ]
  },
  {
   "cell_type": "code",
   "execution_count": 5,
   "id": "9297c28d",
   "metadata": {},
   "outputs": [
    {
     "name": "stdout",
     "output_type": "stream",
     "text": [
      "My name is abc and I belong to Chitkara University.\n"
     ]
    }
   ],
   "source": [
    "print(\"My name is %s and I belong to %s.\" %('abc','Chitkara University'))"
   ]
  },
  {
   "cell_type": "code",
   "execution_count": 6,
   "id": "7fbb1547",
   "metadata": {},
   "outputs": [
    {
     "data": {
      "text/plain": [
       "0"
      ]
     },
     "execution_count": 6,
     "metadata": {},
     "output_type": "execute_result"
    }
   ],
   "source": [
    "a=16\n",
    "b=1\n",
    "a%b//a"
   ]
  },
  {
   "cell_type": "code",
   "execution_count": 7,
   "id": "c9064790",
   "metadata": {},
   "outputs": [],
   "source": [
    "a = 125\n",
    "b = a\n",
    "a = 135"
   ]
  },
  {
   "cell_type": "code",
   "execution_count": 8,
   "id": "1afe3115",
   "metadata": {},
   "outputs": [
    {
     "name": "stdout",
     "output_type": "stream",
     "text": [
      "135\n",
      "125\n"
     ]
    }
   ],
   "source": [
    "print(a)\n",
    "print(b)"
   ]
  },
  {
   "cell_type": "code",
   "execution_count": 9,
   "id": "66a015f9",
   "metadata": {},
   "outputs": [
    {
     "name": "stdout",
     "output_type": "stream",
     "text": [
      "Please enter your age: 21\n",
      "<class 'str'>\n"
     ]
    }
   ],
   "source": [
    "n = input(\"Please enter your age: \")\n",
    "print ( type(n) )"
   ]
  },
  {
   "cell_type": "markdown",
   "id": "7b0fb11e",
   "metadata": {},
   "source": [
    "### decision making exercise"
   ]
  },
  {
   "cell_type": "code",
   "execution_count": 1,
   "id": "cb46a047",
   "metadata": {},
   "outputs": [
    {
     "name": "stdout",
     "output_type": "stream",
     "text": [
      "34\n",
      "last digit of  34 is not divisible by 3.\n"
     ]
    }
   ],
   "source": [
    "#check whether last digit of a no. is divisible by 3 or not.\n",
    "n=int(input())\n",
    "last=n%10\n",
    "if last%3==0:\n",
    "    print(\"last digit of\", n ,\"is divisible by 3.\")\n",
    "else:\n",
    "    print(\"last digit of \", n,\"is not divisible by 3.\")"
   ]
  },
  {
   "cell_type": "code",
   "execution_count": 2,
   "id": "80c62958",
   "metadata": {},
   "outputs": [
    {
     "name": "stdout",
     "output_type": "stream",
     "text": [
      "24\n",
      "24 is divible by both\n"
     ]
    }
   ],
   "source": [
    "#check whether a no. is divisible by both 3 and 2 or not.\n",
    "n=int(input())\n",
    "if n%2==0 and n%3==0:\n",
    "    print(n,\"is divible by both\")\n",
    "else:\n",
    "    print(n,\"is not divisible by both\")\n",
    "    "
   ]
  },
  {
   "cell_type": "code",
   "execution_count": 3,
   "id": "7b0ca351",
   "metadata": {},
   "outputs": [
    {
     "name": "stdout",
     "output_type": "stream",
     "text": [
      "t\n",
      "t is not a vowel\n"
     ]
    }
   ],
   "source": [
    "#given input is a vowel or not\n",
    "c=input()\n",
    "vowel=\"aeiouAEIOU\"\n",
    "if c in vowel:\n",
    "    print(c,\"is a vowel\")\n",
    "else:\n",
    "    print(c,\"is not a vowel\")"
   ]
  },
  {
   "cell_type": "code",
   "execution_count": 4,
   "id": "db21f1df",
   "metadata": {},
   "outputs": [
    {
     "ename": "TypeError",
     "evalue": "object of type 'int' has no len()",
     "output_type": "error",
     "traceback": [
      "\u001b[1;31m---------------------------------------------------------------------------\u001b[0m",
      "\u001b[1;31mTypeError\u001b[0m                                 Traceback (most recent call last)",
      "\u001b[1;32m<ipython-input-4-2fa5e0c1d68f>\u001b[0m in \u001b[0;36m<module>\u001b[1;34m\u001b[0m\n\u001b[0;32m      1\u001b[0m \u001b[0ma\u001b[0m\u001b[1;33m=\u001b[0m\u001b[1;36m455567\u001b[0m\u001b[1;33m\u001b[0m\u001b[1;33m\u001b[0m\u001b[0m\n\u001b[1;32m----> 2\u001b[1;33m \u001b[0mprint\u001b[0m\u001b[1;33m(\u001b[0m\u001b[0mlen\u001b[0m\u001b[1;33m(\u001b[0m\u001b[0ma\u001b[0m\u001b[1;33m)\u001b[0m\u001b[1;33m)\u001b[0m\u001b[1;33m\u001b[0m\u001b[1;33m\u001b[0m\u001b[0m\n\u001b[0m",
      "\u001b[1;31mTypeError\u001b[0m: object of type 'int' has no len()"
     ]
    }
   ],
   "source": [
    "a=455567\n",
    "print(len(a))"
   ]
  },
  {
   "cell_type": "code",
   "execution_count": 5,
   "id": "a9cd420e",
   "metadata": {},
   "outputs": [
    {
     "name": "stdout",
     "output_type": "stream",
     "text": [
      "6\n"
     ]
    }
   ],
   "source": [
    "a=455567\n",
    "print(len(str(a)))"
   ]
  },
  {
   "cell_type": "code",
   "execution_count": 6,
   "id": "8a6dfba2",
   "metadata": {},
   "outputs": [
    {
     "name": "stdout",
     "output_type": "stream",
     "text": [
      "76\n",
      "76 is automorphic.\n"
     ]
    }
   ],
   "source": [
    "#whether a given no. is automorphic or not.\n",
    "#n-digit no.is said to be automorphic if last n digits of square of no. is same as original no.\n",
    "n=int(input())\n",
    "l=len(str(n))\n",
    "square=n**2\n",
    "last_n_digits=square%(10**l)\n",
    "if n==last_n_digits:\n",
    "    print(n,\"is automorphic.\")\n",
    "else:\n",
    "    print(n,\"is not automorphic.\")"
   ]
  },
  {
   "cell_type": "code",
   "execution_count": 7,
   "id": "4ae53f56",
   "metadata": {},
   "outputs": [
    {
     "name": "stdout",
     "output_type": "stream",
     "text": [
      "chitkara university\n",
      "chitkara university\n",
      "chitkara university\n",
      "chitkara university\n",
      "chitkara university\n"
     ]
    }
   ],
   "source": [
    "i=1\n",
    "while i<=5:\n",
    "    print(\"chitkara university\")\n",
    "    i=i+1"
   ]
  },
  {
   "cell_type": "code",
   "execution_count": 8,
   "id": "46ac2590",
   "metadata": {},
   "outputs": [
    {
     "name": "stdout",
     "output_type": "stream",
     "text": [
      "10\n",
      "sum of 10 natural numbers is 55\n"
     ]
    }
   ],
   "source": [
    "#sum of natural numbers upto n\n",
    "n=int(input())\n",
    "i=1\n",
    "sum=0\n",
    "while i<=n:\n",
    "    sum=sum+i\n",
    "    i=i+1\n",
    "print(\"sum of\",n, \"natural numbers is\",sum)"
   ]
  },
  {
   "cell_type": "code",
   "execution_count": 9,
   "id": "5f9339ca",
   "metadata": {},
   "outputs": [
    {
     "name": "stdout",
     "output_type": "stream",
     "text": [
      "10\n",
      "sum of all even numbers upto 10 is 30\n"
     ]
    }
   ],
   "source": [
    "#sum of all even numbers upto n\n",
    "n=int(input())\n",
    "i=2\n",
    "sum=0\n",
    "while i<=n:\n",
    "    sum=sum+i\n",
    "    i=i+2\n",
    "print(\"sum of all even numbers upto\",n,\"is\",sum)"
   ]
  },
  {
   "cell_type": "code",
   "execution_count": 10,
   "id": "654aacab",
   "metadata": {},
   "outputs": [
    {
     "name": "stdout",
     "output_type": "stream",
     "text": [
      "10\n",
      "sum of all even numbers upto 10 is 30\n"
     ]
    }
   ],
   "source": [
    "#sum of all even numbers upto n\n",
    "n=int(input())\n",
    "i=1\n",
    "sum=0\n",
    "while i<=n:\n",
    "    if i%2==0:\n",
    "        sum=sum+i\n",
    "    i=i+1\n",
    "print(\"sum of all even numbers upto\",n,\"is\",sum)\n",
    "    "
   ]
  },
  {
   "cell_type": "code",
   "execution_count": 11,
   "id": "0a013ac8",
   "metadata": {},
   "outputs": [
    {
     "name": "stdout",
     "output_type": "stream",
     "text": [
      "10\n",
      "sum of all odd numbers upto 10 is 25\n"
     ]
    }
   ],
   "source": [
    "#sum of all odd numbers upto n\n",
    "n=int(input())\n",
    "i=1\n",
    "sum=0\n",
    "while i<=n:\n",
    "    if i%2!=0:\n",
    "        sum=sum+i\n",
    "    i=i+1\n",
    "print(\"sum of all odd numbers upto\",n,\"is\",sum)"
   ]
  },
  {
   "cell_type": "code",
   "execution_count": 12,
   "id": "422aa288",
   "metadata": {},
   "outputs": [
    {
     "name": "stdout",
     "output_type": "stream",
     "text": [
      "1234\n",
      "10\n"
     ]
    }
   ],
   "source": [
    "#sum of digits of a given number\n",
    "sum=0\n",
    "n=int(input())\n",
    "while n>0:\n",
    "    sum=sum+(n%10)\n",
    "    n=n//10\n",
    "print(sum)\n",
    "    "
   ]
  },
  {
   "cell_type": "code",
   "execution_count": 13,
   "id": "58a23946",
   "metadata": {},
   "outputs": [
    {
     "name": "stdout",
     "output_type": "stream",
     "text": [
      "3456\n",
      "4\n"
     ]
    }
   ],
   "source": [
    "#count of digits of a given number\n",
    "n=int(input())\n",
    "count=0\n",
    "while n>0:\n",
    "    count=count+1\n",
    "    n=n//10\n",
    "print(count)"
   ]
  },
  {
   "cell_type": "code",
   "execution_count": 14,
   "id": "ee62f242",
   "metadata": {},
   "outputs": [
    {
     "name": "stdout",
     "output_type": "stream",
     "text": [
      "456\n",
      "654\n"
     ]
    }
   ],
   "source": [
    "#reverse of a number\n",
    "n=int(input())\n",
    "rev=0\n",
    "while n>0:\n",
    "    rev=rev*10+n%10\n",
    "    n=n//10\n",
    "print(rev)"
   ]
  },
  {
   "cell_type": "code",
   "execution_count": 15,
   "id": "c3fafc68",
   "metadata": {},
   "outputs": [
    {
     "name": "stdout",
     "output_type": "stream",
     "text": [
      "121\n",
      "0 is not palindrome\n"
     ]
    }
   ],
   "source": [
    "#check whether a given no. is palindrome or not.\n",
    "#no. is said to be palindrome if its reverse is equal to no. itself\n",
    "n=int(input())\n",
    "rev=0\n",
    "while n>0:\n",
    "    rev=rev*10+n%10\n",
    "    n=n//10\n",
    "if rev==n:\n",
    "    print(n,\"is palindrome\")\n",
    "else:\n",
    "    print(n,\"is not palindrome\")"
   ]
  },
  {
   "cell_type": "code",
   "execution_count": 16,
   "id": "783c0073",
   "metadata": {},
   "outputs": [
    {
     "name": "stdout",
     "output_type": "stream",
     "text": [
      "121\n",
      "121 is palindrome\n"
     ]
    }
   ],
   "source": [
    "#check whether a given no. is palindrome or not.\n",
    "#no. is said to be palindrome if its reverse is equal to no. itself\n",
    "n=int(input())\n",
    "x=n\n",
    "rev=0\n",
    "while n>0:\n",
    "    rev=rev*10+n%10\n",
    "    n=n//10\n",
    "if rev==x:\n",
    "    print(x,\"is palindrome\")\n",
    "else:\n",
    "    print(x,\"is not palindrome\")"
   ]
  },
  {
   "cell_type": "code",
   "execution_count": 17,
   "id": "4567f431",
   "metadata": {},
   "outputs": [
    {
     "name": "stdout",
     "output_type": "stream",
     "text": [
      "153\n",
      "153 is armstrong number\n"
     ]
    }
   ],
   "source": [
    "#check whether given no. is armstrong no. or not\n",
    "#n-digit no. is said to be armstrong no.if sum of n th power of each digit is equal to no.itself\n",
    "n=int(input())\n",
    "x=n\n",
    "l=len(str(n))\n",
    "sum=0\n",
    "while n>0:\n",
    "    d=(n%10)**l\n",
    "    sum=sum+d\n",
    "    n=n//10\n",
    "if x==sum:\n",
    "    print(x,\"is armstrong number\")\n",
    "else:\n",
    "    print(x,\"is not armstrong number\")"
   ]
  },
  {
   "cell_type": "code",
   "execution_count": 18,
   "id": "ce0ea08f",
   "metadata": {},
   "outputs": [
    {
     "name": "stdout",
     "output_type": "stream",
     "text": [
      "5\n",
      "1\n",
      "1\n",
      "2\n",
      "3\n",
      "5\n"
     ]
    }
   ],
   "source": [
    "#febonacci series\n",
    "n=int(input())\n",
    "n1=n2=1\n",
    "i=0\n",
    "while i<n:\n",
    "    print(n1)\n",
    "    n3=n1+n2\n",
    "    n1=n2\n",
    "    n2=n3\n",
    "    i=i+1\n",
    "    "
   ]
  },
  {
   "cell_type": "code",
   "execution_count": 19,
   "id": "7db43510",
   "metadata": {},
   "outputs": [
    {
     "name": "stdout",
     "output_type": "stream",
     "text": [
      "7\n",
      "7 is prime\n"
     ]
    }
   ],
   "source": [
    "#check whether given number is prime or not.\n",
    "n=int(input())\n",
    "i=2\n",
    "count=1\n",
    "while i<n:\n",
    "    \n",
    "    if n%i==0:\n",
    "        count=count+1\n",
    "    i=i+1\n",
    "if count==2:\n",
    "    \n",
    "    print(n,\"is not prime\")\n",
    "        \n",
    "else:\n",
    "    print(n,\"is prime\")"
   ]
  },
  {
   "cell_type": "code",
   "execution_count": 20,
   "id": "1385ba19",
   "metadata": {},
   "outputs": [
    {
     "name": "stdout",
     "output_type": "stream",
     "text": [
      "5\n",
      "5\n",
      "20\n",
      "60\n",
      "120\n",
      "120\n"
     ]
    }
   ],
   "source": [
    "#calculate factorial of given number\n",
    "n=int(input())\n",
    "fact=1\n",
    "while n>0:\n",
    "    fact=fact*n\n",
    "    print(fact)\n",
    "    n=n-1\n",
    "    "
   ]
  },
  {
   "cell_type": "code",
   "execution_count": 21,
   "id": "724ffc5a",
   "metadata": {},
   "outputs": [
    {
     "name": "stdout",
     "output_type": "stream",
     "text": [
      "5\n",
      "120\n"
     ]
    }
   ],
   "source": [
    "#calculate factorial of given number\n",
    "n=int(input())\n",
    "fact=1\n",
    "while n>0:\n",
    "    fact=fact*n\n",
    "    n=n-1\n",
    "print(fact)"
   ]
  },
  {
   "cell_type": "markdown",
   "id": "6efd3b42",
   "metadata": {},
   "source": [
    "### strings"
   ]
  },
  {
   "cell_type": "code",
   "execution_count": 1,
   "id": "a77793c1",
   "metadata": {},
   "outputs": [
    {
     "name": "stdout",
     "output_type": "stream",
     "text": [
      "v: 7\n",
      "c: 12\n",
      "d: 5\n",
      "sc: 7\n"
     ]
    }
   ],
   "source": [
    "#calculate vowels,consonenets,special characters and digits in a given string\n",
    "str=\"dasagyejuiDEINHJKPC#$%&*@(35467\"\n",
    "v,c,d,sc=0,0,0,0\n",
    "for i in str:\n",
    "    if (i>=\"a\" and i<=\"z\") or (i>=\"A\" and i<=\"Z\"):\n",
    "        if i in \"aeiouAEIOU\":\n",
    "            v=v+1\n",
    "        else:\n",
    "            c=c+1\n",
    "    elif i<=\"9\" and i>=\"0\":\n",
    "        d=d+1\n",
    "    else:\n",
    "        sc=sc+1\n",
    "print(\"v:\",v)\n",
    "print(\"c:\",c)\n",
    "print(\"d:\",d)\n",
    "print(\"sc:\",sc)\n",
    "        \n",
    "    "
   ]
  },
  {
   "cell_type": "code",
   "execution_count": 2,
   "id": "682ebab8",
   "metadata": {},
   "outputs": [
    {
     "name": "stdout",
     "output_type": "stream",
     "text": [
      "my\n",
      "name\n",
      "is\n",
      "harman\n",
      "good\n"
     ]
    }
   ],
   "source": [
    "#print even length words of a string\n",
    "str=\"my name is harman you are good one\"\n",
    "c=str.split()\n",
    "for i in c:\n",
    "    if len(i)%2==0:\n",
    "        print(i)"
   ]
  },
  {
   "cell_type": "code",
   "execution_count": 3,
   "id": "933670c8",
   "metadata": {},
   "outputs": [
    {
     "data": {
      "text/plain": [
       "'unty'"
      ]
     },
     "execution_count": 3,
     "metadata": {},
     "output_type": "execute_result"
    }
   ],
   "source": [
    "#string made uo of first 2 and last 2 characters of given string\n",
    "str=\"university\"\n",
    "nstr=str[0:2]+str[-2:len(str)]\n",
    "nstr"
   ]
  },
  {
   "cell_type": "code",
   "execution_count": 4,
   "id": "764dd905",
   "metadata": {},
   "outputs": [
    {
     "data": {
      "text/plain": [
       "'resta$t'"
      ]
     },
     "execution_count": 4,
     "metadata": {},
     "output_type": "execute_result"
    }
   ],
   "source": [
    "#string from given string where all occurences of its first character have been changed to $,\n",
    "#except first one.\n",
    "str=\"restart\"\n",
    "c=str[0]\n",
    "nstr=c+str[1:len(str)].replace(c,\"$\")\n",
    "nstr"
   ]
  },
  {
   "cell_type": "code",
   "execution_count": 5,
   "id": "c176ff0d",
   "metadata": {},
   "outputs": [
    {
     "data": {
      "text/plain": [
       "'yniversitu'"
      ]
     },
     "execution_count": 5,
     "metadata": {},
     "output_type": "execute_result"
    }
   ],
   "source": [
    "#string whose first and last characters have been exchanged\n",
    "str=\"university\"\n",
    "f=str[0]\n",
    "l=str[-1]\n",
    "nstr=l+str[1:len(str)-1]+f\n",
    "nstr"
   ]
  },
  {
   "cell_type": "code",
   "execution_count": 6,
   "id": "4ccd28ad",
   "metadata": {},
   "outputs": [
    {
     "data": {
      "text/plain": [
       "'uiest'"
      ]
     },
     "execution_count": 6,
     "metadata": {},
     "output_type": "execute_result"
    }
   ],
   "source": [
    "#remove characters which have odd index values of string\n",
    "str=\"university\"\n",
    "nstr=str[0:len(str):2]\n",
    "nstr"
   ]
  },
  {
   "cell_type": "code",
   "execution_count": 7,
   "id": "a372d7f8",
   "metadata": {},
   "outputs": [
    {
     "ename": "TypeError",
     "evalue": "string indices must be integers",
     "output_type": "error",
     "traceback": [
      "\u001b[1;31m---------------------------------------------------------------------------\u001b[0m",
      "\u001b[1;31mTypeError\u001b[0m                                 Traceback (most recent call last)",
      "\u001b[1;32m<ipython-input-7-62908c6261c5>\u001b[0m in \u001b[0;36m<module>\u001b[1;34m\u001b[0m\n\u001b[0;32m      3\u001b[0m \u001b[0mc\u001b[0m\u001b[1;33m=\u001b[0m\u001b[0mstng\u001b[0m\u001b[1;33m[\u001b[0m\u001b[1;36m0\u001b[0m\u001b[1;33m]\u001b[0m\u001b[1;33m\u001b[0m\u001b[1;33m\u001b[0m\u001b[0m\n\u001b[0;32m      4\u001b[0m \u001b[1;32mfor\u001b[0m \u001b[0mi\u001b[0m \u001b[1;32min\u001b[0m \u001b[0mstng\u001b[0m\u001b[1;33m:\u001b[0m\u001b[1;33m\u001b[0m\u001b[1;33m\u001b[0m\u001b[0m\n\u001b[1;32m----> 5\u001b[1;33m     \u001b[1;32mif\u001b[0m \u001b[0mstng\u001b[0m\u001b[1;33m[\u001b[0m\u001b[0mi\u001b[0m\u001b[1;33m]\u001b[0m\u001b[1;33m==\u001b[0m\u001b[1;34m\" \"\u001b[0m\u001b[1;33m:\u001b[0m    \u001b[1;31m#string indices must be integer\u001b[0m\u001b[1;33m\u001b[0m\u001b[1;33m\u001b[0m\u001b[0m\n\u001b[0m\u001b[0;32m      6\u001b[0m         \u001b[0mc\u001b[0m\u001b[1;33m=\u001b[0m\u001b[0mc\u001b[0m\u001b[1;33m+\u001b[0m\u001b[0mstng\u001b[0m\u001b[1;33m[\u001b[0m\u001b[0mi\u001b[0m\u001b[1;33m+\u001b[0m\u001b[1;36m1\u001b[0m\u001b[1;33m]\u001b[0m\u001b[1;33m\u001b[0m\u001b[1;33m\u001b[0m\u001b[0m\n\u001b[0;32m      7\u001b[0m \u001b[0mc\u001b[0m\u001b[1;33m=\u001b[0m\u001b[0mc\u001b[0m\u001b[1;33m.\u001b[0m\u001b[0mupper\u001b[0m\u001b[1;33m(\u001b[0m\u001b[1;33m)\u001b[0m\u001b[1;33m\u001b[0m\u001b[1;33m\u001b[0m\u001b[0m\n",
      "\u001b[1;31mTypeError\u001b[0m: string indices must be integers"
     ]
    }
   ],
   "source": [
    "#abbreviation of a string\n",
    "stng=\"all india radio\"\n",
    "c=stng[0]\n",
    "for i in stng:\n",
    "    if stng[i]==\" \":    #string indices must be integer\n",
    "        c=c+stng[i+1]\n",
    "c=c.upper()\n",
    "print(c)"
   ]
  },
  {
   "cell_type": "code",
   "execution_count": 8,
   "id": "a3169f6a",
   "metadata": {},
   "outputs": [
    {
     "name": "stdout",
     "output_type": "stream",
     "text": [
      "AIR\n"
     ]
    }
   ],
   "source": [
    "#abbreviation of a string\n",
    "stng=\"all india radio\"\n",
    "c=stng[0]\n",
    "for i in range(1,len(stng)):\n",
    "    if stng[i]==\" \":   #i of first space would be 3 ,but stng[i]would be\" \".\n",
    "        c=c+stng[i+1]\n",
    "c=c.upper()\n",
    "print(c)"
   ]
  },
  {
   "cell_type": "code",
   "execution_count": 9,
   "id": "654484a7",
   "metadata": {},
   "outputs": [
    {
     "name": "stdout",
     "output_type": "stream",
     "text": [
      "M.K.C.Gandhi\n"
     ]
    }
   ],
   "source": [
    "#initials of name with last name full\n",
    "stng=\"mohandas karam chand gandhi\"\n",
    "c=stng[0]\n",
    "for i in range(1,len(stng)):\n",
    "    if stng[i]==\" \":\n",
    "        c=c+\".\"+stng[i+1]\n",
    "c=c.upper()\n",
    "print(c+stng[-5:len(stng)] )"
   ]
  },
  {
   "cell_type": "code",
   "execution_count": 10,
   "id": "96398a64",
   "metadata": {},
   "outputs": [
    {
     "name": "stdout",
     "output_type": "stream",
     "text": [
      "mohandas karam chand gandhi\n",
      "C.Gandhi\n"
     ]
    }
   ],
   "source": [
    "#initials of name with last name full\n",
    "stng=input()\n",
    "c=stng.split()\n",
    "for i in range(1,len(c)-1):\n",
    "    l=c[i]\n",
    "    nstng=l[0].upper()+\".\"\n",
    "nstng=nstng+c[-1].title()\n",
    "print(nstng)"
   ]
  },
  {
   "cell_type": "code",
   "execution_count": 11,
   "id": "5352c7e5",
   "metadata": {},
   "outputs": [
    {
     "name": "stdout",
     "output_type": "stream",
     "text": [
      "mohandas karam chand gandhi\n",
      "M.K.C.Gandhi\n"
     ]
    }
   ],
   "source": [
    "#initials of name with last name full\n",
    "stng=input()\n",
    "c=stng.split()\n",
    "nstng=\"\"\n",
    "for i in range(0,len(c)-1):\n",
    "    l=c[i]           #this will pick each word of string\n",
    "    nstng=nstng+l[0].upper()+\".\"        #l[0]will pic first letter of each word of string\n",
    "nstng=nstng+c[-1].title()\n",
    "print(nstng)"
   ]
  },
  {
   "cell_type": "code",
   "execution_count": 12,
   "id": "7ab4bd53",
   "metadata": {},
   "outputs": [
    {
     "ename": "SyntaxError",
     "evalue": "cannot assign to function call (<ipython-input-12-427c0465e561>, line 7)",
     "output_type": "error",
     "traceback": [
      "\u001b[1;36m  File \u001b[1;32m\"<ipython-input-12-427c0465e561>\"\u001b[1;36m, line \u001b[1;32m7\u001b[0m\n\u001b[1;33m    len(i)=l\u001b[0m\n\u001b[1;37m    ^\u001b[0m\n\u001b[1;31mSyntaxError\u001b[0m\u001b[1;31m:\u001b[0m cannot assign to function call\n"
     ]
    }
   ],
   "source": [
    "#print longest word of string\n",
    "stng=\"my name is harman\"\n",
    "c=stng.split()\n",
    "l=0\n",
    "for i in c:\n",
    "    if (len(i)>l):\n",
    "        len(i)=l\n",
    "        lw=i\n",
    "print(lw)"
   ]
  },
  {
   "cell_type": "code",
   "execution_count": 13,
   "id": "a4221534",
   "metadata": {},
   "outputs": [
    {
     "name": "stdout",
     "output_type": "stream",
     "text": [
      "harman\n"
     ]
    }
   ],
   "source": [
    "#print longest word of string\n",
    "stng=\"my name is harman\"\n",
    "c=stng.split()\n",
    "l=0\n",
    "for i in c:\n",
    "    if len(i)>l:\n",
    "        l=len(i)\n",
    "        lw=i\n",
    "print(lw)\n"
   ]
  },
  {
   "cell_type": "code",
   "execution_count": 14,
   "id": "f31f5c84",
   "metadata": {},
   "outputs": [
    {
     "name": "stdout",
     "output_type": "stream",
     "text": [
      "[2, 1, 1, 1, 1, 1]\n",
      "['the', 'sun', 'is', 'shining', 'in', 'sky']\n"
     ]
    }
   ],
   "source": [
    "str=\"the sun is shining in the sky\"\n",
    "c_words=[]\n",
    "c=[]\n",
    "words=str.split()\n",
    "for w in words:\n",
    "    if w not in c_words:\n",
    "        c_words.append(w)\n",
    "        c.append(words.count(w))\n",
    "print(c)\n",
    "print(c_words)"
   ]
  },
  {
   "cell_type": "code",
   "execution_count": 15,
   "id": "b6aea615",
   "metadata": {},
   "outputs": [
    {
     "name": "stdout",
     "output_type": "stream",
     "text": [
      "the 2\n",
      "sun 1\n",
      "is 1\n",
      "shining 1\n",
      "in 1\n",
      "sky 1\n"
     ]
    }
   ],
   "source": [
    "str=\"the sun is shining in the sky\"\n",
    "c_words=[]\n",
    "c=[]\n",
    "words=str.split()\n",
    "for w in words:\n",
    "    if w not in c_words:\n",
    "        c_words.append(w)\n",
    "        c.append(words.count(w))\n",
    "for i in range(0,len(c_words)):\n",
    "    print(c_words[i],c[i])"
   ]
  },
  {
   "cell_type": "code",
   "execution_count": 16,
   "id": "c0e9fc7c",
   "metadata": {},
   "outputs": [
    {
     "name": "stdout",
     "output_type": "stream",
     "text": [
      "it is palindrome\n"
     ]
    }
   ],
   "source": [
    "#check palindrome\n",
    "str=\"malayalam\"\n",
    "nstr=str[::-1]\n",
    "if str==nstr:\n",
    "    print(\"it is palindrome\")\n",
    "else:\n",
    "    print(\"it is not palindrome\")"
   ]
  },
  {
   "cell_type": "code",
   "execution_count": 17,
   "id": "dc2ddeb8",
   "metadata": {},
   "outputs": [
    {
     "name": "stdout",
     "output_type": "stream",
     "text": [
      "true\n"
     ]
    }
   ],
   "source": [
    "#check permutation\n",
    "str=\"lemon\"\n",
    "nstr=\"melon\"\n",
    "a=sorted(str)\n",
    "b=sorted(nstr)\n",
    "if a==b:\n",
    "    print(\"true\")\n",
    "else:\n",
    "    print(\"false\")"
   ]
  },
  {
   "cell_type": "code",
   "execution_count": null,
   "id": "f074f974",
   "metadata": {},
   "outputs": [],
   "source": []
  }
 ],
 "metadata": {
  "kernelspec": {
   "display_name": "Python 3",
   "language": "python",
   "name": "python3"
  },
  "language_info": {
   "codemirror_mode": {
    "name": "ipython",
    "version": 3
   },
   "file_extension": ".py",
   "mimetype": "text/x-python",
   "name": "python",
   "nbconvert_exporter": "python",
   "pygments_lexer": "ipython3",
   "version": "3.8.8"
  }
 },
 "nbformat": 4,
 "nbformat_minor": 5
}
