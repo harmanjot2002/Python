{
 "cells": [
  {
   "cell_type": "code",
   "execution_count": 1,
   "id": "edcbd549",
   "metadata": {},
   "outputs": [
    {
     "name": "stdout",
     "output_type": "stream",
     "text": [
      "chitkara\n",
      "university\n",
      "is in \n",
      "rajpura\n"
     ]
    }
   ],
   "source": [
    "a=\"\"\"chitkara\n",
    "university\n",
    "is in \n",
    "rajpura\"\"\"\n",
    "print(a)"
   ]
  },
  {
   "cell_type": "code",
   "execution_count": 2,
   "id": "1d310b03",
   "metadata": {},
   "outputs": [
    {
     "data": {
      "text/plain": [
       "'i'"
      ]
     },
     "execution_count": 2,
     "metadata": {},
     "output_type": "execute_result"
    }
   ],
   "source": [
    "var=\"chitkara\"\n",
    "var[2]"
   ]
  },
  {
   "cell_type": "code",
   "execution_count": 3,
   "id": "73b8c7c3",
   "metadata": {},
   "outputs": [
    {
     "name": "stdout",
     "output_type": "stream",
     "text": [
      "t\n"
     ]
    }
   ],
   "source": [
    "print(var[3])"
   ]
  },
  {
   "cell_type": "code",
   "execution_count": 4,
   "id": "dc7cd3fe",
   "metadata": {},
   "outputs": [
    {
     "data": {
      "text/plain": [
       "'a'"
      ]
     },
     "execution_count": 4,
     "metadata": {},
     "output_type": "execute_result"
    }
   ],
   "source": [
    "var[-3]"
   ]
  },
  {
   "cell_type": "code",
   "execution_count": 5,
   "id": "bd444999",
   "metadata": {},
   "outputs": [
    {
     "data": {
      "text/plain": [
       "'hitk'"
      ]
     },
     "execution_count": 5,
     "metadata": {},
     "output_type": "execute_result"
    }
   ],
   "source": [
    "var[1:5]"
   ]
  },
  {
   "cell_type": "code",
   "execution_count": 6,
   "id": "62872c25",
   "metadata": {},
   "outputs": [
    {
     "data": {
      "text/plain": [
       "'chitkar'"
      ]
     },
     "execution_count": 6,
     "metadata": {},
     "output_type": "execute_result"
    }
   ],
   "source": [
    "var[:-1]"
   ]
  },
  {
   "cell_type": "code",
   "execution_count": 7,
   "id": "5610202f",
   "metadata": {},
   "outputs": [
    {
     "data": {
      "text/plain": [
       "'araktihc'"
      ]
     },
     "execution_count": 7,
     "metadata": {},
     "output_type": "execute_result"
    }
   ],
   "source": [
    "var[::-1]"
   ]
  },
  {
   "cell_type": "code",
   "execution_count": 8,
   "id": "8d1854b0",
   "metadata": {},
   "outputs": [
    {
     "data": {
      "text/plain": [
       "'ara'"
      ]
     },
     "execution_count": 8,
     "metadata": {},
     "output_type": "execute_result"
    }
   ],
   "source": [
    "var[5:]"
   ]
  },
  {
   "cell_type": "code",
   "execution_count": 9,
   "id": "ae1bb0d8",
   "metadata": {},
   "outputs": [
    {
     "data": {
      "text/plain": [
       "'chitkara'"
      ]
     },
     "execution_count": 9,
     "metadata": {},
     "output_type": "execute_result"
    }
   ],
   "source": [
    "var[:]"
   ]
  },
  {
   "cell_type": "code",
   "execution_count": 10,
   "id": "62c1efdc",
   "metadata": {},
   "outputs": [
    {
     "name": "stdout",
     "output_type": "stream",
     "text": [
      "def\n",
      "rft\n",
      "fty\n"
     ]
    }
   ],
   "source": [
    "x=\"def\\nrft\\nfty\"\n",
    "print(x)"
   ]
  },
  {
   "cell_type": "code",
   "execution_count": 11,
   "id": "1cb86f58",
   "metadata": {},
   "outputs": [
    {
     "name": "stdout",
     "output_type": "stream",
     "text": [
      "def\\nrft\\nfty\n"
     ]
    }
   ],
   "source": [
    "x=\"def\\\\nrft\\\\nfty\"\n",
    "print(x)"
   ]
  },
  {
   "cell_type": "code",
   "execution_count": 12,
   "id": "a32ba2cb",
   "metadata": {},
   "outputs": [
    {
     "ename": "SyntaxError",
     "evalue": "invalid syntax (<ipython-input-12-90b913d7b1be>, line 1)",
     "output_type": "error",
     "traceback": [
      "\u001b[1;36m  File \u001b[1;32m\"<ipython-input-12-90b913d7b1be>\"\u001b[1;36m, line \u001b[1;32m1\u001b[0m\n\u001b[1;33m    print(\"I live in \"ramnagar\"\")\u001b[0m\n\u001b[1;37m                      ^\u001b[0m\n\u001b[1;31mSyntaxError\u001b[0m\u001b[1;31m:\u001b[0m invalid syntax\n"
     ]
    }
   ],
   "source": [
    "print(\"I live in \"ramnagar\"\")"
   ]
  },
  {
   "cell_type": "code",
   "execution_count": 13,
   "id": "d39eae8e",
   "metadata": {},
   "outputs": [
    {
     "name": "stdout",
     "output_type": "stream",
     "text": [
      "I live in \"ramnagar\"\n"
     ]
    }
   ],
   "source": [
    "print(\"I live in \\\"ramnagar\\\"\")"
   ]
  },
  {
   "cell_type": "code",
   "execution_count": 14,
   "id": "3dd18781",
   "metadata": {},
   "outputs": [
    {
     "name": "stdout",
     "output_type": "stream",
     "text": [
      "def\u0007rft\f",
      "ty\n"
     ]
    }
   ],
   "source": [
    "x=\"def\\arft\\fty\"\n",
    "print(x)"
   ]
  },
  {
   "cell_type": "code",
   "execution_count": 15,
   "id": "c9a4b43a",
   "metadata": {},
   "outputs": [
    {
     "name": "stdout",
     "output_type": "stream",
     "text": [
      "def\trft\bfty\n"
     ]
    }
   ],
   "source": [
    "x=\"def\\trft\\bfty\"\n",
    "print(x)"
   ]
  },
  {
   "cell_type": "code",
   "execution_count": 16,
   "id": "00e5144e",
   "metadata": {},
   "outputs": [
    {
     "name": "stdout",
     "output_type": "stream",
     "text": [
      "['welcome', 'to', 'chitkara', 'university']\n"
     ]
    }
   ],
   "source": [
    "txt=\"welcome to chitkara university\"\n",
    "print(txt.split())\n"
   ]
  },
  {
   "cell_type": "code",
   "execution_count": 17,
   "id": "97afd3ab",
   "metadata": {},
   "outputs": [
    {
     "name": "stdout",
     "output_type": "stream",
     "text": [
      "['welcome to chitk', 'r', ' university']\n"
     ]
    }
   ],
   "source": [
    "txt=\"welcome to chitkara university\"\n",
    "print(txt.split(\"a\"))\n"
   ]
  },
  {
   "cell_type": "code",
   "execution_count": 18,
   "id": "99900ade",
   "metadata": {},
   "outputs": [
    {
     "name": "stdout",
     "output_type": "stream",
     "text": [
      "['welcome', ' to', ' chitkara', ' university']\n"
     ]
    }
   ],
   "source": [
    "txt=\"welcome, to, chitkara, university\"\n",
    "print(txt.split(\",\"))\n"
   ]
  },
  {
   "cell_type": "code",
   "execution_count": 19,
   "id": "fa345fa8",
   "metadata": {},
   "outputs": [
    {
     "name": "stdout",
     "output_type": "stream",
     "text": [
      "['welcome', 'to', 'chitkara', 'university']\n"
     ]
    }
   ],
   "source": [
    "txt=\"welcome#to#chitkara#university\"\n",
    "print(txt.split(\"#\"))\n"
   ]
  },
  {
   "cell_type": "code",
   "execution_count": 20,
   "id": "d5805b26",
   "metadata": {},
   "outputs": [],
   "source": [
    "x=\"Harmanjot kaur\"\n"
   ]
  },
  {
   "cell_type": "code",
   "execution_count": 21,
   "id": "ecfb28fd",
   "metadata": {},
   "outputs": [
    {
     "name": "stdout",
     "output_type": "stream",
     "text": [
      "Harmanjot kaur\n"
     ]
    }
   ],
   "source": [
    "print(x.capitalize())    #.capitalizes first letter of string,not word"
   ]
  },
  {
   "cell_type": "code",
   "execution_count": 22,
   "id": "ec42e856",
   "metadata": {},
   "outputs": [
    {
     "name": "stdout",
     "output_type": "stream",
     "text": [
      "***Harmanjot kaur***\n"
     ]
    }
   ],
   "source": [
    "print(x.center(20,\"*\"))"
   ]
  },
  {
   "cell_type": "code",
   "execution_count": 23,
   "id": "269588d3",
   "metadata": {},
   "outputs": [],
   "source": [
    "x=\"chitkara\""
   ]
  },
  {
   "cell_type": "code",
   "execution_count": 24,
   "id": "ab75c84c",
   "metadata": {},
   "outputs": [
    {
     "name": "stdout",
     "output_type": "stream",
     "text": [
      "Chitkara\n"
     ]
    }
   ],
   "source": [
    "print(x.capitalize())"
   ]
  },
  {
   "cell_type": "code",
   "execution_count": 25,
   "id": "ec446dc5",
   "metadata": {},
   "outputs": [
    {
     "name": "stdout",
     "output_type": "stream",
     "text": [
      "****chitkara****\n"
     ]
    }
   ],
   "source": [
    "print(x.center(16,\"*\"))"
   ]
  },
  {
   "cell_type": "code",
   "execution_count": 26,
   "id": "723dbdf4",
   "metadata": {},
   "outputs": [
    {
     "name": "stdout",
     "output_type": "stream",
     "text": [
      "2\n"
     ]
    }
   ],
   "source": [
    "print(x.count(\"a\"))"
   ]
  },
  {
   "cell_type": "code",
   "execution_count": 27,
   "id": "b55e1bb9",
   "metadata": {},
   "outputs": [
    {
     "name": "stdout",
     "output_type": "stream",
     "text": [
      "1\n"
     ]
    }
   ],
   "source": [
    "print(x.count(\"a\",-2))"
   ]
  },
  {
   "cell_type": "code",
   "execution_count": 28,
   "id": "e962116a",
   "metadata": {},
   "outputs": [
    {
     "name": "stdout",
     "output_type": "stream",
     "text": [
      "True\n"
     ]
    }
   ],
   "source": [
    "x=\"harman jot kaur\"\n",
    "print(x.endswith(\"kaur\"))"
   ]
  },
  {
   "cell_type": "code",
   "execution_count": 29,
   "id": "0cd2121e",
   "metadata": {},
   "outputs": [
    {
     "name": "stdout",
     "output_type": "stream",
     "text": [
      "True\n"
     ]
    }
   ],
   "source": [
    "print(x.endswith(\"ur\"))"
   ]
  },
  {
   "cell_type": "code",
   "execution_count": 30,
   "id": "0a273b18",
   "metadata": {},
   "outputs": [
    {
     "name": "stdout",
     "output_type": "stream",
     "text": [
      "False\n"
     ]
    }
   ],
   "source": [
    "print(x.endswith(\"etur\"))"
   ]
  },
  {
   "cell_type": "code",
   "execution_count": 31,
   "id": "94905769",
   "metadata": {},
   "outputs": [
    {
     "name": "stdout",
     "output_type": "stream",
     "text": [
      "11\n"
     ]
    }
   ],
   "source": [
    "y=\"she dances very well\"   #tells index no. of first letter of substring in string\n",
    "print(y.find(\"very\"))      #also take spaces as one index\n",
    "                           #if substring is not present in string,returns -1"
   ]
  },
  {
   "cell_type": "code",
   "execution_count": 32,
   "id": "3ba79b74",
   "metadata": {},
   "outputs": [
    {
     "name": "stdout",
     "output_type": "stream",
     "text": [
      "-1\n"
     ]
    }
   ],
   "source": [
    "y=\"she dances very well\" \n",
    "print(y.find(\"sings\"))"
   ]
  },
  {
   "cell_type": "code",
   "execution_count": 33,
   "id": "78fef643",
   "metadata": {},
   "outputs": [
    {
     "name": "stdout",
     "output_type": "stream",
     "text": [
      "11\n"
     ]
    }
   ],
   "source": [
    "y=\"she dances very well\" \n",
    "print(y.index(\"very\"))"
   ]
  },
  {
   "cell_type": "code",
   "execution_count": 34,
   "id": "a5e1f7f3",
   "metadata": {},
   "outputs": [
    {
     "ename": "ValueError",
     "evalue": "substring not found",
     "output_type": "error",
     "traceback": [
      "\u001b[1;31m---------------------------------------------------------------------------\u001b[0m",
      "\u001b[1;31mValueError\u001b[0m                                Traceback (most recent call last)",
      "\u001b[1;32m<ipython-input-34-4f8030ddb27d>\u001b[0m in \u001b[0;36m<module>\u001b[1;34m\u001b[0m\n\u001b[0;32m      1\u001b[0m \u001b[0my\u001b[0m\u001b[1;33m=\u001b[0m\u001b[1;34m\"she dances very well\"\u001b[0m\u001b[1;33m\u001b[0m\u001b[1;33m\u001b[0m\u001b[0m\n\u001b[1;32m----> 2\u001b[1;33m \u001b[0mprint\u001b[0m\u001b[1;33m(\u001b[0m\u001b[0my\u001b[0m\u001b[1;33m.\u001b[0m\u001b[0mindex\u001b[0m\u001b[1;33m(\u001b[0m\u001b[1;34m\"sings\"\u001b[0m\u001b[1;33m)\u001b[0m\u001b[1;33m)\u001b[0m\u001b[1;33m\u001b[0m\u001b[1;33m\u001b[0m\u001b[0m\n\u001b[0m",
      "\u001b[1;31mValueError\u001b[0m: substring not found"
     ]
    }
   ],
   "source": [
    "y=\"she dances very well\" \n",
    "print(y.index(\"sings\"))"
   ]
  },
  {
   "cell_type": "code",
   "execution_count": 35,
   "id": "200f4e19",
   "metadata": {},
   "outputs": [],
   "source": [
    "x=\"adr456$%^\""
   ]
  },
  {
   "cell_type": "code",
   "execution_count": 36,
   "id": "e9ec3517",
   "metadata": {},
   "outputs": [
    {
     "name": "stdout",
     "output_type": "stream",
     "text": [
      "False\n"
     ]
    }
   ],
   "source": [
    "print(x.isalnum())"
   ]
  },
  {
   "cell_type": "code",
   "execution_count": 37,
   "id": "cbd32696",
   "metadata": {},
   "outputs": [
    {
     "name": "stdout",
     "output_type": "stream",
     "text": [
      "False\n"
     ]
    }
   ],
   "source": [
    "print(x.isalpha())"
   ]
  },
  {
   "cell_type": "code",
   "execution_count": 38,
   "id": "e63aae7b",
   "metadata": {},
   "outputs": [
    {
     "name": "stdout",
     "output_type": "stream",
     "text": [
      "False\n"
     ]
    }
   ],
   "source": [
    "print(x.isnumeric())"
   ]
  },
  {
   "cell_type": "code",
   "execution_count": 39,
   "id": "9c9a8b31",
   "metadata": {},
   "outputs": [
    {
     "name": "stdout",
     "output_type": "stream",
     "text": [
      "False\n"
     ]
    }
   ],
   "source": [
    "print(x.isdigit())"
   ]
  },
  {
   "cell_type": "code",
   "execution_count": 40,
   "id": "dfb100d1",
   "metadata": {},
   "outputs": [
    {
     "name": "stdout",
     "output_type": "stream",
     "text": [
      "True\n"
     ]
    }
   ],
   "source": [
    "print(x.islower())"
   ]
  },
  {
   "cell_type": "code",
   "execution_count": 41,
   "id": "903949fc",
   "metadata": {},
   "outputs": [],
   "source": [
    "x=\"adr456\""
   ]
  },
  {
   "cell_type": "code",
   "execution_count": 42,
   "id": "189f110a",
   "metadata": {},
   "outputs": [
    {
     "name": "stdout",
     "output_type": "stream",
     "text": [
      "True\n"
     ]
    }
   ],
   "source": [
    "print(x.isalnum())"
   ]
  },
  {
   "cell_type": "code",
   "execution_count": 43,
   "id": "6d9dcc58",
   "metadata": {},
   "outputs": [
    {
     "name": "stdout",
     "output_type": "stream",
     "text": [
      "False\n",
      "False\n"
     ]
    }
   ],
   "source": [
    "x=\"345 678 345\"\n",
    "print(x.isnumeric())\n",
    "print(x.isdigit())"
   ]
  },
  {
   "cell_type": "code",
   "execution_count": 44,
   "id": "cd59f5e4",
   "metadata": {},
   "outputs": [
    {
     "name": "stdout",
     "output_type": "stream",
     "text": [
      "True\n",
      "True\n"
     ]
    }
   ],
   "source": [
    "x=\"567\"\n",
    "print(x.isdigit())\n",
    "print(x.isnumeric())"
   ]
  },
  {
   "cell_type": "code",
   "execution_count": 45,
   "id": "b9f68246",
   "metadata": {},
   "outputs": [
    {
     "name": "stdout",
     "output_type": "stream",
     "text": [
      "False\n"
     ]
    }
   ],
   "source": [
    "x=\"aft yu\"\n",
    "print(x.isalpha())"
   ]
  },
  {
   "cell_type": "code",
   "execution_count": 46,
   "id": "fa8b93dd",
   "metadata": {},
   "outputs": [
    {
     "name": "stdout",
     "output_type": "stream",
     "text": [
      "False\n"
     ]
    }
   ],
   "source": [
    "x=\"aft$yu\"\n",
    "print(x.isalpha())"
   ]
  },
  {
   "cell_type": "code",
   "execution_count": 47,
   "id": "68cca580",
   "metadata": {},
   "outputs": [
    {
     "name": "stdout",
     "output_type": "stream",
     "text": [
      "False\n"
     ]
    }
   ],
   "source": [
    "x=\"aft4yu\"\n",
    "print(x.isalpha())"
   ]
  },
  {
   "cell_type": "code",
   "execution_count": 48,
   "id": "bafa0a31",
   "metadata": {},
   "outputs": [
    {
     "name": "stdout",
     "output_type": "stream",
     "text": [
      "False\n",
      "False\n"
     ]
    }
   ],
   "source": [
    "x=\"adtyRT\"\n",
    "print(x.islower())\n",
    "print(x.isupper())"
   ]
  },
  {
   "cell_type": "code",
   "execution_count": 49,
   "id": "bb6bef85",
   "metadata": {},
   "outputs": [
    {
     "name": "stdout",
     "output_type": "stream",
     "text": [
      "True\n"
     ]
    }
   ],
   "source": [
    "x=\"adt\"\n",
    "print(x.islower())"
   ]
  },
  {
   "cell_type": "code",
   "execution_count": 50,
   "id": "8ba39561",
   "metadata": {},
   "outputs": [
    {
     "name": "stdout",
     "output_type": "stream",
     "text": [
      "True\n"
     ]
    }
   ],
   "source": [
    "x=\"a dt\"\n",
    "print(x.islower())"
   ]
  },
  {
   "cell_type": "code",
   "execution_count": 51,
   "id": "71dd3a0e",
   "metadata": {},
   "outputs": [
    {
     "name": "stdout",
     "output_type": "stream",
     "text": [
      "False\n",
      "False\n",
      "False\n"
     ]
    }
   ],
   "source": [
    "x=\"Table chair\"\n",
    "print(x.islower())\n",
    "print(x.isupper())\n",
    "print(x.istitle())"
   ]
  },
  {
   "cell_type": "code",
   "execution_count": 52,
   "id": "3dafe637",
   "metadata": {},
   "outputs": [
    {
     "name": "stdout",
     "output_type": "stream",
     "text": [
      "False\n",
      "False\n",
      "True\n"
     ]
    }
   ],
   "source": [
    "x=\"Table \"\n",
    "print(x.islower())\n",
    "print(x.isupper())\n",
    "print(x.istitle())"
   ]
  },
  {
   "cell_type": "code",
   "execution_count": 53,
   "id": "aeeb6eaa",
   "metadata": {},
   "outputs": [
    {
     "name": "stdout",
     "output_type": "stream",
     "text": [
      "False\n",
      "False\n",
      "True\n"
     ]
    }
   ],
   "source": [
    "x=\"Table Chair\"\n",
    "print(x.islower())\n",
    "print(x.isupper())\n",
    "print(x.istitle())"
   ]
  },
  {
   "cell_type": "code",
   "execution_count": 54,
   "id": "7ae5afea",
   "metadata": {},
   "outputs": [
    {
     "data": {
      "text/plain": [
       "'ctabley'"
      ]
     },
     "execution_count": 54,
     "metadata": {},
     "output_type": "execute_result"
    }
   ],
   "source": [
    "x=\"table\"\n",
    "x.join(\"cy\")"
   ]
  },
  {
   "cell_type": "code",
   "execution_count": 55,
   "id": "50b333f2",
   "metadata": {},
   "outputs": [
    {
     "data": {
      "text/plain": [
       "'8'"
      ]
     },
     "execution_count": 55,
     "metadata": {},
     "output_type": "execute_result"
    }
   ],
   "source": [
    "max(\"12,56,78,34\")\n"
   ]
  },
  {
   "cell_type": "code",
   "execution_count": 56,
   "id": "79154ffa",
   "metadata": {},
   "outputs": [
    {
     "data": {
      "text/plain": [
       "'56'"
      ]
     },
     "execution_count": 56,
     "metadata": {},
     "output_type": "execute_result"
    }
   ],
   "source": [
    "max(\"12\",\"34\",\"56\")"
   ]
  },
  {
   "cell_type": "code",
   "execution_count": 57,
   "id": "4a8b95a8",
   "metadata": {},
   "outputs": [
    {
     "data": {
      "text/plain": [
       "90"
      ]
     },
     "execution_count": 57,
     "metadata": {},
     "output_type": "execute_result"
    }
   ],
   "source": [
    "max(12,67,90)"
   ]
  },
  {
   "cell_type": "code",
   "execution_count": 58,
   "id": "7eaea6b7",
   "metadata": {},
   "outputs": [],
   "source": [
    "list1=[\"12\",\"45\",\"67\",\"78\"]\n",
    "val=\"#\".join(list1)"
   ]
  },
  {
   "cell_type": "code",
   "execution_count": 59,
   "id": "68d06cd0",
   "metadata": {},
   "outputs": [
    {
     "name": "stdout",
     "output_type": "stream",
     "text": [
      "12#45#67#78\n"
     ]
    }
   ],
   "source": [
    "print(val)"
   ]
  },
  {
   "cell_type": "code",
   "execution_count": 60,
   "id": "f5adaf45",
   "metadata": {},
   "outputs": [
    {
     "name": "stdout",
     "output_type": "stream",
     "text": [
      "fty etuy\n"
     ]
    }
   ],
   "source": [
    "x=\"fty ETuy\"\n",
    "print(x.lower())"
   ]
  },
  {
   "cell_type": "code",
   "execution_count": 61,
   "id": "39e294d1",
   "metadata": {},
   "outputs": [
    {
     "name": "stdout",
     "output_type": "stream",
     "text": [
      "tyr#s#FT^#&*\n"
     ]
    }
   ],
   "source": [
    "x=\"tyrusuFT^u&*\"\n",
    "print(x.replace(\"u\",\"#\"))\n"
   ]
  },
  {
   "cell_type": "code",
   "execution_count": 62,
   "id": "e962909e",
   "metadata": {},
   "outputs": [
    {
     "name": "stdout",
     "output_type": "stream",
     "text": [
      "True\n",
      "False\n",
      "False\n",
      "False\n"
     ]
    }
   ],
   "source": [
    "x=\"ftyDTY345\"\n",
    "print(x.isalnum())\n",
    "print(x.isalpha())\n",
    "print(x.isnumeric())\n",
    "print(x.isdigit())"
   ]
  },
  {
   "cell_type": "code",
   "execution_count": 63,
   "id": "04c94291",
   "metadata": {},
   "outputs": [
    {
     "name": "stdout",
     "output_type": "stream",
     "text": [
      "True\n"
     ]
    }
   ],
   "source": [
    "x=\"ftyDTY\"\n",
    "print(x.isalpha())"
   ]
  },
  {
   "cell_type": "code",
   "execution_count": 64,
   "id": "04d76d15",
   "metadata": {},
   "outputs": [
    {
     "name": "stdout",
     "output_type": "stream",
     "text": [
      "False\n"
     ]
    }
   ],
   "source": [
    "x=\"ft yDTY\"\n",
    "print(x.isalpha())"
   ]
  },
  {
   "cell_type": "code",
   "execution_count": 65,
   "id": "8efac0c7",
   "metadata": {},
   "outputs": [
    {
     "name": "stdout",
     "output_type": "stream",
     "text": [
      "True\n"
     ]
    }
   ],
   "source": [
    "x=\"ftyji\"\n",
    "print(x.islower())"
   ]
  },
  {
   "cell_type": "code",
   "execution_count": 66,
   "id": "7994626d",
   "metadata": {},
   "outputs": [
    {
     "name": "stdout",
     "output_type": "stream",
     "text": [
      "True\n"
     ]
    }
   ],
   "source": [
    "x=\"fty ji\"\n",
    "print(x.islower())"
   ]
  },
  {
   "cell_type": "code",
   "execution_count": 67,
   "id": "44698654",
   "metadata": {},
   "outputs": [
    {
     "name": "stdout",
     "output_type": "stream",
     "text": [
      "FTYddt y\n"
     ]
    }
   ],
   "source": [
    "x=\"ftyDDT Y\"\n",
    "print(x.swapcase())"
   ]
  },
  {
   "cell_type": "code",
   "execution_count": 68,
   "id": "d5cb011b",
   "metadata": {},
   "outputs": [
    {
     "name": "stdout",
     "output_type": "stream",
     "text": [
      "True\n",
      "True\n",
      "True\n",
      "True\n"
     ]
    }
   ],
   "source": [
    "x=\"harmanjot kaur\"\n",
    "print(x.endswith(\"ur\"))\n",
    "print(x.startswith(\"har\"))\n",
    "print(x.startswith(\"ma\",3,len(x)))\n",
    "print(x.startswith(\"ma\",3,-1))"
   ]
  },
  {
   "cell_type": "code",
   "execution_count": 69,
   "id": "ee5e1cc7",
   "metadata": {},
   "outputs": [
    {
     "name": "stdout",
     "output_type": "stream",
     "text": [
      "000fty4560gyd&*^\n"
     ]
    }
   ],
   "source": [
    "x=\"fty4560gyd&*^\"\n",
    "print(x.zfill(16))"
   ]
  },
  {
   "cell_type": "code",
   "execution_count": 70,
   "id": "19c03711",
   "metadata": {},
   "outputs": [
    {
     "name": "stdout",
     "output_type": "stream",
     "text": [
      "00000fty\n"
     ]
    }
   ],
   "source": [
    "x=\"fty\"\n",
    "print(x.zfill(8))"
   ]
  },
  {
   "cell_type": "code",
   "execution_count": 71,
   "id": "b3e0c44a",
   "metadata": {},
   "outputs": [
    {
     "name": "stdout",
     "output_type": "stream",
     "text": [
      "False\n"
     ]
    }
   ],
   "source": [
    "x=\"6.4,4.2\"\n",
    "print(x.isdecimal())"
   ]
  },
  {
   "cell_type": "code",
   "execution_count": 72,
   "id": "3e5d4e21",
   "metadata": {},
   "outputs": [
    {
     "name": "stdout",
     "output_type": "stream",
     "text": [
      "False\n"
     ]
    }
   ],
   "source": [
    "x=\"6.4\"\n",
    "print(x.isdecimal())"
   ]
  },
  {
   "cell_type": "code",
   "execution_count": 73,
   "id": "94debe0b",
   "metadata": {},
   "outputs": [
    {
     "name": "stdout",
     "output_type": "stream",
     "text": [
      "there was a boy.hwas name was raj.\n",
      "there was a boy.his name was raj.\n",
      "there was a boy.hwas name is raj.\n"
     ]
    }
   ],
   "source": [
    "var=\"there is a boy.his name is raj.\"\n",
    "print(var.replace(\"is\",\"was\"))\n",
    "print(var.replace(\" is \",\" was \"))\n",
    "print(var.replace(\"is\",\"was\",2))"
   ]
  },
  {
   "cell_type": "code",
   "execution_count": 74,
   "id": "40a946b7",
   "metadata": {},
   "outputs": [
    {
     "data": {
      "text/plain": [
       "'apple        '"
      ]
     },
     "execution_count": 74,
     "metadata": {},
     "output_type": "execute_result"
    }
   ],
   "source": [
    "x=\"apple\"\n",
    "x.ljust(13)\n"
   ]
  },
  {
   "cell_type": "code",
   "execution_count": 75,
   "id": "efa725eb",
   "metadata": {},
   "outputs": [
    {
     "data": {
      "text/plain": [
       "'apple'"
      ]
     },
     "execution_count": 75,
     "metadata": {},
     "output_type": "execute_result"
    }
   ],
   "source": [
    "x=\"apple        \"\n",
    "x.rstrip()"
   ]
  },
  {
   "cell_type": "code",
   "execution_count": 76,
   "id": "dd6810e2",
   "metadata": {},
   "outputs": [
    {
     "data": {
      "text/plain": [
       "'        apple'"
      ]
     },
     "execution_count": 76,
     "metadata": {},
     "output_type": "execute_result"
    }
   ],
   "source": [
    "x=\"apple\"\n",
    "x.rjust(13)"
   ]
  },
  {
   "cell_type": "code",
   "execution_count": 77,
   "id": "6cb30d55",
   "metadata": {},
   "outputs": [
    {
     "data": {
      "text/plain": [
       "'********apple'"
      ]
     },
     "execution_count": 77,
     "metadata": {},
     "output_type": "execute_result"
    }
   ],
   "source": [
    "x=\"apple\"\n",
    "x.rjust(13,\"*\")"
   ]
  },
  {
   "cell_type": "code",
   "execution_count": 78,
   "id": "fe4197f2",
   "metadata": {},
   "outputs": [
    {
     "data": {
      "text/plain": [
       "'&&&&apple&&&&'"
      ]
     },
     "execution_count": 78,
     "metadata": {},
     "output_type": "execute_result"
    }
   ],
   "source": [
    "x=\"apple\"\n",
    "x.center(13,\"&\")"
   ]
  },
  {
   "cell_type": "code",
   "execution_count": 79,
   "id": "ce160319",
   "metadata": {},
   "outputs": [
    {
     "name": "stdout",
     "output_type": "stream",
     "text": [
      "parikh\n",
      "2368529024944\n"
     ]
    }
   ],
   "source": [
    "s=\"parikh\"\n",
    "print(s)\n",
    "print(id(s))"
   ]
  },
  {
   "cell_type": "code",
   "execution_count": 80,
   "id": "3190a90d",
   "metadata": {},
   "outputs": [
    {
     "name": "stdout",
     "output_type": "stream",
     "text": [
      "rohan\n",
      "2368529023344\n"
     ]
    }
   ],
   "source": [
    "r=\"rohan\"\n",
    "print(r)\n",
    "print(id(r))"
   ]
  },
  {
   "cell_type": "code",
   "execution_count": 81,
   "id": "73e1648a",
   "metadata": {},
   "outputs": [
    {
     "name": "stdout",
     "output_type": "stream",
     "text": [
      "parikh\n",
      "2368529024944\n"
     ]
    }
   ],
   "source": [
    "a=\"parikh\"\n",
    "print(a)\n",
    "print(id(a))"
   ]
  },
  {
   "cell_type": "code",
   "execution_count": 82,
   "id": "4fed2630",
   "metadata": {},
   "outputs": [
    {
     "name": "stdout",
     "output_type": "stream",
     "text": [
      "red\n",
      "redbluegreen\n"
     ]
    }
   ],
   "source": [
    "a=\"red\"\n",
    "print(a)\n",
    "a=a+\"blue\"+\"green\"\n",
    "print(a)"
   ]
  },
  {
   "cell_type": "code",
   "execution_count": 83,
   "id": "32afad28",
   "metadata": {},
   "outputs": [
    {
     "name": "stdout",
     "output_type": "stream",
     "text": [
      "2368469853040\n",
      "red\n",
      "redyellow\n",
      "2368528992432\n",
      "2368528990512\n"
     ]
    }
   ],
   "source": [
    "a=\"red\"\n",
    "print(id(a))\n",
    "print(a)\n",
    "a+=\"yellow\"\n",
    "print(a)\n",
    "print(id(a))\n",
    "a+=\"blue\"\n",
    "print(id(a))"
   ]
  },
  {
   "cell_type": "code",
   "execution_count": 84,
   "id": "441fc329",
   "metadata": {},
   "outputs": [
    {
     "data": {
      "text/plain": [
       "'blueblueblue'"
      ]
     },
     "execution_count": 84,
     "metadata": {},
     "output_type": "execute_result"
    }
   ],
   "source": [
    "a=\"blue\"\n",
    "a*3"
   ]
  },
  {
   "cell_type": "code",
   "execution_count": 85,
   "id": "3632aef5",
   "metadata": {},
   "outputs": [
    {
     "ename": "TypeError",
     "evalue": "can only concatenate str (not \"int\") to str",
     "output_type": "error",
     "traceback": [
      "\u001b[1;31m---------------------------------------------------------------------------\u001b[0m",
      "\u001b[1;31mTypeError\u001b[0m                                 Traceback (most recent call last)",
      "\u001b[1;32m<ipython-input-85-136b96c5f6ca>\u001b[0m in \u001b[0;36m<module>\u001b[1;34m\u001b[0m\n\u001b[0;32m      1\u001b[0m \u001b[0ma\u001b[0m\u001b[1;33m=\u001b[0m\u001b[1;34m\"blue\"\u001b[0m\u001b[1;33m\u001b[0m\u001b[1;33m\u001b[0m\u001b[0m\n\u001b[1;32m----> 2\u001b[1;33m \u001b[0ma\u001b[0m\u001b[1;33m+=\u001b[0m\u001b[1;36m3\u001b[0m\u001b[1;33m\u001b[0m\u001b[1;33m\u001b[0m\u001b[0m\n\u001b[0m\u001b[0;32m      3\u001b[0m \u001b[0mprint\u001b[0m\u001b[1;33m(\u001b[0m\u001b[0ma\u001b[0m\u001b[1;33m)\u001b[0m\u001b[1;33m\u001b[0m\u001b[1;33m\u001b[0m\u001b[0m\n",
      "\u001b[1;31mTypeError\u001b[0m: can only concatenate str (not \"int\") to str"
     ]
    }
   ],
   "source": [
    "a=\"blue\"\n",
    "a+=3\n",
    "print(a)"
   ]
  },
  {
   "cell_type": "code",
   "execution_count": 86,
   "id": "e00eab13",
   "metadata": {},
   "outputs": [
    {
     "name": "stdout",
     "output_type": "stream",
     "text": [
      "blue3\n"
     ]
    }
   ],
   "source": [
    "a=\"blue\"\n",
    "a+=\"3\"\n",
    "print(a)"
   ]
  },
  {
   "cell_type": "code",
   "execution_count": 87,
   "id": "eea3be5c",
   "metadata": {},
   "outputs": [
    {
     "name": "stdout",
     "output_type": "stream",
     "text": [
      "fedcba\n",
      "fedcba\n",
      "cba\n",
      "cde\n",
      "fed\n"
     ]
    }
   ],
   "source": [
    "s=\"abcdef\"\n",
    "print(s[::-1])\n",
    "print(s[5::-1])\n",
    "print(s[2::-1])\n",
    "print(s[2:-1])\n",
    "print(s[:2:-1])"
   ]
  },
  {
   "cell_type": "code",
   "execution_count": 88,
   "id": "4e26c2ed",
   "metadata": {},
   "outputs": [
    {
     "data": {
      "text/plain": [
       "'ari'"
      ]
     },
     "execution_count": 88,
     "metadata": {},
     "output_type": "execute_result"
    }
   ],
   "source": [
    "s=\"parikh\"\n",
    "s[1:4]"
   ]
  },
  {
   "cell_type": "code",
   "execution_count": 89,
   "id": "9d89abf3",
   "metadata": {},
   "outputs": [
    {
     "data": {
      "text/plain": [
       "'ai'"
      ]
     },
     "execution_count": 89,
     "metadata": {},
     "output_type": "execute_result"
    }
   ],
   "source": [
    "s[1:4:2]"
   ]
  },
  {
   "cell_type": "code",
   "execution_count": 90,
   "id": "6e04e0ae",
   "metadata": {},
   "outputs": [
    {
     "data": {
      "text/plain": [
       "'parikh'"
      ]
     },
     "execution_count": 90,
     "metadata": {},
     "output_type": "execute_result"
    }
   ],
   "source": [
    "s[:]"
   ]
  },
  {
   "cell_type": "code",
   "execution_count": 91,
   "id": "f66fbe92",
   "metadata": {},
   "outputs": [
    {
     "data": {
      "text/plain": [
       "''"
      ]
     },
     "execution_count": 91,
     "metadata": {},
     "output_type": "execute_result"
    }
   ],
   "source": [
    "s[6:4]"
   ]
  },
  {
   "cell_type": "code",
   "execution_count": 92,
   "id": "47f0b909",
   "metadata": {},
   "outputs": [
    {
     "data": {
      "text/plain": [
       "'h'"
      ]
     },
     "execution_count": 92,
     "metadata": {},
     "output_type": "execute_result"
    }
   ],
   "source": [
    "s[-1]"
   ]
  },
  {
   "cell_type": "code",
   "execution_count": 93,
   "id": "40095b1a",
   "metadata": {},
   "outputs": [],
   "source": [
    "str=\"hello world\""
   ]
  },
  {
   "cell_type": "code",
   "execution_count": 94,
   "id": "c727dafe",
   "metadata": {},
   "outputs": [
    {
     "name": "stdout",
     "output_type": "stream",
     "text": [
      "3\n"
     ]
    }
   ],
   "source": [
    "count=0         #iterating on elements\n",
    "for letter in str:\n",
    "    if (letter=='l'):\n",
    "        count+=1\n",
    "print(count)"
   ]
  },
  {
   "cell_type": "code",
   "execution_count": 95,
   "id": "dc6bede9",
   "metadata": {},
   "outputs": [
    {
     "name": "stdout",
     "output_type": "stream",
     "text": [
      "3\n"
     ]
    }
   ],
   "source": [
    "count=0         #iterating on indices\n",
    "for i in range(len(str)):\n",
    "    if (str[i]=='l'):\n",
    "        count+=1\n",
    "print(count)"
   ]
  },
  {
   "cell_type": "code",
   "execution_count": 96,
   "id": "5a41a11e",
   "metadata": {},
   "outputs": [],
   "source": [
    "str=\"hello\""
   ]
  },
  {
   "cell_type": "code",
   "execution_count": 97,
   "id": "17f6e960",
   "metadata": {},
   "outputs": [
    {
     "name": "stdout",
     "output_type": "stream",
     "text": [
      "true\n"
     ]
    }
   ],
   "source": [
    "if \"ell\" in str:\n",
    "    print(\"true\")\n",
    "else:\n",
    "    print(\"false\")"
   ]
  },
  {
   "cell_type": "code",
   "execution_count": 98,
   "id": "ca9d7e7f",
   "metadata": {},
   "outputs": [
    {
     "name": "stdout",
     "output_type": "stream",
     "text": [
      "false\n"
     ]
    }
   ],
   "source": [
    "if \"oll\" in str:\n",
    "    print(\"true\")\n",
    "else:\n",
    "    print(\"false\")"
   ]
  },
  {
   "cell_type": "code",
   "execution_count": 99,
   "id": "be7a2325",
   "metadata": {},
   "outputs": [
    {
     "name": "stdout",
     "output_type": "stream",
     "text": [
      "false\n"
     ]
    }
   ],
   "source": [
    "if \"eo\" in str:\n",
    "    print(\"true\")\n",
    "else:\n",
    "    print(\"false\")"
   ]
  },
  {
   "cell_type": "code",
   "execution_count": 100,
   "id": "4cf79ff0",
   "metadata": {},
   "outputs": [
    {
     "data": {
      "text/plain": [
       "False"
      ]
     },
     "execution_count": 100,
     "metadata": {},
     "output_type": "execute_result"
    }
   ],
   "source": [
    "\"a\">\"z\""
   ]
  },
  {
   "cell_type": "code",
   "execution_count": 101,
   "id": "97a8c71a",
   "metadata": {},
   "outputs": [
    {
     "data": {
      "text/plain": [
       "True"
      ]
     },
     "execution_count": 101,
     "metadata": {},
     "output_type": "execute_result"
    }
   ],
   "source": [
    "\"A\"<\"Z\""
   ]
  },
  {
   "cell_type": "code",
   "execution_count": 102,
   "id": "1c889bb5",
   "metadata": {},
   "outputs": [
    {
     "data": {
      "text/plain": [
       "True"
      ]
     },
     "execution_count": 102,
     "metadata": {},
     "output_type": "execute_result"
    }
   ],
   "source": [
    "\"A\"<\"a\""
   ]
  },
  {
   "cell_type": "code",
   "execution_count": 103,
   "id": "7fc175e8",
   "metadata": {},
   "outputs": [
    {
     "data": {
      "text/plain": [
       "True"
      ]
     },
     "execution_count": 103,
     "metadata": {},
     "output_type": "execute_result"
    }
   ],
   "source": [
    "\"a\"<\"z\""
   ]
  },
  {
   "cell_type": "code",
   "execution_count": 104,
   "id": "af64b9fe",
   "metadata": {},
   "outputs": [
    {
     "data": {
      "text/plain": [
       "True"
      ]
     },
     "execution_count": 104,
     "metadata": {},
     "output_type": "execute_result"
    }
   ],
   "source": [
    "\"parikh\">\"par\""
   ]
  },
  {
   "cell_type": "code",
   "execution_count": 105,
   "id": "57a6732c",
   "metadata": {},
   "outputs": [
    {
     "name": "stdout",
     "output_type": "stream",
     "text": [
      "malayalam\n"
     ]
    }
   ],
   "source": [
    "ele=\"malayalam\"\n",
    "ele2=ele[::-1]\n",
    "print(ele2)"
   ]
  },
  {
   "cell_type": "code",
   "execution_count": 106,
   "id": "89523571",
   "metadata": {},
   "outputs": [
    {
     "name": "stdout",
     "output_type": "stream",
     "text": [
      "is palindrome\n"
     ]
    }
   ],
   "source": [
    "if ele==ele2:\n",
    "    print(\"is palindrome\")\n",
    "else:\n",
    "    print(\"not palindrome\")"
   ]
  },
  {
   "cell_type": "code",
   "execution_count": 107,
   "id": "7730c62e",
   "metadata": {},
   "outputs": [],
   "source": [
    "str=\"my name is parikh\"\n",
    "var=str.split()"
   ]
  },
  {
   "cell_type": "code",
   "execution_count": 108,
   "id": "b8d9ef1c",
   "metadata": {},
   "outputs": [
    {
     "data": {
      "text/plain": [
       "['my', 'name', 'is', 'parikh']"
      ]
     },
     "execution_count": 108,
     "metadata": {},
     "output_type": "execute_result"
    }
   ],
   "source": [
    "var"
   ]
  },
  {
   "cell_type": "code",
   "execution_count": 109,
   "id": "11c251c4",
   "metadata": {},
   "outputs": [
    {
     "data": {
      "text/plain": [
       "['my', 'name', 'is', 'parikh']"
      ]
     },
     "execution_count": 109,
     "metadata": {},
     "output_type": "execute_result"
    }
   ],
   "source": [
    "str=\"my,name,is,parikh\"\n",
    "var=str.split(\",\")\n",
    "var"
   ]
  },
  {
   "cell_type": "code",
   "execution_count": 110,
   "id": "ba8c3174",
   "metadata": {},
   "outputs": [
    {
     "data": {
      "text/plain": [
       "['my', 'name,is,parikh']"
      ]
     },
     "execution_count": 110,
     "metadata": {},
     "output_type": "execute_result"
    }
   ],
   "source": [
    "str=\"my,name,is,parikh\"\n",
    "var=str.split(\",\",1)    #if count is one,then it will split into two substrings.\n",
    "var"
   ]
  },
  {
   "cell_type": "code",
   "execution_count": 111,
   "id": "a041290b",
   "metadata": {},
   "outputs": [
    {
     "data": {
      "text/plain": [
       "'my name is rohan rohan rohan'"
      ]
     },
     "execution_count": 111,
     "metadata": {},
     "output_type": "execute_result"
    }
   ],
   "source": [
    "str=\"my name is parikh parikh parikh\"\n",
    "var=str.replace(\"parikh\",\"rohan\")\n",
    "var"
   ]
  },
  {
   "cell_type": "code",
   "execution_count": 112,
   "id": "b8be2479",
   "metadata": {},
   "outputs": [
    {
     "data": {
      "text/plain": [
       "'my name is rohan rohan parikh'"
      ]
     },
     "execution_count": 112,
     "metadata": {},
     "output_type": "execute_result"
    }
   ],
   "source": [
    "str=\"my name is parikh parikh parikh\"\n",
    "var=str.replace(\"parikh\",\"rohan\",2)\n",
    "var"
   ]
  },
  {
   "cell_type": "code",
   "execution_count": 113,
   "id": "45c55a1a",
   "metadata": {},
   "outputs": [
    {
     "name": "stdout",
     "output_type": "stream",
     "text": [
      "My Name Is Harman\n"
     ]
    }
   ],
   "source": [
    "star=\"My Name Is Harman\"\n",
    "star.lower()         #string is immutable ,so we have to assign variable again.\n",
    "print(star)"
   ]
  },
  {
   "cell_type": "code",
   "execution_count": 114,
   "id": "dc6d047d",
   "metadata": {},
   "outputs": [
    {
     "name": "stdout",
     "output_type": "stream",
     "text": [
      "my name is harman\n"
     ]
    }
   ],
   "source": [
    "star=\"My Name Is Harman\"\n",
    "star=star.lower()\n",
    "print(star)"
   ]
  },
  {
   "cell_type": "code",
   "execution_count": 115,
   "id": "22f63343",
   "metadata": {},
   "outputs": [
    {
     "data": {
      "text/plain": [
       "'zsavztyjzdsz'"
      ]
     },
     "execution_count": 115,
     "metadata": {},
     "output_type": "execute_result"
    }
   ],
   "source": [
    "star=\"fsavftyjfdsf\"\n",
    "star=star.replace(\"f\",\"z\")\n",
    "star"
   ]
  },
  {
   "cell_type": "code",
   "execution_count": 116,
   "id": "8768d592",
   "metadata": {},
   "outputs": [],
   "source": [
    "def replace(str,char1,char2):\n",
    "    newstr=\"\"\n",
    "    for i in str:\n",
    "        if i==char1:\n",
    "            newstr+=char2\n",
    "        else:\n",
    "            newstr+=i\n",
    "    return newstr\n",
    "        "
   ]
  },
  {
   "cell_type": "code",
   "execution_count": 117,
   "id": "d0704c0c",
   "metadata": {},
   "outputs": [
    {
     "data": {
      "text/plain": [
       "'zdtzdtyjuhzrdt'"
      ]
     },
     "execution_count": 117,
     "metadata": {},
     "output_type": "execute_result"
    }
   ],
   "source": [
    "replace(\"fdtfdtyjuhfrdt\",\"f\",\"z\")\n",
    "\n"
   ]
  },
  {
   "cell_type": "code",
   "execution_count": 118,
   "id": "b23e67e8",
   "metadata": {},
   "outputs": [
    {
     "data": {
      "text/plain": [
       "8"
      ]
     },
     "execution_count": 118,
     "metadata": {},
     "output_type": "execute_result"
    }
   ],
   "source": [
    "var=\"my name is harman\"\n",
    "var.index(\"i\")"
   ]
  },
  {
   "cell_type": "code",
   "execution_count": 119,
   "id": "a125a763",
   "metadata": {},
   "outputs": [
    {
     "data": {
      "text/plain": [
       "17"
      ]
     },
     "execution_count": 119,
     "metadata": {},
     "output_type": "execute_result"
    }
   ],
   "source": [
    "var=\"my name is harman\"\n",
    "len(var)"
   ]
  },
  {
   "cell_type": "code",
   "execution_count": 120,
   "id": "37aee4a3",
   "metadata": {},
   "outputs": [
    {
     "name": "stdout",
     "output_type": "stream",
     "text": [
      "1\n",
      "2\n",
      "3\n",
      "4\n",
      "5\n",
      "6\n",
      "7\n",
      "8\n",
      "9\n",
      "10\n",
      "11\n",
      "12\n",
      "13\n",
      "14\n",
      "15\n",
      "16\n"
     ]
    }
   ],
   "source": [
    "var=\"my name is harman\"\n",
    "for i in range(1,len(var)):\n",
    "    print(i)"
   ]
  },
  {
   "cell_type": "code",
   "execution_count": 121,
   "id": "78c02c7c",
   "metadata": {},
   "outputs": [
    {
     "name": "stdout",
     "output_type": "stream",
     "text": [
      "m\n",
      "y\n",
      " \n",
      "n\n",
      "a\n",
      "m\n",
      "e\n",
      " \n",
      "i\n",
      "s\n",
      " \n",
      "h\n",
      "a\n",
      "r\n",
      "m\n",
      "a\n",
      "n\n"
     ]
    }
   ],
   "source": [
    "var=\"my name is harman\"\n",
    "for i in var:\n",
    "    print(i)"
   ]
  },
  {
   "cell_type": "code",
   "execution_count": 122,
   "id": "d4278276",
   "metadata": {},
   "outputs": [
    {
     "name": "stdout",
     "output_type": "stream",
     "text": [
      "my\n",
      "name\n",
      "is\n",
      "harman\n"
     ]
    }
   ],
   "source": [
    "var=\"my name is harman\"\n",
    "s=var.split()\n",
    "for i in s:\n",
    "    print(i)"
   ]
  },
  {
   "cell_type": "code",
   "execution_count": 123,
   "id": "832d430c",
   "metadata": {},
   "outputs": [
    {
     "data": {
      "text/plain": [
       "2"
      ]
     },
     "execution_count": 123,
     "metadata": {},
     "output_type": "execute_result"
    }
   ],
   "source": [
    "var=\"my name is harman\"\n",
    "s=var.split()\n",
    "s.index(\"is\")"
   ]
  },
  {
   "cell_type": "code",
   "execution_count": 124,
   "id": "f9c7e6e7",
   "metadata": {},
   "outputs": [
    {
     "name": "stdout",
     "output_type": "stream",
     "text": [
      "AIR\n"
     ]
    }
   ],
   "source": [
    "stng=\"all india radio\"\n",
    "oupt=stng[0]\n",
    "for i in range(1,len(stng)):\n",
    "    if stng[i]==\" \":\n",
    "        oupt=oupt+stng[i+1]\n",
    "oupt=oupt.upper()\n",
    "print(oupt)"
   ]
  },
  {
   "cell_type": "code",
   "execution_count": 125,
   "id": "8fed3b30",
   "metadata": {},
   "outputs": [
    {
     "name": "stdout",
     "output_type": "stream",
     "text": [
      "H.J.K.Kainth\n"
     ]
    }
   ],
   "source": [
    "stng=\"harman jot kaur kainth\"\n",
    "oupt=stng[0]\n",
    "for i in range(1,len(stng)):\n",
    "    if stng[i]==\" \":\n",
    "        oupt=oupt+\".\"+stng[i+1]\n",
    "oupt=oupt.upper()\n",
    "oupt=oupt+stng[17:22]\n",
    "print(oupt)"
   ]
  },
  {
   "cell_type": "code",
   "execution_count": 126,
   "id": "5248fe2c",
   "metadata": {},
   "outputs": [
    {
     "name": "stdout",
     "output_type": "stream",
     "text": [
      "1\n",
      "2\n",
      "3\n",
      "4\n",
      "5\n",
      "6\n",
      "7\n",
      "8\n",
      "9\n"
     ]
    }
   ],
   "source": [
    "a=\"my name is\"\n",
    "for i in range(1,len(a)):\n",
    "    print(i)"
   ]
  },
  {
   "cell_type": "code",
   "execution_count": 127,
   "id": "a43e454f",
   "metadata": {},
   "outputs": [
    {
     "name": "stdout",
     "output_type": "stream",
     "text": [
      "name\n",
      "is\n"
     ]
    }
   ],
   "source": [
    "a=\"my name is\"\n",
    "c=a.split()\n",
    "for i in range(1,len(c)):\n",
    "    print(c[i])"
   ]
  },
  {
   "cell_type": "code",
   "execution_count": 128,
   "id": "f341ba87",
   "metadata": {},
   "outputs": [
    {
     "name": "stdout",
     "output_type": "stream",
     "text": [
      "harman\n"
     ]
    }
   ],
   "source": [
    "name=\"my name is harman\"\n",
    "words=name.split()\n",
    "l=0\n",
    "for w in words:\n",
    "    if len(w)>l:\n",
    "        l=len(w)\n",
    "        lw=w\n",
    "print(lw)"
   ]
  },
  {
   "cell_type": "code",
   "execution_count": 129,
   "id": "efdd28b8",
   "metadata": {},
   "outputs": [
    {
     "name": "stdout",
     "output_type": "stream",
     "text": [
      "the 2\n",
      "sun 1\n",
      "is 1\n",
      "shining 1\n",
      "in 1\n",
      "sky 1\n"
     ]
    }
   ],
   "source": [
    "str=\"the sun is shining in the sky\"\n",
    "c_words=[]\n",
    "c=[]\n",
    "words=str.split()\n",
    "for i in words:\n",
    "    if i not in c_words:\n",
    "        c_words.append(i)\n",
    "        c.append(words.count(i))\n",
    "for w in range(0,len(c_words)):\n",
    "    print(c_words[w],c[w])"
   ]
  },
  {
   "cell_type": "code",
   "execution_count": 130,
   "id": "9fdb58c6",
   "metadata": {},
   "outputs": [
    {
     "name": "stdout",
     "output_type": "stream",
     "text": [
      "dftyuiaFTYUCJ12264#$^(\n",
      "v 4\n",
      "c 9\n",
      "d 5\n",
      "sc 4\n"
     ]
    }
   ],
   "source": [
    "str=input()\n",
    "v,c,d,sc=0,0,0,0\n",
    "for i in str:\n",
    "    if (i>=\"a\" and i<=\"z\") or (i>=\"A\" and i<=\"Z\"):\n",
    "        if i in \"aeiouAEIOU\":\n",
    "            v=v+1\n",
    "        else:\n",
    "            c=c+1\n",
    "    elif i>=\"0\" and i<=\"9\":\n",
    "        d=d+1\n",
    "    else:\n",
    "        sc=sc+1\n",
    "print(\"v\",v)\n",
    "print(\"c\",c)\n",
    "print(\"d\",d)\n",
    "print(\"sc\",sc)"
   ]
  },
  {
   "cell_type": "code",
   "execution_count": 131,
   "id": "3ca3e8c1",
   "metadata": {},
   "outputs": [
    {
     "name": "stdout",
     "output_type": "stream",
     "text": [
      "my\n",
      "name\n",
      "is\n",
      "harman\n"
     ]
    }
   ],
   "source": [
    "str=\"my name is harman\"\n",
    "s=str.split()\n",
    "for i in s:\n",
    "    if len(i)%2==0:\n",
    "        print(i)\n",
    "        "
   ]
  },
  {
   "cell_type": "code",
   "execution_count": 132,
   "id": "15814644",
   "metadata": {},
   "outputs": [],
   "source": [
    "str=\"university\"\n",
    "nstr=str[0:2]+str[len(str)-2:len(str)]"
   ]
  },
  {
   "cell_type": "code",
   "execution_count": 133,
   "id": "87bd9dda",
   "metadata": {},
   "outputs": [
    {
     "data": {
      "text/plain": [
       "'unty'"
      ]
     },
     "execution_count": 133,
     "metadata": {},
     "output_type": "execute_result"
    }
   ],
   "source": [
    "nstr"
   ]
  },
  {
   "cell_type": "code",
   "execution_count": 134,
   "id": "25f0185f",
   "metadata": {},
   "outputs": [
    {
     "data": {
      "text/plain": [
       "'resta$t'"
      ]
     },
     "execution_count": 134,
     "metadata": {},
     "output_type": "execute_result"
    }
   ],
   "source": [
    "str=\"restart\"\n",
    "c=str[0]\n",
    "nstr=c+str[1:len(str)].replace(c,\"$\")\n",
    "nstr"
   ]
  },
  {
   "cell_type": "code",
   "execution_count": 135,
   "id": "0841df38",
   "metadata": {},
   "outputs": [
    {
     "data": {
      "text/plain": [
       "'yniversiu'"
      ]
     },
     "execution_count": 135,
     "metadata": {},
     "output_type": "execute_result"
    }
   ],
   "source": [
    "str=\"university\"\n",
    "f=str[0]\n",
    "l=str[-1]\n",
    "nstr=l+str[1:-2]+f\n",
    "nstr"
   ]
  },
  {
   "cell_type": "code",
   "execution_count": 136,
   "id": "6e4603e5",
   "metadata": {},
   "outputs": [
    {
     "data": {
      "text/plain": [
       "'uiest'"
      ]
     },
     "execution_count": 136,
     "metadata": {},
     "output_type": "execute_result"
    }
   ],
   "source": [
    "s=\"university\"\n",
    "nstr=s[0:len(s):2]\n",
    "nstr"
   ]
  },
  {
   "cell_type": "code",
   "execution_count": 137,
   "id": "c20354fa",
   "metadata": {},
   "outputs": [
    {
     "name": "stdout",
     "output_type": "stream",
     "text": [
      "AIR\n"
     ]
    }
   ],
   "source": [
    "#abbreviations of string\n",
    "s=\"all india radio\"\n",
    "c=s[0]\n",
    "for i in range(1,len(s)):\n",
    "    if s[i]==\" \":\n",
    "        c=c+s[i+1]\n",
    "c=c.upper()\n",
    "print(c)"
   ]
  },
  {
   "cell_type": "code",
   "execution_count": 138,
   "id": "499ea9e0",
   "metadata": {},
   "outputs": [
    {
     "name": "stdout",
     "output_type": "stream",
     "text": [
      " AIR\n"
     ]
    }
   ],
   "source": [
    "#abbreviations of string(method2)\n",
    "s=\"all india radio\"\n",
    "c=s.split()\n",
    "nstr=\" \"\n",
    "for i in range(0,len(c)):\n",
    "    t=c[i]\n",
    "    nstr=nstr+t[0].upper()\n",
    "print(nstr)"
   ]
  },
  {
   "cell_type": "code",
   "execution_count": 139,
   "id": "922eae70",
   "metadata": {},
   "outputs": [
    {
     "name": "stdout",
     "output_type": "stream",
     "text": [
      " M.D.K.C.Gandhi\n"
     ]
    }
   ],
   "source": [
    "#initials of name with last name full\n",
    "s=\"mohan das karam chand gandhi\"\n",
    "c=s.split()\n",
    "nstr=\" \"\n",
    "for i in range(0,len(c)-1):\n",
    "    t=c[i]\n",
    "    nstr=nstr+t[0].upper()+\".\"\n",
    "nstr=nstr+c[-1].title()\n",
    "print(nstr)"
   ]
  },
  {
   "cell_type": "code",
   "execution_count": 140,
   "id": "8c94788d",
   "metadata": {},
   "outputs": [
    {
     "name": "stdout",
     "output_type": "stream",
     "text": [
      "harman\n"
     ]
    }
   ],
   "source": [
    "#print longest word of a string\n",
    "str=\"my name is harman you are a good one\"\n",
    "c=str.split()\n",
    "l=0\n",
    "for w in c:\n",
    "    if len(w)>l:\n",
    "        l=len(w)\n",
    "        lw=w\n",
    "print(lw)"
   ]
  },
  {
   "cell_type": "markdown",
   "id": "7c46b0d6",
   "metadata": {},
   "source": [
    "## coding ninza assignment ques."
   ]
  },
  {
   "cell_type": "code",
   "execution_count": 141,
   "id": "8e6e808f",
   "metadata": {},
   "outputs": [
    {
     "name": "stdout",
     "output_type": "stream",
     "text": [
      "true\n"
     ]
    }
   ],
   "source": [
    "#check palindrome\n",
    "str=\"melon\"\n",
    "str2=\"nolem\"\n",
    "c=str[::-1]\n",
    "if c==str2:\n",
    "    print(\"true\")\n",
    "else:\n",
    "    print(\"false\")"
   ]
  },
  {
   "cell_type": "code",
   "execution_count": 142,
   "id": "759ed2c8",
   "metadata": {},
   "outputs": [
    {
     "name": "stdout",
     "output_type": "stream",
     "text": [
      "true\n"
     ]
    }
   ],
   "source": [
    "#check permutable\n",
    "str=\"melon\"\n",
    "str2=\"lemon\"\n",
    "a=sorted(str)\n",
    "b=sorted(str2)\n",
    "if a==b:\n",
    "    print(\"true\")\n",
    "else:\n",
    "    print(\"false\")\n",
    "        "
   ]
  },
  {
   "cell_type": "code",
   "execution_count": 143,
   "id": "36d10d80",
   "metadata": {},
   "outputs": [
    {
     "data": {
      "text/plain": [
       "['e', 'l', 'm', 'n', 'o']"
      ]
     },
     "execution_count": 143,
     "metadata": {},
     "output_type": "execute_result"
    }
   ],
   "source": [
    "a"
   ]
  },
  {
   "cell_type": "code",
   "execution_count": 144,
   "id": "db914d0c",
   "metadata": {},
   "outputs": [
    {
     "data": {
      "text/plain": [
       "'abc'"
      ]
     },
     "execution_count": 144,
     "metadata": {},
     "output_type": "execute_result"
    }
   ],
   "source": [
    "#remove consecutive duplicates\n",
    "def removeConsecutiveDuplicates(string):\n",
    "    s=\"\"\n",
    "    for chr in string:\n",
    "        if s==\"\" or chr!=s[len(s)-1]:\n",
    "            s=s+chr\n",
    "    return s\n",
    "removeConsecutiveDuplicates(\"aabbbcc\")"
   ]
  },
  {
   "cell_type": "code",
   "execution_count": 145,
   "id": "2ccf4c45",
   "metadata": {},
   "outputs": [
    {
     "data": {
      "text/plain": [
       "',olleH I ma !lidaA'"
      ]
     },
     "execution_count": 145,
     "metadata": {},
     "output_type": "execute_result"
    }
   ],
   "source": [
    "#reverse each word\n",
    "def reverseEachWord(string) :\n",
    "    rev_string=[]\n",
    "    a=string.split()\n",
    "    for ele in a:\n",
    "        rev_string.append(ele[::-1])\n",
    "    new=\" \".join(rev_string)\n",
    "    return new\n",
    "reverseEachWord(\"Hello, I am Aadil!\")\n"
   ]
  },
  {
   "cell_type": "code",
   "execution_count": 147,
   "id": "a638feb3",
   "metadata": {},
   "outputs": [
    {
     "name": "stdout",
     "output_type": "stream",
     "text": [
      "aabccbaa\n",
      "a\n",
      "bccb\n"
     ]
    }
   ],
   "source": [
    "#remove character\n",
    "string=input()\n",
    "ele=input()\n",
    "print(string.replace(ele,\"\"))"
   ]
  },
  {
   "cell_type": "code",
   "execution_count": 1,
   "id": "e1064d91",
   "metadata": {},
   "outputs": [
    {
     "data": {
      "text/plain": [
       "'b'"
      ]
     },
     "execution_count": 1,
     "metadata": {},
     "output_type": "execute_result"
    }
   ],
   "source": [
    "#highest occuring character\n",
    "def highestOccuringChar(string) :\n",
    "    li=[]\n",
    "    x=[]\n",
    "    for i in string:\n",
    "        if i not in x:\n",
    "            x.append(i)\n",
    "            li.append(string.count(i))\n",
    "    a=li.index(max(li))\n",
    "    return(x[a])\n",
    "highestOccuringChar(\"abdefgbabfba\")"
   ]
  },
  {
   "cell_type": "code",
   "execution_count": null,
   "id": "3f613d4f",
   "metadata": {},
   "outputs": [],
   "source": []
  }
 ],
 "metadata": {
  "kernelspec": {
   "display_name": "Python 3",
   "language": "python",
   "name": "python3"
  },
  "language_info": {
   "codemirror_mode": {
    "name": "ipython",
    "version": 3
   },
   "file_extension": ".py",
   "mimetype": "text/x-python",
   "name": "python",
   "nbconvert_exporter": "python",
   "pygments_lexer": "ipython3",
   "version": "3.8.8"
  }
 },
 "nbformat": 4,
 "nbformat_minor": 5
}
