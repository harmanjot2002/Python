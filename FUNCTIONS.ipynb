{
 "cells": [
  {
   "cell_type": "code",
   "execution_count": 1,
   "id": "b3927fbc",
   "metadata": {},
   "outputs": [],
   "source": [
    "def greeting():\n",
    "    print(\"hello everyone.\")"
   ]
  },
  {
   "cell_type": "code",
   "execution_count": 2,
   "id": "9ead171d",
   "metadata": {},
   "outputs": [
    {
     "name": "stdout",
     "output_type": "stream",
     "text": [
      "hello everyone.\n",
      "hello everyone.\n"
     ]
    }
   ],
   "source": [
    "greeting()\n",
    "greeting()"
   ]
  },
  {
   "cell_type": "code",
   "execution_count": 3,
   "id": "a38c55b1",
   "metadata": {},
   "outputs": [],
   "source": [
    "def greeting(name):\n",
    "    print(\"hello mr.\",name,\"how are you\")"
   ]
  },
  {
   "cell_type": "code",
   "execution_count": 4,
   "id": "b627d6bb",
   "metadata": {},
   "outputs": [
    {
     "name": "stdout",
     "output_type": "stream",
     "text": [
      "hello mr. ramesh how are you\n",
      "hello mr. suresh how are you\n",
      "hello mr. ram how are you\n",
      "hello mr. raj how are you\n"
     ]
    }
   ],
   "source": [
    "greeting(\"ramesh\")\n",
    "greeting(\"suresh\")\n",
    "greeting(\"ram\")\n",
    "greeting(\"raj\")"
   ]
  },
  {
   "cell_type": "code",
   "execution_count": 5,
   "id": "dd8c4445",
   "metadata": {},
   "outputs": [],
   "source": [
    "def add(a,b):\n",
    "    c=a+b\n",
    "    print (c)"
   ]
  },
  {
   "cell_type": "code",
   "execution_count": 6,
   "id": "666f6b63",
   "metadata": {},
   "outputs": [
    {
     "name": "stdout",
     "output_type": "stream",
     "text": [
      "13\n"
     ]
    }
   ],
   "source": [
    "add(5,8)"
   ]
  },
  {
   "cell_type": "code",
   "execution_count": 7,
   "id": "72112d47",
   "metadata": {},
   "outputs": [
    {
     "name": "stdout",
     "output_type": "stream",
     "text": [
      "165\n"
     ]
    }
   ],
   "source": [
    "add(76,89)"
   ]
  },
  {
   "cell_type": "code",
   "execution_count": 8,
   "id": "26e68468",
   "metadata": {},
   "outputs": [
    {
     "name": "stdout",
     "output_type": "stream",
     "text": [
      "1\n",
      "12\n",
      "123\n",
      "1234\n",
      "12345\n",
      "123456\n"
     ]
    }
   ],
   "source": [
    "r=1\n",
    "while r<=6:\n",
    "    c=1\n",
    "    while c<=r:\n",
    "        print(c,end=\"\")\n",
    "        c=c+1\n",
    "    print()  \n",
    "    r=r+1"
   ]
  },
  {
   "cell_type": "code",
   "execution_count": 9,
   "id": "cf8a1f65",
   "metadata": {},
   "outputs": [
    {
     "name": "stdout",
     "output_type": "stream",
     "text": [
      "6\n",
      "1\n",
      "12\n",
      "123\n",
      "1234\n",
      "12345\n",
      "123456\n"
     ]
    }
   ],
   "source": [
    "n=int(input())\n",
    "for i in range(1,n+1):\n",
    "    for j in range(1,i+1):\n",
    "        print(j,end=\"\")\n",
    "    print()    "
   ]
  },
  {
   "cell_type": "code",
   "execution_count": 10,
   "id": "31b957b8",
   "metadata": {},
   "outputs": [
    {
     "name": "stdout",
     "output_type": "stream",
     "text": [
      "6\n",
      "720\n"
     ]
    }
   ],
   "source": [
    "n=int(input())\n",
    "n_fact=1\n",
    "for i in range(1,n+1):\n",
    "    n_fact=n_fact*i\n",
    "print(n_fact)"
   ]
  },
  {
   "cell_type": "code",
   "execution_count": 11,
   "id": "d2e0d344",
   "metadata": {},
   "outputs": [
    {
     "name": "stdout",
     "output_type": "stream",
     "text": [
      "6\n",
      "2\n",
      "15\n"
     ]
    }
   ],
   "source": [
    "n=int(input())\n",
    "r=int(input())\n",
    "n_fact=1\n",
    "for i in range(1,n+1):\n",
    "    n_fact=n_fact*i\n",
    "r_fact=1\n",
    "for j in range(1,r+1):\n",
    "    r_fact=r_fact*j\n",
    "n_r_fact=1\n",
    "for s in range(1,n-r+1):\n",
    "    n_r_fact=n_r_fact*s\n",
    "ncr=n_fact//(r_fact*n_r_fact)\n",
    "print(ncr)\n",
    "    "
   ]
  },
  {
   "cell_type": "markdown",
   "id": "13adc93a",
   "metadata": {},
   "source": [
    "## finding factorial by defining function"
   ]
  },
  {
   "cell_type": "code",
   "execution_count": 12,
   "id": "1f3752cb",
   "metadata": {},
   "outputs": [],
   "source": [
    "def fact(a):\n",
    "    a_fact=1\n",
    "    for i in range(1,a+1):\n",
    "        a_fact=a_fact*i\n",
    "    return a_fact    "
   ]
  },
  {
   "cell_type": "code",
   "execution_count": 13,
   "id": "6bee5be5",
   "metadata": {},
   "outputs": [
    {
     "data": {
      "text/plain": [
       "720"
      ]
     },
     "execution_count": 13,
     "metadata": {},
     "output_type": "execute_result"
    }
   ],
   "source": [
    "fact(6)"
   ]
  },
  {
   "cell_type": "code",
   "execution_count": 14,
   "id": "c92ad207",
   "metadata": {},
   "outputs": [
    {
     "name": "stdout",
     "output_type": "stream",
     "text": [
      "6\n",
      "2\n",
      "15\n"
     ]
    }
   ],
   "source": [
    "#finding ncr by defining function.\n",
    "n=int(input())\n",
    "r=int(input())\n",
    "n_fact=fact(n)\n",
    "r_fact=fact(r)\n",
    "n_r_fact=fact(n-r)\n",
    "ncr=n_fact//(r_fact*n_r_fact)\n",
    "print(ncr)"
   ]
  },
  {
   "cell_type": "code",
   "execution_count": 15,
   "id": "99e449a1",
   "metadata": {},
   "outputs": [
    {
     "name": "stdout",
     "output_type": "stream",
     "text": [
      "6\n",
      "2\n",
      "15\n"
     ]
    }
   ],
   "source": [
    "n=int(input())\n",
    "r=int(input())\n",
    "ncr=fact(n)//(fact(r)*fact(n-r))\n",
    "print(ncr)"
   ]
  },
  {
   "cell_type": "code",
   "execution_count": 16,
   "id": "1d501b5f",
   "metadata": {},
   "outputs": [],
   "source": [
    "#a no. is not prime if it is divisible by any number in range between 2 to one number less than the number itself. \n",
    "def isprime(n):\n",
    "    for d in range(2,n): \n",
    "        if n%d==0:\n",
    "            break\n",
    "    else:\n",
    "        return True\n",
    "    return False"
   ]
  },
  {
   "cell_type": "code",
   "execution_count": 17,
   "id": "e89565f4",
   "metadata": {},
   "outputs": [
    {
     "data": {
      "text/plain": [
       "True"
      ]
     },
     "execution_count": 17,
     "metadata": {},
     "output_type": "execute_result"
    }
   ],
   "source": [
    "isprime(7)"
   ]
  },
  {
   "cell_type": "code",
   "execution_count": 18,
   "id": "5dc28336",
   "metadata": {},
   "outputs": [
    {
     "data": {
      "text/plain": [
       "True"
      ]
     },
     "execution_count": 18,
     "metadata": {},
     "output_type": "execute_result"
    }
   ],
   "source": [
    "isprime(2)"
   ]
  },
  {
   "cell_type": "code",
   "execution_count": 19,
   "id": "68222187",
   "metadata": {},
   "outputs": [
    {
     "data": {
      "text/plain": [
       "False"
      ]
     },
     "execution_count": 19,
     "metadata": {},
     "output_type": "execute_result"
    }
   ],
   "source": [
    "isprime(20)"
   ]
  },
  {
   "cell_type": "code",
   "execution_count": 20,
   "id": "51a88796",
   "metadata": {},
   "outputs": [],
   "source": [
    "def primefrom2toN(n):\n",
    "    for k in range(2,n):\n",
    "        is_k_prime=isprime(k)\n",
    "        "
   ]
  },
  {
   "cell_type": "code",
   "execution_count": 21,
   "id": "75607a6c",
   "metadata": {},
   "outputs": [],
   "source": [
    "def count(n):\n",
    "    count=0\n",
    "    while(n>0):\n",
    "        count=count+1\n",
    "        n=n//10\n",
    "    return(count)\n",
    "    "
   ]
  },
  {
   "cell_type": "code",
   "execution_count": 22,
   "id": "9c5fcebd",
   "metadata": {},
   "outputs": [
    {
     "data": {
      "text/plain": [
       "5"
      ]
     },
     "execution_count": 22,
     "metadata": {},
     "output_type": "execute_result"
    }
   ],
   "source": [
    "count(89897)"
   ]
  },
  {
   "cell_type": "code",
   "execution_count": 23,
   "id": "136ab16e",
   "metadata": {},
   "outputs": [],
   "source": [
    "y=count(998567)\n"
   ]
  },
  {
   "cell_type": "code",
   "execution_count": 24,
   "id": "2cff4228",
   "metadata": {},
   "outputs": [
    {
     "name": "stdout",
     "output_type": "stream",
     "text": [
      "6\n"
     ]
    }
   ],
   "source": [
    "print(y)"
   ]
  },
  {
   "cell_type": "code",
   "execution_count": 25,
   "id": "0b56bf87",
   "metadata": {},
   "outputs": [],
   "source": [
    "def printstudent(name,roll,course):\n",
    "    print(\"Name            :\"+name)\n",
    "    print(\"Roll number     :\"+str(roll))   #here str is necessary to  write.\n",
    "    print(\"Enrolled Course :\"+course)"
   ]
  },
  {
   "cell_type": "code",
   "execution_count": 26,
   "id": "ee24a9d3",
   "metadata": {},
   "outputs": [
    {
     "name": "stdout",
     "output_type": "stream",
     "text": [
      "Name            :Suresh\n",
      "Roll number     :35\n",
      "Enrolled Course :BE\n"
     ]
    }
   ],
   "source": [
    "printstudent(\"Suresh\",35,\"BE\")"
   ]
  },
  {
   "cell_type": "code",
   "execution_count": 27,
   "id": "1443cd49",
   "metadata": {},
   "outputs": [
    {
     "name": "stdout",
     "output_type": "stream",
     "text": [
      "Name            :Suresh\n",
      "Roll number     :35\n",
      "Enrolled Course :BE\n"
     ]
    }
   ],
   "source": [
    "printstudent(roll=35,name=\"Suresh\",course=\"BE\")"
   ]
  },
  {
   "cell_type": "code",
   "execution_count": 28,
   "id": "e21e1f8d",
   "metadata": {},
   "outputs": [],
   "source": [
    "def add3num(a=50,b=20,c=30):\n",
    "    print(\"Sum of three numbers :\",a+b+c)"
   ]
  },
  {
   "cell_type": "code",
   "execution_count": 29,
   "id": "824eed0c",
   "metadata": {},
   "outputs": [
    {
     "name": "stdout",
     "output_type": "stream",
     "text": [
      "Sum of three numbers : 100\n"
     ]
    }
   ],
   "source": [
    "add3num()"
   ]
  },
  {
   "cell_type": "code",
   "execution_count": 30,
   "id": "93f986ca",
   "metadata": {},
   "outputs": [
    {
     "name": "stdout",
     "output_type": "stream",
     "text": [
      "Sum of three numbers : 180\n"
     ]
    }
   ],
   "source": [
    "add3num(50,60,70)"
   ]
  },
  {
   "cell_type": "code",
   "execution_count": 31,
   "id": "9dfa680c",
   "metadata": {},
   "outputs": [
    {
     "name": "stdout",
     "output_type": "stream",
     "text": [
      "Sum of three numbers : 140\n"
     ]
    }
   ],
   "source": [
    "add3num(50,60)"
   ]
  },
  {
   "cell_type": "code",
   "execution_count": 32,
   "id": "a514436d",
   "metadata": {},
   "outputs": [
    {
     "name": "stdout",
     "output_type": "stream",
     "text": [
      "Sum of three numbers : 100\n"
     ]
    }
   ],
   "source": [
    "add3num(50)"
   ]
  },
  {
   "cell_type": "code",
   "execution_count": 33,
   "id": "318977d3",
   "metadata": {},
   "outputs": [],
   "source": [
    "def greetguest(host,*guest):\n",
    "    print(\"Hello Everyone, I am \"+host+ \" your host\")\n",
    "    for i in guest:\n",
    "        print(\"Hello Mr.\" +i+\" Welcome to Chitkara University\")"
   ]
  },
  {
   "cell_type": "code",
   "execution_count": 34,
   "id": "92a87b69",
   "metadata": {},
   "outputs": [
    {
     "name": "stdout",
     "output_type": "stream",
     "text": [
      "Hello Everyone, I am Ramesh your host\n",
      "Hello Mr.Suresh Welcome to Chitkara University\n"
     ]
    }
   ],
   "source": [
    "greetguest(\"Ramesh\",\"Suresh\")"
   ]
  },
  {
   "cell_type": "code",
   "execution_count": 35,
   "id": "33220ef3",
   "metadata": {},
   "outputs": [
    {
     "name": "stdout",
     "output_type": "stream",
     "text": [
      "Hello Everyone, I am Raj your host\n",
      "Hello Mr.Ramesh Welcome to Chitkara University\n",
      "Hello Mr.Suresh Welcome to Chitkara University\n",
      "Hello Mr.Mohan Welcome to Chitkara University\n",
      "Hello Mr.Gopal Welcome to Chitkara University\n"
     ]
    }
   ],
   "source": [
    "greetguest(\"Raj\",\"Ramesh\",\"Suresh\",\"Mohan\",\"Gopal\")"
   ]
  },
  {
   "cell_type": "code",
   "execution_count": 36,
   "id": "1080e1e7",
   "metadata": {},
   "outputs": [],
   "source": [
    "def greetguest1(host, univ, *guest):\n",
    "    print(\"Hello Everyone, I am \"+host+ \" your host\")\n",
    "    for i in guest:\n",
    "        print(\"Hello Mr.\" +i+\" Welcome to \"+univ)"
   ]
  },
  {
   "cell_type": "code",
   "execution_count": 37,
   "id": "6e6f8d78",
   "metadata": {},
   "outputs": [
    {
     "name": "stdout",
     "output_type": "stream",
     "text": [
      "Hello Everyone, I am Raj your host\n",
      "Hello Mr.Ramesh Welcome to ABC University\n",
      "Hello Mr.Suresh Welcome to ABC University\n",
      "Hello Mr.Mohan Welcome to ABC University\n",
      "Hello Mr.Gopal Welcome to ABC University\n"
     ]
    }
   ],
   "source": [
    "greetguest1(\"Raj\",\"ABC University\",\"Ramesh\",\"Suresh\",\"Mohan\",\"Gopal\")"
   ]
  },
  {
   "cell_type": "code",
   "execution_count": 38,
   "id": "741b7270",
   "metadata": {},
   "outputs": [
    {
     "name": "stdout",
     "output_type": "stream",
     "text": [
      "Hello Everyone, I am Ajay your host\n",
      "Hello Mr.Ramesh Welcome to Oxford University\n",
      "Hello Mr.Suresh Welcome to Oxford University\n",
      "Hello Mr.Mohan Welcome to Oxford University\n",
      "Hello Mr.Gopal Welcome to Oxford University\n"
     ]
    }
   ],
   "source": [
    "greetguest1(\"Ajay\",\"Oxford University\",\"Ramesh\",\"Suresh\",\"Mohan\",\"Gopal\")"
   ]
  },
  {
   "cell_type": "code",
   "execution_count": 39,
   "id": "19d95b84",
   "metadata": {},
   "outputs": [],
   "source": [
    "def add(a,b):\n",
    "    return(a+b)"
   ]
  },
  {
   "cell_type": "code",
   "execution_count": 40,
   "id": "d21775bc",
   "metadata": {},
   "outputs": [
    {
     "name": "stdout",
     "output_type": "stream",
     "text": [
      "30\n"
     ]
    }
   ],
   "source": [
    "print(add(10,20))"
   ]
  },
  {
   "cell_type": "code",
   "execution_count": 41,
   "id": "15a04e93",
   "metadata": {},
   "outputs": [
    {
     "name": "stdout",
     "output_type": "stream",
     "text": [
      "30\n"
     ]
    }
   ],
   "source": [
    "print(30)"
   ]
  },
  {
   "cell_type": "code",
   "execution_count": 42,
   "id": "e76a1dba",
   "metadata": {},
   "outputs": [
    {
     "name": "stdout",
     "output_type": "stream",
     "text": [
      "60\n"
     ]
    }
   ],
   "source": [
    "print(add(10,add(20,30)))"
   ]
  },
  {
   "cell_type": "code",
   "execution_count": 43,
   "id": "9e946e2c",
   "metadata": {},
   "outputs": [],
   "source": [
    "def greetguest2(host, univ, *guest):\n",
    "    for i in guest:\n",
    "        print(\"Hello Mr.\" +i+\" i am \"+host+\" Welcome to \"+univ)"
   ]
  },
  {
   "cell_type": "code",
   "execution_count": 44,
   "id": "31f34120",
   "metadata": {},
   "outputs": [
    {
     "name": "stdout",
     "output_type": "stream",
     "text": [
      "Hello Mr.suresh i am Raj Welcome to Oxford University\n",
      "Hello Mr.Mohan i am Raj Welcome to Oxford University\n"
     ]
    }
   ],
   "source": [
    "greetguest2(\"Raj\", \"Oxford University\",\"suresh\",\"Mohan\")"
   ]
  },
  {
   "cell_type": "code",
   "execution_count": 45,
   "id": "94872026",
   "metadata": {},
   "outputs": [
    {
     "name": "stdout",
     "output_type": "stream",
     "text": [
      "60\n"
     ]
    }
   ],
   "source": [
    "print(add(add(20,30),10))"
   ]
  },
  {
   "cell_type": "code",
   "execution_count": 46,
   "id": "750ad71a",
   "metadata": {},
   "outputs": [
    {
     "name": "stdout",
     "output_type": "stream",
     "text": [
      "100\n"
     ]
    }
   ],
   "source": [
    "print(add(add(10,20),add(30,40)))"
   ]
  },
  {
   "cell_type": "code",
   "execution_count": 47,
   "id": "c721ed1b",
   "metadata": {},
   "outputs": [],
   "source": [
    "a=10\n",
    "b=20"
   ]
  },
  {
   "cell_type": "code",
   "execution_count": 48,
   "id": "4cce1081",
   "metadata": {},
   "outputs": [
    {
     "name": "stdout",
     "output_type": "stream",
     "text": [
      "1020\n"
     ]
    }
   ],
   "source": [
    "print(str(10)+str(20))"
   ]
  },
  {
   "cell_type": "code",
   "execution_count": 49,
   "id": "37613169",
   "metadata": {},
   "outputs": [
    {
     "name": "stdout",
     "output_type": "stream",
     "text": [
      "10 20\n"
     ]
    }
   ],
   "source": [
    "print(a,b)"
   ]
  },
  {
   "cell_type": "code",
   "execution_count": 50,
   "id": "181a996b",
   "metadata": {},
   "outputs": [],
   "source": [
    "def func(a):\n",
    "    a = a + 10\n",
    "    return a\n"
   ]
  },
  {
   "cell_type": "code",
   "execution_count": 51,
   "id": "00a19888",
   "metadata": {},
   "outputs": [
    {
     "data": {
      "text/plain": [
       "15"
      ]
     },
     "execution_count": 51,
     "metadata": {},
     "output_type": "execute_result"
    }
   ],
   "source": [
    "func(5)      #return command simply returns output value of defined function to given function."
   ]
  },
  {
   "cell_type": "code",
   "execution_count": 3,
   "id": "65dd4268",
   "metadata": {},
   "outputs": [
    {
     "data": {
      "text/plain": [
       "15"
      ]
     },
     "execution_count": 3,
     "metadata": {},
     "output_type": "execute_result"
    }
   ],
   "source": [
    "def func(a):\n",
    "    a = a + 10\n",
    "    return a\n",
    "a=5\n",
    "func(a)\n"
   ]
  },
  {
   "cell_type": "code",
   "execution_count": 15,
   "id": "1a46ec96",
   "metadata": {},
   "outputs": [
    {
     "name": "stdout",
     "output_type": "stream",
     "text": [
      "5\n"
     ]
    }
   ],
   "source": [
    "def func(a):\n",
    "    a = a + 10\n",
    "    return a\n",
    "a=5\n",
    "func(a)     #value=15 ,i.e,output of function call has been returned to function itself.\n",
    "print(a)    #now command to be executed  is print(a)"
   ]
  },
  {
   "cell_type": "code",
   "execution_count": 53,
   "id": "c906c653",
   "metadata": {},
   "outputs": [
    {
     "name": "stdout",
     "output_type": "stream",
     "text": [
      "5\n"
     ]
    },
    {
     "data": {
      "text/plain": [
       "15"
      ]
     },
     "execution_count": 53,
     "metadata": {},
     "output_type": "execute_result"
    }
   ],
   "source": [
    "def func(a):\n",
    "    a = a + 10\n",
    "    return a\n",
    "a=5\n",
    "print(a)\n",
    "func(a)        "
   ]
  },
  {
   "cell_type": "code",
   "execution_count": 54,
   "id": "ceb593b1",
   "metadata": {},
   "outputs": [
    {
     "name": "stdout",
     "output_type": "stream",
     "text": [
      "16\n"
     ]
    }
   ],
   "source": [
    "def square(a):\n",
    "    ans  = a*a\n",
    "    return  ans\n",
    "\n",
    "a = 4\n",
    "a = square(a)\n",
    "print(a)"
   ]
  },
  {
   "cell_type": "code",
   "execution_count": 55,
   "id": "f79027db",
   "metadata": {},
   "outputs": [
    {
     "data": {
      "text/plain": [
       "64"
      ]
     },
     "execution_count": 55,
     "metadata": {},
     "output_type": "execute_result"
    }
   ],
   "source": [
    "square(8)"
   ]
  },
  {
   "cell_type": "code",
   "execution_count": 56,
   "id": "04e80829",
   "metadata": {},
   "outputs": [],
   "source": [
    "def square(a):\n",
    "    ans=a*a\n",
    "    print(ans)\n"
   ]
  },
  {
   "cell_type": "code",
   "execution_count": 57,
   "id": "7a78a435",
   "metadata": {},
   "outputs": [
    {
     "name": "stdout",
     "output_type": "stream",
     "text": [
      "49\n"
     ]
    }
   ],
   "source": [
    "square(7)"
   ]
  },
  {
   "cell_type": "code",
   "execution_count": 58,
   "id": "94959e76",
   "metadata": {},
   "outputs": [],
   "source": [
    "def square(a):\n",
    "    ans=a*a\n",
    "    return(ans)\n",
    "\n"
   ]
  },
  {
   "cell_type": "code",
   "execution_count": 59,
   "id": "78b0f074",
   "metadata": {},
   "outputs": [
    {
     "name": "stdout",
     "output_type": "stream",
     "text": [
      "81\n"
     ]
    }
   ],
   "source": [
    "g=square(9)\n",
    "print(g)"
   ]
  },
  {
   "cell_type": "code",
   "execution_count": 60,
   "id": "ff78b7b5",
   "metadata": {},
   "outputs": [
    {
     "name": "stdout",
     "output_type": "stream",
     "text": [
      "10\n"
     ]
    }
   ],
   "source": [
    "a1=10          #global variable\n",
    "def f1():\n",
    "    b2=12      #local variable\n",
    "    \n",
    "print(a1)    #we can access any global variable without any variable call\n",
    "    \n"
   ]
  },
  {
   "cell_type": "code",
   "execution_count": 61,
   "id": "e9889ec6",
   "metadata": {},
   "outputs": [
    {
     "name": "stdout",
     "output_type": "stream",
     "text": [
      "10\n"
     ]
    },
    {
     "ename": "NameError",
     "evalue": "name 'b2' is not defined",
     "output_type": "error",
     "traceback": [
      "\u001b[1;31m---------------------------------------------------------------------------\u001b[0m",
      "\u001b[1;31mNameError\u001b[0m                                 Traceback (most recent call last)",
      "\u001b[1;32m<ipython-input-61-a37b788abecb>\u001b[0m in \u001b[0;36m<module>\u001b[1;34m\u001b[0m\n\u001b[0;32m      4\u001b[0m \u001b[1;33m\u001b[0m\u001b[0m\n\u001b[0;32m      5\u001b[0m \u001b[0mprint\u001b[0m\u001b[1;33m(\u001b[0m\u001b[0ma1\u001b[0m\u001b[1;33m)\u001b[0m\u001b[1;33m\u001b[0m\u001b[1;33m\u001b[0m\u001b[0m\n\u001b[1;32m----> 6\u001b[1;33m \u001b[0mprint\u001b[0m\u001b[1;33m(\u001b[0m\u001b[0mb2\u001b[0m\u001b[1;33m)\u001b[0m    \u001b[1;31m#b2 is not gloabal variable\u001b[0m\u001b[1;33m\u001b[0m\u001b[1;33m\u001b[0m\u001b[0m\n\u001b[0m",
      "\u001b[1;31mNameError\u001b[0m: name 'b2' is not defined"
     ]
    }
   ],
   "source": [
    "a1=10          #global variable\n",
    "def f1():\n",
    "    b2=12      #local variable\n",
    "    \n",
    "print(a1)    \n",
    "print(b2)    #b2 is not gloabal variable\n"
   ]
  },
  {
   "cell_type": "code",
   "execution_count": 62,
   "id": "1657bceb",
   "metadata": {},
   "outputs": [
    {
     "name": "stdout",
     "output_type": "stream",
     "text": [
      "10\n"
     ]
    },
    {
     "ename": "NameError",
     "evalue": "name 'b2' is not defined",
     "output_type": "error",
     "traceback": [
      "\u001b[1;31m---------------------------------------------------------------------------\u001b[0m",
      "\u001b[1;31mNameError\u001b[0m                                 Traceback (most recent call last)",
      "\u001b[1;32m<ipython-input-62-ce24995dfa12>\u001b[0m in \u001b[0;36m<module>\u001b[1;34m\u001b[0m\n\u001b[0;32m      4\u001b[0m \u001b[1;33m\u001b[0m\u001b[0m\n\u001b[0;32m      5\u001b[0m \u001b[0mprint\u001b[0m\u001b[1;33m(\u001b[0m\u001b[0ma1\u001b[0m\u001b[1;33m)\u001b[0m\u001b[1;33m\u001b[0m\u001b[1;33m\u001b[0m\u001b[0m\n\u001b[1;32m----> 6\u001b[1;33m \u001b[0mprint\u001b[0m\u001b[1;33m(\u001b[0m\u001b[0mb2\u001b[0m\u001b[1;33m)\u001b[0m\u001b[1;33m\u001b[0m\u001b[1;33m\u001b[0m\u001b[0m\n\u001b[0m\u001b[0;32m      7\u001b[0m \u001b[0mf1\u001b[0m\u001b[1;33m(\u001b[0m\u001b[1;33m)\u001b[0m\u001b[1;33m\u001b[0m\u001b[1;33m\u001b[0m\u001b[0m\n",
      "\u001b[1;31mNameError\u001b[0m: name 'b2' is not defined"
     ]
    }
   ],
   "source": [
    "a1=10          #global variable\n",
    "def f1():\n",
    "    b2=12      #local variable\n",
    "    \n",
    "print(a1)    \n",
    "print(b2)    \n",
    "f1()"
   ]
  },
  {
   "cell_type": "code",
   "execution_count": 63,
   "id": "7a8af37c",
   "metadata": {},
   "outputs": [
    {
     "name": "stdout",
     "output_type": "stream",
     "text": [
      "10\n"
     ]
    },
    {
     "ename": "NameError",
     "evalue": "name 'b2' is not defined",
     "output_type": "error",
     "traceback": [
      "\u001b[1;31m---------------------------------------------------------------------------\u001b[0m",
      "\u001b[1;31mNameError\u001b[0m                                 Traceback (most recent call last)",
      "\u001b[1;32m<ipython-input-63-e405747ca0cb>\u001b[0m in \u001b[0;36m<module>\u001b[1;34m\u001b[0m\n\u001b[0;32m      6\u001b[0m \u001b[1;33m\u001b[0m\u001b[0m\n\u001b[0;32m      7\u001b[0m \u001b[0mf1\u001b[0m\u001b[1;33m(\u001b[0m\u001b[1;33m)\u001b[0m         \u001b[1;31m#no doubt,we have called function,but hv not defined f1 properly by giving any command.\u001b[0m\u001b[1;33m\u001b[0m\u001b[1;33m\u001b[0m\u001b[0m\n\u001b[1;32m----> 8\u001b[1;33m \u001b[0mprint\u001b[0m\u001b[1;33m(\u001b[0m\u001b[0mb2\u001b[0m\u001b[1;33m)\u001b[0m\u001b[1;33m\u001b[0m\u001b[1;33m\u001b[0m\u001b[0m\n\u001b[0m",
      "\u001b[1;31mNameError\u001b[0m: name 'b2' is not defined"
     ]
    }
   ],
   "source": [
    "a1=10          #global variable\n",
    "def f1():\n",
    "    b2=12      #local variable\n",
    "    \n",
    "print(a1)    \n",
    "   \n",
    "f1()         #no doubt,we have called function,but hv not defined f1 properly by giving any command.\n",
    "print(b2)"
   ]
  },
  {
   "cell_type": "code",
   "execution_count": 64,
   "id": "9208ed92",
   "metadata": {},
   "outputs": [
    {
     "name": "stdout",
     "output_type": "stream",
     "text": [
      "10\n",
      "12\n"
     ]
    }
   ],
   "source": [
    "a1=10          #global variable\n",
    "def f1():\n",
    "    b2=12      #local variable\n",
    "    print(b2)\n",
    "print(a1)    \n",
    "                 #we have defined f1 and then called that function,so after printing a1,f1 will  be printed.\n",
    "f1()"
   ]
  },
  {
   "cell_type": "code",
   "execution_count": 65,
   "id": "bfa9b7c7",
   "metadata": {},
   "outputs": [
    {
     "name": "stdout",
     "output_type": "stream",
     "text": [
      "10\n",
      "12\n",
      "10\n"
     ]
    }
   ],
   "source": [
    "a1=10          #global variable\n",
    "def f1():\n",
    "    b2=12      #local variable\n",
    "    print(b2)\n",
    "    print(a1)      \n",
    "print(a1)     # print command for global variable will be executed.\n",
    "    \n",
    "f1()            #here f1 is defined as print b2 and a1 also. "
   ]
  },
  {
   "cell_type": "code",
   "execution_count": 66,
   "id": "757d3c3c",
   "metadata": {},
   "outputs": [
    {
     "name": "stdout",
     "output_type": "stream",
     "text": [
      "12\n",
      "10\n"
     ]
    }
   ],
   "source": [
    "f1()"
   ]
  },
  {
   "cell_type": "code",
   "execution_count": 67,
   "id": "6881b1cb",
   "metadata": {},
   "outputs": [
    {
     "name": "stdout",
     "output_type": "stream",
     "text": [
      "13\n",
      "12\n",
      "13\n"
     ]
    }
   ],
   "source": [
    "a=13\n",
    "def f1():\n",
    "    a=12\n",
    "    print(a)\n",
    "print(a)        #output of global variable\n",
    "f1()            #output of function call,i.e,local varibale\n",
    "print(a)        #output of global variable"
   ]
  },
  {
   "cell_type": "code",
   "execution_count": 68,
   "id": "8a857537",
   "metadata": {},
   "outputs": [
    {
     "name": "stdout",
     "output_type": "stream",
     "text": [
      "13\n",
      "12\n",
      "140732590401680\n",
      "13\n",
      "140732590401712\n"
     ]
    }
   ],
   "source": [
    "a=13\n",
    "def f1():\n",
    "    a=12\n",
    "    print(a)\n",
    "    print(id(a))\n",
    "print(a)     #output of gloabal variable.\n",
    "f1()         #output of function call,i.e,a and its id of loacl variable\n",
    "print(a)     #output of global variable\n",
    "print(id(a)) #output of id of global variable"
   ]
  },
  {
   "cell_type": "code",
   "execution_count": 69,
   "id": "ade362f2",
   "metadata": {},
   "outputs": [
    {
     "name": "stdout",
     "output_type": "stream",
     "text": [
      "13\n",
      "12\n",
      "140732590401680\n",
      "12\n",
      "140732590401680\n"
     ]
    }
   ],
   "source": [
    "a=13\n",
    "def f1():\n",
    "    global a\n",
    "    a=12\n",
    "    print(a)\n",
    "    print(id(a))\n",
    "print(a)     #output of first gloabal variable.\n",
    "f1()         #output of function call,i.e,a and its id of loacl variable\n",
    "print(a)     #output of second global variable bcoz for local variable ,we need calling of function.\n",
    "print(id(a)) #output of id of global variable"
   ]
  },
  {
   "cell_type": "code",
   "execution_count": 70,
   "id": "1e9c5ba0",
   "metadata": {},
   "outputs": [
    {
     "name": "stdout",
     "output_type": "stream",
     "text": [
      "13\n",
      "12\n",
      "12\n"
     ]
    }
   ],
   "source": [
    "a=13\n",
    "def f1():\n",
    "    global a\n",
    "    a=12\n",
    "    print(a)\n",
    "print(a)     #output of first gloabal variable.\n",
    "f1()         #output of function call.\n",
    "print(a)     #output of second global variable bcoz for local variable ,we need calling of function.\n",
    " "
   ]
  },
  {
   "cell_type": "code",
   "execution_count": 71,
   "id": "3dd40be4",
   "metadata": {},
   "outputs": [
    {
     "name": "stdout",
     "output_type": "stream",
     "text": [
      "13\n",
      "12\n"
     ]
    }
   ],
   "source": [
    "a=13\n",
    "def f1():\n",
    "    global a\n",
    "    a=12\n",
    "    \n",
    "print(a)     #output of first gloabal variable.\n",
    "f1()         #no specific output of this step,but for local variable to act as global variable ,we need function call.\n",
    "print(a)     #output of second global variable bcoz for local variable ,we need calling of function.\n",
    " "
   ]
  },
  {
   "cell_type": "code",
   "execution_count": 72,
   "id": "5583c3b5",
   "metadata": {},
   "outputs": [
    {
     "name": "stdout",
     "output_type": "stream",
     "text": [
      "14\n"
     ]
    }
   ],
   "source": [
    "a = 14\n",
    "def f():\n",
    "    a=12       #here its not specified that what we have to do with local variable a=12\n",
    "f()\n",
    "print(a)"
   ]
  },
  {
   "cell_type": "code",
   "execution_count": 73,
   "id": "1311a0cf",
   "metadata": {},
   "outputs": [
    {
     "name": "stdout",
     "output_type": "stream",
     "text": [
      "12\n",
      "14\n"
     ]
    }
   ],
   "source": [
    "a = 14\n",
    "def f():\n",
    "    a=12\n",
    "    print(a)\n",
    "    \n",
    "f()\n",
    "print(a)"
   ]
  },
  {
   "cell_type": "code",
   "execution_count": 74,
   "id": "8af8974d",
   "metadata": {},
   "outputs": [
    {
     "name": "stdout",
     "output_type": "stream",
     "text": [
      "14\n"
     ]
    }
   ],
   "source": [
    "a=14\n",
    "def f():\n",
    "    global a\n",
    "    a=12\n",
    "           \n",
    "print(a)        #here simply global variable will be printed."
   ]
  },
  {
   "cell_type": "code",
   "execution_count": 75,
   "id": "7729dd1a",
   "metadata": {},
   "outputs": [
    {
     "name": "stdout",
     "output_type": "stream",
     "text": [
      "12\n"
     ]
    }
   ],
   "source": [
    "a=14\n",
    "def f():\n",
    "    global a\n",
    "    a=12\n",
    "f()           \n",
    "print(a)        #this will give global variable as answer bcoz print command is given after function calling.\n"
   ]
  },
  {
   "cell_type": "code",
   "execution_count": 76,
   "id": "17f911bf",
   "metadata": {},
   "outputs": [
    {
     "name": "stdout",
     "output_type": "stream",
     "text": [
      "12\n"
     ]
    }
   ],
   "source": [
    "a = 14\n",
    "def f():\n",
    "    a = 12\n",
    "    return a\n",
    "a = f()\n",
    "print(a)\n"
   ]
  },
  {
   "cell_type": "code",
   "execution_count": 77,
   "id": "73fcc17a",
   "metadata": {},
   "outputs": [
    {
     "name": "stdout",
     "output_type": "stream",
     "text": [
      "1\n"
     ]
    }
   ],
   "source": [
    "def f(n):\n",
    "    print(n)\n",
    "f(1)    "
   ]
  },
  {
   "cell_type": "code",
   "execution_count": 78,
   "id": "adb0deac",
   "metadata": {},
   "outputs": [
    {
     "ename": "TypeError",
     "evalue": "f() takes 1 positional argument but 2 were given",
     "output_type": "error",
     "traceback": [
      "\u001b[1;31m---------------------------------------------------------------------------\u001b[0m",
      "\u001b[1;31mTypeError\u001b[0m                                 Traceback (most recent call last)",
      "\u001b[1;32m<ipython-input-78-a56366a92243>\u001b[0m in \u001b[0;36m<module>\u001b[1;34m\u001b[0m\n\u001b[1;32m----> 1\u001b[1;33m \u001b[0mf\u001b[0m\u001b[1;33m(\u001b[0m\u001b[1;36m2\u001b[0m\u001b[1;33m,\u001b[0m\u001b[1;36m1\u001b[0m\u001b[1;33m)\u001b[0m\u001b[1;33m\u001b[0m\u001b[1;33m\u001b[0m\u001b[0m\n\u001b[0m",
      "\u001b[1;31mTypeError\u001b[0m: f() takes 1 positional argument but 2 were given"
     ]
    }
   ],
   "source": [
    "f(2,1)"
   ]
  },
  {
   "cell_type": "code",
   "execution_count": 79,
   "id": "3a5ae584",
   "metadata": {},
   "outputs": [
    {
     "ename": "TypeError",
     "evalue": "f() missing 1 required positional argument: 'n'",
     "output_type": "error",
     "traceback": [
      "\u001b[1;31m---------------------------------------------------------------------------\u001b[0m",
      "\u001b[1;31mTypeError\u001b[0m                                 Traceback (most recent call last)",
      "\u001b[1;32m<ipython-input-79-c43e34e6d405>\u001b[0m in \u001b[0;36m<module>\u001b[1;34m\u001b[0m\n\u001b[1;32m----> 1\u001b[1;33m \u001b[0mf\u001b[0m\u001b[1;33m(\u001b[0m\u001b[1;33m)\u001b[0m\u001b[1;33m\u001b[0m\u001b[1;33m\u001b[0m\u001b[0m\n\u001b[0m",
      "\u001b[1;31mTypeError\u001b[0m: f() missing 1 required positional argument: 'n'"
     ]
    }
   ],
   "source": [
    "f()"
   ]
  },
  {
   "cell_type": "code",
   "execution_count": 80,
   "id": "a07a171e",
   "metadata": {},
   "outputs": [],
   "source": [
    "def sum(a,b):\n",
    "    return a+b\n",
    "\n",
    "def sum(a,b,c):\n",
    "    return a+b+c\n"
   ]
  },
  {
   "cell_type": "code",
   "execution_count": 81,
   "id": "bf68433f",
   "metadata": {},
   "outputs": [],
   "source": [
    "def sum(a,b,c=0):\n",
    "    return a+b+c"
   ]
  },
  {
   "cell_type": "code",
   "execution_count": 82,
   "id": "11849fb2",
   "metadata": {},
   "outputs": [
    {
     "data": {
      "text/plain": [
       "7"
      ]
     },
     "execution_count": 82,
     "metadata": {},
     "output_type": "execute_result"
    }
   ],
   "source": [
    "sum(5,2)"
   ]
  },
  {
   "cell_type": "code",
   "execution_count": 83,
   "id": "043fb961",
   "metadata": {},
   "outputs": [
    {
     "data": {
      "text/plain": [
       "16"
      ]
     },
     "execution_count": 83,
     "metadata": {},
     "output_type": "execute_result"
    }
   ],
   "source": [
    "sum(5,2,9)"
   ]
  },
  {
   "cell_type": "code",
   "execution_count": 84,
   "id": "49e448a0",
   "metadata": {},
   "outputs": [
    {
     "ename": "SyntaxError",
     "evalue": "non-default argument follows default argument (<ipython-input-84-22de50ec33fd>, line 1)",
     "output_type": "error",
     "traceback": [
      "\u001b[1;36m  File \u001b[1;32m\"<ipython-input-84-22de50ec33fd>\"\u001b[1;36m, line \u001b[1;32m1\u001b[0m\n\u001b[1;33m    def sum(a=0,b,c):       #put all non default arguments first nd then default ones.\u001b[0m\n\u001b[1;37m            ^\u001b[0m\n\u001b[1;31mSyntaxError\u001b[0m\u001b[1;31m:\u001b[0m non-default argument follows default argument\n"
     ]
    }
   ],
   "source": [
    "def sum(a=0,b,c):       #put all non default arguments first nd then default ones.\n",
    "    return a+b+c"
   ]
  },
  {
   "cell_type": "code",
   "execution_count": 85,
   "id": "b29f6dbe",
   "metadata": {},
   "outputs": [
    {
     "name": "stdout",
     "output_type": "stream",
     "text": [
      "21\n"
     ]
    }
   ],
   "source": [
    "def function(a,b,c=1):\n",
    "    return a+b-c\n",
    "value = function(10,12)\n",
    "print(value)\n"
   ]
  },
  {
   "cell_type": "code",
   "execution_count": 86,
   "id": "579a32cc",
   "metadata": {},
   "outputs": [
    {
     "name": "stdout",
     "output_type": "stream",
     "text": [
      "17\n"
     ]
    }
   ],
   "source": [
    "def function(a,b,c=1):\n",
    "    return a+b-c\n",
    "value = function(10,12,5)\n",
    "print(value)\n",
    "\n"
   ]
  },
  {
   "cell_type": "code",
   "execution_count": 87,
   "id": "57ccfbe2",
   "metadata": {},
   "outputs": [
    {
     "name": "stdout",
     "output_type": "stream",
     "text": [
      "11\n"
     ]
    }
   ],
   "source": [
    "def function(a,b,c=1,d=5):\n",
    "    return a+b+c+d\n",
    "value = function(1,2,d=7)\n",
    "print(value)"
   ]
  },
  {
   "cell_type": "code",
   "execution_count": 89,
   "id": "3ebcb417",
   "metadata": {},
   "outputs": [
    {
     "name": "stdout",
     "output_type": "stream",
     "text": [
      "0\n",
      "100\n",
      "20\n",
      "0\t-17\n",
      "20\t-6\n",
      "40\t4\n",
      "60\t15\n",
      "80\t26\n",
      "100\t37\n"
     ]
    }
   ],
   "source": [
    "def printTable(start,end,step):\n",
    "    fvalue=start\n",
    "    while (fvalue<=end):\n",
    "        cvalue=int((5/9)*(fvalue-32))\n",
    "        print(fvalue,end=\"\\t\")\n",
    "        print(cvalue)\n",
    "        fvalue=fvalue+step   \n",
    "s = int(input())\n",
    "e = int(input())\n",
    "step = int(input())\n",
    "printTable(s,e,step)\n"
   ]
  },
  {
   "cell_type": "markdown",
   "id": "91bad031",
   "metadata": {},
   "source": [
    "0 1 1 2 3 5....\n"
   ]
  },
  {
   "cell_type": "code",
   "execution_count": 90,
   "id": "72c28dc9",
   "metadata": {},
   "outputs": [
    {
     "name": "stdout",
     "output_type": "stream",
     "text": [
      "5\n",
      "true\n"
     ]
    }
   ],
   "source": [
    "#Fibonacci Member\n",
    "\n",
    "def checkMember(n):\n",
    "    if(n==0 or n==1 or n==2):\n",
    "        return True\n",
    "    a=0\n",
    "    b=1\n",
    "    \n",
    "    while (b<n):\n",
    "        c=a+b\n",
    "        a=b\n",
    "        b=c\n",
    "    if(b==n):\n",
    "        return True\n",
    "    return False \n",
    "\n",
    "# driver Code\n",
    "n=int(input())\n",
    "if(checkMember(n)):\n",
    "    print(\"true\")\n",
    "else:\n",
    "    print(\"false\")"
   ]
  },
  {
   "cell_type": "code",
   "execution_count": 91,
   "id": "957b88c7",
   "metadata": {},
   "outputs": [
    {
     "name": "stdout",
     "output_type": "stream",
     "text": [
      "121\n",
      "true\n"
     ]
    }
   ],
   "source": [
    "#Palindrome number\n",
    "\n",
    "def checkPalindrome(num):\n",
    "    tamp=num\n",
    "    rev=0\n",
    "    while tamp!=0:\n",
    "        rev=(rev*10)+(tamp%10)\n",
    "        tamp=tamp//10\n",
    "    if rev==num:\n",
    "        return True\n",
    "    else:\n",
    "        return False\n",
    "num = int(input())\n",
    "isPalindrome = checkPalindrome(num)\n",
    "if(isPalindrome):\n",
    "\tprint('true')\n",
    "else:\n",
    "\tprint('false')"
   ]
  },
  {
   "cell_type": "code",
   "execution_count": 92,
   "id": "4a712aa5",
   "metadata": {},
   "outputs": [
    {
     "name": "stdout",
     "output_type": "stream",
     "text": [
      "121\n",
      "false\n"
     ]
    }
   ],
   "source": [
    "# Check Armstrong\n",
    "\n",
    "## Read input as specified in the question.\n",
    "## Print output as specified in the question.\n",
    "def chekArmstrong(n):\n",
    "    dig=0\n",
    "    num=n\n",
    "    while num>0:\n",
    "        dig=dig+1\n",
    "        num=num//10\n",
    "    newn=0\n",
    "    num=n\n",
    "    while num>0:\n",
    "        last=num%10\n",
    "        newn=newn+(last**dig)\n",
    "        num=num//10\n",
    "    if newn==n:\n",
    "        return True\n",
    "    else:\n",
    "        return False\n",
    "n=int(input())\n",
    "if (chekArmstrong(n)):\n",
    "    print(\"true\")\n",
    "else:\n",
    "    print(\"false\")"
   ]
  },
  {
   "cell_type": "markdown",
   "id": "7aa95ad3",
   "metadata": {},
   "source": [
    "Recusion means function calls itself 4!=43! =432! =4321! =432*1"
   ]
  },
  {
   "cell_type": "code",
   "execution_count": 93,
   "id": "229347b6",
   "metadata": {},
   "outputs": [
    {
     "name": "stdout",
     "output_type": "stream",
     "text": [
      "4\n",
      "Factorial of 4 is 24\n"
     ]
    }
   ],
   "source": [
    "# factorial of given number using Recursion \n",
    "def factorial(n): \n",
    "      \n",
    "    return 1 if (n==1 or n==0) else n * factorial(n - 1);  \n",
    "  \n",
    "# function call\n",
    "num = int(input())\n",
    "print(\"Factorial of\",num,\"is\", factorial(num)) "
   ]
  },
  {
   "cell_type": "code",
   "execution_count": 94,
   "id": "b320fdf9",
   "metadata": {},
   "outputs": [
    {
     "name": "stdout",
     "output_type": "stream",
     "text": [
      " Enter the number to find its factorial:4\n",
      " The factorial of  4 is 24\n"
     ]
    }
   ],
   "source": [
    "def factorial(n):# n is called  as formal argument or formal parameters\n",
    "    if n==0:\n",
    "        result=1 \n",
    "    elif n==1:\n",
    "        result=1\n",
    "    else:\n",
    "        result=n*factorial(n-1)\n",
    "    return result\n",
    "\n",
    "#Call to function\n",
    "    \n",
    "num=int(input(\" Enter the number to find its factorial:\")) # num is called as actual argument or actaul parameter\n",
    "print(\" The factorial of \", num, \"is\" , factorial(num))\n"
   ]
  },
  {
   "cell_type": "code",
   "execution_count": 95,
   "id": "28226cda",
   "metadata": {},
   "outputs": [],
   "source": [
    "def func(a):\n",
    "    a=a+10\n",
    "    return a\n",
    "\n",
    "\n"
   ]
  },
  {
   "cell_type": "code",
   "execution_count": 96,
   "id": "df7b014b",
   "metadata": {},
   "outputs": [
    {
     "name": "stdout",
     "output_type": "stream",
     "text": [
      "5\n"
     ]
    }
   ],
   "source": [
    "a=5\n",
    "func(a)\n",
    "print(a)\n"
   ]
  },
  {
   "cell_type": "code",
   "execution_count": 97,
   "id": "17723231",
   "metadata": {},
   "outputs": [
    {
     "name": "stdout",
     "output_type": "stream",
     "text": [
      "5\n"
     ]
    },
    {
     "data": {
      "text/plain": [
       "15"
      ]
     },
     "execution_count": 97,
     "metadata": {},
     "output_type": "execute_result"
    }
   ],
   "source": [
    "a=5\n",
    "print(a)\n",
    "func(a)"
   ]
  },
  {
   "cell_type": "code",
   "execution_count": 98,
   "id": "45942490",
   "metadata": {},
   "outputs": [
    {
     "name": "stdout",
     "output_type": "stream",
     "text": [
      "4\n",
      "2\n",
      "2\n"
     ]
    }
   ],
   "source": [
    "#HCF\n",
    "x=int(input())\n",
    "y=int(input())\n",
    "i=1\n",
    "while i<=x and i<=y:\n",
    "    if x%i==0 and y%i==0:\n",
    "        HCF=i\n",
    "    i=i+1   \n",
    "print (HCF)    "
   ]
  },
  {
   "cell_type": "code",
   "execution_count": 99,
   "id": "9e7c6842",
   "metadata": {},
   "outputs": [
    {
     "name": "stdout",
     "output_type": "stream",
     "text": [
      "4\n",
      "6\n",
      "12\n"
     ]
    }
   ],
   "source": [
    "#LCM\n",
    "x=int(input())\n",
    "y=int(input())\n",
    "i=1\n",
    "while i<=x and i<=y:\n",
    "    if x%i==0 and y%i==0:\n",
    "        HCF=i\n",
    "    i=i+1 \n",
    "    LCM=(x*y//HCF)\n",
    "print (LCM)    "
   ]
  },
  {
   "cell_type": "markdown",
   "id": "51309047",
   "metadata": {},
   "source": [
    "### fahrenheit to celcius conversion."
   ]
  },
  {
   "cell_type": "code",
   "execution_count": 17,
   "id": "eb4a9b5c",
   "metadata": {},
   "outputs": [
    {
     "name": "stdout",
     "output_type": "stream",
     "text": [
      "0\n",
      "100\n",
      "20\n",
      "0      -17\n",
      "20      -6\n",
      "40      4\n",
      "60      15\n",
      "80      26\n",
      "100      37\n",
      "\n"
     ]
    }
   ],
   "source": [
    "s=int(input())\n",
    "e=int(input())\n",
    "w=int(input())\n",
    "while s<=e:\n",
    "    c=(s-32)*5/9\n",
    "    print(s,'    ',int(c))\n",
    "    s=s+w\n",
    "print()      \n",
    "      "
   ]
  },
  {
   "cell_type": "code",
   "execution_count": 15,
   "id": "91866693",
   "metadata": {},
   "outputs": [],
   "source": [
    "def printTable(start,end,stepsize):\n",
    "    while start<=end:\n",
    "        c=((start-32)*5/9)\n",
    "        print(start,end=\"\\t\")\n",
    "        print(int(c))\n",
    "        start=start+stepsize\n",
    "        "
   ]
  },
  {
   "cell_type": "code",
   "execution_count": 16,
   "id": "972ff3ce",
   "metadata": {},
   "outputs": [
    {
     "name": "stdout",
     "output_type": "stream",
     "text": [
      "0\t-17\n",
      "20\t-6\n",
      "40\t4\n",
      "60\t15\n",
      "80\t26\n",
      "100\t37\n"
     ]
    }
   ],
   "source": [
    "printTable(0,100,20)"
   ]
  },
  {
   "cell_type": "markdown",
   "id": "d5d42917",
   "metadata": {},
   "source": [
    "### sum of odd and even digits of given number."
   ]
  },
  {
   "cell_type": "code",
   "execution_count": 2,
   "id": "d7bf77e5",
   "metadata": {},
   "outputs": [
    {
     "name": "stdout",
     "output_type": "stream",
     "text": [
      "132245\n",
      "8      9\n"
     ]
    }
   ],
   "source": [
    "n=int(input())\n",
    "even=0\n",
    "odd=0\n",
    "while n>0:\n",
    "    r=n%10        #we picked last digit of n one by one\n",
    "    if r%2==0:     #condition of even\n",
    "        even=even+r\n",
    "    else:\n",
    "        odd=odd+r   #condition of odd\n",
    "    n=n//10       #we are removing last digit of previous n.    \n",
    "print(even,\"    \",odd)        \n",
    "        \n",
    "    "
   ]
  },
  {
   "cell_type": "markdown",
   "id": "21104741",
   "metadata": {},
   "source": [
    "### febonacci series"
   ]
  },
  {
   "cell_type": "code",
   "execution_count": 4,
   "id": "3a114004",
   "metadata": {},
   "outputs": [
    {
     "name": "stdout",
     "output_type": "stream",
     "text": [
      "5\n",
      "1\n",
      "1\n",
      "2\n",
      "3\n",
      "5\n"
     ]
    }
   ],
   "source": [
    "n=int(input())\n",
    "n1=1\n",
    "n2=1\n",
    "i=0\n",
    "while i<n:\n",
    "    print(n1)\n",
    "    n3=n1+n2\n",
    "    n1=n2\n",
    "    n2=n3\n",
    "    i=i+1"
   ]
  },
  {
   "cell_type": "code",
   "execution_count": 7,
   "id": "68f3d031",
   "metadata": {},
   "outputs": [
    {
     "name": "stdout",
     "output_type": "stream",
     "text": [
      "5\n",
      "1\n",
      "1\n",
      "2\n",
      "3\n"
     ]
    }
   ],
   "source": [
    "n=int(input())\n",
    "n1=1\n",
    "n2=1\n",
    "\n",
    "while n1<n:\n",
    "    print(n1)\n",
    "    n3=n1+n2\n",
    "    n1=n2\n",
    "    n2=n3\n",
    "    "
   ]
  },
  {
   "cell_type": "code",
   "execution_count": 6,
   "id": "1227d55d",
   "metadata": {},
   "outputs": [
    {
     "name": "stdout",
     "output_type": "stream",
     "text": [
      "5\n",
      "1\n",
      "1\n",
      "2\n",
      "3\n",
      "5\n"
     ]
    }
   ],
   "source": [
    "n=int(input())\n",
    "n1=1\n",
    "n2=1\n",
    "\n",
    "while n1<=n:\n",
    "    print(n1)\n",
    "    n3=n1+n2\n",
    "    n1=n2\n",
    "    n2=n3\n",
    "    "
   ]
  },
  {
   "cell_type": "code",
   "execution_count": 19,
   "id": "c118e706",
   "metadata": {},
   "outputs": [],
   "source": [
    "def checknumber(n):\n",
    "    a=1\n",
    "    b=1\n",
    "    while b<=n:\n",
    "        c=a+b\n",
    "        a=b\n",
    "        b=c\n",
    "    if b==n:\n",
    "        print(\"true\")\n",
    "    else:\n",
    "        print(\"false\")\n",
    "        \n"
   ]
  },
  {
   "cell_type": "code",
   "execution_count": 20,
   "id": "5c44dddf",
   "metadata": {},
   "outputs": [
    {
     "name": "stdout",
     "output_type": "stream",
     "text": [
      "false\n"
     ]
    }
   ],
   "source": [
    "checknumber(5)"
   ]
  },
  {
   "cell_type": "code",
   "execution_count": 23,
   "id": "0bc39495",
   "metadata": {},
   "outputs": [
    {
     "name": "stdout",
     "output_type": "stream",
     "text": [
      "5\n",
      "true\n"
     ]
    }
   ],
   "source": [
    "def checknumber(n):\n",
    "    a=1\n",
    "    b=1\n",
    "    while b<=n:\n",
    "       if b==n:\n",
    "          return \"true\"\n",
    "       else:\n",
    "           c = a + b\n",
    "           a = b\n",
    "           b = c\n",
    "    return \"false\"\n",
    "\n",
    "n = int(input())\n",
    "print(checknumber(n))"
   ]
  },
  {
   "cell_type": "code",
   "execution_count": 25,
   "id": "ac5cbb08",
   "metadata": {},
   "outputs": [
    {
     "name": "stdout",
     "output_type": "stream",
     "text": [
      "14\n",
      "false\n"
     ]
    }
   ],
   "source": [
    "def checknumber(n):\n",
    "    a=1\n",
    "    b=1\n",
    "    while b<=n:\n",
    "           \n",
    "        c = a + b\n",
    "        a = b\n",
    "        b = c\n",
    "        if b==n:\n",
    "          return \"true\"\n",
    "       \n",
    "    return \"false\"\n",
    "\n",
    "n = int(input())\n",
    "print(checknumber(n))"
   ]
  },
  {
   "cell_type": "code",
   "execution_count": 21,
   "id": "9c26829b",
   "metadata": {},
   "outputs": [],
   "source": [
    "def gur(host,*guest):\n",
    "    for i in guest:\n",
    "        print(\"hello mr.\"+i+\".i am your host mr.\"+host+\".\")"
   ]
  },
  {
   "cell_type": "code",
   "execution_count": 22,
   "id": "83a1dc43",
   "metadata": {},
   "outputs": [
    {
     "name": "stdout",
     "output_type": "stream",
     "text": [
      "hello mr.ram.i am your host mr.raj.\n",
      "hello mr.tom.i am your host mr.raj.\n",
      "hello mr.geet.i am your host mr.raj.\n",
      "hello mr.reet.i am your host mr.raj.\n"
     ]
    }
   ],
   "source": [
    "gur(\"raj\",\"ram\",\"tom\",\"geet\",\"reet\")"
   ]
  },
  {
   "cell_type": "code",
   "execution_count": null,
   "id": "0c1d29ee",
   "metadata": {},
   "outputs": [],
   "source": []
  }
 ],
 "metadata": {
  "kernelspec": {
   "display_name": "Python 3",
   "language": "python",
   "name": "python3"
  },
  "language_info": {
   "codemirror_mode": {
    "name": "ipython",
    "version": 3
   },
   "file_extension": ".py",
   "mimetype": "text/x-python",
   "name": "python",
   "nbconvert_exporter": "python",
   "pygments_lexer": "ipython3",
   "version": "3.8.8"
  }
 },
 "nbformat": 4,
 "nbformat_minor": 5
}
